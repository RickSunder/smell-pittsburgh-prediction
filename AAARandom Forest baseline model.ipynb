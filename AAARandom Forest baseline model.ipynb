{
 "cells": [
  {
   "cell_type": "markdown",
   "id": "79968c79",
   "metadata": {},
   "source": [
    "# Install modules"
   ]
  },
  {
   "cell_type": "code",
   "execution_count": 14,
   "id": "34fac2ea",
   "metadata": {},
   "outputs": [],
   "source": [
    "import numpy as np\n",
    "import pandas as pd\n",
    "import matplotlib.pyplot as plt\n",
    "import seaborn as sns\n",
    "from tensorflow import keras\n",
    "from tensorflow.keras import layers\n",
    "import tensorflow.keras.backend as K\n",
    "import matplotlib.pyplot as plt\n",
    "import os\n",
    "from tensorflow.keras.utils import to_categorical\n",
    "\n",
    "from sklearn.ensemble import RandomForestClassifier\n",
    "from sklearn.model_selection import TimeSeriesSplit, GridSearchCV\n",
    "from sklearn.metrics import f1_score, accuracy_score, roc_auc_score\n",
    "\n",
    "from keras.models import Sequential\n",
    "from keras.layers import Dense, Flatten, LSTM\n",
    "from keras.optimizers import Adam\n",
    "from tensorflow.keras.metrics import Precision, Recall, AUC\n",
    "os.environ[\"CUDA_VISIBLE_DEVICES\"] = \"0\"  # Use GPU device 0"
   ]
  },
  {
   "cell_type": "markdown",
   "id": "1c3a1851",
   "metadata": {},
   "source": [
    "# Get data in right format"
   ]
  },
  {
   "cell_type": "code",
   "execution_count": 9,
   "id": "5ad6c46a",
   "metadata": {},
   "outputs": [],
   "source": [
    "df = pd.read_csv(\"preprocesseddata.csv\",index_col=\"datetime\")\n",
    "\n",
    "#splitting into target and input variables\n",
    "X = df.drop(['classification_region1', 'classification_region2', 'classification_region3'], axis=1)\n",
    "y1 = df[['classification_region1']]\n",
    "y2 = df[['classification_region2']]\n",
    "y3 = df[['classification_region3']]\n",
    "\n",
    "# Define the number of splits for the TimeSeriesSplit\n",
    "n_splits = 5\n",
    "\n",
    "# Define the TimeSeriesSplit object\n",
    "tscv = TimeSeriesSplit(n_splits=n_splits)"
   ]
  },
  {
   "cell_type": "markdown",
   "id": "3075c5b5",
   "metadata": {},
   "source": [
    "# Build and train model using timeseries split"
   ]
  },
  {
   "cell_type": "code",
   "execution_count": 10,
   "id": "fc0a693a",
   "metadata": {},
   "outputs": [
    {
     "name": "stderr",
     "output_type": "stream",
     "text": [
      "C:\\Users\\Rick\\anaconda3\\lib\\site-packages\\sklearn\\model_selection\\_search.py:909: DataConversionWarning: A column-vector y was passed when a 1d array was expected. Please change the shape of y to (n_samples,), for example using ravel().\n",
      "  self.best_estimator_.fit(X, y, **fit_params)\n",
      "C:\\Users\\Rick\\anaconda3\\lib\\site-packages\\sklearn\\model_selection\\_split.py:700: UserWarning: The least populated class in y has only 2 members, which is less than n_splits=3.\n",
      "  warnings.warn(\n",
      "C:\\Users\\Rick\\anaconda3\\lib\\site-packages\\sklearn\\model_selection\\_search.py:909: DataConversionWarning: A column-vector y was passed when a 1d array was expected. Please change the shape of y to (n_samples,), for example using ravel().\n",
      "  self.best_estimator_.fit(X, y, **fit_params)\n",
      "C:\\Users\\Rick\\anaconda3\\lib\\site-packages\\sklearn\\model_selection\\_search.py:909: DataConversionWarning: A column-vector y was passed when a 1d array was expected. Please change the shape of y to (n_samples,), for example using ravel().\n",
      "  self.best_estimator_.fit(X, y, **fit_params)\n"
     ]
    },
    {
     "name": "stdout",
     "output_type": "stream",
     "text": [
      "F1 score for classification_region1: 0.71\n",
      "F1 score for classification_region2: 0.00\n",
      "F1 score for classification_region3: 0.86\n"
     ]
    },
    {
     "name": "stderr",
     "output_type": "stream",
     "text": [
      "C:\\Users\\Rick\\anaconda3\\lib\\site-packages\\sklearn\\model_selection\\_search.py:909: DataConversionWarning: A column-vector y was passed when a 1d array was expected. Please change the shape of y to (n_samples,), for example using ravel().\n",
      "  self.best_estimator_.fit(X, y, **fit_params)\n",
      "C:\\Users\\Rick\\anaconda3\\lib\\site-packages\\sklearn\\model_selection\\_search.py:909: DataConversionWarning: A column-vector y was passed when a 1d array was expected. Please change the shape of y to (n_samples,), for example using ravel().\n",
      "  self.best_estimator_.fit(X, y, **fit_params)\n",
      "C:\\Users\\Rick\\anaconda3\\lib\\site-packages\\sklearn\\model_selection\\_search.py:909: DataConversionWarning: A column-vector y was passed when a 1d array was expected. Please change the shape of y to (n_samples,), for example using ravel().\n",
      "  self.best_estimator_.fit(X, y, **fit_params)\n"
     ]
    },
    {
     "name": "stdout",
     "output_type": "stream",
     "text": [
      "F1 score for classification_region1: 0.85\n",
      "F1 score for classification_region2: 0.62\n",
      "F1 score for classification_region3: 0.91\n"
     ]
    },
    {
     "name": "stderr",
     "output_type": "stream",
     "text": [
      "C:\\Users\\Rick\\anaconda3\\lib\\site-packages\\sklearn\\model_selection\\_search.py:909: DataConversionWarning: A column-vector y was passed when a 1d array was expected. Please change the shape of y to (n_samples,), for example using ravel().\n",
      "  self.best_estimator_.fit(X, y, **fit_params)\n",
      "C:\\Users\\Rick\\anaconda3\\lib\\site-packages\\sklearn\\model_selection\\_search.py:909: DataConversionWarning: A column-vector y was passed when a 1d array was expected. Please change the shape of y to (n_samples,), for example using ravel().\n",
      "  self.best_estimator_.fit(X, y, **fit_params)\n",
      "C:\\Users\\Rick\\anaconda3\\lib\\site-packages\\sklearn\\model_selection\\_search.py:909: DataConversionWarning: A column-vector y was passed when a 1d array was expected. Please change the shape of y to (n_samples,), for example using ravel().\n",
      "  self.best_estimator_.fit(X, y, **fit_params)\n"
     ]
    },
    {
     "name": "stdout",
     "output_type": "stream",
     "text": [
      "F1 score for classification_region1: 0.81\n",
      "F1 score for classification_region2: 0.79\n",
      "F1 score for classification_region3: 0.92\n"
     ]
    },
    {
     "name": "stderr",
     "output_type": "stream",
     "text": [
      "C:\\Users\\Rick\\anaconda3\\lib\\site-packages\\sklearn\\model_selection\\_search.py:909: DataConversionWarning: A column-vector y was passed when a 1d array was expected. Please change the shape of y to (n_samples,), for example using ravel().\n",
      "  self.best_estimator_.fit(X, y, **fit_params)\n",
      "C:\\Users\\Rick\\anaconda3\\lib\\site-packages\\sklearn\\model_selection\\_search.py:909: DataConversionWarning: A column-vector y was passed when a 1d array was expected. Please change the shape of y to (n_samples,), for example using ravel().\n",
      "  self.best_estimator_.fit(X, y, **fit_params)\n",
      "C:\\Users\\Rick\\anaconda3\\lib\\site-packages\\sklearn\\model_selection\\_search.py:909: DataConversionWarning: A column-vector y was passed when a 1d array was expected. Please change the shape of y to (n_samples,), for example using ravel().\n",
      "  self.best_estimator_.fit(X, y, **fit_params)\n"
     ]
    },
    {
     "name": "stdout",
     "output_type": "stream",
     "text": [
      "F1 score for classification_region1: 0.90\n",
      "F1 score for classification_region2: 0.76\n",
      "F1 score for classification_region3: 0.94\n"
     ]
    },
    {
     "name": "stderr",
     "output_type": "stream",
     "text": [
      "C:\\Users\\Rick\\anaconda3\\lib\\site-packages\\sklearn\\model_selection\\_search.py:909: DataConversionWarning: A column-vector y was passed when a 1d array was expected. Please change the shape of y to (n_samples,), for example using ravel().\n",
      "  self.best_estimator_.fit(X, y, **fit_params)\n",
      "C:\\Users\\Rick\\anaconda3\\lib\\site-packages\\sklearn\\model_selection\\_search.py:909: DataConversionWarning: A column-vector y was passed when a 1d array was expected. Please change the shape of y to (n_samples,), for example using ravel().\n",
      "  self.best_estimator_.fit(X, y, **fit_params)\n",
      "C:\\Users\\Rick\\anaconda3\\lib\\site-packages\\sklearn\\model_selection\\_search.py:909: DataConversionWarning: A column-vector y was passed when a 1d array was expected. Please change the shape of y to (n_samples,), for example using ravel().\n",
      "  self.best_estimator_.fit(X, y, **fit_params)\n"
     ]
    },
    {
     "name": "stdout",
     "output_type": "stream",
     "text": [
      "F1 score for classification_region1: 0.94\n",
      "F1 score for classification_region2: 0.78\n",
      "F1 score for classification_region3: 0.93\n"
     ]
    }
   ],
   "source": [
    "# Define the parameter grid for hyperparameter search\n",
    "param_grid = {\n",
    "    'n_estimators': [50, 100, 200],\n",
    "    'max_depth': [None, 5, 10],\n",
    "    'min_samples_split': [2, 5, 10]\n",
    "}\n",
    "\n",
    "# Split the data into training and testing sets using TimeSeriesSplit\n",
    "for train_index, test_index in tscv.split(X):\n",
    "    X_train, X_test = X.iloc[train_index], X.iloc[test_index]\n",
    "    y1_train, y1_test = y1.iloc[train_index], y1.iloc[test_index]\n",
    "    y2_train, y2_test = y2.iloc[train_index], y2.iloc[test_index]\n",
    "    y3_train, y3_test = y3.iloc[train_index], y3.iloc[test_index]\n",
    "\n",
    "    # Perform hyperparameter search\n",
    "    grid_search = GridSearchCV(\n",
    "        estimator=RandomForestClassifier(random_state=42),\n",
    "        param_grid=param_grid,\n",
    "        scoring='f1_macro',\n",
    "        n_jobs=-1,\n",
    "        cv=3\n",
    "    )\n",
    "    grid_search.fit(X_train, y1_train)\n",
    "    rf1 = grid_search.best_estimator_\n",
    "\n",
    "    grid_search.fit(X_train, y2_train)\n",
    "    rf2 = grid_search.best_estimator_\n",
    "\n",
    "    grid_search.fit(X_train, y3_train)\n",
    "    rf3 = grid_search.best_estimator_\n",
    "\n",
    "    # Make predictions\n",
    "    y1_pred = rf1.predict(X_test)\n",
    "    y2_pred = rf2.predict(X_test)\n",
    "    y3_pred = rf3.predict(X_test)\n",
    "\n",
    "    # Calculate F1 scores\n",
    "    f1_score1 = f1_score(y1_test, y1_pred)\n",
    "    f1_score2 = f1_score(y2_test, y2_pred)\n",
    "    f1_score3 = f1_score(y3_test, y3_pred)\n",
    "\n",
    "    # Print final F1 scores\n",
    "    print(\"F1 score for classification_region1: {:.2f}\".format(f1_score1))\n",
    "    print(\"F1 score for classification_region2: {:.2f}\".format(f1_score2))\n",
    "    print(\"F1 score for classification_region3: {:.2f}\".format(f1_score3))"
   ]
  },
  {
   "cell_type": "markdown",
   "id": "be380036",
   "metadata": {},
   "source": [
    "# Evaluate model using test data"
   ]
  },
  {
   "cell_type": "code",
   "execution_count": 15,
   "id": "afcff8e7",
   "metadata": {
    "code_folding": []
   },
   "outputs": [
    {
     "name": "stdout",
     "output_type": "stream",
     "text": [
      "Accuracy for classification_region1: 0.90\n",
      "F1 score for classification_region1: 0.78\n",
      "ROC AUC score for classification_region1: 0.83\n",
      "\n",
      "Accuracy for classification_region2: 0.92\n",
      "F1 score for classification_region2: 0.77\n",
      "ROC AUC score for classification_region2: 0.85\n",
      "\n",
      "Accuracy for classification_region3: 0.96\n",
      "F1 score for classification_region3: 0.92\n",
      "ROC AUC score for classification_region3: 0.94\n"
     ]
    }
   ],
   "source": [
    "df = pd.read_csv(\"test_preprocesseddata.csv\",index_col=\"datetime\")\n",
    "\n",
    "X = df.drop(['classification_region1', 'classification_region2', 'classification_region3'], axis=1)\n",
    "y1 = df[['classification_region1']]\n",
    "y2 = df[['classification_region2']]\n",
    "y3 = df[['classification_region3']]\n",
    "\n",
    "\n",
    "# Make predictions\n",
    "y1_pred = rf1.predict(X)\n",
    "y2_pred = rf2.predict(X)\n",
    "y3_pred = rf3.predict(X)\n",
    "\n",
    "# Calculate F1 scores\n",
    "f1_score1 = f1_score(y1, y1_pred)\n",
    "f1_score2 = f1_score(y2, y2_pred)\n",
    "f1_score3 = f1_score(y3, y3_pred)\n",
    "\n",
    "# Calculate accuracy\n",
    "accuracy1 = accuracy_score(y1, y1_pred)\n",
    "accuracy2 = accuracy_score(y2, y2_pred)\n",
    "accuracy3 = accuracy_score(y3, y3_pred)\n",
    "\n",
    "# Calculate roc_auc_score (Assuming binary classification)\n",
    "roc_auc1 = roc_auc_score(y1, y1_pred)\n",
    "roc_auc2 = roc_auc_score(y2, y2_pred)\n",
    "roc_auc3 = roc_auc_score(y3, y3_pred)\n",
    "\n",
    "# Print final scores for test set\n",
    "print(\"Accuracy for classification_region1: {:.2f}\".format(accuracy1))\n",
    "print(\"F1 score for classification_region1: {:.2f}\".format(f1_score1))\n",
    "print(\"ROC AUC score for classification_region1: {:.2f}\".format(roc_auc1))\n",
    "\n",
    "print(\"\\nAccuracy for classification_region2: {:.2f}\".format(accuracy2))\n",
    "print(\"F1 score for classification_region2: {:.2f}\".format(f1_score2))\n",
    "print(\"ROC AUC score for classification_region2: {:.2f}\".format(roc_auc2))\n",
    "\n",
    "print(\"\\nAccuracy for classification_region3: {:.2f}\".format(accuracy3))\n",
    "print(\"F1 score for classification_region3: {:.2f}\".format(f1_score3))\n",
    "print(\"ROC AUC score for classification_region3: {:.2f}\".format(roc_auc3))"
   ]
  },
  {
   "cell_type": "code",
   "execution_count": null,
   "id": "ca729f71",
   "metadata": {},
   "outputs": [],
   "source": []
  }
 ],
 "metadata": {
  "kernelspec": {
   "display_name": "Python 3 (ipykernel)",
   "language": "python",
   "name": "python3"
  },
  "language_info": {
   "codemirror_mode": {
    "name": "ipython",
    "version": 3
   },
   "file_extension": ".py",
   "mimetype": "text/x-python",
   "name": "python",
   "nbconvert_exporter": "python",
   "pygments_lexer": "ipython3",
   "version": "3.9.13"
  },
  "toc": {
   "base_numbering": 1,
   "nav_menu": {},
   "number_sections": true,
   "sideBar": true,
   "skip_h1_title": false,
   "title_cell": "Table of Contents",
   "title_sidebar": "Contents",
   "toc_cell": false,
   "toc_position": {},
   "toc_section_display": true,
   "toc_window_display": false
  }
 },
 "nbformat": 4,
 "nbformat_minor": 5
}
