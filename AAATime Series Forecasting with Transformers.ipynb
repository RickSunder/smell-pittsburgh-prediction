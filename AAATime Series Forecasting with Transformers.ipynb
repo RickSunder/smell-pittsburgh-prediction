{
 "cells": [
  {
   "cell_type": "markdown",
   "id": "79968c79",
   "metadata": {},
   "source": [
    "# Install modules"
   ]
  },
  {
   "cell_type": "code",
   "execution_count": 53,
   "id": "34fac2ea",
   "metadata": {},
   "outputs": [],
   "source": [
    "import numpy as np\n",
    "import pandas as pd\n",
    "from tensorflow import keras\n",
    "import tensorflow as tf\n",
    "from tensorflow.keras import layers\n",
    "from sklearn.model_selection import TimeSeriesSplit\n",
    "import tensorflow.keras.backend as K\n",
    "import os\n",
    "from tensorflow.keras.utils import to_categorical\n",
    "from keras.models import Sequential\n",
    "from keras.layers import Dense, Flatten, LSTM\n",
    "from keras.optimizers import Adam\n",
    "from sklearn.metrics import f1_score, accuracy_score, roc_auc_score\n",
    "os.environ[\"CUDA_VISIBLE_DEVICES\"] = \"0\"  # Use GPU device 0"
   ]
  },
  {
   "cell_type": "markdown",
   "id": "1c3a1851",
   "metadata": {},
   "source": [
    "# Get data in right format"
   ]
  },
  {
   "cell_type": "code",
   "execution_count": 46,
   "id": "5ad6c46a",
   "metadata": {},
   "outputs": [],
   "source": [
    "from tensorflow import keras\n",
    "import numpy as np\n",
    "import matplotlib.pyplot as plt\n",
    "df = pd.read_csv(\"preprocesseddata.csv\",index_col=\"datetime\")\n",
    "\n",
    "#splitting into target and input variables\n",
    "X = df.drop(['classification_region1', 'classification_region2', 'classification_region3'], axis=1)\n",
    "y1 = df[['classification_region1']]\n",
    "y2 = df[['classification_region2']]\n",
    "y3 = df[['classification_region3']]\n",
    "\n",
    "# Define the number of splits for the TimeSeriesSplit\n",
    "n_splits = 5\n",
    "\n",
    "# Define the TimeSeriesSplit object\n",
    "tscv = TimeSeriesSplit(n_splits=n_splits)"
   ]
  },
  {
   "cell_type": "markdown",
   "id": "3075c5b5",
   "metadata": {},
   "source": [
    "# Build model"
   ]
  },
  {
   "cell_type": "code",
   "execution_count": 47,
   "id": "7c08b560",
   "metadata": {},
   "outputs": [],
   "source": [
    "def transformer_encoder(inputs, head_size, num_heads, ff_dim, dropout=0):\n",
    "    # Normalization and Attention\n",
    "    x = layers.LayerNormalization(epsilon=1e-6)(inputs)\n",
    "    x = layers.MultiHeadAttention(\n",
    "        key_dim=head_size, num_heads=num_heads, dropout=dropout\n",
    "    )(x, x)\n",
    "    x = layers.Dropout(dropout)(x)\n",
    "    res = x + inputs\n",
    "\n",
    "    # Feed Forward Part\n",
    "    x = layers.LayerNormalization(epsilon=1e-6)(res)\n",
    "    x = layers.Conv1D(filters=ff_dim, kernel_size=1, activation=\"relu\")(x)\n",
    "    x = layers.Dropout(dropout)(x)\n",
    "    x = layers.Conv1D(filters=inputs.shape[-1], kernel_size=1)(x)\n",
    "    return x + res"
   ]
  },
  {
   "cell_type": "code",
   "execution_count": 48,
   "id": "65fde285",
   "metadata": {},
   "outputs": [],
   "source": [
    "def transformer_model(input_shape, num_classes, head_size, num_heads, ff_dim, num_transformer_blocks, mlp_units,\n",
    "                      dropout=0, mlp_dropout=0):\n",
    "    \n",
    "    output_regions = []\n",
    "    input_layer = keras.Input(shape=input_shape) \n",
    "        \n",
    "    #REGION1\n",
    "    #create multiple transformer blocks\n",
    "    for _ in range(num_transformer_blocks):\n",
    "        x1 = transformer_encoder(input_layer, head_size, num_heads, ff_dim, dropout)\n",
    "\n",
    "    x1 = layers.GlobalAveragePooling1D(data_format=\"channels_first\")(x1)\n",
    "\n",
    "    #creaete dense layer\n",
    "    for dim in mlp_units:\n",
    "        x1 = layers.Dense(dim, activation=\"relu\")(x1)\n",
    "        x1 = layers.Dropout(mlp_dropout)(x1)\n",
    "        \n",
    "          \n",
    "    outputs1 = layers.Dense(num_classes, activation=\"sigmoid\", name=\"output1\")(x1)\n",
    "    output_regions.append(outputs1)\n",
    "    \n",
    "    #REGION1\n",
    "    #create multiple transformer blocks\n",
    "    for _ in range(num_transformer_blocks):\n",
    "        x2 = transformer_encoder(input_layer, head_size, num_heads, ff_dim, dropout)\n",
    "\n",
    "    x2 = layers.GlobalAveragePooling1D(data_format=\"channels_first\")(x2)\n",
    "\n",
    "    #creaete dense layer\n",
    "    for dim in mlp_units:\n",
    "        x2 = layers.Dense(dim, activation=\"relu\")(x2)\n",
    "        x2 = layers.Dropout(mlp_dropout)(x2)\n",
    "        \n",
    "          \n",
    "    outputs2 = layers.Dense(num_classes, activation=\"sigmoid\", name=\"output2\")(x2)\n",
    "    output_regions.append(outputs2)\n",
    "    \n",
    "    \n",
    "    #REGION1\n",
    "    #create multiple transformer blocks\n",
    "    for _ in range(num_transformer_blocks):\n",
    "        x3 = transformer_encoder(input_layer, head_size, num_heads, ff_dim, dropout)\n",
    "\n",
    "    x3 = layers.GlobalAveragePooling1D(data_format=\"channels_first\")(x3)\n",
    "\n",
    "    #creaete dense layer\n",
    "    for dim in mlp_units:\n",
    "        x3 = layers.Dense(dim, activation=\"relu\")(x3)\n",
    "        x3 = layers.Dropout(mlp_dropout)(x3)\n",
    "        \n",
    "          \n",
    "    outputs3 = layers.Dense(num_classes, activation=\"sigmoid\", name=\"output3\")(x3)\n",
    "    output_regions.append(outputs3)\n",
    "        \n",
    "    model = keras.Model(inputs=input_layer, outputs= output_regions)\n",
    "\n",
    "    return model"
   ]
  },
  {
   "cell_type": "markdown",
   "id": "11d40cf2",
   "metadata": {},
   "source": [
    "# Train model using timeseries split cross validation"
   ]
  },
  {
   "cell_type": "code",
   "execution_count": 49,
   "id": "71166f5b",
   "metadata": {
    "scrolled": true
   },
   "outputs": [
    {
     "name": "stdout",
     "output_type": "stream",
     "text": [
      "Epoch 1/200\n",
      " 9/10 [==========================>...] - ETA: 0s - loss: 1.3541 - output1_loss: 0.4603 - output2_loss: 0.3328 - output3_loss: 0.5610 - output1_precision: 0.8419 - output1_recall: 0.7951 - output1_auc: 0.8757 - output2_precision: 0.8864 - output2_recall: 0.9479 - output2_auc: 0.9604 - output3_precision: 0.7306 - output3_recall: 0.7535 - output3_auc: 0.7899"
     ]
    },
    {
     "name": "stderr",
     "output_type": "stream",
     "text": [
      "WARNING:absl:Found untraced functions such as _jit_compiled_convolution_op, _jit_compiled_convolution_op, _jit_compiled_convolution_op, _jit_compiled_convolution_op, _jit_compiled_convolution_op while saving (showing 5 of 43). These functions will not be directly callable after loading.\n"
     ]
    },
    {
     "name": "stdout",
     "output_type": "stream",
     "text": [
      "INFO:tensorflow:Assets written to: timeseries_transformer\\assets\n"
     ]
    },
    {
     "name": "stderr",
     "output_type": "stream",
     "text": [
      "INFO:tensorflow:Assets written to: timeseries_transformer\\assets\n"
     ]
    },
    {
     "name": "stdout",
     "output_type": "stream",
     "text": [
      "10/10 [==============================] - 14s 945ms/step - loss: 1.3515 - output1_loss: 0.4593 - output2_loss: 0.3323 - output3_loss: 0.5599 - output1_precision: 0.8425 - output1_recall: 0.7958 - output1_auc: 0.8764 - output2_precision: 0.8867 - output2_recall: 0.9481 - output2_auc: 0.9606 - output3_precision: 0.7315 - output3_recall: 0.7543 - output3_auc: 0.7910 - val_loss: 0.9761 - val_output1_loss: 0.3691 - val_output2_loss: 0.2159 - val_output3_loss: 0.3911 - val_output1_precision: 0.8536 - val_output1_recall: 0.8357 - val_output1_auc: 0.9166 - val_output2_precision: 0.9338 - val_output2_recall: 0.9371 - val_output2_auc: 0.9711 - val_output3_precision: 0.8638 - val_output3_recall: 0.8427 - val_output3_auc: 0.9076 - lr: 0.0010\n",
      "Epoch 2/200\n",
      "10/10 [==============================] - 4s 431ms/step - loss: 0.5951 - output1_loss: 0.2181 - output2_loss: 0.0938 - output3_loss: 0.2832 - output1_precision: 0.9338 - output1_recall: 0.9273 - output1_auc: 0.9663 - output2_precision: 0.9931 - output2_recall: 0.9931 - output2_auc: 0.9903 - output3_precision: 0.8931 - output3_recall: 0.8962 - output3_auc: 0.9492 - val_loss: 1.0069 - val_output1_loss: 0.4343 - val_output2_loss: 0.2346 - val_output3_loss: 0.3379 - val_output1_precision: 0.8486 - val_output1_recall: 0.8427 - val_output1_auc: 0.9347 - val_output2_precision: 0.9371 - val_output2_recall: 0.9371 - val_output2_auc: 0.9736 - val_output3_precision: 0.8587 - val_output3_recall: 0.8497 - val_output3_auc: 0.9399 - lr: 0.0010\n",
      "Epoch 3/200\n",
      "10/10 [==============================] - 4s 418ms/step - loss: 0.4968 - output1_loss: 0.1847 - output2_loss: 0.0301 - output3_loss: 0.2820 - output1_precision: 0.9439 - output1_recall: 0.9308 - output1_auc: 0.9795 - output2_precision: 0.9931 - output2_recall: 0.9931 - output2_auc: 0.9990 - output3_precision: 0.8935 - output3_recall: 0.8997 - output3_auc: 0.9536 - val_loss: 1.0337 - val_output1_loss: 0.4104 - val_output2_loss: 0.3265 - val_output3_loss: 0.2968 - val_output1_precision: 0.8546 - val_output1_recall: 0.8427 - val_output1_auc: 0.9384 - val_output2_precision: 0.9371 - val_output2_recall: 0.9371 - val_output2_auc: 0.9671 - val_output3_precision: 0.8826 - val_output3_recall: 0.8671 - val_output3_auc: 0.9502 - lr: 0.0010\n",
      "Epoch 4/200\n",
      " 9/10 [==========================>...] - ETA: 0s - loss: 0.4261 - output1_loss: 0.1749 - output2_loss: 0.0270 - output3_loss: 0.2242 - output1_precision: 0.9406 - output1_recall: 0.9340 - output1_auc: 0.9809 - output2_precision: 0.9931 - output2_recall: 0.9931 - output2_auc: 0.9979 - output3_precision: 0.9193 - output3_recall: 0.9097 - output3_auc: 0.9689"
     ]
    },
    {
     "name": "stderr",
     "output_type": "stream",
     "text": [
      "WARNING:absl:Found untraced functions such as _jit_compiled_convolution_op, _jit_compiled_convolution_op, _jit_compiled_convolution_op, _jit_compiled_convolution_op, _jit_compiled_convolution_op while saving (showing 5 of 43). These functions will not be directly callable after loading.\n"
     ]
    },
    {
     "name": "stdout",
     "output_type": "stream",
     "text": [
      "INFO:tensorflow:Assets written to: timeseries_transformer\\assets\n"
     ]
    },
    {
     "name": "stderr",
     "output_type": "stream",
     "text": [
      "INFO:tensorflow:Assets written to: timeseries_transformer\\assets\n"
     ]
    },
    {
     "name": "stdout",
     "output_type": "stream",
     "text": [
      "10/10 [==============================] - 8s 889ms/step - loss: 0.4247 - output1_loss: 0.1743 - output2_loss: 0.0269 - output3_loss: 0.2235 - output1_precision: 0.9408 - output1_recall: 0.9343 - output1_auc: 0.9811 - output2_precision: 0.9931 - output2_recall: 0.9931 - output2_auc: 0.9979 - output3_precision: 0.9196 - output3_recall: 0.9100 - output3_auc: 0.9691 - val_loss: 0.9457 - val_output1_loss: 0.3385 - val_output2_loss: 0.3496 - val_output3_loss: 0.2576 - val_output1_precision: 0.8853 - val_output1_recall: 0.8636 - val_output1_auc: 0.9440 - val_output2_precision: 0.9371 - val_output2_recall: 0.9371 - val_output2_auc: 0.9651 - val_output3_precision: 0.9007 - val_output3_recall: 0.8881 - val_output3_auc: 0.9604 - lr: 0.0010\n",
      "Epoch 5/200\n",
      " 9/10 [==========================>...] - ETA: 0s - loss: 0.3951 - output1_loss: 0.1403 - output2_loss: 0.0357 - output3_loss: 0.2191 - output1_precision: 0.9542 - output1_recall: 0.9410 - output1_auc: 0.9880 - output2_precision: 0.9896 - output2_recall: 0.9931 - output2_auc: 0.9962 - output3_precision: 0.9201 - output3_recall: 0.9201 - output3_auc: 0.9693"
     ]
    },
    {
     "name": "stderr",
     "output_type": "stream",
     "text": [
      "WARNING:absl:Found untraced functions such as _jit_compiled_convolution_op, _jit_compiled_convolution_op, _jit_compiled_convolution_op, _jit_compiled_convolution_op, _jit_compiled_convolution_op while saving (showing 5 of 43). These functions will not be directly callable after loading.\n"
     ]
    },
    {
     "name": "stdout",
     "output_type": "stream",
     "text": [
      "INFO:tensorflow:Assets written to: timeseries_transformer\\assets\n"
     ]
    },
    {
     "name": "stderr",
     "output_type": "stream",
     "text": [
      "INFO:tensorflow:Assets written to: timeseries_transformer\\assets\n"
     ]
    },
    {
     "name": "stdout",
     "output_type": "stream",
     "text": [
      "10/10 [==============================] - 8s 869ms/step - loss: 0.4069 - output1_loss: 0.1510 - output2_loss: 0.0356 - output3_loss: 0.2203 - output1_precision: 0.9509 - output1_recall: 0.9377 - output1_auc: 0.9857 - output2_precision: 0.9897 - output2_recall: 0.9931 - output2_auc: 0.9962 - output3_precision: 0.9172 - output3_recall: 0.9204 - output3_auc: 0.9691 - val_loss: 0.8783 - val_output1_loss: 0.3036 - val_output2_loss: 0.3335 - val_output3_loss: 0.2413 - val_output1_precision: 0.8861 - val_output1_recall: 0.8706 - val_output1_auc: 0.9490 - val_output2_precision: 0.9371 - val_output2_recall: 0.9371 - val_output2_auc: 0.9663 - val_output3_precision: 0.9046 - val_output3_recall: 0.8951 - val_output3_auc: 0.9661 - lr: 0.0010\n",
      "Epoch 6/200\n",
      " 9/10 [==========================>...] - ETA: 0s - loss: 0.3608 - output1_loss: 0.1453 - output2_loss: 0.0311 - output3_loss: 0.1844 - output1_precision: 0.9441 - output1_recall: 0.9375 - output1_auc: 0.9893 - output2_precision: 0.9896 - output2_recall: 0.9931 - output2_auc: 0.9977 - output3_precision: 0.9239 - output3_recall: 0.9271 - output3_auc: 0.9801"
     ]
    },
    {
     "name": "stderr",
     "output_type": "stream",
     "text": [
      "WARNING:absl:Found untraced functions such as _jit_compiled_convolution_op, _jit_compiled_convolution_op, _jit_compiled_convolution_op, _jit_compiled_convolution_op, _jit_compiled_convolution_op while saving (showing 5 of 43). These functions will not be directly callable after loading.\n"
     ]
    },
    {
     "name": "stdout",
     "output_type": "stream",
     "text": [
      "INFO:tensorflow:Assets written to: timeseries_transformer\\assets\n"
     ]
    },
    {
     "name": "stderr",
     "output_type": "stream",
     "text": [
      "INFO:tensorflow:Assets written to: timeseries_transformer\\assets\n"
     ]
    },
    {
     "name": "stdout",
     "output_type": "stream",
     "text": [
      "10/10 [==============================] - 8s 879ms/step - loss: 0.3596 - output1_loss: 0.1448 - output2_loss: 0.0310 - output3_loss: 0.1838 - output1_precision: 0.9443 - output1_recall: 0.9377 - output1_auc: 0.9893 - output2_precision: 0.9897 - output2_recall: 0.9931 - output2_auc: 0.9978 - output3_precision: 0.9241 - output3_recall: 0.9273 - output3_auc: 0.9803 - val_loss: 0.8121 - val_output1_loss: 0.2748 - val_output2_loss: 0.2918 - val_output3_loss: 0.2455 - val_output1_precision: 0.8936 - val_output1_recall: 0.8811 - val_output1_auc: 0.9544 - val_output2_precision: 0.9371 - val_output2_recall: 0.9371 - val_output2_auc: 0.9709 - val_output3_precision: 0.8947 - val_output3_recall: 0.8916 - val_output3_auc: 0.9681 - lr: 0.0010\n",
      "Epoch 7/200\n",
      " 9/10 [==========================>...] - ETA: 0s - loss: 0.3639 - output1_loss: 0.1392 - output2_loss: 0.0364 - output3_loss: 0.1883 - output1_precision: 0.9579 - output1_recall: 0.9479 - output1_auc: 0.9891 - output2_precision: 0.9931 - output2_recall: 0.9931 - output2_auc: 0.9972 - output3_precision: 0.9199 - output3_recall: 0.9167 - output3_auc: 0.9799"
     ]
    },
    {
     "name": "stderr",
     "output_type": "stream",
     "text": [
      "WARNING:absl:Found untraced functions such as _jit_compiled_convolution_op, _jit_compiled_convolution_op, _jit_compiled_convolution_op, _jit_compiled_convolution_op, _jit_compiled_convolution_op while saving (showing 5 of 43). These functions will not be directly callable after loading.\n"
     ]
    },
    {
     "name": "stdout",
     "output_type": "stream",
     "text": [
      "INFO:tensorflow:Assets written to: timeseries_transformer\\assets\n"
     ]
    },
    {
     "name": "stderr",
     "output_type": "stream",
     "text": [
      "INFO:tensorflow:Assets written to: timeseries_transformer\\assets\n"
     ]
    },
    {
     "name": "stdout",
     "output_type": "stream",
     "text": [
      "10/10 [==============================] - 8s 881ms/step - loss: 0.3627 - output1_loss: 0.1387 - output2_loss: 0.0363 - output3_loss: 0.1877 - output1_precision: 0.9580 - output1_recall: 0.9481 - output1_auc: 0.9891 - output2_precision: 0.9931 - output2_recall: 0.9931 - output2_auc: 0.9972 - output3_precision: 0.9201 - output3_recall: 0.9170 - output3_auc: 0.9800 - val_loss: 0.7493 - val_output1_loss: 0.2707 - val_output2_loss: 0.2603 - val_output3_loss: 0.2183 - val_output1_precision: 0.8972 - val_output1_recall: 0.8846 - val_output1_auc: 0.9565 - val_output2_precision: 0.9371 - val_output2_recall: 0.9371 - val_output2_auc: 0.9702 - val_output3_precision: 0.9113 - val_output3_recall: 0.8986 - val_output3_auc: 0.9736 - lr: 0.0010\n",
      "Epoch 8/200\n",
      " 9/10 [==========================>...] - ETA: 0s - loss: 0.3155 - output1_loss: 0.1272 - output2_loss: 0.0230 - output3_loss: 0.1653 - output1_precision: 0.9614 - output1_recall: 0.9514 - output1_auc: 0.9908 - output2_precision: 0.9965 - output2_recall: 0.9931 - output2_auc: 0.9994 - output3_precision: 0.9345 - output3_recall: 0.9410 - output3_auc: 0.9834"
     ]
    },
    {
     "name": "stderr",
     "output_type": "stream",
     "text": [
      "WARNING:absl:Found untraced functions such as _jit_compiled_convolution_op, _jit_compiled_convolution_op, _jit_compiled_convolution_op, _jit_compiled_convolution_op, _jit_compiled_convolution_op while saving (showing 5 of 43). These functions will not be directly callable after loading.\n"
     ]
    },
    {
     "name": "stdout",
     "output_type": "stream",
     "text": [
      "INFO:tensorflow:Assets written to: timeseries_transformer\\assets\n"
     ]
    },
    {
     "name": "stderr",
     "output_type": "stream",
     "text": [
      "INFO:tensorflow:Assets written to: timeseries_transformer\\assets\n"
     ]
    },
    {
     "name": "stdout",
     "output_type": "stream",
     "text": [
      "10/10 [==============================] - 8s 870ms/step - loss: 0.3147 - output1_loss: 0.1268 - output2_loss: 0.0230 - output3_loss: 0.1649 - output1_precision: 0.9615 - output1_recall: 0.9516 - output1_auc: 0.9908 - output2_precision: 0.9965 - output2_recall: 0.9931 - output2_auc: 0.9994 - output3_precision: 0.9347 - output3_recall: 0.9412 - output3_auc: 0.9834 - val_loss: 0.7260 - val_output1_loss: 0.2855 - val_output2_loss: 0.2373 - val_output3_loss: 0.2032 - val_output1_precision: 0.9000 - val_output1_recall: 0.8811 - val_output1_auc: 0.9566 - val_output2_precision: 0.9371 - val_output2_recall: 0.9371 - val_output2_auc: 0.9733 - val_output3_precision: 0.9113 - val_output3_recall: 0.8986 - val_output3_auc: 0.9777 - lr: 0.0010\n",
      "Epoch 9/200\n",
      "10/10 [==============================] - 4s 406ms/step - loss: 0.3113 - output1_loss: 0.1129 - output2_loss: 0.0289 - output3_loss: 0.1694 - output1_precision: 0.9649 - output1_recall: 0.9516 - output1_auc: 0.9926 - output2_precision: 0.9931 - output2_recall: 0.9965 - output2_auc: 0.9973 - output3_precision: 0.9306 - output3_recall: 0.9273 - output3_auc: 0.9833 - val_loss: 0.7272 - val_output1_loss: 0.3074 - val_output2_loss: 0.2259 - val_output3_loss: 0.1940 - val_output1_precision: 0.8968 - val_output1_recall: 0.8811 - val_output1_auc: 0.9573 - val_output2_precision: 0.9371 - val_output2_recall: 0.9371 - val_output2_auc: 0.9770 - val_output3_precision: 0.9149 - val_output3_recall: 0.9021 - val_output3_auc: 0.9796 - lr: 0.0010\n",
      "Epoch 10/200\n",
      " 9/10 [==========================>...] - ETA: 0s - loss: 0.2772 - output1_loss: 0.1114 - output2_loss: 0.0267 - output3_loss: 0.1390 - output1_precision: 0.9553 - output1_recall: 0.9653 - output1_auc: 0.9923 - output2_precision: 0.9965 - output2_recall: 0.9931 - output2_auc: 0.9986 - output3_precision: 0.9536 - output3_recall: 0.9271 - output3_auc: 0.9906"
     ]
    },
    {
     "name": "stderr",
     "output_type": "stream",
     "text": [
      "WARNING:absl:Found untraced functions such as _jit_compiled_convolution_op, _jit_compiled_convolution_op, _jit_compiled_convolution_op, _jit_compiled_convolution_op, _jit_compiled_convolution_op while saving (showing 5 of 43). These functions will not be directly callable after loading.\n"
     ]
    },
    {
     "name": "stdout",
     "output_type": "stream",
     "text": [
      "INFO:tensorflow:Assets written to: timeseries_transformer\\assets\n"
     ]
    },
    {
     "name": "stderr",
     "output_type": "stream",
     "text": [
      "INFO:tensorflow:Assets written to: timeseries_transformer\\assets\n"
     ]
    },
    {
     "name": "stdout",
     "output_type": "stream",
     "text": [
      "10/10 [==============================] - 8s 827ms/step - loss: 0.2764 - output1_loss: 0.1111 - output2_loss: 0.0267 - output3_loss: 0.1387 - output1_precision: 0.9555 - output1_recall: 0.9654 - output1_auc: 0.9923 - output2_precision: 0.9965 - output2_recall: 0.9931 - output2_auc: 0.9986 - output3_precision: 0.9537 - output3_recall: 0.9273 - output3_auc: 0.9906 - val_loss: 0.6960 - val_output1_loss: 0.2966 - val_output2_loss: 0.2161 - val_output3_loss: 0.1833 - val_output1_precision: 0.8944 - val_output1_recall: 0.8881 - val_output1_auc: 0.9592 - val_output2_precision: 0.9371 - val_output2_recall: 0.9371 - val_output2_auc: 0.9780 - val_output3_precision: 0.9187 - val_output3_recall: 0.9091 - val_output3_auc: 0.9817 - lr: 0.0010\n",
      "Epoch 11/200\n",
      " 9/10 [==========================>...] - ETA: 0s - loss: 0.2537 - output1_loss: 0.0997 - output2_loss: 0.0181 - output3_loss: 0.1360 - output1_precision: 0.9653 - output1_recall: 0.9653 - output1_auc: 0.9938 - output2_precision: 0.9965 - output2_recall: 0.9965 - output2_auc: 0.9998 - output3_precision: 0.9377 - output3_recall: 0.9410 - output3_auc: 0.9905"
     ]
    },
    {
     "name": "stderr",
     "output_type": "stream",
     "text": [
      "WARNING:absl:Found untraced functions such as _jit_compiled_convolution_op, _jit_compiled_convolution_op, _jit_compiled_convolution_op, _jit_compiled_convolution_op, _jit_compiled_convolution_op while saving (showing 5 of 43). These functions will not be directly callable after loading.\n"
     ]
    },
    {
     "name": "stdout",
     "output_type": "stream",
     "text": [
      "INFO:tensorflow:Assets written to: timeseries_transformer\\assets\n"
     ]
    },
    {
     "name": "stderr",
     "output_type": "stream",
     "text": [
      "INFO:tensorflow:Assets written to: timeseries_transformer\\assets\n"
     ]
    },
    {
     "name": "stdout",
     "output_type": "stream",
     "text": [
      "10/10 [==============================] - 8s 831ms/step - loss: 0.2566 - output1_loss: 0.1009 - output2_loss: 0.0183 - output3_loss: 0.1373 - output1_precision: 0.9654 - output1_recall: 0.9654 - output1_auc: 0.9937 - output2_precision: 0.9965 - output2_recall: 0.9965 - output2_auc: 0.9997 - output3_precision: 0.9379 - output3_recall: 0.9412 - output3_auc: 0.9903 - val_loss: 0.6925 - val_output1_loss: 0.2689 - val_output2_loss: 0.2475 - val_output3_loss: 0.1762 - val_output1_precision: 0.8975 - val_output1_recall: 0.8881 - val_output1_auc: 0.9620 - val_output2_precision: 0.9371 - val_output2_recall: 0.9371 - val_output2_auc: 0.9707 - val_output3_precision: 0.9223 - val_output3_recall: 0.9126 - val_output3_auc: 0.9825 - lr: 0.0010\n",
      "Epoch 12/200\n",
      " 9/10 [==========================>...] - ETA: 0s - loss: 0.2472 - output1_loss: 0.0983 - output2_loss: 0.0199 - output3_loss: 0.1290 - output1_precision: 0.9722 - output1_recall: 0.9722 - output1_auc: 0.9953 - output2_precision: 0.9965 - output2_recall: 0.9931 - output2_auc: 0.9997 - output3_precision: 0.9477 - output3_recall: 0.9444 - output3_auc: 0.9923"
     ]
    },
    {
     "name": "stderr",
     "output_type": "stream",
     "text": [
      "WARNING:absl:Found untraced functions such as _jit_compiled_convolution_op, _jit_compiled_convolution_op, _jit_compiled_convolution_op, _jit_compiled_convolution_op, _jit_compiled_convolution_op while saving (showing 5 of 43). These functions will not be directly callable after loading.\n"
     ]
    },
    {
     "name": "stdout",
     "output_type": "stream",
     "text": [
      "INFO:tensorflow:Assets written to: timeseries_transformer\\assets\n"
     ]
    },
    {
     "name": "stderr",
     "output_type": "stream",
     "text": [
      "INFO:tensorflow:Assets written to: timeseries_transformer\\assets\n"
     ]
    },
    {
     "name": "stdout",
     "output_type": "stream",
     "text": [
      "10/10 [==============================] - 8s 823ms/step - loss: 0.2466 - output1_loss: 0.0981 - output2_loss: 0.0198 - output3_loss: 0.1288 - output1_precision: 0.9723 - output1_recall: 0.9723 - output1_auc: 0.9953 - output2_precision: 0.9965 - output2_recall: 0.9931 - output2_auc: 0.9997 - output3_precision: 0.9479 - output3_recall: 0.9446 - output3_auc: 0.9924 - val_loss: 0.6877 - val_output1_loss: 0.2466 - val_output2_loss: 0.2762 - val_output3_loss: 0.1648 - val_output1_precision: 0.9078 - val_output1_recall: 0.8951 - val_output1_auc: 0.9658 - val_output2_precision: 0.9371 - val_output2_recall: 0.9371 - val_output2_auc: 0.9716 - val_output3_precision: 0.9464 - val_output3_recall: 0.9266 - val_output3_auc: 0.9859 - lr: 0.0010\n",
      "Epoch 13/200\n",
      " 9/10 [==========================>...] - ETA: 0s - loss: 0.2409 - output1_loss: 0.0980 - output2_loss: 0.0271 - output3_loss: 0.1158 - output1_precision: 0.9655 - output1_recall: 0.9722 - output1_auc: 0.9949 - output2_precision: 0.9965 - output2_recall: 0.9931 - output2_auc: 0.9960 - output3_precision: 0.9519 - output3_recall: 0.9618 - output3_auc: 0.9942"
     ]
    },
    {
     "name": "stderr",
     "output_type": "stream",
     "text": [
      "WARNING:absl:Found untraced functions such as _jit_compiled_convolution_op, _jit_compiled_convolution_op, _jit_compiled_convolution_op, _jit_compiled_convolution_op, _jit_compiled_convolution_op while saving (showing 5 of 43). These functions will not be directly callable after loading.\n"
     ]
    },
    {
     "name": "stdout",
     "output_type": "stream",
     "text": [
      "INFO:tensorflow:Assets written to: timeseries_transformer\\assets\n"
     ]
    },
    {
     "name": "stderr",
     "output_type": "stream",
     "text": [
      "INFO:tensorflow:Assets written to: timeseries_transformer\\assets\n"
     ]
    },
    {
     "name": "stdout",
     "output_type": "stream",
     "text": [
      "10/10 [==============================] - 8s 828ms/step - loss: 0.2403 - output1_loss: 0.0977 - output2_loss: 0.0270 - output3_loss: 0.1155 - output1_precision: 0.9656 - output1_recall: 0.9723 - output1_auc: 0.9949 - output2_precision: 0.9965 - output2_recall: 0.9931 - output2_auc: 0.9960 - output3_precision: 0.9521 - output3_recall: 0.9619 - output3_auc: 0.9942 - val_loss: 0.6678 - val_output1_loss: 0.2516 - val_output2_loss: 0.2563 - val_output3_loss: 0.1599 - val_output1_precision: 0.9081 - val_output1_recall: 0.8986 - val_output1_auc: 0.9661 - val_output2_precision: 0.9371 - val_output2_recall: 0.9371 - val_output2_auc: 0.9713 - val_output3_precision: 0.9359 - val_output3_recall: 0.9196 - val_output3_auc: 0.9853 - lr: 0.0010\n",
      "Epoch 14/200\n",
      " 9/10 [==========================>...] - ETA: 0s - loss: 0.2186 - output1_loss: 0.0933 - output2_loss: 0.0207 - output3_loss: 0.1046 - output1_precision: 0.9655 - output1_recall: 0.9722 - output1_auc: 0.9946 - output2_precision: 0.9931 - output2_recall: 0.9931 - output2_auc: 0.9997 - output3_precision: 0.9582 - output3_recall: 0.9549 - output3_auc: 0.9941"
     ]
    },
    {
     "name": "stderr",
     "output_type": "stream",
     "text": [
      "WARNING:absl:Found untraced functions such as _jit_compiled_convolution_op, _jit_compiled_convolution_op, _jit_compiled_convolution_op, _jit_compiled_convolution_op, _jit_compiled_convolution_op while saving (showing 5 of 43). These functions will not be directly callable after loading.\n"
     ]
    },
    {
     "name": "stdout",
     "output_type": "stream",
     "text": [
      "INFO:tensorflow:Assets written to: timeseries_transformer\\assets\n"
     ]
    },
    {
     "name": "stderr",
     "output_type": "stream",
     "text": [
      "INFO:tensorflow:Assets written to: timeseries_transformer\\assets\n"
     ]
    },
    {
     "name": "stdout",
     "output_type": "stream",
     "text": [
      "10/10 [==============================] - 8s 808ms/step - loss: 0.2213 - output1_loss: 0.0955 - output2_loss: 0.0207 - output3_loss: 0.1051 - output1_precision: 0.9623 - output1_recall: 0.9723 - output1_auc: 0.9944 - output2_precision: 0.9931 - output2_recall: 0.9931 - output2_auc: 0.9997 - output3_precision: 0.9583 - output3_recall: 0.9550 - output3_auc: 0.9940 - val_loss: 0.6527 - val_output1_loss: 0.2536 - val_output2_loss: 0.2446 - val_output3_loss: 0.1545 - val_output1_precision: 0.9081 - val_output1_recall: 0.8986 - val_output1_auc: 0.9670 - val_output2_precision: 0.9371 - val_output2_recall: 0.9371 - val_output2_auc: 0.9753 - val_output3_precision: 0.9429 - val_output3_recall: 0.9231 - val_output3_auc: 0.9862 - lr: 0.0010\n",
      "Epoch 15/200\n",
      " 9/10 [==========================>...] - ETA: 0s - loss: 0.1998 - output1_loss: 0.0764 - output2_loss: 0.0205 - output3_loss: 0.1029 - output1_precision: 0.9724 - output1_recall: 0.9792 - output1_auc: 0.9976 - output2_precision: 0.9965 - output2_recall: 0.9931 - output2_auc: 0.9998 - output3_precision: 0.9618 - output3_recall: 0.9618 - output3_auc: 0.9952"
     ]
    },
    {
     "name": "stderr",
     "output_type": "stream",
     "text": [
      "WARNING:absl:Found untraced functions such as _jit_compiled_convolution_op, _jit_compiled_convolution_op, _jit_compiled_convolution_op, _jit_compiled_convolution_op, _jit_compiled_convolution_op while saving (showing 5 of 43). These functions will not be directly callable after loading.\n"
     ]
    },
    {
     "name": "stdout",
     "output_type": "stream",
     "text": [
      "INFO:tensorflow:Assets written to: timeseries_transformer\\assets\n"
     ]
    },
    {
     "name": "stderr",
     "output_type": "stream",
     "text": [
      "INFO:tensorflow:Assets written to: timeseries_transformer\\assets\n"
     ]
    },
    {
     "name": "stdout",
     "output_type": "stream",
     "text": [
      "10/10 [==============================] - 8s 832ms/step - loss: 0.1997 - output1_loss: 0.0762 - output2_loss: 0.0205 - output3_loss: 0.1031 - output1_precision: 0.9725 - output1_recall: 0.9792 - output1_auc: 0.9977 - output2_precision: 0.9965 - output2_recall: 0.9931 - output2_auc: 0.9998 - output3_precision: 0.9619 - output3_recall: 0.9619 - output3_auc: 0.9953 - val_loss: 0.5994 - val_output1_loss: 0.2201 - val_output2_loss: 0.2369 - val_output3_loss: 0.1424 - val_output1_precision: 0.9123 - val_output1_recall: 0.9091 - val_output1_auc: 0.9721 - val_output2_precision: 0.9371 - val_output2_recall: 0.9371 - val_output2_auc: 0.9768 - val_output3_precision: 0.9401 - val_output3_recall: 0.9336 - val_output3_auc: 0.9889 - lr: 0.0010\n",
      "Epoch 16/200\n",
      " 9/10 [==========================>...] - ETA: 0s - loss: 0.2029 - output1_loss: 0.0822 - output2_loss: 0.0239 - output3_loss: 0.0968 - output1_precision: 0.9791 - output1_recall: 0.9757 - output1_auc: 0.9969 - output2_precision: 0.9931 - output2_recall: 0.9965 - output2_auc: 0.9993 - output3_precision: 0.9521 - output3_recall: 0.9653 - output3_auc: 0.9958"
     ]
    },
    {
     "name": "stderr",
     "output_type": "stream",
     "text": [
      "WARNING:absl:Found untraced functions such as _jit_compiled_convolution_op, _jit_compiled_convolution_op, _jit_compiled_convolution_op, _jit_compiled_convolution_op, _jit_compiled_convolution_op while saving (showing 5 of 43). These functions will not be directly callable after loading.\n"
     ]
    },
    {
     "name": "stdout",
     "output_type": "stream",
     "text": [
      "INFO:tensorflow:Assets written to: timeseries_transformer\\assets\n"
     ]
    },
    {
     "name": "stderr",
     "output_type": "stream",
     "text": [
      "INFO:tensorflow:Assets written to: timeseries_transformer\\assets\n"
     ]
    },
    {
     "name": "stdout",
     "output_type": "stream",
     "text": [
      "10/10 [==============================] - 8s 834ms/step - loss: 0.2023 - output1_loss: 0.0820 - output2_loss: 0.0238 - output3_loss: 0.0965 - output1_precision: 0.9792 - output1_recall: 0.9758 - output1_auc: 0.9969 - output2_precision: 0.9931 - output2_recall: 0.9965 - output2_auc: 0.9994 - output3_precision: 0.9522 - output3_recall: 0.9654 - output3_auc: 0.9958 - val_loss: 0.5875 - val_output1_loss: 0.2293 - val_output2_loss: 0.2189 - val_output3_loss: 0.1393 - val_output1_precision: 0.9117 - val_output1_recall: 0.9021 - val_output1_auc: 0.9717 - val_output2_precision: 0.9371 - val_output2_recall: 0.9371 - val_output2_auc: 0.9817 - val_output3_precision: 0.9466 - val_output3_recall: 0.9301 - val_output3_auc: 0.9887 - lr: 0.0010\n",
      "Epoch 17/200\n",
      "10/10 [==============================] - 4s 403ms/step - loss: 0.1777 - output1_loss: 0.0788 - output2_loss: 0.0129 - output3_loss: 0.0860 - output1_precision: 0.9788 - output1_recall: 0.9585 - output1_auc: 0.9972 - output2_precision: 0.9965 - output2_recall: 0.9965 - output2_auc: 0.9999 - output3_precision: 0.9656 - output3_recall: 0.9723 - output3_auc: 0.9965 - val_loss: 0.6113 - val_output1_loss: 0.2503 - val_output2_loss: 0.2221 - val_output3_loss: 0.1389 - val_output1_precision: 0.9113 - val_output1_recall: 0.8986 - val_output1_auc: 0.9707 - val_output2_precision: 0.9371 - val_output2_recall: 0.9371 - val_output2_auc: 0.9806 - val_output3_precision: 0.9431 - val_output3_recall: 0.9266 - val_output3_auc: 0.9885 - lr: 0.0010\n",
      "Epoch 18/200\n",
      "10/10 [==============================] - 4s 378ms/step - loss: 0.1636 - output1_loss: 0.0665 - output2_loss: 0.0218 - output3_loss: 0.0753 - output1_precision: 0.9792 - output1_recall: 0.9758 - output1_auc: 0.9976 - output2_precision: 0.9965 - output2_recall: 0.9931 - output2_auc: 0.9992 - output3_precision: 0.9720 - output3_recall: 0.9619 - output3_auc: 0.9973 - val_loss: 0.6100 - val_output1_loss: 0.2541 - val_output2_loss: 0.2229 - val_output3_loss: 0.1330 - val_output1_precision: 0.9120 - val_output1_recall: 0.9056 - val_output1_auc: 0.9714 - val_output2_precision: 0.9373 - val_output2_recall: 0.9406 - val_output2_auc: 0.9780 - val_output3_precision: 0.9468 - val_output3_recall: 0.9336 - val_output3_auc: 0.9895 - lr: 0.0010\n",
      "Epoch 19/200\n",
      "10/10 [==============================] - 4s 383ms/step - loss: 0.1852 - output1_loss: 0.0824 - output2_loss: 0.0182 - output3_loss: 0.0846 - output1_precision: 0.9685 - output1_recall: 0.9585 - output1_auc: 0.9963 - output2_precision: 0.9965 - output2_recall: 0.9965 - output2_auc: 0.9997 - output3_precision: 0.9652 - output3_recall: 0.9585 - output3_auc: 0.9972 - val_loss: 0.6037 - val_output1_loss: 0.2608 - val_output2_loss: 0.2145 - val_output3_loss: 0.1284 - val_output1_precision: 0.9053 - val_output1_recall: 0.9021 - val_output1_auc: 0.9712 - val_output2_precision: 0.9373 - val_output2_recall: 0.9406 - val_output2_auc: 0.9819 - val_output3_precision: 0.9509 - val_output3_recall: 0.9476 - val_output3_auc: 0.9902 - lr: 0.0010\n",
      "Epoch 20/200\n",
      " 9/10 [==========================>...] - ETA: 0s - loss: 0.1373 - output1_loss: 0.0576 - output2_loss: 0.0176 - output3_loss: 0.0620 - output1_precision: 0.9757 - output1_recall: 0.9757 - output1_auc: 0.9984 - output2_precision: 0.9965 - output2_recall: 0.9965 - output2_auc: 0.9998 - output3_precision: 0.9827 - output3_recall: 0.9861 - output3_auc: 0.9991"
     ]
    },
    {
     "name": "stderr",
     "output_type": "stream",
     "text": [
      "WARNING:absl:Found untraced functions such as _jit_compiled_convolution_op, _jit_compiled_convolution_op, _jit_compiled_convolution_op, _jit_compiled_convolution_op, _jit_compiled_convolution_op while saving (showing 5 of 43). These functions will not be directly callable after loading.\n"
     ]
    },
    {
     "name": "stdout",
     "output_type": "stream",
     "text": [
      "INFO:tensorflow:Assets written to: timeseries_transformer\\assets\n"
     ]
    },
    {
     "name": "stderr",
     "output_type": "stream",
     "text": [
      "INFO:tensorflow:Assets written to: timeseries_transformer\\assets\n"
     ]
    },
    {
     "name": "stdout",
     "output_type": "stream",
     "text": [
      "10/10 [==============================] - 8s 811ms/step - loss: 0.1369 - output1_loss: 0.0575 - output2_loss: 0.0175 - output3_loss: 0.0619 - output1_precision: 0.9758 - output1_recall: 0.9758 - output1_auc: 0.9984 - output2_precision: 0.9965 - output2_recall: 0.9965 - output2_auc: 0.9998 - output3_precision: 0.9828 - output3_recall: 0.9862 - output3_auc: 0.9991 - val_loss: 0.5699 - val_output1_loss: 0.2396 - val_output2_loss: 0.2049 - val_output3_loss: 0.1254 - val_output1_precision: 0.9120 - val_output1_recall: 0.9056 - val_output1_auc: 0.9726 - val_output2_precision: 0.9406 - val_output2_recall: 0.9406 - val_output2_auc: 0.9812 - val_output3_precision: 0.9544 - val_output3_recall: 0.9510 - val_output3_auc: 0.9907 - lr: 0.0010\n",
      "Epoch 21/200\n",
      "10/10 [==============================] - 4s 414ms/step - loss: 0.1551 - output1_loss: 0.0699 - output2_loss: 0.0090 - output3_loss: 0.0762 - output1_precision: 0.9757 - output1_recall: 0.9723 - output1_auc: 0.9976 - output2_precision: 0.9965 - output2_recall: 0.9965 - output2_auc: 1.0000 - output3_precision: 0.9692 - output3_recall: 0.9792 - output3_auc: 0.9978 - val_loss: 0.5738 - val_output1_loss: 0.2302 - val_output2_loss: 0.2219 - val_output3_loss: 0.1217 - val_output1_precision: 0.9120 - val_output1_recall: 0.9056 - val_output1_auc: 0.9739 - val_output2_precision: 0.9373 - val_output2_recall: 0.9406 - val_output2_auc: 0.9780 - val_output3_precision: 0.9577 - val_output3_recall: 0.9510 - val_output3_auc: 0.9914 - lr: 0.0010\n",
      "Epoch 22/200\n",
      "10/10 [==============================] - 4s 385ms/step - loss: 0.1238 - output1_loss: 0.0532 - output2_loss: 0.0128 - output3_loss: 0.0578 - output1_precision: 0.9828 - output1_recall: 0.9862 - output1_auc: 0.9991 - output2_precision: 0.9965 - output2_recall: 0.9965 - output2_auc: 0.9999 - output3_precision: 0.9896 - output3_recall: 0.9862 - output3_auc: 0.9991 - val_loss: 0.5968 - val_output1_loss: 0.2379 - val_output2_loss: 0.2398 - val_output3_loss: 0.1192 - val_output1_precision: 0.9120 - val_output1_recall: 0.9056 - val_output1_auc: 0.9737 - val_output2_precision: 0.9373 - val_output2_recall: 0.9406 - val_output2_auc: 0.9742 - val_output3_precision: 0.9545 - val_output3_recall: 0.9545 - val_output3_auc: 0.9916 - lr: 0.0010\n",
      "Epoch 23/200\n",
      "10/10 [==============================] - 4s 386ms/step - loss: 0.1356 - output1_loss: 0.0648 - output2_loss: 0.0116 - output3_loss: 0.0592 - output1_precision: 0.9792 - output1_recall: 0.9792 - output1_auc: 0.9974 - output2_precision: 0.9931 - output2_recall: 0.9965 - output2_auc: 1.0000 - output3_precision: 0.9861 - output3_recall: 0.9792 - output3_auc: 0.9990 - val_loss: 0.6074 - val_output1_loss: 0.2420 - val_output2_loss: 0.2460 - val_output3_loss: 0.1194 - val_output1_precision: 0.9120 - val_output1_recall: 0.9056 - val_output1_auc: 0.9740 - val_output2_precision: 0.9373 - val_output2_recall: 0.9406 - val_output2_auc: 0.9744 - val_output3_precision: 0.9542 - val_output3_recall: 0.9476 - val_output3_auc: 0.9914 - lr: 0.0010\n",
      "Epoch 24/200\n",
      "10/10 [==============================] - 4s 390ms/step - loss: 0.1350 - output1_loss: 0.0603 - output2_loss: 0.0076 - output3_loss: 0.0671 - output1_precision: 0.9759 - output1_recall: 0.9827 - output1_auc: 0.9981 - output2_precision: 0.9965 - output2_recall: 0.9965 - output2_auc: 1.0000 - output3_precision: 0.9756 - output3_recall: 0.9689 - output3_auc: 0.9981 - val_loss: 0.6022 - val_output1_loss: 0.2298 - val_output2_loss: 0.2560 - val_output3_loss: 0.1164 - val_output1_precision: 0.9120 - val_output1_recall: 0.9056 - val_output1_auc: 0.9750 - val_output2_precision: 0.9373 - val_output2_recall: 0.9406 - val_output2_auc: 0.9735 - val_output3_precision: 0.9610 - val_output3_recall: 0.9476 - val_output3_auc: 0.9918 - lr: 0.0010\n",
      "Epoch 25/200\n",
      "10/10 [==============================] - 4s 383ms/step - loss: 0.1120 - output1_loss: 0.0512 - output2_loss: 0.0087 - output3_loss: 0.0521 - output1_precision: 0.9828 - output1_recall: 0.9862 - output1_auc: 0.9991 - output2_precision: 0.9965 - output2_recall: 0.9965 - output2_auc: 1.0000 - output3_precision: 0.9860 - output3_recall: 0.9758 - output3_auc: 0.9994 - val_loss: 0.5974 - val_output1_loss: 0.2240 - val_output2_loss: 0.2627 - val_output3_loss: 0.1108 - val_output1_precision: 0.9117 - val_output1_recall: 0.9021 - val_output1_auc: 0.9762 - val_output2_precision: 0.9373 - val_output2_recall: 0.9406 - val_output2_auc: 0.9721 - val_output3_precision: 0.9648 - val_output3_recall: 0.9580 - val_output3_auc: 0.9928 - lr: 0.0010\n",
      "Epoch 26/200\n",
      "10/10 [==============================] - 4s 379ms/step - loss: 0.1048 - output1_loss: 0.0460 - output2_loss: 0.0115 - output3_loss: 0.0473 - output1_precision: 0.9895 - output1_recall: 0.9792 - output1_auc: 0.9994 - output2_precision: 0.9965 - output2_recall: 0.9965 - output2_auc: 1.0000 - output3_precision: 0.9863 - output3_recall: 0.9931 - output3_auc: 0.9997 - val_loss: 0.5842 - val_output1_loss: 0.2333 - val_output2_loss: 0.2421 - val_output3_loss: 0.1089 - val_output1_precision: 0.9120 - val_output1_recall: 0.9056 - val_output1_auc: 0.9737 - val_output2_precision: 0.9373 - val_output2_recall: 0.9406 - val_output2_auc: 0.9760 - val_output3_precision: 0.9648 - val_output3_recall: 0.9580 - val_output3_auc: 0.9931 - lr: 0.0010\n",
      "Epoch 27/200\n",
      "10/10 [==============================] - 4s 382ms/step - loss: 0.1119 - output1_loss: 0.0460 - output2_loss: 0.0086 - output3_loss: 0.0573 - output1_precision: 0.9862 - output1_recall: 0.9896 - output1_auc: 0.9991 - output2_precision: 0.9965 - output2_recall: 0.9965 - output2_auc: 1.0000 - output3_precision: 0.9828 - output3_recall: 0.9862 - output3_auc: 0.9995 - val_loss: 0.6163 - val_output1_loss: 0.2536 - val_output2_loss: 0.2521 - val_output3_loss: 0.1106 - val_output1_precision: 0.9056 - val_output1_recall: 0.9056 - val_output1_auc: 0.9721 - val_output2_precision: 0.9373 - val_output2_recall: 0.9406 - val_output2_auc: 0.9736 - val_output3_precision: 0.9648 - val_output3_recall: 0.9580 - val_output3_auc: 0.9938 - lr: 0.0010\n",
      "Epoch 28/200\n",
      "10/10 [==============================] - 4s 393ms/step - loss: 0.1109 - output1_loss: 0.0575 - output2_loss: 0.0083 - output3_loss: 0.0452 - output1_precision: 0.9689 - output1_recall: 0.9689 - output1_auc: 0.9982 - output2_precision: 0.9965 - output2_recall: 0.9965 - output2_auc: 1.0000 - output3_precision: 0.9931 - output3_recall: 0.9965 - output3_auc: 0.9999 - val_loss: 0.6303 - val_output1_loss: 0.2497 - val_output2_loss: 0.2660 - val_output3_loss: 0.1146 - val_output1_precision: 0.9088 - val_output1_recall: 0.9056 - val_output1_auc: 0.9736 - val_output2_precision: 0.9373 - val_output2_recall: 0.9406 - val_output2_auc: 0.9722 - val_output3_precision: 0.9613 - val_output3_recall: 0.9545 - val_output3_auc: 0.9925 - lr: 0.0010\n",
      "Epoch 29/200\n",
      "10/10 [==============================] - 4s 386ms/step - loss: 0.0955 - output1_loss: 0.0461 - output2_loss: 0.0087 - output3_loss: 0.0407 - output1_precision: 0.9759 - output1_recall: 0.9792 - output1_auc: 0.9990 - output2_precision: 0.9965 - output2_recall: 0.9965 - output2_auc: 1.0000 - output3_precision: 0.9896 - output3_recall: 0.9896 - output3_auc: 0.9997 - val_loss: 0.5838 - val_output1_loss: 0.2175 - val_output2_loss: 0.2519 - val_output3_loss: 0.1144 - val_output1_precision: 0.9117 - val_output1_recall: 0.9021 - val_output1_auc: 0.9774 - val_output2_precision: 0.9373 - val_output2_recall: 0.9406 - val_output2_auc: 0.9749 - val_output3_precision: 0.9614 - val_output3_recall: 0.9580 - val_output3_auc: 0.9922 - lr: 0.0010\n",
      "Epoch 30/200\n",
      "10/10 [==============================] - 4s 381ms/step - loss: 0.1012 - output1_loss: 0.0458 - output2_loss: 0.0115 - output3_loss: 0.0439 - output1_precision: 0.9861 - output1_recall: 0.9827 - output1_auc: 0.9992 - output2_precision: 0.9965 - output2_recall: 0.9965 - output2_auc: 1.0000 - output3_precision: 0.9862 - output3_recall: 0.9862 - output3_auc: 0.9996 - val_loss: 0.5709 - val_output1_loss: 0.2103 - val_output2_loss: 0.2508 - val_output3_loss: 0.1098 - val_output1_precision: 0.9149 - val_output1_recall: 0.9021 - val_output1_auc: 0.9785 - val_output2_precision: 0.9406 - val_output2_recall: 0.9406 - val_output2_auc: 0.9748 - val_output3_precision: 0.9613 - val_output3_recall: 0.9545 - val_output3_auc: 0.9928 - lr: 0.0010\n"
     ]
    },
    {
     "name": "stdout",
     "output_type": "stream",
     "text": [
      "Epoch 31/200\n",
      "10/10 [==============================] - 4s 382ms/step - loss: 0.1072 - output1_loss: 0.0543 - output2_loss: 0.0130 - output3_loss: 0.0400 - output1_precision: 0.9825 - output1_recall: 0.9723 - output1_auc: 0.9986 - output2_precision: 0.9965 - output2_recall: 0.9931 - output2_auc: 1.0000 - output3_precision: 0.9931 - output3_recall: 0.9931 - output3_auc: 0.9997 - val_loss: 0.6136 - val_output1_loss: 0.2154 - val_output2_loss: 0.2894 - val_output3_loss: 0.1088 - val_output1_precision: 0.9117 - val_output1_recall: 0.9021 - val_output1_auc: 0.9773 - val_output2_precision: 0.9371 - val_output2_recall: 0.9371 - val_output2_auc: 0.9712 - val_output3_precision: 0.9645 - val_output3_recall: 0.9510 - val_output3_auc: 0.9927 - lr: 0.0010\n",
      "Epoch 32/200\n",
      "10/10 [==============================] - 4s 395ms/step - loss: 0.0883 - output1_loss: 0.0406 - output2_loss: 0.0096 - output3_loss: 0.0381 - output1_precision: 0.9896 - output1_recall: 0.9896 - output1_auc: 0.9995 - output2_precision: 0.9965 - output2_recall: 0.9896 - output2_auc: 1.0000 - output3_precision: 0.9897 - output3_recall: 0.9931 - output3_auc: 0.9998 - val_loss: 0.6140 - val_output1_loss: 0.2256 - val_output2_loss: 0.2831 - val_output3_loss: 0.1054 - val_output1_precision: 0.9120 - val_output1_recall: 0.9056 - val_output1_auc: 0.9761 - val_output2_precision: 0.9371 - val_output2_recall: 0.9371 - val_output2_auc: 0.9708 - val_output3_precision: 0.9647 - val_output3_recall: 0.9545 - val_output3_auc: 0.9934 - lr: 0.0010\n",
      "Epoch 33/200\n",
      "10/10 [==============================] - 4s 404ms/step - loss: 0.0776 - output1_loss: 0.0392 - output2_loss: 0.0059 - output3_loss: 0.0325 - output1_precision: 0.9895 - output1_recall: 0.9827 - output1_auc: 0.9995 - output2_precision: 0.9965 - output2_recall: 0.9965 - output2_auc: 1.0000 - output3_precision: 1.0000 - output3_recall: 0.9931 - output3_auc: 1.0000 - val_loss: 0.5842 - val_output1_loss: 0.2197 - val_output2_loss: 0.2611 - val_output3_loss: 0.1034 - val_output1_precision: 0.9120 - val_output1_recall: 0.9056 - val_output1_auc: 0.9779 - val_output2_precision: 0.9371 - val_output2_recall: 0.9371 - val_output2_auc: 0.9748 - val_output3_precision: 0.9647 - val_output3_recall: 0.9545 - val_output3_auc: 0.9934 - lr: 0.0010\n",
      "Epoch 34/200\n",
      "10/10 [==============================] - 4s 381ms/step - loss: 0.0787 - output1_loss: 0.0415 - output2_loss: 0.0074 - output3_loss: 0.0298 - output1_precision: 0.9828 - output1_recall: 0.9896 - output1_auc: 0.9994 - output2_precision: 0.9965 - output2_recall: 0.9965 - output2_auc: 1.0000 - output3_precision: 0.9965 - output3_recall: 0.9931 - output3_auc: 1.0000 - val_loss: 0.5722 - val_output1_loss: 0.2219 - val_output2_loss: 0.2457 - val_output3_loss: 0.1047 - val_output1_precision: 0.9120 - val_output1_recall: 0.9056 - val_output1_auc: 0.9768 - val_output2_precision: 0.9371 - val_output2_recall: 0.9371 - val_output2_auc: 0.9755 - val_output3_precision: 0.9645 - val_output3_recall: 0.9510 - val_output3_auc: 0.9931 - lr: 0.0010\n",
      "Epoch 35/200\n",
      "10/10 [==============================] - 4s 385ms/step - loss: 0.0670 - output1_loss: 0.0311 - output2_loss: 0.0052 - output3_loss: 0.0306 - output1_precision: 0.9897 - output1_recall: 0.9931 - output1_auc: 0.9998 - output2_precision: 1.0000 - output2_recall: 0.9965 - output2_auc: 1.0000 - output3_precision: 0.9965 - output3_recall: 0.9965 - output3_auc: 0.9999 - val_loss: 0.5700 - val_output1_loss: 0.2196 - val_output2_loss: 0.2478 - val_output3_loss: 0.1026 - val_output1_precision: 0.9120 - val_output1_recall: 0.9056 - val_output1_auc: 0.9775 - val_output2_precision: 0.9371 - val_output2_recall: 0.9371 - val_output2_auc: 0.9758 - val_output3_precision: 0.9647 - val_output3_recall: 0.9545 - val_output3_auc: 0.9934 - lr: 0.0010\n",
      "Epoch 36/200\n",
      "10/10 [==============================] - 4s 389ms/step - loss: 0.0652 - output1_loss: 0.0324 - output2_loss: 0.0068 - output3_loss: 0.0261 - output1_precision: 0.9896 - output1_recall: 0.9896 - output1_auc: 0.9998 - output2_precision: 0.9965 - output2_recall: 0.9965 - output2_auc: 1.0000 - output3_precision: 1.0000 - output3_recall: 1.0000 - output3_auc: 1.0000 - val_loss: 0.5825 - val_output1_loss: 0.2244 - val_output2_loss: 0.2558 - val_output3_loss: 0.1023 - val_output1_precision: 0.9120 - val_output1_recall: 0.9056 - val_output1_auc: 0.9773 - val_output2_precision: 0.9371 - val_output2_recall: 0.9371 - val_output2_auc: 0.9747 - val_output3_precision: 0.9647 - val_output3_recall: 0.9545 - val_output3_auc: 0.9935 - lr: 0.0010\n",
      "Epoch 37/200\n",
      "10/10 [==============================] - 4s 385ms/step - loss: 0.0603 - output1_loss: 0.0267 - output2_loss: 0.0050 - output3_loss: 0.0286 - output1_precision: 0.9931 - output1_recall: 0.9965 - output1_auc: 0.9998 - output2_precision: 0.9965 - output2_recall: 0.9965 - output2_auc: 1.0000 - output3_precision: 0.9965 - output3_recall: 0.9965 - output3_auc: 0.9999 - val_loss: 0.5793 - val_output1_loss: 0.2266 - val_output2_loss: 0.2523 - val_output3_loss: 0.1005 - val_output1_precision: 0.9120 - val_output1_recall: 0.9056 - val_output1_auc: 0.9774 - val_output2_precision: 0.9375 - val_output2_recall: 0.9441 - val_output2_auc: 0.9745 - val_output3_precision: 0.9647 - val_output3_recall: 0.9545 - val_output3_auc: 0.9938 - lr: 0.0010\n",
      "Epoch 38/200\n",
      " 9/10 [==========================>...] - ETA: 0s - loss: 0.0620 - output1_loss: 0.0312 - output2_loss: 0.0076 - output3_loss: 0.0233 - output1_precision: 0.9931 - output1_recall: 0.9931 - output1_auc: 0.9999 - output2_precision: 1.0000 - output2_recall: 0.9965 - output2_auc: 1.0000 - output3_precision: 0.9965 - output3_recall: 1.0000 - output3_auc: 1.0000"
     ]
    },
    {
     "name": "stderr",
     "output_type": "stream",
     "text": [
      "WARNING:absl:Found untraced functions such as _jit_compiled_convolution_op, _jit_compiled_convolution_op, _jit_compiled_convolution_op, _jit_compiled_convolution_op, _jit_compiled_convolution_op while saving (showing 5 of 43). These functions will not be directly callable after loading.\n"
     ]
    },
    {
     "name": "stdout",
     "output_type": "stream",
     "text": [
      "INFO:tensorflow:Assets written to: timeseries_transformer\\assets\n"
     ]
    },
    {
     "name": "stderr",
     "output_type": "stream",
     "text": [
      "INFO:tensorflow:Assets written to: timeseries_transformer\\assets\n"
     ]
    },
    {
     "name": "stdout",
     "output_type": "stream",
     "text": [
      "10/10 [==============================] - 7s 796ms/step - loss: 0.0618 - output1_loss: 0.0311 - output2_loss: 0.0076 - output3_loss: 0.0232 - output1_precision: 0.9931 - output1_recall: 0.9931 - output1_auc: 0.9999 - output2_precision: 1.0000 - output2_recall: 0.9965 - output2_auc: 1.0000 - output3_precision: 0.9966 - output3_recall: 1.0000 - output3_auc: 1.0000 - val_loss: 0.5566 - val_output1_loss: 0.2152 - val_output2_loss: 0.2439 - val_output3_loss: 0.0975 - val_output1_precision: 0.9184 - val_output1_recall: 0.9056 - val_output1_auc: 0.9779 - val_output2_precision: 0.9408 - val_output2_recall: 0.9441 - val_output2_auc: 0.9761 - val_output3_precision: 0.9613 - val_output3_recall: 0.9545 - val_output3_auc: 0.9941 - lr: 0.0010\n",
      "Epoch 39/200\n",
      "10/10 [==============================] - 4s 398ms/step - loss: 0.0564 - output1_loss: 0.0252 - output2_loss: 0.0053 - output3_loss: 0.0259 - output1_precision: 0.9931 - output1_recall: 0.9965 - output1_auc: 0.9999 - output2_precision: 1.0000 - output2_recall: 0.9965 - output2_auc: 1.0000 - output3_precision: 0.9966 - output3_recall: 1.0000 - output3_auc: 1.0000 - val_loss: 0.5714 - val_output1_loss: 0.2206 - val_output2_loss: 0.2551 - val_output3_loss: 0.0957 - val_output1_precision: 0.9184 - val_output1_recall: 0.9056 - val_output1_auc: 0.9782 - val_output2_precision: 0.9408 - val_output2_recall: 0.9441 - val_output2_auc: 0.9749 - val_output3_precision: 0.9614 - val_output3_recall: 0.9580 - val_output3_auc: 0.9944 - lr: 0.0010\n",
      "Epoch 40/200\n",
      "10/10 [==============================] - 4s 404ms/step - loss: 0.0574 - output1_loss: 0.0261 - output2_loss: 0.0041 - output3_loss: 0.0272 - output1_precision: 1.0000 - output1_recall: 1.0000 - output1_auc: 1.0000 - output2_precision: 1.0000 - output2_recall: 0.9965 - output2_auc: 1.0000 - output3_precision: 0.9966 - output3_recall: 1.0000 - output3_auc: 1.0000 - val_loss: 0.5800 - val_output1_loss: 0.2265 - val_output2_loss: 0.2562 - val_output3_loss: 0.0974 - val_output1_precision: 0.9088 - val_output1_recall: 0.9056 - val_output1_auc: 0.9771 - val_output2_precision: 0.9408 - val_output2_recall: 0.9441 - val_output2_auc: 0.9749 - val_output3_precision: 0.9615 - val_output3_recall: 0.9615 - val_output3_auc: 0.9947 - lr: 0.0010\n",
      "Epoch 41/200\n",
      "10/10 [==============================] - 4s 381ms/step - loss: 0.0644 - output1_loss: 0.0293 - output2_loss: 0.0051 - output3_loss: 0.0299 - output1_precision: 0.9965 - output1_recall: 0.9896 - output1_auc: 0.9998 - output2_precision: 0.9965 - output2_recall: 0.9965 - output2_auc: 1.0000 - output3_precision: 0.9966 - output3_recall: 1.0000 - output3_auc: 1.0000 - val_loss: 0.5869 - val_output1_loss: 0.2331 - val_output2_loss: 0.2527 - val_output3_loss: 0.1011 - val_output1_precision: 0.9088 - val_output1_recall: 0.9056 - val_output1_auc: 0.9770 - val_output2_precision: 0.9408 - val_output2_recall: 0.9441 - val_output2_auc: 0.9748 - val_output3_precision: 0.9647 - val_output3_recall: 0.9545 - val_output3_auc: 0.9938 - lr: 0.0010\n",
      "Epoch 42/200\n",
      "10/10 [==============================] - 4s 386ms/step - loss: 0.0584 - output1_loss: 0.0269 - output2_loss: 0.0090 - output3_loss: 0.0225 - output1_precision: 0.9897 - output1_recall: 0.9931 - output1_auc: 0.9998 - output2_precision: 0.9965 - output2_recall: 0.9965 - output2_auc: 1.0000 - output3_precision: 0.9966 - output3_recall: 1.0000 - output3_auc: 1.0000 - val_loss: 0.5763 - val_output1_loss: 0.2244 - val_output2_loss: 0.2444 - val_output3_loss: 0.1075 - val_output1_precision: 0.9091 - val_output1_recall: 0.9091 - val_output1_auc: 0.9775 - val_output2_precision: 0.9441 - val_output2_recall: 0.9441 - val_output2_auc: 0.9747 - val_output3_precision: 0.9579 - val_output3_recall: 0.9545 - val_output3_auc: 0.9930 - lr: 0.0010\n",
      "Epoch 43/200\n",
      "10/10 [==============================] - 4s 406ms/step - loss: 0.0573 - output1_loss: 0.0268 - output2_loss: 0.0042 - output3_loss: 0.0263 - output1_precision: 0.9965 - output1_recall: 0.9965 - output1_auc: 1.0000 - output2_precision: 1.0000 - output2_recall: 1.0000 - output2_auc: 1.0000 - output3_precision: 0.9965 - output3_recall: 0.9896 - output3_auc: 0.9999 - val_loss: 0.5799 - val_output1_loss: 0.2126 - val_output2_loss: 0.2577 - val_output3_loss: 0.1096 - val_output1_precision: 0.9155 - val_output1_recall: 0.9091 - val_output1_auc: 0.9792 - val_output2_precision: 0.9408 - val_output2_recall: 0.9441 - val_output2_auc: 0.9734 - val_output3_precision: 0.9648 - val_output3_recall: 0.9580 - val_output3_auc: 0.9930 - lr: 0.0010\n",
      "Epoch 44/200\n",
      "10/10 [==============================] - 4s 454ms/step - loss: 0.0546 - output1_loss: 0.0268 - output2_loss: 0.0026 - output3_loss: 0.0251 - output1_precision: 0.9931 - output1_recall: 0.9896 - output1_auc: 0.9999 - output2_precision: 1.0000 - output2_recall: 1.0000 - output2_auc: 1.0000 - output3_precision: 0.9931 - output3_recall: 0.9965 - output3_auc: 1.0000 - val_loss: 0.5934 - val_output1_loss: 0.2157 - val_output2_loss: 0.2768 - val_output3_loss: 0.1010 - val_output1_precision: 0.9155 - val_output1_recall: 0.9091 - val_output1_auc: 0.9793 - val_output2_precision: 0.9375 - val_output2_recall: 0.9441 - val_output2_auc: 0.9726 - val_output3_precision: 0.9644 - val_output3_recall: 0.9476 - val_output3_auc: 0.9940 - lr: 0.0010\n",
      "Epoch 45/200\n",
      "10/10 [==============================] - 4s 405ms/step - loss: 0.0499 - output1_loss: 0.0234 - output2_loss: 0.0052 - output3_loss: 0.0212 - output1_precision: 0.9965 - output1_recall: 0.9931 - output1_auc: 0.9999 - output2_precision: 0.9965 - output2_recall: 0.9965 - output2_auc: 1.0000 - output3_precision: 0.9965 - output3_recall: 0.9965 - output3_auc: 1.0000 - val_loss: 0.5790 - val_output1_loss: 0.2213 - val_output2_loss: 0.2629 - val_output3_loss: 0.0948 - val_output1_precision: 0.9123 - val_output1_recall: 0.9091 - val_output1_auc: 0.9783 - val_output2_precision: 0.9408 - val_output2_recall: 0.9441 - val_output2_auc: 0.9735 - val_output3_precision: 0.9580 - val_output3_recall: 0.9580 - val_output3_auc: 0.9944 - lr: 0.0010\n",
      "Epoch 46/200\n",
      "10/10 [==============================] - 4s 385ms/step - loss: 0.0445 - output1_loss: 0.0227 - output2_loss: 0.0043 - output3_loss: 0.0175 - output1_precision: 0.9931 - output1_recall: 0.9965 - output1_auc: 1.0000 - output2_precision: 1.0000 - output2_recall: 0.9965 - output2_auc: 1.0000 - output3_precision: 0.9966 - output3_recall: 1.0000 - output3_auc: 1.0000 - val_loss: 0.5789 - val_output1_loss: 0.2223 - val_output2_loss: 0.2644 - val_output3_loss: 0.0921 - val_output1_precision: 0.9126 - val_output1_recall: 0.9126 - val_output1_auc: 0.9782 - val_output2_precision: 0.9408 - val_output2_recall: 0.9441 - val_output2_auc: 0.9735 - val_output3_precision: 0.9614 - val_output3_recall: 0.9580 - val_output3_auc: 0.9946 - lr: 0.0010\n",
      "Epoch 47/200\n",
      "10/10 [==============================] - 4s 386ms/step - loss: 0.0390 - output1_loss: 0.0207 - output2_loss: 0.0026 - output3_loss: 0.0157 - output1_precision: 1.0000 - output1_recall: 0.9965 - output1_auc: 1.0000 - output2_precision: 1.0000 - output2_recall: 1.0000 - output2_auc: 1.0000 - output3_precision: 1.0000 - output3_recall: 1.0000 - output3_auc: 1.0000 - val_loss: 0.5989 - val_output1_loss: 0.2201 - val_output2_loss: 0.2865 - val_output3_loss: 0.0923 - val_output1_precision: 0.9126 - val_output1_recall: 0.9126 - val_output1_auc: 0.9784 - val_output2_precision: 0.9375 - val_output2_recall: 0.9441 - val_output2_auc: 0.9714 - val_output3_precision: 0.9580 - val_output3_recall: 0.9580 - val_output3_auc: 0.9947 - lr: 0.0010\n",
      "Epoch 48/200\n",
      "10/10 [==============================] - 4s 400ms/step - loss: 0.0387 - output1_loss: 0.0196 - output2_loss: 0.0021 - output3_loss: 0.0170 - output1_precision: 0.9965 - output1_recall: 0.9965 - output1_auc: 0.9999 - output2_precision: 1.0000 - output2_recall: 1.0000 - output2_auc: 1.0000 - output3_precision: 1.0000 - output3_recall: 1.0000 - output3_auc: 1.0000 - val_loss: 0.6222 - val_output1_loss: 0.2273 - val_output2_loss: 0.3002 - val_output3_loss: 0.0947 - val_output1_precision: 0.9126 - val_output1_recall: 0.9126 - val_output1_auc: 0.9784 - val_output2_precision: 0.9373 - val_output2_recall: 0.9406 - val_output2_auc: 0.9688 - val_output3_precision: 0.9580 - val_output3_recall: 0.9580 - val_output3_auc: 0.9944 - lr: 0.0010\n"
     ]
    },
    {
     "name": "stdout",
     "output_type": "stream",
     "text": [
      "Epoch 49/200\n",
      "10/10 [==============================] - 4s 383ms/step - loss: 0.0474 - output1_loss: 0.0241 - output2_loss: 0.0018 - output3_loss: 0.0215 - output1_precision: 0.9965 - output1_recall: 0.9931 - output1_auc: 0.9998 - output2_precision: 1.0000 - output2_recall: 1.0000 - output2_auc: 1.0000 - output3_precision: 0.9965 - output3_recall: 0.9965 - output3_auc: 1.0000 - val_loss: 0.5998 - val_output1_loss: 0.2136 - val_output2_loss: 0.2927 - val_output3_loss: 0.0935 - val_output1_precision: 0.9158 - val_output1_recall: 0.9126 - val_output1_auc: 0.9792 - val_output2_precision: 0.9375 - val_output2_recall: 0.9441 - val_output2_auc: 0.9684 - val_output3_precision: 0.9580 - val_output3_recall: 0.9580 - val_output3_auc: 0.9946 - lr: 0.0010\n",
      "Epoch 50/200\n",
      "10/10 [==============================] - 4s 388ms/step - loss: 0.0432 - output1_loss: 0.0212 - output2_loss: 0.0033 - output3_loss: 0.0188 - output1_precision: 0.9966 - output1_recall: 1.0000 - output1_auc: 0.9999 - output2_precision: 1.0000 - output2_recall: 0.9965 - output2_auc: 1.0000 - output3_precision: 0.9966 - output3_recall: 1.0000 - output3_auc: 1.0000 - val_loss: 0.5946 - val_output1_loss: 0.2254 - val_output2_loss: 0.2784 - val_output3_loss: 0.0908 - val_output1_precision: 0.9129 - val_output1_recall: 0.9161 - val_output1_auc: 0.9787 - val_output2_precision: 0.9408 - val_output2_recall: 0.9441 - val_output2_auc: 0.9712 - val_output3_precision: 0.9648 - val_output3_recall: 0.9580 - val_output3_auc: 0.9950 - lr: 0.0010\n",
      "Epoch 51/200\n",
      "10/10 [==============================] - 4s 390ms/step - loss: 0.0427 - output1_loss: 0.0203 - output2_loss: 0.0038 - output3_loss: 0.0186 - output1_precision: 0.9965 - output1_recall: 0.9931 - output1_auc: 1.0000 - output2_precision: 0.9966 - output2_recall: 1.0000 - output2_auc: 1.0000 - output3_precision: 1.0000 - output3_recall: 0.9965 - output3_auc: 1.0000 - val_loss: 0.5819 - val_output1_loss: 0.2251 - val_output2_loss: 0.2665 - val_output3_loss: 0.0903 - val_output1_precision: 0.9161 - val_output1_recall: 0.9161 - val_output1_auc: 0.9790 - val_output2_precision: 0.9441 - val_output2_recall: 0.9441 - val_output2_auc: 0.9738 - val_output3_precision: 0.9684 - val_output3_recall: 0.9650 - val_output3_auc: 0.9952 - lr: 0.0010\n",
      "Epoch 52/200\n",
      "10/10 [==============================] - 4s 395ms/step - loss: 0.0405 - output1_loss: 0.0210 - output2_loss: 0.0036 - output3_loss: 0.0159 - output1_precision: 0.9965 - output1_recall: 0.9965 - output1_auc: 0.9999 - output2_precision: 1.0000 - output2_recall: 0.9965 - output2_auc: 1.0000 - output3_precision: 1.0000 - output3_recall: 1.0000 - output3_auc: 1.0000 - val_loss: 0.5816 - val_output1_loss: 0.2184 - val_output2_loss: 0.2731 - val_output3_loss: 0.0902 - val_output1_precision: 0.9161 - val_output1_recall: 0.9161 - val_output1_auc: 0.9794 - val_output2_precision: 0.9441 - val_output2_recall: 0.9441 - val_output2_auc: 0.9724 - val_output3_precision: 0.9650 - val_output3_recall: 0.9650 - val_output3_auc: 0.9951 - lr: 0.0010\n",
      "Epoch 53/200\n",
      "10/10 [==============================] - 4s 390ms/step - loss: 0.0367 - output1_loss: 0.0189 - output2_loss: 0.0038 - output3_loss: 0.0139 - output1_precision: 1.0000 - output1_recall: 0.9965 - output1_auc: 1.0000 - output2_precision: 0.9965 - output2_recall: 0.9965 - output2_auc: 1.0000 - output3_precision: 1.0000 - output3_recall: 1.0000 - output3_auc: 1.0000 - val_loss: 0.5721 - val_output1_loss: 0.2081 - val_output2_loss: 0.2733 - val_output3_loss: 0.0907 - val_output1_precision: 0.9225 - val_output1_recall: 0.9161 - val_output1_auc: 0.9799 - val_output2_precision: 0.9441 - val_output2_recall: 0.9441 - val_output2_auc: 0.9725 - val_output3_precision: 0.9615 - val_output3_recall: 0.9615 - val_output3_auc: 0.9950 - lr: 0.0010\n",
      "Epoch 54/200\n",
      "10/10 [==============================] - 4s 407ms/step - loss: 0.0338 - output1_loss: 0.0160 - output2_loss: 0.0034 - output3_loss: 0.0145 - output1_precision: 0.9966 - output1_recall: 1.0000 - output1_auc: 1.0000 - output2_precision: 1.0000 - output2_recall: 1.0000 - output2_auc: 1.0000 - output3_precision: 1.0000 - output3_recall: 1.0000 - output3_auc: 1.0000 - val_loss: 0.5699 - val_output1_loss: 0.2254 - val_output2_loss: 0.2520 - val_output3_loss: 0.0925 - val_output1_precision: 0.9164 - val_output1_recall: 0.9196 - val_output1_auc: 0.9771 - val_output2_precision: 0.9441 - val_output2_recall: 0.9441 - val_output2_auc: 0.9735 - val_output3_precision: 0.9614 - val_output3_recall: 0.9580 - val_output3_auc: 0.9947 - lr: 0.0010\n",
      "Epoch 55/200\n",
      "10/10 [==============================] - 4s 407ms/step - loss: 0.0341 - output1_loss: 0.0181 - output2_loss: 0.0027 - output3_loss: 0.0133 - output1_precision: 0.9931 - output1_recall: 0.9965 - output1_auc: 0.9999 - output2_precision: 1.0000 - output2_recall: 1.0000 - output2_auc: 1.0000 - output3_precision: 1.0000 - output3_recall: 1.0000 - output3_auc: 1.0000 - val_loss: 0.5714 - val_output1_loss: 0.2207 - val_output2_loss: 0.2568 - val_output3_loss: 0.0939 - val_output1_precision: 0.9196 - val_output1_recall: 0.9196 - val_output1_auc: 0.9773 - val_output2_precision: 0.9441 - val_output2_recall: 0.9441 - val_output2_auc: 0.9737 - val_output3_precision: 0.9614 - val_output3_recall: 0.9580 - val_output3_auc: 0.9946 - lr: 0.0010\n",
      "Epoch 56/200\n",
      "10/10 [==============================] - 4s 430ms/step - loss: 0.0311 - output1_loss: 0.0150 - output2_loss: 0.0020 - output3_loss: 0.0141 - output1_precision: 1.0000 - output1_recall: 1.0000 - output1_auc: 1.0000 - output2_precision: 1.0000 - output2_recall: 1.0000 - output2_auc: 1.0000 - output3_precision: 1.0000 - output3_recall: 0.9965 - output3_auc: 1.0000 - val_loss: 0.5815 - val_output1_loss: 0.2160 - val_output2_loss: 0.2717 - val_output3_loss: 0.0937 - val_output1_precision: 0.9193 - val_output1_recall: 0.9161 - val_output1_auc: 0.9789 - val_output2_precision: 0.9441 - val_output2_recall: 0.9441 - val_output2_auc: 0.9726 - val_output3_precision: 0.9614 - val_output3_recall: 0.9580 - val_output3_auc: 0.9946 - lr: 0.0010\n",
      "Epoch 57/200\n",
      "10/10 [==============================] - 4s 421ms/step - loss: 0.0301 - output1_loss: 0.0152 - output2_loss: 0.0028 - output3_loss: 0.0121 - output1_precision: 0.9931 - output1_recall: 1.0000 - output1_auc: 1.0000 - output2_precision: 1.0000 - output2_recall: 0.9965 - output2_auc: 1.0000 - output3_precision: 1.0000 - output3_recall: 1.0000 - output3_auc: 1.0000 - val_loss: 0.5974 - val_output1_loss: 0.2171 - val_output2_loss: 0.2873 - val_output3_loss: 0.0930 - val_output1_precision: 0.9193 - val_output1_recall: 0.9161 - val_output1_auc: 0.9776 - val_output2_precision: 0.9441 - val_output2_recall: 0.9441 - val_output2_auc: 0.9701 - val_output3_precision: 0.9614 - val_output3_recall: 0.9580 - val_output3_auc: 0.9947 - lr: 0.0010\n",
      "Epoch 58/200\n",
      "10/10 [==============================] - 4s 403ms/step - loss: 0.0296 - output1_loss: 0.0163 - output2_loss: 0.0016 - output3_loss: 0.0118 - output1_precision: 1.0000 - output1_recall: 0.9965 - output1_auc: 1.0000 - output2_precision: 1.0000 - output2_recall: 1.0000 - output2_auc: 1.0000 - output3_precision: 1.0000 - output3_recall: 1.0000 - output3_auc: 1.0000 - val_loss: 0.6127 - val_output1_loss: 0.2251 - val_output2_loss: 0.2953 - val_output3_loss: 0.0923 - val_output1_precision: 0.9196 - val_output1_recall: 0.9196 - val_output1_auc: 0.9776 - val_output2_precision: 0.9441 - val_output2_recall: 0.9441 - val_output2_auc: 0.9686 - val_output3_precision: 0.9614 - val_output3_recall: 0.9580 - val_output3_auc: 0.9947 - lr: 0.0010\n",
      "Epoch 58: early stopping\n",
      "dict_keys(['loss', 'output1_loss', 'output2_loss', 'output3_loss', 'output1_precision', 'output1_recall', 'output1_auc', 'output2_precision', 'output2_recall', 'output2_auc', 'output3_precision', 'output3_recall', 'output3_auc', 'val_loss', 'val_output1_loss', 'val_output2_loss', 'val_output3_loss', 'val_output1_precision', 'val_output1_recall', 'val_output1_auc', 'val_output2_precision', 'val_output2_recall', 'val_output2_auc', 'val_output3_precision', 'val_output3_recall', 'val_output3_auc', 'lr'])\n",
      "Epoch 1/200\n"
     ]
    },
    {
     "name": "stdout",
     "output_type": "stream",
     "text": [
      "18/18 [==============================] - ETA: 0s - loss: 1.5376 - output1_loss: 0.4666 - output2_loss: 0.4911 - output3_loss: 0.5800 - output1_precision: 0.7739 - output1_recall: 0.7739 - output1_auc: 0.8573 - output2_precision: 0.7363 - output2_recall: 0.7722 - output2_auc: 0.8429 - output3_precision: 0.7914 - output3_recall: 0.5739 - output3_auc: 0.7723"
     ]
    },
    {
     "name": "stderr",
     "output_type": "stream",
     "text": [
      "WARNING:absl:Found untraced functions such as _jit_compiled_convolution_op, _jit_compiled_convolution_op, _jit_compiled_convolution_op, _jit_compiled_convolution_op, _jit_compiled_convolution_op while saving (showing 5 of 43). These functions will not be directly callable after loading.\n"
     ]
    },
    {
     "name": "stdout",
     "output_type": "stream",
     "text": [
      "INFO:tensorflow:Assets written to: timeseries_transformer\\assets\n"
     ]
    },
    {
     "name": "stderr",
     "output_type": "stream",
     "text": [
      "INFO:tensorflow:Assets written to: timeseries_transformer\\assets\n"
     ]
    },
    {
     "name": "stdout",
     "output_type": "stream",
     "text": [
      "18/18 [==============================] - 19s 739ms/step - loss: 1.5376 - output1_loss: 0.4666 - output2_loss: 0.4911 - output3_loss: 0.5800 - output1_precision: 0.7739 - output1_recall: 0.7739 - output1_auc: 0.8573 - output2_precision: 0.7363 - output2_recall: 0.7722 - output2_auc: 0.8429 - output3_precision: 0.7914 - output3_recall: 0.5739 - output3_auc: 0.7723 - val_loss: 1.0300 - val_output1_loss: 0.3838 - val_output2_loss: 0.2808 - val_output3_loss: 0.3654 - val_output1_precision: 0.8287 - val_output1_recall: 0.8287 - val_output1_auc: 0.9240 - val_output2_precision: 0.8863 - val_output2_recall: 0.9266 - val_output2_auc: 0.9597 - val_output3_precision: 0.8902 - val_output3_recall: 0.8217 - val_output3_auc: 0.9282 - lr: 0.0010\n",
      "Epoch 2/200\n",
      "18/18 [==============================] - ETA: 0s - loss: 0.6571 - output1_loss: 0.2387 - output2_loss: 0.1317 - output3_loss: 0.2867 - output1_precision: 0.9117 - output1_recall: 0.8974 - output1_auc: 0.9661 - output2_precision: 0.9567 - output2_recall: 0.9600 - output2_auc: 0.9866 - output3_precision: 0.8756 - output3_recall: 0.8817 - output3_auc: 0.9496"
     ]
    },
    {
     "name": "stderr",
     "output_type": "stream",
     "text": [
      "WARNING:absl:Found untraced functions such as _jit_compiled_convolution_op, _jit_compiled_convolution_op, _jit_compiled_convolution_op, _jit_compiled_convolution_op, _jit_compiled_convolution_op while saving (showing 5 of 43). These functions will not be directly callable after loading.\n"
     ]
    },
    {
     "name": "stdout",
     "output_type": "stream",
     "text": [
      "INFO:tensorflow:Assets written to: timeseries_transformer\\assets\n"
     ]
    },
    {
     "name": "stderr",
     "output_type": "stream",
     "text": [
      "INFO:tensorflow:Assets written to: timeseries_transformer\\assets\n"
     ]
    },
    {
     "name": "stdout",
     "output_type": "stream",
     "text": [
      "18/18 [==============================] - 12s 677ms/step - loss: 0.6571 - output1_loss: 0.2387 - output2_loss: 0.1317 - output3_loss: 0.2867 - output1_precision: 0.9117 - output1_recall: 0.8974 - output1_auc: 0.9661 - output2_precision: 0.9567 - output2_recall: 0.9600 - output2_auc: 0.9866 - output3_precision: 0.8756 - output3_recall: 0.8817 - output3_auc: 0.9496 - val_loss: 0.9457 - val_output1_loss: 0.3183 - val_output2_loss: 0.3522 - val_output3_loss: 0.2751 - val_output1_precision: 0.8688 - val_output1_recall: 0.8566 - val_output1_auc: 0.9421 - val_output2_precision: 0.8993 - val_output2_recall: 0.9056 - val_output2_auc: 0.9555 - val_output3_precision: 0.8925 - val_output3_recall: 0.8706 - val_output3_auc: 0.9560 - lr: 0.0010\n",
      "Epoch 3/200\n",
      "18/18 [==============================] - ETA: 0s - loss: 0.5487 - output1_loss: 0.2037 - output2_loss: 0.1152 - output3_loss: 0.2298 - output1_precision: 0.9243 - output1_recall: 0.9130 - output1_auc: 0.9751 - output2_precision: 0.9703 - output2_recall: 0.9670 - output2_auc: 0.9884 - output3_precision: 0.9092 - output3_recall: 0.9061 - output3_auc: 0.9673"
     ]
    },
    {
     "name": "stderr",
     "output_type": "stream",
     "text": [
      "WARNING:absl:Found untraced functions such as _jit_compiled_convolution_op, _jit_compiled_convolution_op, _jit_compiled_convolution_op, _jit_compiled_convolution_op, _jit_compiled_convolution_op while saving (showing 5 of 43). These functions will not be directly callable after loading.\n"
     ]
    },
    {
     "name": "stdout",
     "output_type": "stream",
     "text": [
      "INFO:tensorflow:Assets written to: timeseries_transformer\\assets\n"
     ]
    },
    {
     "name": "stderr",
     "output_type": "stream",
     "text": [
      "INFO:tensorflow:Assets written to: timeseries_transformer\\assets\n"
     ]
    },
    {
     "name": "stdout",
     "output_type": "stream",
     "text": [
      "18/18 [==============================] - 12s 684ms/step - loss: 0.5487 - output1_loss: 0.2037 - output2_loss: 0.1152 - output3_loss: 0.2298 - output1_precision: 0.9243 - output1_recall: 0.9130 - output1_auc: 0.9751 - output2_precision: 0.9703 - output2_recall: 0.9670 - output2_auc: 0.9884 - output3_precision: 0.9092 - output3_recall: 0.9061 - output3_auc: 0.9673 - val_loss: 0.7427 - val_output1_loss: 0.2655 - val_output2_loss: 0.2440 - val_output3_loss: 0.2332 - val_output1_precision: 0.8912 - val_output1_recall: 0.8881 - val_output1_auc: 0.9582 - val_output2_precision: 0.9138 - val_output2_recall: 0.9266 - val_output2_auc: 0.9639 - val_output3_precision: 0.9209 - val_output3_recall: 0.8951 - val_output3_auc: 0.9717 - lr: 0.0010\n",
      "Epoch 4/200\n",
      "18/18 [==============================] - ETA: 0s - loss: 0.4820 - output1_loss: 0.1745 - output2_loss: 0.1036 - output3_loss: 0.2039 - output1_precision: 0.9355 - output1_recall: 0.9339 - output1_auc: 0.9817 - output2_precision: 0.9720 - output2_recall: 0.9652 - output2_auc: 0.9925 - output3_precision: 0.9212 - output3_recall: 0.9148 - output3_auc: 0.9752"
     ]
    },
    {
     "name": "stderr",
     "output_type": "stream",
     "text": [
      "WARNING:absl:Found untraced functions such as _jit_compiled_convolution_op, _jit_compiled_convolution_op, _jit_compiled_convolution_op, _jit_compiled_convolution_op, _jit_compiled_convolution_op while saving (showing 5 of 43). These functions will not be directly callable after loading.\n"
     ]
    },
    {
     "name": "stdout",
     "output_type": "stream",
     "text": [
      "INFO:tensorflow:Assets written to: timeseries_transformer\\assets\n"
     ]
    },
    {
     "name": "stderr",
     "output_type": "stream",
     "text": [
      "INFO:tensorflow:Assets written to: timeseries_transformer\\assets\n"
     ]
    },
    {
     "name": "stdout",
     "output_type": "stream",
     "text": [
      "18/18 [==============================] - 12s 668ms/step - loss: 0.4820 - output1_loss: 0.1745 - output2_loss: 0.1036 - output3_loss: 0.2039 - output1_precision: 0.9355 - output1_recall: 0.9339 - output1_auc: 0.9817 - output2_precision: 0.9720 - output2_recall: 0.9652 - output2_auc: 0.9925 - output3_precision: 0.9212 - output3_recall: 0.9148 - output3_auc: 0.9752 - val_loss: 0.6894 - val_output1_loss: 0.2466 - val_output2_loss: 0.2325 - val_output3_loss: 0.2103 - val_output1_precision: 0.8986 - val_output1_recall: 0.8986 - val_output1_auc: 0.9642 - val_output2_precision: 0.9172 - val_output2_recall: 0.9301 - val_output2_auc: 0.9667 - val_output3_precision: 0.9386 - val_output3_recall: 0.9091 - val_output3_auc: 0.9770 - lr: 0.0010\n",
      "Epoch 5/200\n",
      "18/18 [==============================] - 7s 412ms/step - loss: 0.4063 - output1_loss: 0.1589 - output2_loss: 0.0752 - output3_loss: 0.1722 - output1_precision: 0.9397 - output1_recall: 0.9478 - output1_auc: 0.9847 - output2_precision: 0.9774 - output2_recall: 0.9757 - output2_auc: 0.9961 - output3_precision: 0.9354 - output3_recall: 0.9322 - output3_auc: 0.9834 - val_loss: 0.6911 - val_output1_loss: 0.2370 - val_output2_loss: 0.2637 - val_output3_loss: 0.1904 - val_output1_precision: 0.9014 - val_output1_recall: 0.8951 - val_output1_auc: 0.9671 - val_output2_precision: 0.9103 - val_output2_recall: 0.9231 - val_output2_auc: 0.9669 - val_output3_precision: 0.9424 - val_output3_recall: 0.9161 - val_output3_auc: 0.9803 - lr: 0.0010\n",
      "Epoch 6/200\n",
      "18/18 [==============================] - ETA: 0s - loss: 0.3791 - output1_loss: 0.1437 - output2_loss: 0.0837 - output3_loss: 0.1517 - output1_precision: 0.9406 - output1_recall: 0.9357 - output1_auc: 0.9883 - output2_precision: 0.9705 - output2_recall: 0.9739 - output2_auc: 0.9956 - output3_precision: 0.9445 - output3_recall: 0.9478 - output3_auc: 0.9867"
     ]
    },
    {
     "name": "stderr",
     "output_type": "stream",
     "text": [
      "WARNING:absl:Found untraced functions such as _jit_compiled_convolution_op, _jit_compiled_convolution_op, _jit_compiled_convolution_op, _jit_compiled_convolution_op, _jit_compiled_convolution_op while saving (showing 5 of 43). These functions will not be directly callable after loading.\n"
     ]
    },
    {
     "name": "stdout",
     "output_type": "stream",
     "text": [
      "INFO:tensorflow:Assets written to: timeseries_transformer\\assets\n"
     ]
    },
    {
     "name": "stderr",
     "output_type": "stream",
     "text": [
      "INFO:tensorflow:Assets written to: timeseries_transformer\\assets\n"
     ]
    },
    {
     "name": "stdout",
     "output_type": "stream",
     "text": [
      "18/18 [==============================] - 11s 624ms/step - loss: 0.3791 - output1_loss: 0.1437 - output2_loss: 0.0837 - output3_loss: 0.1517 - output1_precision: 0.9406 - output1_recall: 0.9357 - output1_auc: 0.9883 - output2_precision: 0.9705 - output2_recall: 0.9739 - output2_auc: 0.9956 - output3_precision: 0.9445 - output3_recall: 0.9478 - output3_auc: 0.9867 - val_loss: 0.6216 - val_output1_loss: 0.2169 - val_output2_loss: 0.2300 - val_output3_loss: 0.1747 - val_output1_precision: 0.9018 - val_output1_recall: 0.8986 - val_output1_auc: 0.9723 - val_output2_precision: 0.9239 - val_output2_recall: 0.9336 - val_output2_auc: 0.9693 - val_output3_precision: 0.9531 - val_output3_recall: 0.9231 - val_output3_auc: 0.9840 - lr: 0.0010\n",
      "Epoch 7/200\n",
      "18/18 [==============================] - ETA: 0s - loss: 0.3441 - output1_loss: 0.1283 - output2_loss: 0.0763 - output3_loss: 0.1395 - output1_precision: 0.9533 - output1_recall: 0.9583 - output1_auc: 0.9906 - output2_precision: 0.9740 - output2_recall: 0.9774 - output2_auc: 0.9950 - output3_precision: 0.9578 - output3_recall: 0.9478 - output3_auc: 0.9898"
     ]
    },
    {
     "name": "stderr",
     "output_type": "stream",
     "text": [
      "WARNING:absl:Found untraced functions such as _jit_compiled_convolution_op, _jit_compiled_convolution_op, _jit_compiled_convolution_op, _jit_compiled_convolution_op, _jit_compiled_convolution_op while saving (showing 5 of 43). These functions will not be directly callable after loading.\n"
     ]
    },
    {
     "name": "stdout",
     "output_type": "stream",
     "text": [
      "INFO:tensorflow:Assets written to: timeseries_transformer\\assets\n"
     ]
    },
    {
     "name": "stderr",
     "output_type": "stream",
     "text": [
      "INFO:tensorflow:Assets written to: timeseries_transformer\\assets\n"
     ]
    },
    {
     "name": "stdout",
     "output_type": "stream",
     "text": [
      "18/18 [==============================] - 18s 1s/step - loss: 0.3441 - output1_loss: 0.1283 - output2_loss: 0.0763 - output3_loss: 0.1395 - output1_precision: 0.9533 - output1_recall: 0.9583 - output1_auc: 0.9906 - output2_precision: 0.9740 - output2_recall: 0.9774 - output2_auc: 0.9950 - output3_precision: 0.9578 - output3_recall: 0.9478 - output3_auc: 0.9898 - val_loss: 0.5904 - val_output1_loss: 0.2074 - val_output2_loss: 0.2255 - val_output3_loss: 0.1574 - val_output1_precision: 0.9110 - val_output1_recall: 0.8951 - val_output1_auc: 0.9746 - val_output2_precision: 0.9271 - val_output2_recall: 0.9336 - val_output2_auc: 0.9713 - val_output3_precision: 0.9500 - val_output3_recall: 0.9301 - val_output3_auc: 0.9867 - lr: 0.0010\n",
      "Epoch 8/200\n",
      "18/18 [==============================] - ETA: 0s - loss: 0.3151 - output1_loss: 0.1176 - output2_loss: 0.0760 - output3_loss: 0.1216 - output1_precision: 0.9580 - output1_recall: 0.9513 - output1_auc: 0.9919 - output2_precision: 0.9773 - output2_recall: 0.9739 - output2_auc: 0.9955 - output3_precision: 0.9578 - output3_recall: 0.9478 - output3_auc: 0.9922"
     ]
    },
    {
     "name": "stderr",
     "output_type": "stream",
     "text": [
      "WARNING:absl:Found untraced functions such as _jit_compiled_convolution_op, _jit_compiled_convolution_op, _jit_compiled_convolution_op, _jit_compiled_convolution_op, _jit_compiled_convolution_op while saving (showing 5 of 43). These functions will not be directly callable after loading.\n"
     ]
    },
    {
     "name": "stdout",
     "output_type": "stream",
     "text": [
      "INFO:tensorflow:Assets written to: timeseries_transformer\\assets\n"
     ]
    },
    {
     "name": "stderr",
     "output_type": "stream",
     "text": [
      "INFO:tensorflow:Assets written to: timeseries_transformer\\assets\n"
     ]
    },
    {
     "name": "stdout",
     "output_type": "stream",
     "text": [
      "18/18 [==============================] - 11s 626ms/step - loss: 0.3151 - output1_loss: 0.1176 - output2_loss: 0.0760 - output3_loss: 0.1216 - output1_precision: 0.9580 - output1_recall: 0.9513 - output1_auc: 0.9919 - output2_precision: 0.9773 - output2_recall: 0.9739 - output2_auc: 0.9955 - output3_precision: 0.9578 - output3_recall: 0.9478 - output3_auc: 0.9922 - val_loss: 0.5383 - val_output1_loss: 0.1939 - val_output2_loss: 0.1996 - val_output3_loss: 0.1449 - val_output1_precision: 0.9155 - val_output1_recall: 0.9091 - val_output1_auc: 0.9776 - val_output2_precision: 0.9303 - val_output2_recall: 0.9336 - val_output2_auc: 0.9762 - val_output3_precision: 0.9536 - val_output3_recall: 0.9336 - val_output3_auc: 0.9886 - lr: 0.0010\n",
      "Epoch 9/200\n",
      "18/18 [==============================] - ETA: 0s - loss: 0.2741 - output1_loss: 0.1024 - output2_loss: 0.0603 - output3_loss: 0.1115 - output1_precision: 0.9602 - output1_recall: 0.9652 - output1_auc: 0.9942 - output2_precision: 0.9808 - output2_recall: 0.9757 - output2_auc: 0.9980 - output3_precision: 0.9652 - output3_recall: 0.9635 - output3_auc: 0.9932"
     ]
    },
    {
     "name": "stderr",
     "output_type": "stream",
     "text": [
      "WARNING:absl:Found untraced functions such as _jit_compiled_convolution_op, _jit_compiled_convolution_op, _jit_compiled_convolution_op, _jit_compiled_convolution_op, _jit_compiled_convolution_op while saving (showing 5 of 43). These functions will not be directly callable after loading.\n"
     ]
    },
    {
     "name": "stdout",
     "output_type": "stream",
     "text": [
      "INFO:tensorflow:Assets written to: timeseries_transformer\\assets\n"
     ]
    },
    {
     "name": "stderr",
     "output_type": "stream",
     "text": [
      "INFO:tensorflow:Assets written to: timeseries_transformer\\assets\n"
     ]
    },
    {
     "name": "stdout",
     "output_type": "stream",
     "text": [
      "18/18 [==============================] - 11s 611ms/step - loss: 0.2741 - output1_loss: 0.1024 - output2_loss: 0.0603 - output3_loss: 0.1115 - output1_precision: 0.9602 - output1_recall: 0.9652 - output1_auc: 0.9942 - output2_precision: 0.9808 - output2_recall: 0.9757 - output2_auc: 0.9980 - output3_precision: 0.9652 - output3_recall: 0.9635 - output3_auc: 0.9932 - val_loss: 0.5279 - val_output1_loss: 0.1922 - val_output2_loss: 0.1979 - val_output3_loss: 0.1379 - val_output1_precision: 0.9158 - val_output1_recall: 0.9126 - val_output1_auc: 0.9778 - val_output2_precision: 0.9303 - val_output2_recall: 0.9336 - val_output2_auc: 0.9779 - val_output3_precision: 0.9502 - val_output3_recall: 0.9336 - val_output3_auc: 0.9898 - lr: 0.0010\n",
      "Epoch 10/200\n",
      "18/18 [==============================] - ETA: 0s - loss: 0.2541 - output1_loss: 0.1026 - output2_loss: 0.0626 - output3_loss: 0.0889 - output1_precision: 0.9604 - output1_recall: 0.9704 - output1_auc: 0.9941 - output2_precision: 0.9791 - output2_recall: 0.9791 - output2_auc: 0.9965 - output3_precision: 0.9724 - output3_recall: 0.9791 - output3_auc: 0.9963"
     ]
    },
    {
     "name": "stderr",
     "output_type": "stream",
     "text": [
      "WARNING:absl:Found untraced functions such as _jit_compiled_convolution_op, _jit_compiled_convolution_op, _jit_compiled_convolution_op, _jit_compiled_convolution_op, _jit_compiled_convolution_op while saving (showing 5 of 43). These functions will not be directly callable after loading.\n"
     ]
    },
    {
     "name": "stdout",
     "output_type": "stream",
     "text": [
      "INFO:tensorflow:Assets written to: timeseries_transformer\\assets\n"
     ]
    },
    {
     "name": "stderr",
     "output_type": "stream",
     "text": [
      "INFO:tensorflow:Assets written to: timeseries_transformer\\assets\n"
     ]
    },
    {
     "name": "stdout",
     "output_type": "stream",
     "text": [
      "18/18 [==============================] - 11s 610ms/step - loss: 0.2541 - output1_loss: 0.1026 - output2_loss: 0.0626 - output3_loss: 0.0889 - output1_precision: 0.9604 - output1_recall: 0.9704 - output1_auc: 0.9941 - output2_precision: 0.9791 - output2_recall: 0.9791 - output2_auc: 0.9965 - output3_precision: 0.9724 - output3_recall: 0.9791 - output3_auc: 0.9963 - val_loss: 0.4934 - val_output1_loss: 0.1845 - val_output2_loss: 0.1777 - val_output3_loss: 0.1313 - val_output1_precision: 0.9196 - val_output1_recall: 0.9196 - val_output1_auc: 0.9794 - val_output2_precision: 0.9338 - val_output2_recall: 0.9371 - val_output2_auc: 0.9815 - val_output3_precision: 0.9502 - val_output3_recall: 0.9336 - val_output3_auc: 0.9906 - lr: 0.0010\n",
      "Epoch 11/200\n",
      "18/18 [==============================] - ETA: 0s - loss: 0.2410 - output1_loss: 0.0945 - output2_loss: 0.0544 - output3_loss: 0.0921 - output1_precision: 0.9685 - output1_recall: 0.9617 - output1_auc: 0.9949 - output2_precision: 0.9826 - output2_recall: 0.9843 - output2_auc: 0.9985 - output3_precision: 0.9721 - output3_recall: 0.9704 - output3_auc: 0.9956"
     ]
    },
    {
     "name": "stderr",
     "output_type": "stream",
     "text": [
      "WARNING:absl:Found untraced functions such as _jit_compiled_convolution_op, _jit_compiled_convolution_op, _jit_compiled_convolution_op, _jit_compiled_convolution_op, _jit_compiled_convolution_op while saving (showing 5 of 43). These functions will not be directly callable after loading.\n"
     ]
    },
    {
     "name": "stdout",
     "output_type": "stream",
     "text": [
      "INFO:tensorflow:Assets written to: timeseries_transformer\\assets\n"
     ]
    },
    {
     "name": "stderr",
     "output_type": "stream",
     "text": [
      "INFO:tensorflow:Assets written to: timeseries_transformer\\assets\n"
     ]
    },
    {
     "name": "stdout",
     "output_type": "stream",
     "text": [
      "18/18 [==============================] - 11s 612ms/step - loss: 0.2410 - output1_loss: 0.0945 - output2_loss: 0.0544 - output3_loss: 0.0921 - output1_precision: 0.9685 - output1_recall: 0.9617 - output1_auc: 0.9949 - output2_precision: 0.9826 - output2_recall: 0.9843 - output2_auc: 0.9985 - output3_precision: 0.9721 - output3_recall: 0.9704 - output3_auc: 0.9956 - val_loss: 0.4676 - val_output1_loss: 0.1804 - val_output2_loss: 0.1658 - val_output3_loss: 0.1213 - val_output1_precision: 0.9193 - val_output1_recall: 0.9161 - val_output1_auc: 0.9797 - val_output2_precision: 0.9340 - val_output2_recall: 0.9406 - val_output2_auc: 0.9837 - val_output3_precision: 0.9609 - val_output3_recall: 0.9441 - val_output3_auc: 0.9924 - lr: 0.0010\n",
      "Epoch 12/200\n",
      "18/18 [==============================] - ETA: 0s - loss: 0.2357 - output1_loss: 0.0912 - output2_loss: 0.0648 - output3_loss: 0.0797 - output1_precision: 0.9670 - output1_recall: 0.9670 - output1_auc: 0.9957 - output2_precision: 0.9791 - output2_recall: 0.9791 - output2_auc: 0.9974 - output3_precision: 0.9790 - output3_recall: 0.9722 - output3_auc: 0.9977"
     ]
    },
    {
     "name": "stderr",
     "output_type": "stream",
     "text": [
      "WARNING:absl:Found untraced functions such as _jit_compiled_convolution_op, _jit_compiled_convolution_op, _jit_compiled_convolution_op, _jit_compiled_convolution_op, _jit_compiled_convolution_op while saving (showing 5 of 43). These functions will not be directly callable after loading.\n"
     ]
    },
    {
     "name": "stdout",
     "output_type": "stream",
     "text": [
      "INFO:tensorflow:Assets written to: timeseries_transformer\\assets\n"
     ]
    },
    {
     "name": "stderr",
     "output_type": "stream",
     "text": [
      "INFO:tensorflow:Assets written to: timeseries_transformer\\assets\n"
     ]
    },
    {
     "name": "stdout",
     "output_type": "stream",
     "text": [
      "18/18 [==============================] - 10s 601ms/step - loss: 0.2357 - output1_loss: 0.0912 - output2_loss: 0.0648 - output3_loss: 0.0797 - output1_precision: 0.9670 - output1_recall: 0.9670 - output1_auc: 0.9957 - output2_precision: 0.9791 - output2_recall: 0.9791 - output2_auc: 0.9974 - output3_precision: 0.9790 - output3_recall: 0.9722 - output3_auc: 0.9977 - val_loss: 0.4548 - val_output1_loss: 0.1743 - val_output2_loss: 0.1565 - val_output3_loss: 0.1240 - val_output1_precision: 0.9296 - val_output1_recall: 0.9231 - val_output1_auc: 0.9810 - val_output2_precision: 0.9375 - val_output2_recall: 0.9441 - val_output2_auc: 0.9862 - val_output3_precision: 0.9573 - val_output3_recall: 0.9406 - val_output3_auc: 0.9918 - lr: 0.0010\n",
      "Epoch 13/200\n",
      "18/18 [==============================] - ETA: 0s - loss: 0.2066 - output1_loss: 0.0794 - output2_loss: 0.0551 - output3_loss: 0.0721 - output1_precision: 0.9686 - output1_recall: 0.9670 - output1_auc: 0.9967 - output2_precision: 0.9826 - output2_recall: 0.9809 - output2_auc: 0.9982 - output3_precision: 0.9739 - output3_recall: 0.9722 - output3_auc: 0.9977"
     ]
    },
    {
     "name": "stderr",
     "output_type": "stream",
     "text": [
      "WARNING:absl:Found untraced functions such as _jit_compiled_convolution_op, _jit_compiled_convolution_op, _jit_compiled_convolution_op, _jit_compiled_convolution_op, _jit_compiled_convolution_op while saving (showing 5 of 43). These functions will not be directly callable after loading.\n"
     ]
    },
    {
     "name": "stdout",
     "output_type": "stream",
     "text": [
      "INFO:tensorflow:Assets written to: timeseries_transformer\\assets\n"
     ]
    },
    {
     "name": "stderr",
     "output_type": "stream",
     "text": [
      "INFO:tensorflow:Assets written to: timeseries_transformer\\assets\n"
     ]
    },
    {
     "name": "stdout",
     "output_type": "stream",
     "text": [
      "18/18 [==============================] - 11s 612ms/step - loss: 0.2066 - output1_loss: 0.0794 - output2_loss: 0.0551 - output3_loss: 0.0721 - output1_precision: 0.9686 - output1_recall: 0.9670 - output1_auc: 0.9967 - output2_precision: 0.9826 - output2_recall: 0.9809 - output2_auc: 0.9982 - output3_precision: 0.9739 - output3_recall: 0.9722 - output3_auc: 0.9977 - val_loss: 0.4354 - val_output1_loss: 0.1745 - val_output2_loss: 0.1449 - val_output3_loss: 0.1160 - val_output1_precision: 0.9261 - val_output1_recall: 0.9196 - val_output1_auc: 0.9805 - val_output2_precision: 0.9408 - val_output2_recall: 0.9441 - val_output2_auc: 0.9878 - val_output3_precision: 0.9576 - val_output3_recall: 0.9476 - val_output3_auc: 0.9927 - lr: 0.0010\n",
      "Epoch 14/200\n",
      "18/18 [==============================] - ETA: 0s - loss: 0.1805 - output1_loss: 0.0745 - output2_loss: 0.0440 - output3_loss: 0.0620 - output1_precision: 0.9773 - output1_recall: 0.9722 - output1_auc: 0.9974 - output2_precision: 0.9860 - output2_recall: 0.9826 - output2_auc: 0.9992 - output3_precision: 0.9844 - output3_recall: 0.9878 - output3_auc: 0.9985"
     ]
    },
    {
     "name": "stderr",
     "output_type": "stream",
     "text": [
      "WARNING:absl:Found untraced functions such as _jit_compiled_convolution_op, _jit_compiled_convolution_op, _jit_compiled_convolution_op, _jit_compiled_convolution_op, _jit_compiled_convolution_op while saving (showing 5 of 43). These functions will not be directly callable after loading.\n"
     ]
    },
    {
     "name": "stdout",
     "output_type": "stream",
     "text": [
      "INFO:tensorflow:Assets written to: timeseries_transformer\\assets\n"
     ]
    },
    {
     "name": "stderr",
     "output_type": "stream",
     "text": [
      "INFO:tensorflow:Assets written to: timeseries_transformer\\assets\n"
     ]
    },
    {
     "name": "stdout",
     "output_type": "stream",
     "text": [
      "18/18 [==============================] - 11s 645ms/step - loss: 0.1805 - output1_loss: 0.0745 - output2_loss: 0.0440 - output3_loss: 0.0620 - output1_precision: 0.9773 - output1_recall: 0.9722 - output1_auc: 0.9974 - output2_precision: 0.9860 - output2_recall: 0.9826 - output2_auc: 0.9992 - output3_precision: 0.9844 - output3_recall: 0.9878 - output3_auc: 0.9985 - val_loss: 0.4134 - val_output1_loss: 0.1654 - val_output2_loss: 0.1386 - val_output3_loss: 0.1094 - val_output1_precision: 0.9401 - val_output1_recall: 0.9336 - val_output1_auc: 0.9830 - val_output2_precision: 0.9408 - val_output2_recall: 0.9441 - val_output2_auc: 0.9889 - val_output3_precision: 0.9574 - val_output3_recall: 0.9441 - val_output3_auc: 0.9937 - lr: 0.0010\n",
      "Epoch 15/200\n",
      "18/18 [==============================] - ETA: 0s - loss: 0.1813 - output1_loss: 0.0699 - output2_loss: 0.0477 - output3_loss: 0.0637 - output1_precision: 0.9757 - output1_recall: 0.9757 - output1_auc: 0.9979 - output2_precision: 0.9843 - output2_recall: 0.9843 - output2_auc: 0.9987 - output3_precision: 0.9791 - output3_recall: 0.9774 - output3_auc: 0.9983"
     ]
    },
    {
     "name": "stderr",
     "output_type": "stream",
     "text": [
      "WARNING:absl:Found untraced functions such as _jit_compiled_convolution_op, _jit_compiled_convolution_op, _jit_compiled_convolution_op, _jit_compiled_convolution_op, _jit_compiled_convolution_op while saving (showing 5 of 43). These functions will not be directly callable after loading.\n"
     ]
    },
    {
     "name": "stdout",
     "output_type": "stream",
     "text": [
      "INFO:tensorflow:Assets written to: timeseries_transformer\\assets\n"
     ]
    },
    {
     "name": "stderr",
     "output_type": "stream",
     "text": [
      "INFO:tensorflow:Assets written to: timeseries_transformer\\assets\n"
     ]
    },
    {
     "name": "stdout",
     "output_type": "stream",
     "text": [
      "18/18 [==============================] - 11s 612ms/step - loss: 0.1813 - output1_loss: 0.0699 - output2_loss: 0.0477 - output3_loss: 0.0637 - output1_precision: 0.9757 - output1_recall: 0.9757 - output1_auc: 0.9979 - output2_precision: 0.9843 - output2_recall: 0.9843 - output2_auc: 0.9987 - output3_precision: 0.9791 - output3_recall: 0.9774 - output3_auc: 0.9983 - val_loss: 0.4130 - val_output1_loss: 0.1683 - val_output2_loss: 0.1340 - val_output3_loss: 0.1107 - val_output1_precision: 0.9228 - val_output1_recall: 0.9196 - val_output1_auc: 0.9811 - val_output2_precision: 0.9443 - val_output2_recall: 0.9476 - val_output2_auc: 0.9894 - val_output3_precision: 0.9609 - val_output3_recall: 0.9441 - val_output3_auc: 0.9934 - lr: 0.0010\n",
      "Epoch 16/200\n",
      "18/18 [==============================] - 7s 386ms/step - loss: 0.1635 - output1_loss: 0.0684 - output2_loss: 0.0383 - output3_loss: 0.0568 - output1_precision: 0.9756 - output1_recall: 0.9739 - output1_auc: 0.9974 - output2_precision: 0.9861 - output2_recall: 0.9843 - output2_auc: 0.9994 - output3_precision: 0.9809 - output3_recall: 0.9843 - output3_auc: 0.9988 - val_loss: 0.4162 - val_output1_loss: 0.1591 - val_output2_loss: 0.1435 - val_output3_loss: 0.1137 - val_output1_precision: 0.9441 - val_output1_recall: 0.9441 - val_output1_auc: 0.9848 - val_output2_precision: 0.9443 - val_output2_recall: 0.9476 - val_output2_auc: 0.9890 - val_output3_precision: 0.9607 - val_output3_recall: 0.9406 - val_output3_auc: 0.9929 - lr: 0.0010\n",
      "Epoch 17/200\n",
      "18/18 [==============================] - ETA: 0s - loss: 0.1558 - output1_loss: 0.0605 - output2_loss: 0.0414 - output3_loss: 0.0539 - output1_precision: 0.9791 - output1_recall: 0.9774 - output1_auc: 0.9986 - output2_precision: 0.9826 - output2_recall: 0.9826 - output2_auc: 0.9991 - output3_precision: 0.9843 - output3_recall: 0.9826 - output3_auc: 0.9989"
     ]
    },
    {
     "name": "stderr",
     "output_type": "stream",
     "text": [
      "WARNING:absl:Found untraced functions such as _jit_compiled_convolution_op, _jit_compiled_convolution_op, _jit_compiled_convolution_op, _jit_compiled_convolution_op, _jit_compiled_convolution_op while saving (showing 5 of 43). These functions will not be directly callable after loading.\n"
     ]
    },
    {
     "name": "stdout",
     "output_type": "stream",
     "text": [
      "INFO:tensorflow:Assets written to: timeseries_transformer\\assets\n"
     ]
    },
    {
     "name": "stderr",
     "output_type": "stream",
     "text": [
      "INFO:tensorflow:Assets written to: timeseries_transformer\\assets\n"
     ]
    },
    {
     "name": "stdout",
     "output_type": "stream",
     "text": [
      "18/18 [==============================] - 10s 591ms/step - loss: 0.1558 - output1_loss: 0.0605 - output2_loss: 0.0414 - output3_loss: 0.0539 - output1_precision: 0.9791 - output1_recall: 0.9774 - output1_auc: 0.9986 - output2_precision: 0.9826 - output2_recall: 0.9826 - output2_auc: 0.9991 - output3_precision: 0.9843 - output3_recall: 0.9826 - output3_auc: 0.9989 - val_loss: 0.3995 - val_output1_loss: 0.1617 - val_output2_loss: 0.1295 - val_output3_loss: 0.1082 - val_output1_precision: 0.9333 - val_output1_recall: 0.9301 - val_output1_auc: 0.9835 - val_output2_precision: 0.9477 - val_output2_recall: 0.9510 - val_output2_auc: 0.9905 - val_output3_precision: 0.9574 - val_output3_recall: 0.9441 - val_output3_auc: 0.9934 - lr: 0.0010\n",
      "Epoch 18/200\n",
      "18/18 [==============================] - ETA: 0s - loss: 0.1492 - output1_loss: 0.0559 - output2_loss: 0.0438 - output3_loss: 0.0495 - output1_precision: 0.9860 - output1_recall: 0.9826 - output1_auc: 0.9987 - output2_precision: 0.9843 - output2_recall: 0.9843 - output2_auc: 0.9990 - output3_precision: 0.9843 - output3_recall: 0.9843 - output3_auc: 0.9991"
     ]
    },
    {
     "name": "stderr",
     "output_type": "stream",
     "text": [
      "WARNING:absl:Found untraced functions such as _jit_compiled_convolution_op, _jit_compiled_convolution_op, _jit_compiled_convolution_op, _jit_compiled_convolution_op, _jit_compiled_convolution_op while saving (showing 5 of 43). These functions will not be directly callable after loading.\n"
     ]
    },
    {
     "name": "stdout",
     "output_type": "stream",
     "text": [
      "INFO:tensorflow:Assets written to: timeseries_transformer\\assets\n"
     ]
    },
    {
     "name": "stderr",
     "output_type": "stream",
     "text": [
      "INFO:tensorflow:Assets written to: timeseries_transformer\\assets\n"
     ]
    },
    {
     "name": "stdout",
     "output_type": "stream",
     "text": [
      "18/18 [==============================] - 11s 609ms/step - loss: 0.1492 - output1_loss: 0.0559 - output2_loss: 0.0438 - output3_loss: 0.0495 - output1_precision: 0.9860 - output1_recall: 0.9826 - output1_auc: 0.9987 - output2_precision: 0.9843 - output2_recall: 0.9843 - output2_auc: 0.9990 - output3_precision: 0.9843 - output3_recall: 0.9843 - output3_auc: 0.9991 - val_loss: 0.3860 - val_output1_loss: 0.1588 - val_output2_loss: 0.1194 - val_output3_loss: 0.1079 - val_output1_precision: 0.9435 - val_output1_recall: 0.9336 - val_output1_auc: 0.9841 - val_output2_precision: 0.9514 - val_output2_recall: 0.9580 - val_output2_auc: 0.9921 - val_output3_precision: 0.9576 - val_output3_recall: 0.9476 - val_output3_auc: 0.9935 - lr: 0.0010\n",
      "Epoch 19/200\n",
      "18/18 [==============================] - ETA: 0s - loss: 0.1484 - output1_loss: 0.0607 - output2_loss: 0.0440 - output3_loss: 0.0437 - output1_precision: 0.9843 - output1_recall: 0.9809 - output1_auc: 0.9980 - output2_precision: 0.9861 - output2_recall: 0.9843 - output2_auc: 0.9990 - output3_precision: 0.9860 - output3_recall: 0.9826 - output3_auc: 0.9994"
     ]
    },
    {
     "name": "stderr",
     "output_type": "stream",
     "text": [
      "WARNING:absl:Found untraced functions such as _jit_compiled_convolution_op, _jit_compiled_convolution_op, _jit_compiled_convolution_op, _jit_compiled_convolution_op, _jit_compiled_convolution_op while saving (showing 5 of 43). These functions will not be directly callable after loading.\n"
     ]
    },
    {
     "name": "stdout",
     "output_type": "stream",
     "text": [
      "INFO:tensorflow:Assets written to: timeseries_transformer\\assets\n"
     ]
    },
    {
     "name": "stderr",
     "output_type": "stream",
     "text": [
      "INFO:tensorflow:Assets written to: timeseries_transformer\\assets\n"
     ]
    },
    {
     "name": "stdout",
     "output_type": "stream",
     "text": [
      "18/18 [==============================] - 11s 615ms/step - loss: 0.1484 - output1_loss: 0.0607 - output2_loss: 0.0440 - output3_loss: 0.0437 - output1_precision: 0.9843 - output1_recall: 0.9809 - output1_auc: 0.9980 - output2_precision: 0.9861 - output2_recall: 0.9843 - output2_auc: 0.9990 - output3_precision: 0.9860 - output3_recall: 0.9826 - output3_auc: 0.9994 - val_loss: 0.3784 - val_output1_loss: 0.1573 - val_output2_loss: 0.1142 - val_output3_loss: 0.1068 - val_output1_precision: 0.9437 - val_output1_recall: 0.9371 - val_output1_auc: 0.9844 - val_output2_precision: 0.9481 - val_output2_recall: 0.9580 - val_output2_auc: 0.9927 - val_output3_precision: 0.9576 - val_output3_recall: 0.9476 - val_output3_auc: 0.9936 - lr: 0.0010\n",
      "Epoch 20/200\n",
      "18/18 [==============================] - 7s 378ms/step - loss: 0.1262 - output1_loss: 0.0519 - output2_loss: 0.0356 - output3_loss: 0.0387 - output1_precision: 0.9827 - output1_recall: 0.9896 - output1_auc: 0.9988 - output2_precision: 0.9843 - output2_recall: 0.9826 - output2_auc: 0.9995 - output3_precision: 0.9896 - output3_recall: 0.9913 - output3_auc: 0.9994 - val_loss: 0.3816 - val_output1_loss: 0.1593 - val_output2_loss: 0.1171 - val_output3_loss: 0.1051 - val_output1_precision: 0.9443 - val_output1_recall: 0.9476 - val_output1_auc: 0.9840 - val_output2_precision: 0.9512 - val_output2_recall: 0.9545 - val_output2_auc: 0.9927 - val_output3_precision: 0.9576 - val_output3_recall: 0.9476 - val_output3_auc: 0.9938 - lr: 0.0010\n",
      "Epoch 21/200\n",
      "18/18 [==============================] - ETA: 0s - loss: 0.1313 - output1_loss: 0.0518 - output2_loss: 0.0383 - output3_loss: 0.0412 - output1_precision: 0.9758 - output1_recall: 0.9809 - output1_auc: 0.9989 - output2_precision: 0.9843 - output2_recall: 0.9826 - output2_auc: 0.9993 - output3_precision: 0.9913 - output3_recall: 0.9930 - output3_auc: 0.9994"
     ]
    },
    {
     "name": "stderr",
     "output_type": "stream",
     "text": [
      "WARNING:absl:Found untraced functions such as _jit_compiled_convolution_op, _jit_compiled_convolution_op, _jit_compiled_convolution_op, _jit_compiled_convolution_op, _jit_compiled_convolution_op while saving (showing 5 of 43). These functions will not be directly callable after loading.\n"
     ]
    },
    {
     "name": "stdout",
     "output_type": "stream",
     "text": [
      "INFO:tensorflow:Assets written to: timeseries_transformer\\assets\n"
     ]
    },
    {
     "name": "stderr",
     "output_type": "stream",
     "text": [
      "INFO:tensorflow:Assets written to: timeseries_transformer\\assets\n"
     ]
    },
    {
     "name": "stdout",
     "output_type": "stream",
     "text": [
      "18/18 [==============================] - 11s 607ms/step - loss: 0.1313 - output1_loss: 0.0518 - output2_loss: 0.0383 - output3_loss: 0.0412 - output1_precision: 0.9758 - output1_recall: 0.9809 - output1_auc: 0.9989 - output2_precision: 0.9843 - output2_recall: 0.9826 - output2_auc: 0.9993 - output3_precision: 0.9913 - output3_recall: 0.9930 - output3_auc: 0.9994 - val_loss: 0.3691 - val_output1_loss: 0.1636 - val_output2_loss: 0.1067 - val_output3_loss: 0.0988 - val_output1_precision: 0.9410 - val_output1_recall: 0.9476 - val_output1_auc: 0.9828 - val_output2_precision: 0.9448 - val_output2_recall: 0.9580 - val_output2_auc: 0.9938 - val_output3_precision: 0.9607 - val_output3_recall: 0.9406 - val_output3_auc: 0.9944 - lr: 0.0010\n",
      "Epoch 22/200\n",
      "18/18 [==============================] - ETA: 0s - loss: 0.1139 - output1_loss: 0.0506 - output2_loss: 0.0291 - output3_loss: 0.0343 - output1_precision: 0.9860 - output1_recall: 0.9774 - output1_auc: 0.9990 - output2_precision: 0.9913 - output2_recall: 0.9896 - output2_auc: 0.9998 - output3_precision: 0.9930 - output3_recall: 0.9930 - output3_auc: 0.9998"
     ]
    },
    {
     "name": "stderr",
     "output_type": "stream",
     "text": [
      "WARNING:absl:Found untraced functions such as _jit_compiled_convolution_op, _jit_compiled_convolution_op, _jit_compiled_convolution_op, _jit_compiled_convolution_op, _jit_compiled_convolution_op while saving (showing 5 of 43). These functions will not be directly callable after loading.\n"
     ]
    },
    {
     "name": "stdout",
     "output_type": "stream",
     "text": [
      "INFO:tensorflow:Assets written to: timeseries_transformer\\assets\n"
     ]
    },
    {
     "name": "stderr",
     "output_type": "stream",
     "text": [
      "INFO:tensorflow:Assets written to: timeseries_transformer\\assets\n"
     ]
    },
    {
     "name": "stdout",
     "output_type": "stream",
     "text": [
      "18/18 [==============================] - 11s 620ms/step - loss: 0.1139 - output1_loss: 0.0506 - output2_loss: 0.0291 - output3_loss: 0.0343 - output1_precision: 0.9860 - output1_recall: 0.9774 - output1_auc: 0.9990 - output2_precision: 0.9913 - output2_recall: 0.9896 - output2_auc: 0.9998 - output3_precision: 0.9930 - output3_recall: 0.9930 - output3_auc: 0.9998 - val_loss: 0.3633 - val_output1_loss: 0.1594 - val_output2_loss: 0.1043 - val_output3_loss: 0.0996 - val_output1_precision: 0.9441 - val_output1_recall: 0.9441 - val_output1_auc: 0.9832 - val_output2_precision: 0.9547 - val_output2_recall: 0.9580 - val_output2_auc: 0.9940 - val_output3_precision: 0.9573 - val_output3_recall: 0.9406 - val_output3_auc: 0.9943 - lr: 0.0010\n",
      "Epoch 23/200\n",
      "18/18 [==============================] - 7s 404ms/step - loss: 0.1032 - output1_loss: 0.0451 - output2_loss: 0.0279 - output3_loss: 0.0302 - output1_precision: 0.9878 - output1_recall: 0.9878 - output1_auc: 0.9994 - output2_precision: 0.9896 - output2_recall: 0.9896 - output2_auc: 0.9997 - output3_precision: 0.9948 - output3_recall: 0.9983 - output3_auc: 0.9999 - val_loss: 0.3647 - val_output1_loss: 0.1552 - val_output2_loss: 0.1099 - val_output3_loss: 0.0997 - val_output1_precision: 0.9441 - val_output1_recall: 0.9441 - val_output1_auc: 0.9838 - val_output2_precision: 0.9549 - val_output2_recall: 0.9615 - val_output2_auc: 0.9938 - val_output3_precision: 0.9576 - val_output3_recall: 0.9476 - val_output3_auc: 0.9944 - lr: 0.0010\n",
      "Epoch 24/200\n",
      "18/18 [==============================] - ETA: 0s - loss: 0.1008 - output1_loss: 0.0406 - output2_loss: 0.0311 - output3_loss: 0.0291 - output1_precision: 0.9913 - output1_recall: 0.9861 - output1_auc: 0.9992 - output2_precision: 0.9895 - output2_recall: 0.9878 - output2_auc: 0.9995 - output3_precision: 0.9948 - output3_recall: 0.9983 - output3_auc: 0.9996"
     ]
    },
    {
     "name": "stderr",
     "output_type": "stream",
     "text": [
      "WARNING:absl:Found untraced functions such as _jit_compiled_convolution_op, _jit_compiled_convolution_op, _jit_compiled_convolution_op, _jit_compiled_convolution_op, _jit_compiled_convolution_op while saving (showing 5 of 43). These functions will not be directly callable after loading.\n"
     ]
    },
    {
     "name": "stdout",
     "output_type": "stream",
     "text": [
      "INFO:tensorflow:Assets written to: timeseries_transformer\\assets\n"
     ]
    },
    {
     "name": "stderr",
     "output_type": "stream",
     "text": [
      "INFO:tensorflow:Assets written to: timeseries_transformer\\assets\n"
     ]
    },
    {
     "name": "stdout",
     "output_type": "stream",
     "text": [
      "18/18 [==============================] - 64s 4s/step - loss: 0.1008 - output1_loss: 0.0406 - output2_loss: 0.0311 - output3_loss: 0.0291 - output1_precision: 0.9913 - output1_recall: 0.9861 - output1_auc: 0.9992 - output2_precision: 0.9895 - output2_recall: 0.9878 - output2_auc: 0.9995 - output3_precision: 0.9948 - output3_recall: 0.9983 - output3_auc: 0.9996 - val_loss: 0.3532 - val_output1_loss: 0.1562 - val_output2_loss: 0.1015 - val_output3_loss: 0.0955 - val_output1_precision: 0.9474 - val_output1_recall: 0.9441 - val_output1_auc: 0.9838 - val_output2_precision: 0.9547 - val_output2_recall: 0.9580 - val_output2_auc: 0.9942 - val_output3_precision: 0.9576 - val_output3_recall: 0.9476 - val_output3_auc: 0.9947 - lr: 0.0010\n",
      "Epoch 25/200\n",
      "18/18 [==============================] - 9s 499ms/step - loss: 0.0907 - output1_loss: 0.0373 - output2_loss: 0.0212 - output3_loss: 0.0323 - output1_precision: 0.9879 - output1_recall: 0.9913 - output1_auc: 0.9995 - output2_precision: 0.9948 - output2_recall: 0.9965 - output2_auc: 1.0000 - output3_precision: 0.9948 - output3_recall: 0.9930 - output3_auc: 0.9996 - val_loss: 0.3577 - val_output1_loss: 0.1577 - val_output2_loss: 0.1036 - val_output3_loss: 0.0964 - val_output1_precision: 0.9443 - val_output1_recall: 0.9476 - val_output1_auc: 0.9834 - val_output2_precision: 0.9547 - val_output2_recall: 0.9580 - val_output2_auc: 0.9941 - val_output3_precision: 0.9610 - val_output3_recall: 0.9476 - val_output3_auc: 0.9946 - lr: 0.0010\n",
      "Epoch 26/200\n",
      "18/18 [==============================] - 8s 466ms/step - loss: 0.0972 - output1_loss: 0.0395 - output2_loss: 0.0278 - output3_loss: 0.0299 - output1_precision: 0.9896 - output1_recall: 0.9913 - output1_auc: 0.9992 - output2_precision: 0.9896 - output2_recall: 0.9896 - output2_auc: 0.9997 - output3_precision: 0.9930 - output3_recall: 0.9930 - output3_auc: 0.9998 - val_loss: 0.3532 - val_output1_loss: 0.1582 - val_output2_loss: 0.0989 - val_output3_loss: 0.0960 - val_output1_precision: 0.9443 - val_output1_recall: 0.9476 - val_output1_auc: 0.9838 - val_output2_precision: 0.9547 - val_output2_recall: 0.9580 - val_output2_auc: 0.9944 - val_output3_precision: 0.9577 - val_output3_recall: 0.9510 - val_output3_auc: 0.9947 - lr: 0.0010\n",
      "Epoch 27/200\n",
      "18/18 [==============================] - ETA: 0s - loss: 0.0843 - output1_loss: 0.0309 - output2_loss: 0.0268 - output3_loss: 0.0265 - output1_precision: 0.9913 - output1_recall: 0.9930 - output1_auc: 0.9998 - output2_precision: 0.9913 - output2_recall: 0.9896 - output2_auc: 0.9998 - output3_precision: 0.9948 - output3_recall: 0.9930 - output3_auc: 0.9998"
     ]
    },
    {
     "name": "stderr",
     "output_type": "stream",
     "text": [
      "WARNING:absl:Found untraced functions such as _jit_compiled_convolution_op, _jit_compiled_convolution_op, _jit_compiled_convolution_op, _jit_compiled_convolution_op, _jit_compiled_convolution_op while saving (showing 5 of 43). These functions will not be directly callable after loading.\n"
     ]
    },
    {
     "name": "stdout",
     "output_type": "stream",
     "text": [
      "INFO:tensorflow:Assets written to: timeseries_transformer\\assets\n"
     ]
    },
    {
     "name": "stderr",
     "output_type": "stream",
     "text": [
      "INFO:tensorflow:Assets written to: timeseries_transformer\\assets\n"
     ]
    },
    {
     "name": "stdout",
     "output_type": "stream",
     "text": [
      "18/18 [==============================] - 12s 685ms/step - loss: 0.0843 - output1_loss: 0.0309 - output2_loss: 0.0268 - output3_loss: 0.0265 - output1_precision: 0.9913 - output1_recall: 0.9930 - output1_auc: 0.9998 - output2_precision: 0.9913 - output2_recall: 0.9896 - output2_auc: 0.9998 - output3_precision: 0.9948 - output3_recall: 0.9930 - output3_auc: 0.9998 - val_loss: 0.3439 - val_output1_loss: 0.1573 - val_output2_loss: 0.0958 - val_output3_loss: 0.0908 - val_output1_precision: 0.9441 - val_output1_recall: 0.9441 - val_output1_auc: 0.9841 - val_output2_precision: 0.9550 - val_output2_recall: 0.9650 - val_output2_auc: 0.9949 - val_output3_precision: 0.9648 - val_output3_recall: 0.9580 - val_output3_auc: 0.9950 - lr: 0.0010\n",
      "Epoch 28/200\n",
      "18/18 [==============================] - 8s 458ms/step - loss: 0.0802 - output1_loss: 0.0369 - output2_loss: 0.0220 - output3_loss: 0.0214 - output1_precision: 0.9844 - output1_recall: 0.9878 - output1_auc: 0.9995 - output2_precision: 0.9913 - output2_recall: 0.9896 - output2_auc: 0.9999 - output3_precision: 0.9983 - output3_recall: 0.9930 - output3_auc: 0.9999 - val_loss: 0.3521 - val_output1_loss: 0.1597 - val_output2_loss: 0.0967 - val_output3_loss: 0.0958 - val_output1_precision: 0.9441 - val_output1_recall: 0.9441 - val_output1_auc: 0.9835 - val_output2_precision: 0.9552 - val_output2_recall: 0.9685 - val_output2_auc: 0.9949 - val_output3_precision: 0.9577 - val_output3_recall: 0.9510 - val_output3_auc: 0.9947 - lr: 0.0010\n",
      "Epoch 29/200\n",
      "18/18 [==============================] - 9s 477ms/step - loss: 0.0852 - output1_loss: 0.0391 - output2_loss: 0.0205 - output3_loss: 0.0256 - output1_precision: 0.9878 - output1_recall: 0.9861 - output1_auc: 0.9994 - output2_precision: 0.9930 - output2_recall: 0.9913 - output2_auc: 0.9998 - output3_precision: 0.9948 - output3_recall: 0.9896 - output3_auc: 0.9998 - val_loss: 0.3460 - val_output1_loss: 0.1551 - val_output2_loss: 0.0942 - val_output3_loss: 0.0966 - val_output1_precision: 0.9441 - val_output1_recall: 0.9441 - val_output1_auc: 0.9849 - val_output2_precision: 0.9552 - val_output2_recall: 0.9685 - val_output2_auc: 0.9951 - val_output3_precision: 0.9611 - val_output3_recall: 0.9510 - val_output3_auc: 0.9947 - lr: 0.0010\n",
      "Epoch 30/200\n",
      "18/18 [==============================] - ETA: 0s - loss: 0.0747 - output1_loss: 0.0290 - output2_loss: 0.0199 - output3_loss: 0.0258 - output1_precision: 0.9948 - output1_recall: 0.9913 - output1_auc: 0.9999 - output2_precision: 0.9965 - output2_recall: 0.9948 - output2_auc: 0.9999 - output3_precision: 0.9931 - output3_recall: 0.9965 - output3_auc: 0.9998"
     ]
    },
    {
     "name": "stderr",
     "output_type": "stream",
     "text": [
      "WARNING:absl:Found untraced functions such as _jit_compiled_convolution_op, _jit_compiled_convolution_op, _jit_compiled_convolution_op, _jit_compiled_convolution_op, _jit_compiled_convolution_op while saving (showing 5 of 43). These functions will not be directly callable after loading.\n"
     ]
    },
    {
     "name": "stdout",
     "output_type": "stream",
     "text": [
      "INFO:tensorflow:Assets written to: timeseries_transformer\\assets\n"
     ]
    },
    {
     "name": "stderr",
     "output_type": "stream",
     "text": [
      "INFO:tensorflow:Assets written to: timeseries_transformer\\assets\n"
     ]
    },
    {
     "name": "stdout",
     "output_type": "stream",
     "text": [
      "18/18 [==============================] - 12s 683ms/step - loss: 0.0747 - output1_loss: 0.0290 - output2_loss: 0.0199 - output3_loss: 0.0258 - output1_precision: 0.9948 - output1_recall: 0.9913 - output1_auc: 0.9999 - output2_precision: 0.9965 - output2_recall: 0.9948 - output2_auc: 0.9999 - output3_precision: 0.9931 - output3_recall: 0.9965 - output3_auc: 0.9998 - val_loss: 0.3390 - val_output1_loss: 0.1538 - val_output2_loss: 0.0925 - val_output3_loss: 0.0927 - val_output1_precision: 0.9441 - val_output1_recall: 0.9441 - val_output1_auc: 0.9857 - val_output2_precision: 0.9550 - val_output2_recall: 0.9650 - val_output2_auc: 0.9955 - val_output3_precision: 0.9610 - val_output3_recall: 0.9476 - val_output3_auc: 0.9948 - lr: 0.0010\n",
      "Epoch 31/200\n",
      "18/18 [==============================] - 9s 494ms/step - loss: 0.0663 - output1_loss: 0.0314 - output2_loss: 0.0164 - output3_loss: 0.0184 - output1_precision: 0.9930 - output1_recall: 0.9930 - output1_auc: 0.9996 - output2_precision: 0.9931 - output2_recall: 0.9965 - output2_auc: 0.9999 - output3_precision: 0.9983 - output3_recall: 1.0000 - output3_auc: 1.0000 - val_loss: 0.3494 - val_output1_loss: 0.1598 - val_output2_loss: 0.0962 - val_output3_loss: 0.0934 - val_output1_precision: 0.9408 - val_output1_recall: 0.9441 - val_output1_auc: 0.9835 - val_output2_precision: 0.9583 - val_output2_recall: 0.9650 - val_output2_auc: 0.9952 - val_output3_precision: 0.9614 - val_output3_recall: 0.9580 - val_output3_auc: 0.9950 - lr: 0.0010\n",
      "Epoch 32/200\n",
      "18/18 [==============================] - 9s 484ms/step - loss: 0.0644 - output1_loss: 0.0275 - output2_loss: 0.0186 - output3_loss: 0.0183 - output1_precision: 0.9983 - output1_recall: 0.9983 - output1_auc: 0.9999 - output2_precision: 0.9982 - output2_recall: 0.9913 - output2_auc: 0.9999 - output3_precision: 0.9965 - output3_recall: 0.9965 - output3_auc: 1.0000 - val_loss: 0.3422 - val_output1_loss: 0.1599 - val_output2_loss: 0.0905 - val_output3_loss: 0.0918 - val_output1_precision: 0.9443 - val_output1_recall: 0.9476 - val_output1_auc: 0.9840 - val_output2_precision: 0.9550 - val_output2_recall: 0.9650 - val_output2_auc: 0.9955 - val_output3_precision: 0.9682 - val_output3_recall: 0.9580 - val_output3_auc: 0.9952 - lr: 0.0010\n",
      "Epoch 33/200\n",
      "18/18 [==============================] - ETA: 0s - loss: 0.0625 - output1_loss: 0.0233 - output2_loss: 0.0208 - output3_loss: 0.0183 - output1_precision: 0.9948 - output1_recall: 0.9965 - output1_auc: 0.9999 - output2_precision: 0.9930 - output2_recall: 0.9878 - output2_auc: 0.9998 - output3_precision: 0.9983 - output3_recall: 0.9983 - output3_auc: 1.0000"
     ]
    },
    {
     "name": "stderr",
     "output_type": "stream",
     "text": [
      "WARNING:absl:Found untraced functions such as _jit_compiled_convolution_op, _jit_compiled_convolution_op, _jit_compiled_convolution_op, _jit_compiled_convolution_op, _jit_compiled_convolution_op while saving (showing 5 of 43). These functions will not be directly callable after loading.\n"
     ]
    },
    {
     "name": "stdout",
     "output_type": "stream",
     "text": [
      "INFO:tensorflow:Assets written to: timeseries_transformer\\assets\n"
     ]
    },
    {
     "name": "stderr",
     "output_type": "stream",
     "text": [
      "INFO:tensorflow:Assets written to: timeseries_transformer\\assets\n"
     ]
    },
    {
     "name": "stdout",
     "output_type": "stream",
     "text": [
      "18/18 [==============================] - 12s 705ms/step - loss: 0.0625 - output1_loss: 0.0233 - output2_loss: 0.0208 - output3_loss: 0.0183 - output1_precision: 0.9948 - output1_recall: 0.9965 - output1_auc: 0.9999 - output2_precision: 0.9930 - output2_recall: 0.9878 - output2_auc: 0.9998 - output3_precision: 0.9983 - output3_recall: 0.9983 - output3_auc: 1.0000 - val_loss: 0.3351 - val_output1_loss: 0.1576 - val_output2_loss: 0.0859 - val_output3_loss: 0.0916 - val_output1_precision: 0.9408 - val_output1_recall: 0.9441 - val_output1_auc: 0.9835 - val_output2_precision: 0.9582 - val_output2_recall: 0.9615 - val_output2_auc: 0.9960 - val_output3_precision: 0.9681 - val_output3_recall: 0.9545 - val_output3_auc: 0.9952 - lr: 0.0010\n",
      "Epoch 34/200\n",
      "18/18 [==============================] - 8s 474ms/step - loss: 0.0620 - output1_loss: 0.0253 - output2_loss: 0.0204 - output3_loss: 0.0163 - output1_precision: 0.9896 - output1_recall: 0.9913 - output1_auc: 0.9999 - output2_precision: 0.9948 - output2_recall: 0.9896 - output2_auc: 0.9998 - output3_precision: 0.9983 - output3_recall: 1.0000 - output3_auc: 1.0000 - val_loss: 0.3401 - val_output1_loss: 0.1620 - val_output2_loss: 0.0887 - val_output3_loss: 0.0893 - val_output1_precision: 0.9441 - val_output1_recall: 0.9441 - val_output1_auc: 0.9817 - val_output2_precision: 0.9618 - val_output2_recall: 0.9685 - val_output2_auc: 0.9959 - val_output3_precision: 0.9613 - val_output3_recall: 0.9545 - val_output3_auc: 0.9952 - lr: 0.0010\n",
      "Epoch 35/200\n",
      "18/18 [==============================] - 8s 470ms/step - loss: 0.0602 - output1_loss: 0.0267 - output2_loss: 0.0156 - output3_loss: 0.0178 - output1_precision: 0.9965 - output1_recall: 0.9896 - output1_auc: 0.9999 - output2_precision: 0.9983 - output2_recall: 0.9965 - output2_auc: 1.0000 - output3_precision: 0.9948 - output3_recall: 0.9983 - output3_auc: 0.9999 - val_loss: 0.3506 - val_output1_loss: 0.1702 - val_output2_loss: 0.0869 - val_output3_loss: 0.0935 - val_output1_precision: 0.9371 - val_output1_recall: 0.9371 - val_output1_auc: 0.9811 - val_output2_precision: 0.9583 - val_output2_recall: 0.9650 - val_output2_auc: 0.9960 - val_output3_precision: 0.9613 - val_output3_recall: 0.9545 - val_output3_auc: 0.9950 - lr: 0.0010\n",
      "Epoch 36/200\n",
      "18/18 [==============================] - 8s 457ms/step - loss: 0.0537 - output1_loss: 0.0244 - output2_loss: 0.0143 - output3_loss: 0.0150 - output1_precision: 0.9930 - output1_recall: 0.9913 - output1_auc: 0.9998 - output2_precision: 1.0000 - output2_recall: 0.9983 - output2_auc: 1.0000 - output3_precision: 1.0000 - output3_recall: 1.0000 - output3_auc: 1.0000 - val_loss: 0.3494 - val_output1_loss: 0.1691 - val_output2_loss: 0.0891 - val_output3_loss: 0.0913 - val_output1_precision: 0.9373 - val_output1_recall: 0.9406 - val_output1_auc: 0.9814 - val_output2_precision: 0.9582 - val_output2_recall: 0.9615 - val_output2_auc: 0.9958 - val_output3_precision: 0.9577 - val_output3_recall: 0.9510 - val_output3_auc: 0.9951 - lr: 0.0010\n",
      "Epoch 37/200\n",
      "18/18 [==============================] - 8s 461ms/step - loss: 0.0455 - output1_loss: 0.0186 - output2_loss: 0.0130 - output3_loss: 0.0140 - output1_precision: 0.9983 - output1_recall: 0.9983 - output1_auc: 1.0000 - output2_precision: 0.9965 - output2_recall: 0.9965 - output2_auc: 0.9999 - output3_precision: 1.0000 - output3_recall: 0.9983 - output3_auc: 1.0000 - val_loss: 0.3494 - val_output1_loss: 0.1685 - val_output2_loss: 0.0886 - val_output3_loss: 0.0924 - val_output1_precision: 0.9408 - val_output1_recall: 0.9441 - val_output1_auc: 0.9814 - val_output2_precision: 0.9582 - val_output2_recall: 0.9615 - val_output2_auc: 0.9959 - val_output3_precision: 0.9613 - val_output3_recall: 0.9545 - val_output3_auc: 0.9952 - lr: 0.0010\n",
      "Epoch 38/200\n",
      "18/18 [==============================] - 8s 444ms/step - loss: 0.0465 - output1_loss: 0.0197 - output2_loss: 0.0157 - output3_loss: 0.0111 - output1_precision: 0.9965 - output1_recall: 0.9948 - output1_auc: 0.9999 - output2_precision: 0.9965 - output2_recall: 0.9965 - output2_auc: 0.9999 - output3_precision: 1.0000 - output3_recall: 1.0000 - output3_auc: 1.0000 - val_loss: 0.3489 - val_output1_loss: 0.1724 - val_output2_loss: 0.0875 - val_output3_loss: 0.0890 - val_output1_precision: 0.9375 - val_output1_recall: 0.9441 - val_output1_auc: 0.9814 - val_output2_precision: 0.9582 - val_output2_recall: 0.9615 - val_output2_auc: 0.9960 - val_output3_precision: 0.9579 - val_output3_recall: 0.9545 - val_output3_auc: 0.9954 - lr: 0.0010\n",
      "Epoch 39/200\n",
      "18/18 [==============================] - 8s 451ms/step - loss: 0.0376 - output1_loss: 0.0162 - output2_loss: 0.0098 - output3_loss: 0.0116 - output1_precision: 1.0000 - output1_recall: 0.9965 - output1_auc: 1.0000 - output2_precision: 1.0000 - output2_recall: 1.0000 - output2_auc: 1.0000 - output3_precision: 1.0000 - output3_recall: 1.0000 - output3_auc: 1.0000 - val_loss: 0.3473 - val_output1_loss: 0.1722 - val_output2_loss: 0.0862 - val_output3_loss: 0.0890 - val_output1_precision: 0.9373 - val_output1_recall: 0.9406 - val_output1_auc: 0.9815 - val_output2_precision: 0.9583 - val_output2_recall: 0.9650 - val_output2_auc: 0.9960 - val_output3_precision: 0.9580 - val_output3_recall: 0.9580 - val_output3_auc: 0.9955 - lr: 0.0010\n",
      "Epoch 40/200\n",
      "18/18 [==============================] - 8s 467ms/step - loss: 0.0421 - output1_loss: 0.0184 - output2_loss: 0.0135 - output3_loss: 0.0102 - output1_precision: 0.9983 - output1_recall: 0.9983 - output1_auc: 1.0000 - output2_precision: 0.9983 - output2_recall: 0.9983 - output2_auc: 1.0000 - output3_precision: 1.0000 - output3_recall: 1.0000 - output3_auc: 1.0000 - val_loss: 0.3511 - val_output1_loss: 0.1745 - val_output2_loss: 0.0840 - val_output3_loss: 0.0927 - val_output1_precision: 0.9404 - val_output1_recall: 0.9371 - val_output1_auc: 0.9814 - val_output2_precision: 0.9583 - val_output2_recall: 0.9650 - val_output2_auc: 0.9963 - val_output3_precision: 0.9613 - val_output3_recall: 0.9545 - val_output3_auc: 0.9952 - lr: 0.0010\n",
      "Epoch 41/200\n",
      "18/18 [==============================] - 9s 484ms/step - loss: 0.0421 - output1_loss: 0.0142 - output2_loss: 0.0166 - output3_loss: 0.0113 - output1_precision: 1.0000 - output1_recall: 1.0000 - output1_auc: 1.0000 - output2_precision: 0.9965 - output2_recall: 0.9965 - output2_auc: 1.0000 - output3_precision: 1.0000 - output3_recall: 1.0000 - output3_auc: 1.0000 - val_loss: 0.3519 - val_output1_loss: 0.1733 - val_output2_loss: 0.0854 - val_output3_loss: 0.0932 - val_output1_precision: 0.9375 - val_output1_recall: 0.9441 - val_output1_auc: 0.9816 - val_output2_precision: 0.9583 - val_output2_recall: 0.9650 - val_output2_auc: 0.9962 - val_output3_precision: 0.9614 - val_output3_recall: 0.9580 - val_output3_auc: 0.9952 - lr: 0.0010\n",
      "Epoch 42/200\n",
      "18/18 [==============================] - 8s 470ms/step - loss: 0.0366 - output1_loss: 0.0150 - output2_loss: 0.0112 - output3_loss: 0.0104 - output1_precision: 0.9965 - output1_recall: 0.9983 - output1_auc: 1.0000 - output2_precision: 1.0000 - output2_recall: 0.9930 - output2_auc: 1.0000 - output3_precision: 1.0000 - output3_recall: 1.0000 - output3_auc: 1.0000 - val_loss: 0.3550 - val_output1_loss: 0.1754 - val_output2_loss: 0.0866 - val_output3_loss: 0.0931 - val_output1_precision: 0.9375 - val_output1_recall: 0.9441 - val_output1_auc: 0.9817 - val_output2_precision: 0.9550 - val_output2_recall: 0.9650 - val_output2_auc: 0.9961 - val_output3_precision: 0.9611 - val_output3_recall: 0.9510 - val_output3_auc: 0.9951 - lr: 0.0010\n",
      "Epoch 43/200\n",
      "18/18 [==============================] - 8s 470ms/step - loss: 0.0330 - output1_loss: 0.0124 - output2_loss: 0.0103 - output3_loss: 0.0104 - output1_precision: 0.9983 - output1_recall: 1.0000 - output1_auc: 1.0000 - output2_precision: 0.9983 - output2_recall: 0.9983 - output2_auc: 1.0000 - output3_precision: 1.0000 - output3_recall: 1.0000 - output3_auc: 1.0000 - val_loss: 0.3670 - val_output1_loss: 0.1848 - val_output2_loss: 0.0888 - val_output3_loss: 0.0934 - val_output1_precision: 0.9406 - val_output1_recall: 0.9406 - val_output1_auc: 0.9811 - val_output2_precision: 0.9550 - val_output2_recall: 0.9650 - val_output2_auc: 0.9961 - val_output3_precision: 0.9579 - val_output3_recall: 0.9545 - val_output3_auc: 0.9952 - lr: 0.0010\n"
     ]
    },
    {
     "name": "stdout",
     "output_type": "stream",
     "text": [
      "Epoch 44/200\n",
      "18/18 [==============================] - 8s 460ms/step - loss: 0.0324 - output1_loss: 0.0124 - output2_loss: 0.0098 - output3_loss: 0.0102 - output1_precision: 1.0000 - output1_recall: 0.9983 - output1_auc: 1.0000 - output2_precision: 1.0000 - output2_recall: 0.9983 - output2_auc: 1.0000 - output3_precision: 0.9983 - output3_recall: 0.9983 - output3_auc: 1.0000 - val_loss: 0.3627 - val_output1_loss: 0.1846 - val_output2_loss: 0.0849 - val_output3_loss: 0.0932 - val_output1_precision: 0.9375 - val_output1_recall: 0.9441 - val_output1_auc: 0.9813 - val_output2_precision: 0.9583 - val_output2_recall: 0.9650 - val_output2_auc: 0.9963 - val_output3_precision: 0.9577 - val_output3_recall: 0.9510 - val_output3_auc: 0.9952 - lr: 0.0010\n",
      "Epoch 45/200\n",
      "18/18 [==============================] - 8s 464ms/step - loss: 0.0328 - output1_loss: 0.0131 - output2_loss: 0.0093 - output3_loss: 0.0104 - output1_precision: 0.9983 - output1_recall: 0.9983 - output1_auc: 1.0000 - output2_precision: 0.9983 - output2_recall: 0.9983 - output2_auc: 1.0000 - output3_precision: 1.0000 - output3_recall: 1.0000 - output3_auc: 1.0000 - val_loss: 0.3572 - val_output1_loss: 0.1809 - val_output2_loss: 0.0829 - val_output3_loss: 0.0934 - val_output1_precision: 0.9371 - val_output1_recall: 0.9371 - val_output1_auc: 0.9813 - val_output2_precision: 0.9583 - val_output2_recall: 0.9650 - val_output2_auc: 0.9964 - val_output3_precision: 0.9611 - val_output3_recall: 0.9510 - val_output3_auc: 0.9952 - lr: 0.0010\n",
      "Epoch 46/200\n",
      "18/18 [==============================] - 8s 459ms/step - loss: 0.0365 - output1_loss: 0.0135 - output2_loss: 0.0120 - output3_loss: 0.0111 - output1_precision: 0.9965 - output1_recall: 0.9983 - output1_auc: 1.0000 - output2_precision: 0.9983 - output2_recall: 0.9983 - output2_auc: 1.0000 - output3_precision: 1.0000 - output3_recall: 1.0000 - output3_auc: 1.0000 - val_loss: 0.3503 - val_output1_loss: 0.1786 - val_output2_loss: 0.0794 - val_output3_loss: 0.0923 - val_output1_precision: 0.9336 - val_output1_recall: 0.9336 - val_output1_auc: 0.9828 - val_output2_precision: 0.9618 - val_output2_recall: 0.9685 - val_output2_auc: 0.9965 - val_output3_precision: 0.9579 - val_output3_recall: 0.9545 - val_output3_auc: 0.9953 - lr: 0.0010\n",
      "Epoch 47/200\n",
      "18/18 [==============================] - 8s 469ms/step - loss: 0.0316 - output1_loss: 0.0135 - output2_loss: 0.0096 - output3_loss: 0.0085 - output1_precision: 0.9983 - output1_recall: 0.9983 - output1_auc: 1.0000 - output2_precision: 0.9965 - output2_recall: 0.9983 - output2_auc: 1.0000 - output3_precision: 0.9983 - output3_recall: 0.9983 - output3_auc: 1.0000 - val_loss: 0.3597 - val_output1_loss: 0.1824 - val_output2_loss: 0.0821 - val_output3_loss: 0.0953 - val_output1_precision: 0.9373 - val_output1_recall: 0.9406 - val_output1_auc: 0.9815 - val_output2_precision: 0.9583 - val_output2_recall: 0.9650 - val_output2_auc: 0.9964 - val_output3_precision: 0.9613 - val_output3_recall: 0.9545 - val_output3_auc: 0.9952 - lr: 0.0010\n",
      "Epoch 48/200\n",
      "18/18 [==============================] - 8s 465ms/step - loss: 0.0310 - output1_loss: 0.0127 - output2_loss: 0.0104 - output3_loss: 0.0080 - output1_precision: 1.0000 - output1_recall: 0.9965 - output1_auc: 1.0000 - output2_precision: 0.9948 - output2_recall: 0.9965 - output2_auc: 1.0000 - output3_precision: 1.0000 - output3_recall: 0.9983 - output3_auc: 1.0000 - val_loss: 0.3468 - val_output1_loss: 0.1793 - val_output2_loss: 0.0838 - val_output3_loss: 0.0837 - val_output1_precision: 0.9401 - val_output1_recall: 0.9336 - val_output1_auc: 0.9828 - val_output2_precision: 0.9617 - val_output2_recall: 0.9650 - val_output2_auc: 0.9966 - val_output3_precision: 0.9613 - val_output3_recall: 0.9545 - val_output3_auc: 0.9959 - lr: 0.0010\n",
      "Epoch 49/200\n",
      "18/18 [==============================] - 8s 463ms/step - loss: 0.0290 - output1_loss: 0.0107 - output2_loss: 0.0089 - output3_loss: 0.0094 - output1_precision: 0.9983 - output1_recall: 1.0000 - output1_auc: 1.0000 - output2_precision: 0.9965 - output2_recall: 1.0000 - output2_auc: 1.0000 - output3_precision: 0.9983 - output3_recall: 1.0000 - output3_auc: 1.0000 - val_loss: 0.3507 - val_output1_loss: 0.1868 - val_output2_loss: 0.0804 - val_output3_loss: 0.0835 - val_output1_precision: 0.9371 - val_output1_recall: 0.9371 - val_output1_auc: 0.9813 - val_output2_precision: 0.9618 - val_output2_recall: 0.9685 - val_output2_auc: 0.9967 - val_output3_precision: 0.9648 - val_output3_recall: 0.9580 - val_output3_auc: 0.9959 - lr: 0.0010\n",
      "Epoch 50/200\n",
      "18/18 [==============================] - 8s 455ms/step - loss: 0.0270 - output1_loss: 0.0110 - output2_loss: 0.0068 - output3_loss: 0.0092 - output1_precision: 0.9965 - output1_recall: 0.9983 - output1_auc: 1.0000 - output2_precision: 1.0000 - output2_recall: 1.0000 - output2_auc: 1.0000 - output3_precision: 1.0000 - output3_recall: 1.0000 - output3_auc: 1.0000 - val_loss: 0.3628 - val_output1_loss: 0.1876 - val_output2_loss: 0.0815 - val_output3_loss: 0.0937 - val_output1_precision: 0.9371 - val_output1_recall: 0.9371 - val_output1_auc: 0.9816 - val_output2_precision: 0.9652 - val_output2_recall: 0.9685 - val_output2_auc: 0.9968 - val_output3_precision: 0.9613 - val_output3_recall: 0.9545 - val_output3_auc: 0.9953 - lr: 0.0010\n",
      "Epoch 51/200\n",
      "18/18 [==============================] - 8s 465ms/step - loss: 0.0258 - output1_loss: 0.0092 - output2_loss: 0.0070 - output3_loss: 0.0096 - output1_precision: 1.0000 - output1_recall: 1.0000 - output1_auc: 1.0000 - output2_precision: 1.0000 - output2_recall: 0.9983 - output2_auc: 1.0000 - output3_precision: 1.0000 - output3_recall: 1.0000 - output3_auc: 1.0000 - val_loss: 0.3583 - val_output1_loss: 0.1881 - val_output2_loss: 0.0837 - val_output3_loss: 0.0865 - val_output1_precision: 0.9368 - val_output1_recall: 0.9336 - val_output1_auc: 0.9814 - val_output2_precision: 0.9583 - val_output2_recall: 0.9650 - val_output2_auc: 0.9965 - val_output3_precision: 0.9611 - val_output3_recall: 0.9510 - val_output3_auc: 0.9958 - lr: 0.0010\n",
      "Epoch 52/200\n",
      "18/18 [==============================] - 8s 460ms/step - loss: 0.0225 - output1_loss: 0.0088 - output2_loss: 0.0077 - output3_loss: 0.0060 - output1_precision: 1.0000 - output1_recall: 1.0000 - output1_auc: 1.0000 - output2_precision: 1.0000 - output2_recall: 1.0000 - output2_auc: 1.0000 - output3_precision: 1.0000 - output3_recall: 1.0000 - output3_auc: 1.0000 - val_loss: 0.3578 - val_output1_loss: 0.1875 - val_output2_loss: 0.0825 - val_output3_loss: 0.0877 - val_output1_precision: 0.9371 - val_output1_recall: 0.9371 - val_output1_auc: 0.9819 - val_output2_precision: 0.9583 - val_output2_recall: 0.9650 - val_output2_auc: 0.9966 - val_output3_precision: 0.9611 - val_output3_recall: 0.9510 - val_output3_auc: 0.9957 - lr: 0.0010\n",
      "Epoch 53/200\n",
      "18/18 [==============================] - 8s 458ms/step - loss: 0.0210 - output1_loss: 0.0087 - output2_loss: 0.0062 - output3_loss: 0.0061 - output1_precision: 1.0000 - output1_recall: 1.0000 - output1_auc: 1.0000 - output2_precision: 1.0000 - output2_recall: 1.0000 - output2_auc: 1.0000 - output3_precision: 1.0000 - output3_recall: 1.0000 - output3_auc: 1.0000 - val_loss: 0.3554 - val_output1_loss: 0.1870 - val_output2_loss: 0.0814 - val_output3_loss: 0.0870 - val_output1_precision: 0.9371 - val_output1_recall: 0.9371 - val_output1_auc: 0.9818 - val_output2_precision: 0.9585 - val_output2_recall: 0.9685 - val_output2_auc: 0.9967 - val_output3_precision: 0.9611 - val_output3_recall: 0.9510 - val_output3_auc: 0.9958 - lr: 0.0010\n",
      "Epoch 53: early stopping\n",
      "dict_keys(['loss', 'output1_loss', 'output2_loss', 'output3_loss', 'output1_precision', 'output1_recall', 'output1_auc', 'output2_precision', 'output2_recall', 'output2_auc', 'output3_precision', 'output3_recall', 'output3_auc', 'val_loss', 'val_output1_loss', 'val_output2_loss', 'val_output3_loss', 'val_output1_precision', 'val_output1_recall', 'val_output1_auc', 'val_output2_precision', 'val_output2_recall', 'val_output2_auc', 'val_output3_precision', 'val_output3_recall', 'val_output3_auc', 'lr'])\n",
      "Epoch 1/200\n"
     ]
    },
    {
     "name": "stdout",
     "output_type": "stream",
     "text": [
      "27/27 [==============================] - ETA: 0s - loss: 1.3791 - output1_loss: 0.4116 - output2_loss: 0.4710 - output3_loss: 0.4966 - output1_precision: 0.8337 - output1_recall: 0.7921 - output1_auc: 0.8977 - output2_precision: 0.7740 - output2_recall: 0.7875 - output2_auc: 0.8627 - output3_precision: 0.7542 - output3_recall: 0.7236 - output3_auc: 0.8393"
     ]
    },
    {
     "name": "stderr",
     "output_type": "stream",
     "text": [
      "WARNING:absl:Found untraced functions such as _jit_compiled_convolution_op, _jit_compiled_convolution_op, _jit_compiled_convolution_op, _jit_compiled_convolution_op, _jit_compiled_convolution_op while saving (showing 5 of 43). These functions will not be directly callable after loading.\n"
     ]
    },
    {
     "name": "stdout",
     "output_type": "stream",
     "text": [
      "INFO:tensorflow:Assets written to: timeseries_transformer\\assets\n"
     ]
    },
    {
     "name": "stderr",
     "output_type": "stream",
     "text": [
      "INFO:tensorflow:Assets written to: timeseries_transformer\\assets\n"
     ]
    },
    {
     "name": "stdout",
     "output_type": "stream",
     "text": [
      "27/27 [==============================] - 22s 631ms/step - loss: 1.3791 - output1_loss: 0.4116 - output2_loss: 0.4710 - output3_loss: 0.4966 - output1_precision: 0.8337 - output1_recall: 0.7921 - output1_auc: 0.8977 - output2_precision: 0.7740 - output2_recall: 0.7875 - output2_auc: 0.8627 - output3_precision: 0.7542 - output3_recall: 0.7236 - output3_auc: 0.8393 - val_loss: 1.7789 - val_output1_loss: 0.4680 - val_output2_loss: 0.8047 - val_output3_loss: 0.5062 - val_output1_precision: 0.7944 - val_output1_recall: 0.7972 - val_output1_auc: 0.8743 - val_output2_precision: 0.6619 - val_output2_recall: 0.6503 - val_output2_auc: 0.7597 - val_output3_precision: 0.7500 - val_output3_recall: 0.7867 - val_output3_auc: 0.8772 - lr: 0.0010\n",
      "Epoch 2/200\n",
      "27/27 [==============================] - ETA: 0s - loss: 0.6877 - output1_loss: 0.2195 - output2_loss: 0.2094 - output3_loss: 0.2589 - output1_precision: 0.9170 - output1_recall: 0.9106 - output1_auc: 0.9724 - output2_precision: 0.9299 - output2_recall: 0.9396 - output2_auc: 0.9693 - output3_precision: 0.8894 - output3_recall: 0.9059 - output3_auc: 0.9590"
     ]
    },
    {
     "name": "stderr",
     "output_type": "stream",
     "text": [
      "WARNING:absl:Found untraced functions such as _jit_compiled_convolution_op, _jit_compiled_convolution_op, _jit_compiled_convolution_op, _jit_compiled_convolution_op, _jit_compiled_convolution_op while saving (showing 5 of 43). These functions will not be directly callable after loading.\n"
     ]
    },
    {
     "name": "stdout",
     "output_type": "stream",
     "text": [
      "INFO:tensorflow:Assets written to: timeseries_transformer\\assets\n"
     ]
    },
    {
     "name": "stderr",
     "output_type": "stream",
     "text": [
      "INFO:tensorflow:Assets written to: timeseries_transformer\\assets\n"
     ]
    },
    {
     "name": "stdout",
     "output_type": "stream",
     "text": [
      "27/27 [==============================] - 16s 606ms/step - loss: 0.6877 - output1_loss: 0.2195 - output2_loss: 0.2094 - output3_loss: 0.2589 - output1_precision: 0.9170 - output1_recall: 0.9106 - output1_auc: 0.9724 - output2_precision: 0.9299 - output2_recall: 0.9396 - output2_auc: 0.9693 - output3_precision: 0.8894 - output3_recall: 0.9059 - output3_auc: 0.9590 - val_loss: 1.2594 - val_output1_loss: 0.3530 - val_output2_loss: 0.5818 - val_output3_loss: 0.3247 - val_output1_precision: 0.8386 - val_output1_recall: 0.8357 - val_output1_auc: 0.9232 - val_output2_precision: 0.7295 - val_output2_recall: 0.7448 - val_output2_auc: 0.8393 - val_output3_precision: 0.8551 - val_output3_recall: 0.8252 - val_output3_auc: 0.9369 - lr: 0.0010\n",
      "Epoch 3/200\n",
      "27/27 [==============================] - ETA: 0s - loss: 0.5424 - output1_loss: 0.1765 - output2_loss: 0.1546 - output3_loss: 0.2112 - output1_precision: 0.9351 - output1_recall: 0.9373 - output1_auc: 0.9820 - output2_precision: 0.9535 - output2_recall: 0.9524 - output2_auc: 0.9822 - output3_precision: 0.9211 - output3_recall: 0.9222 - output3_auc: 0.9732"
     ]
    },
    {
     "name": "stderr",
     "output_type": "stream",
     "text": [
      "WARNING:absl:Found untraced functions such as _jit_compiled_convolution_op, _jit_compiled_convolution_op, _jit_compiled_convolution_op, _jit_compiled_convolution_op, _jit_compiled_convolution_op while saving (showing 5 of 43). These functions will not be directly callable after loading.\n"
     ]
    },
    {
     "name": "stdout",
     "output_type": "stream",
     "text": [
      "INFO:tensorflow:Assets written to: timeseries_transformer\\assets\n"
     ]
    },
    {
     "name": "stderr",
     "output_type": "stream",
     "text": [
      "INFO:tensorflow:Assets written to: timeseries_transformer\\assets\n"
     ]
    },
    {
     "name": "stdout",
     "output_type": "stream",
     "text": [
      "27/27 [==============================] - 17s 638ms/step - loss: 0.5424 - output1_loss: 0.1765 - output2_loss: 0.1546 - output3_loss: 0.2112 - output1_precision: 0.9351 - output1_recall: 0.9373 - output1_auc: 0.9820 - output2_precision: 0.9535 - output2_recall: 0.9524 - output2_auc: 0.9822 - output3_precision: 0.9211 - output3_recall: 0.9222 - output3_auc: 0.9732 - val_loss: 1.2240 - val_output1_loss: 0.3291 - val_output2_loss: 0.5862 - val_output3_loss: 0.3087 - val_output1_precision: 0.8362 - val_output1_recall: 0.8392 - val_output1_auc: 0.9354 - val_output2_precision: 0.7396 - val_output2_recall: 0.7448 - val_output2_auc: 0.8546 - val_output3_precision: 0.8403 - val_output3_recall: 0.8462 - val_output3_auc: 0.9422 - lr: 0.0010\n",
      "Epoch 4/200\n",
      "27/27 [==============================] - ETA: 0s - loss: 0.4522 - output1_loss: 0.1580 - output2_loss: 0.1176 - output3_loss: 0.1766 - output1_precision: 0.9329 - output1_recall: 0.9361 - output1_auc: 0.9858 - output2_precision: 0.9651 - output2_recall: 0.9640 - output2_auc: 0.9913 - output3_precision: 0.9347 - output3_recall: 0.9315 - output3_auc: 0.9821"
     ]
    },
    {
     "name": "stderr",
     "output_type": "stream",
     "text": [
      "WARNING:absl:Found untraced functions such as _jit_compiled_convolution_op, _jit_compiled_convolution_op, _jit_compiled_convolution_op, _jit_compiled_convolution_op, _jit_compiled_convolution_op while saving (showing 5 of 43). These functions will not be directly callable after loading.\n"
     ]
    },
    {
     "name": "stdout",
     "output_type": "stream",
     "text": [
      "INFO:tensorflow:Assets written to: timeseries_transformer\\assets\n"
     ]
    },
    {
     "name": "stderr",
     "output_type": "stream",
     "text": [
      "INFO:tensorflow:Assets written to: timeseries_transformer\\assets\n"
     ]
    },
    {
     "name": "stdout",
     "output_type": "stream",
     "text": [
      "27/27 [==============================] - 17s 620ms/step - loss: 0.4522 - output1_loss: 0.1580 - output2_loss: 0.1176 - output3_loss: 0.1766 - output1_precision: 0.9329 - output1_recall: 0.9361 - output1_auc: 0.9858 - output2_precision: 0.9651 - output2_recall: 0.9640 - output2_auc: 0.9913 - output3_precision: 0.9347 - output3_recall: 0.9315 - output3_auc: 0.9821 - val_loss: 1.1035 - val_output1_loss: 0.2839 - val_output2_loss: 0.5543 - val_output3_loss: 0.2653 - val_output1_precision: 0.8566 - val_output1_recall: 0.8566 - val_output1_auc: 0.9509 - val_output2_precision: 0.7649 - val_output2_recall: 0.7622 - val_output2_auc: 0.8669 - val_output3_precision: 0.8772 - val_output3_recall: 0.8741 - val_output3_auc: 0.9578 - lr: 0.0010\n",
      "Epoch 5/200\n",
      "27/27 [==============================] - 12s 454ms/step - loss: 0.4169 - output1_loss: 0.1332 - output2_loss: 0.1233 - output3_loss: 0.1605 - output1_precision: 0.9459 - output1_recall: 0.9535 - output1_auc: 0.9902 - output2_precision: 0.9604 - output2_recall: 0.9570 - output2_auc: 0.9900 - output3_precision: 0.9335 - output3_recall: 0.9454 - output3_auc: 0.9850 - val_loss: 1.2302 - val_output1_loss: 0.2721 - val_output2_loss: 0.7082 - val_output3_loss: 0.2499 - val_output1_precision: 0.8425 - val_output1_recall: 0.8601 - val_output1_auc: 0.9544 - val_output2_precision: 0.7273 - val_output2_recall: 0.7273 - val_output2_auc: 0.8536 - val_output3_precision: 0.8799 - val_output3_recall: 0.8706 - val_output3_auc: 0.9620 - lr: 0.0010\n",
      "Epoch 6/200\n",
      "27/27 [==============================] - ETA: 0s - loss: 0.3822 - output1_loss: 0.1281 - output2_loss: 0.1099 - output3_loss: 0.1442 - output1_precision: 0.9490 - output1_recall: 0.9512 - output1_auc: 0.9910 - output2_precision: 0.9662 - output2_recall: 0.9628 - output2_auc: 0.9922 - output3_precision: 0.9430 - output3_recall: 0.9419 - output3_auc: 0.9886"
     ]
    },
    {
     "name": "stderr",
     "output_type": "stream",
     "text": [
      "WARNING:absl:Found untraced functions such as _jit_compiled_convolution_op, _jit_compiled_convolution_op, _jit_compiled_convolution_op, _jit_compiled_convolution_op, _jit_compiled_convolution_op while saving (showing 5 of 43). These functions will not be directly callable after loading.\n"
     ]
    },
    {
     "name": "stdout",
     "output_type": "stream",
     "text": [
      "INFO:tensorflow:Assets written to: timeseries_transformer\\assets\n"
     ]
    },
    {
     "name": "stderr",
     "output_type": "stream",
     "text": [
      "INFO:tensorflow:Assets written to: timeseries_transformer\\assets\n"
     ]
    },
    {
     "name": "stdout",
     "output_type": "stream",
     "text": [
      "27/27 [==============================] - 16s 589ms/step - loss: 0.3822 - output1_loss: 0.1281 - output2_loss: 0.1099 - output3_loss: 0.1442 - output1_precision: 0.9490 - output1_recall: 0.9512 - output1_auc: 0.9910 - output2_precision: 0.9662 - output2_recall: 0.9628 - output2_auc: 0.9922 - output3_precision: 0.9430 - output3_recall: 0.9419 - output3_auc: 0.9886 - val_loss: 0.9393 - val_output1_loss: 0.2589 - val_output2_loss: 0.4548 - val_output3_loss: 0.2256 - val_output1_precision: 0.8655 - val_output1_recall: 0.8776 - val_output1_auc: 0.9589 - val_output2_precision: 0.8092 - val_output2_recall: 0.8007 - val_output2_auc: 0.8925 - val_output3_precision: 0.8840 - val_output3_recall: 0.9056 - val_output3_auc: 0.9693 - lr: 0.0010\n",
      "Epoch 7/200\n",
      "27/27 [==============================] - 12s 432ms/step - loss: 0.3399 - output1_loss: 0.1079 - output2_loss: 0.1076 - output3_loss: 0.1244 - output1_precision: 0.9596 - output1_recall: 0.9652 - output1_auc: 0.9940 - output2_precision: 0.9675 - output2_recall: 0.9675 - output2_auc: 0.9927 - output3_precision: 0.9493 - output3_recall: 0.9559 - output3_auc: 0.9910 - val_loss: 1.0502 - val_output1_loss: 0.2606 - val_output2_loss: 0.5778 - val_output3_loss: 0.2118 - val_output1_precision: 0.8552 - val_output1_recall: 0.8671 - val_output1_auc: 0.9588 - val_output2_precision: 0.7732 - val_output2_recall: 0.7867 - val_output2_auc: 0.8750 - val_output3_precision: 0.8904 - val_output3_recall: 0.9091 - val_output3_auc: 0.9732 - lr: 0.0010\n",
      "Epoch 8/200\n",
      "27/27 [==============================] - 11s 427ms/step - loss: 0.2939 - output1_loss: 0.1035 - output2_loss: 0.0844 - output3_loss: 0.1060 - output1_precision: 0.9525 - output1_recall: 0.9559 - output1_auc: 0.9941 - output2_precision: 0.9699 - output2_recall: 0.9733 - output2_auc: 0.9956 - output3_precision: 0.9618 - output3_recall: 0.9640 - output3_auc: 0.9947 - val_loss: 0.9746 - val_output1_loss: 0.2355 - val_output2_loss: 0.5408 - val_output3_loss: 0.1982 - val_output1_precision: 0.8850 - val_output1_recall: 0.8881 - val_output1_auc: 0.9658 - val_output2_precision: 0.8007 - val_output2_recall: 0.7867 - val_output2_auc: 0.8859 - val_output3_precision: 0.9034 - val_output3_recall: 0.9161 - val_output3_auc: 0.9764 - lr: 0.0010\n",
      "Epoch 9/200\n",
      "27/27 [==============================] - 11s 421ms/step - loss: 0.2872 - output1_loss: 0.0941 - output2_loss: 0.0946 - output3_loss: 0.0985 - output1_precision: 0.9663 - output1_recall: 0.9663 - output1_auc: 0.9954 - output2_precision: 0.9719 - output2_recall: 0.9652 - output2_auc: 0.9936 - output3_precision: 0.9629 - output3_recall: 0.9640 - output3_auc: 0.9951 - val_loss: 0.9449 - val_output1_loss: 0.2351 - val_output2_loss: 0.5168 - val_output3_loss: 0.1930 - val_output1_precision: 0.8789 - val_output1_recall: 0.8881 - val_output1_auc: 0.9657 - val_output2_precision: 0.8028 - val_output2_recall: 0.8112 - val_output2_auc: 0.8897 - val_output3_precision: 0.9062 - val_output3_recall: 0.9126 - val_output3_auc: 0.9774 - lr: 0.0010\n",
      "Epoch 10/200\n",
      "27/27 [==============================] - 12s 431ms/step - loss: 0.2424 - output1_loss: 0.0801 - output2_loss: 0.0769 - output3_loss: 0.0855 - output1_precision: 0.9689 - output1_recall: 0.9756 - output1_auc: 0.9967 - output2_precision: 0.9814 - output2_recall: 0.9814 - output2_auc: 0.9960 - output3_precision: 0.9698 - output3_recall: 0.9710 - output3_auc: 0.9964 - val_loss: 0.9498 - val_output1_loss: 0.2354 - val_output2_loss: 0.5295 - val_output3_loss: 0.1850 - val_output1_precision: 0.8759 - val_output1_recall: 0.8881 - val_output1_auc: 0.9659 - val_output2_precision: 0.8021 - val_output2_recall: 0.8077 - val_output2_auc: 0.8903 - val_output3_precision: 0.9041 - val_output3_recall: 0.9231 - val_output3_auc: 0.9791 - lr: 0.0010\n",
      "Epoch 11/200\n",
      "27/27 [==============================] - ETA: 0s - loss: 0.2361 - output1_loss: 0.0744 - output2_loss: 0.0746 - output3_loss: 0.0871 - output1_precision: 0.9744 - output1_recall: 0.9733 - output1_auc: 0.9974 - output2_precision: 0.9757 - output2_recall: 0.9779 - output2_auc: 0.9966 - output3_precision: 0.9664 - output3_recall: 0.9686 - output3_auc: 0.9959"
     ]
    },
    {
     "name": "stderr",
     "output_type": "stream",
     "text": [
      "WARNING:absl:Found untraced functions such as _jit_compiled_convolution_op, _jit_compiled_convolution_op, _jit_compiled_convolution_op, _jit_compiled_convolution_op, _jit_compiled_convolution_op while saving (showing 5 of 43). These functions will not be directly callable after loading.\n"
     ]
    },
    {
     "name": "stdout",
     "output_type": "stream",
     "text": [
      "INFO:tensorflow:Assets written to: timeseries_transformer\\assets\n"
     ]
    },
    {
     "name": "stderr",
     "output_type": "stream",
     "text": [
      "INFO:tensorflow:Assets written to: timeseries_transformer\\assets\n"
     ]
    },
    {
     "name": "stdout",
     "output_type": "stream",
     "text": [
      "27/27 [==============================] - 15s 579ms/step - loss: 0.2361 - output1_loss: 0.0744 - output2_loss: 0.0746 - output3_loss: 0.0871 - output1_precision: 0.9744 - output1_recall: 0.9733 - output1_auc: 0.9974 - output2_precision: 0.9757 - output2_recall: 0.9779 - output2_auc: 0.9966 - output3_precision: 0.9664 - output3_recall: 0.9686 - output3_auc: 0.9959 - val_loss: 0.8289 - val_output1_loss: 0.2214 - val_output2_loss: 0.4295 - val_output3_loss: 0.1781 - val_output1_precision: 0.8846 - val_output1_recall: 0.8846 - val_output1_auc: 0.9693 - val_output2_precision: 0.8322 - val_output2_recall: 0.8322 - val_output2_auc: 0.9089 - val_output3_precision: 0.9107 - val_output3_recall: 0.9266 - val_output3_auc: 0.9807 - lr: 0.0010\n",
      "Epoch 12/200\n",
      "27/27 [==============================] - 11s 427ms/step - loss: 0.2125 - output1_loss: 0.0748 - output2_loss: 0.0660 - output3_loss: 0.0718 - output1_precision: 0.9720 - output1_recall: 0.9675 - output1_auc: 0.9971 - output2_precision: 0.9837 - output2_recall: 0.9791 - output2_auc: 0.9979 - output3_precision: 0.9722 - output3_recall: 0.9756 - output3_auc: 0.9977 - val_loss: 0.8896 - val_output1_loss: 0.2308 - val_output2_loss: 0.4889 - val_output3_loss: 0.1699 - val_output1_precision: 0.8815 - val_output1_recall: 0.8846 - val_output1_auc: 0.9669 - val_output2_precision: 0.8281 - val_output2_recall: 0.8252 - val_output2_auc: 0.9007 - val_output3_precision: 0.9172 - val_output3_recall: 0.9301 - val_output3_auc: 0.9824 - lr: 0.0010\n",
      "Epoch 13/200\n",
      "27/27 [==============================] - ETA: 0s - loss: 0.1953 - output1_loss: 0.0609 - output2_loss: 0.0663 - output3_loss: 0.0681 - output1_precision: 0.9804 - output1_recall: 0.9872 - output1_auc: 0.9985 - output2_precision: 0.9825 - output2_recall: 0.9779 - output2_auc: 0.9968 - output3_precision: 0.9734 - output3_recall: 0.9768 - output3_auc: 0.9981"
     ]
    },
    {
     "name": "stderr",
     "output_type": "stream",
     "text": [
      "WARNING:absl:Found untraced functions such as _jit_compiled_convolution_op, _jit_compiled_convolution_op, _jit_compiled_convolution_op, _jit_compiled_convolution_op, _jit_compiled_convolution_op while saving (showing 5 of 43). These functions will not be directly callable after loading.\n"
     ]
    },
    {
     "name": "stdout",
     "output_type": "stream",
     "text": [
      "INFO:tensorflow:Assets written to: timeseries_transformer\\assets\n"
     ]
    },
    {
     "name": "stderr",
     "output_type": "stream",
     "text": [
      "INFO:tensorflow:Assets written to: timeseries_transformer\\assets\n"
     ]
    },
    {
     "name": "stdout",
     "output_type": "stream",
     "text": [
      "27/27 [==============================] - 15s 556ms/step - loss: 0.1953 - output1_loss: 0.0609 - output2_loss: 0.0663 - output3_loss: 0.0681 - output1_precision: 0.9804 - output1_recall: 0.9872 - output1_auc: 0.9985 - output2_precision: 0.9825 - output2_recall: 0.9779 - output2_auc: 0.9968 - output3_precision: 0.9734 - output3_recall: 0.9768 - output3_auc: 0.9981 - val_loss: 0.7920 - val_output1_loss: 0.2141 - val_output2_loss: 0.4140 - val_output3_loss: 0.1640 - val_output1_precision: 0.8819 - val_output1_recall: 0.8881 - val_output1_auc: 0.9708 - val_output2_precision: 0.8497 - val_output2_recall: 0.8497 - val_output2_auc: 0.9171 - val_output3_precision: 0.9199 - val_output3_recall: 0.9231 - val_output3_auc: 0.9837 - lr: 0.0010\n",
      "Epoch 14/200\n",
      "27/27 [==============================] - 11s 408ms/step - loss: 0.1739 - output1_loss: 0.0570 - output2_loss: 0.0605 - output3_loss: 0.0564 - output1_precision: 0.9791 - output1_recall: 0.9779 - output1_auc: 0.9986 - output2_precision: 0.9838 - output2_recall: 0.9849 - output2_auc: 0.9982 - output3_precision: 0.9803 - output3_recall: 0.9814 - output3_auc: 0.9988 - val_loss: 0.8272 - val_output1_loss: 0.2244 - val_output2_loss: 0.4471 - val_output3_loss: 0.1556 - val_output1_precision: 0.8819 - val_output1_recall: 0.8881 - val_output1_auc: 0.9697 - val_output2_precision: 0.8333 - val_output2_recall: 0.8392 - val_output2_auc: 0.9099 - val_output3_precision: 0.9266 - val_output3_recall: 0.9266 - val_output3_auc: 0.9853 - lr: 0.0010\n",
      "Epoch 15/200\n",
      "27/27 [==============================] - 11s 421ms/step - loss: 0.1726 - output1_loss: 0.0565 - output2_loss: 0.0615 - output3_loss: 0.0546 - output1_precision: 0.9859 - output1_recall: 0.9779 - output1_auc: 0.9986 - output2_precision: 0.9779 - output2_recall: 0.9744 - output2_auc: 0.9979 - output3_precision: 0.9837 - output3_recall: 0.9803 - output3_auc: 0.9990 - val_loss: 0.8029 - val_output1_loss: 0.2212 - val_output2_loss: 0.4350 - val_output3_loss: 0.1467 - val_output1_precision: 0.8824 - val_output1_recall: 0.8916 - val_output1_auc: 0.9704 - val_output2_precision: 0.8516 - val_output2_recall: 0.8427 - val_output2_auc: 0.9134 - val_output3_precision: 0.9331 - val_output3_recall: 0.9266 - val_output3_auc: 0.9870 - lr: 0.0010\n",
      "Epoch 16/200\n",
      "27/27 [==============================] - 11s 410ms/step - loss: 0.1656 - output1_loss: 0.0537 - output2_loss: 0.0574 - output3_loss: 0.0545 - output1_precision: 0.9803 - output1_recall: 0.9849 - output1_auc: 0.9989 - output2_precision: 0.9883 - output2_recall: 0.9814 - output2_auc: 0.9980 - output3_precision: 0.9803 - output3_recall: 0.9803 - output3_auc: 0.9988 - val_loss: 0.7997 - val_output1_loss: 0.2155 - val_output2_loss: 0.4326 - val_output3_loss: 0.1516 - val_output1_precision: 0.8990 - val_output1_recall: 0.9021 - val_output1_auc: 0.9718 - val_output2_precision: 0.8403 - val_output2_recall: 0.8462 - val_output2_auc: 0.9153 - val_output3_precision: 0.9298 - val_output3_recall: 0.9266 - val_output3_auc: 0.9860 - lr: 0.0010\n",
      "Epoch 17/200\n",
      "27/27 [==============================] - 11s 420ms/step - loss: 0.1425 - output1_loss: 0.0473 - output2_loss: 0.0522 - output3_loss: 0.0430 - output1_precision: 0.9861 - output1_recall: 0.9861 - output1_auc: 0.9992 - output2_precision: 0.9826 - output2_recall: 0.9837 - output2_auc: 0.9987 - output3_precision: 0.9895 - output3_recall: 0.9895 - output3_auc: 0.9994 - val_loss: 0.7970 - val_output1_loss: 0.2217 - val_output2_loss: 0.4315 - val_output3_loss: 0.1438 - val_output1_precision: 0.8889 - val_output1_recall: 0.8951 - val_output1_auc: 0.9713 - val_output2_precision: 0.8467 - val_output2_recall: 0.8497 - val_output2_auc: 0.9154 - val_output3_precision: 0.9338 - val_output3_recall: 0.9371 - val_output3_auc: 0.9874 - lr: 0.0010\n",
      "Epoch 18/200\n",
      "27/27 [==============================] - 11s 426ms/step - loss: 0.1400 - output1_loss: 0.0460 - output2_loss: 0.0507 - output3_loss: 0.0433 - output1_precision: 0.9872 - output1_recall: 0.9884 - output1_auc: 0.9993 - output2_precision: 0.9849 - output2_recall: 0.9826 - output2_auc: 0.9986 - output3_precision: 0.9884 - output3_recall: 0.9907 - output3_auc: 0.9992 - val_loss: 0.8028 - val_output1_loss: 0.2207 - val_output2_loss: 0.4467 - val_output3_loss: 0.1354 - val_output1_precision: 0.8916 - val_output1_recall: 0.8916 - val_output1_auc: 0.9719 - val_output2_precision: 0.8351 - val_output2_recall: 0.8497 - val_output2_auc: 0.9147 - val_output3_precision: 0.9474 - val_output3_recall: 0.9441 - val_output3_auc: 0.9892 - lr: 0.0010\n",
      "Epoch 19/200\n",
      "27/27 [==============================] - ETA: 0s - loss: 0.1312 - output1_loss: 0.0447 - output2_loss: 0.0441 - output3_loss: 0.0424 - output1_precision: 0.9884 - output1_recall: 0.9861 - output1_auc: 0.9991 - output2_precision: 0.9872 - output2_recall: 0.9884 - output2_auc: 0.9991 - output3_precision: 0.9942 - output3_recall: 0.9930 - output3_auc: 0.9994"
     ]
    },
    {
     "name": "stderr",
     "output_type": "stream",
     "text": [
      "WARNING:absl:Found untraced functions such as _jit_compiled_convolution_op, _jit_compiled_convolution_op, _jit_compiled_convolution_op, _jit_compiled_convolution_op, _jit_compiled_convolution_op while saving (showing 5 of 43). These functions will not be directly callable after loading.\n"
     ]
    },
    {
     "name": "stdout",
     "output_type": "stream",
     "text": [
      "INFO:tensorflow:Assets written to: timeseries_transformer\\assets\n"
     ]
    },
    {
     "name": "stderr",
     "output_type": "stream",
     "text": [
      "INFO:tensorflow:Assets written to: timeseries_transformer\\assets\n"
     ]
    },
    {
     "name": "stdout",
     "output_type": "stream",
     "text": [
      "27/27 [==============================] - 15s 546ms/step - loss: 0.1312 - output1_loss: 0.0447 - output2_loss: 0.0441 - output3_loss: 0.0424 - output1_precision: 0.9884 - output1_recall: 0.9861 - output1_auc: 0.9991 - output2_precision: 0.9872 - output2_recall: 0.9884 - output2_auc: 0.9991 - output3_precision: 0.9942 - output3_recall: 0.9930 - output3_auc: 0.9994 - val_loss: 0.7732 - val_output1_loss: 0.2200 - val_output2_loss: 0.4186 - val_output3_loss: 0.1346 - val_output1_precision: 0.8947 - val_output1_recall: 0.8916 - val_output1_auc: 0.9727 - val_output2_precision: 0.8537 - val_output2_recall: 0.8566 - val_output2_auc: 0.9202 - val_output3_precision: 0.9408 - val_output3_recall: 0.9441 - val_output3_auc: 0.9890 - lr: 0.0010\n",
      "Epoch 20/200\n",
      "27/27 [==============================] - ETA: 0s - loss: 0.1272 - output1_loss: 0.0443 - output2_loss: 0.0446 - output3_loss: 0.0382 - output1_precision: 0.9861 - output1_recall: 0.9884 - output1_auc: 0.9992 - output2_precision: 0.9838 - output2_recall: 0.9884 - output2_auc: 0.9989 - output3_precision: 0.9896 - output3_recall: 0.9942 - output3_auc: 0.9996"
     ]
    },
    {
     "name": "stderr",
     "output_type": "stream",
     "text": [
      "WARNING:absl:Found untraced functions such as _jit_compiled_convolution_op, _jit_compiled_convolution_op, _jit_compiled_convolution_op, _jit_compiled_convolution_op, _jit_compiled_convolution_op while saving (showing 5 of 43). These functions will not be directly callable after loading.\n"
     ]
    },
    {
     "name": "stdout",
     "output_type": "stream",
     "text": [
      "INFO:tensorflow:Assets written to: timeseries_transformer\\assets\n"
     ]
    },
    {
     "name": "stderr",
     "output_type": "stream",
     "text": [
      "INFO:tensorflow:Assets written to: timeseries_transformer\\assets\n"
     ]
    },
    {
     "name": "stdout",
     "output_type": "stream",
     "text": [
      "27/27 [==============================] - 16s 585ms/step - loss: 0.1272 - output1_loss: 0.0443 - output2_loss: 0.0446 - output3_loss: 0.0382 - output1_precision: 0.9861 - output1_recall: 0.9884 - output1_auc: 0.9992 - output2_precision: 0.9838 - output2_recall: 0.9884 - output2_auc: 0.9989 - output3_precision: 0.9896 - output3_recall: 0.9942 - output3_auc: 0.9996 - val_loss: 0.7694 - val_output1_loss: 0.2170 - val_output2_loss: 0.4163 - val_output3_loss: 0.1361 - val_output1_precision: 0.8990 - val_output1_recall: 0.9021 - val_output1_auc: 0.9739 - val_output2_precision: 0.8517 - val_output2_recall: 0.8636 - val_output2_auc: 0.9239 - val_output3_precision: 0.9441 - val_output3_recall: 0.9441 - val_output3_auc: 0.9888 - lr: 0.0010\n",
      "Epoch 21/200\n",
      "27/27 [==============================] - 11s 413ms/step - loss: 0.1220 - output1_loss: 0.0436 - output2_loss: 0.0416 - output3_loss: 0.0368 - output1_precision: 0.9872 - output1_recall: 0.9872 - output1_auc: 0.9991 - output2_precision: 0.9895 - output2_recall: 0.9861 - output2_auc: 0.9991 - output3_precision: 0.9907 - output3_recall: 0.9861 - output3_auc: 0.9996 - val_loss: 0.8111 - val_output1_loss: 0.2238 - val_output2_loss: 0.4599 - val_output3_loss: 0.1273 - val_output1_precision: 0.8920 - val_output1_recall: 0.8951 - val_output1_auc: 0.9731 - val_output2_precision: 0.8397 - val_output2_recall: 0.8427 - val_output2_auc: 0.9159 - val_output3_precision: 0.9510 - val_output3_recall: 0.9510 - val_output3_auc: 0.9903 - lr: 0.0010\n",
      "Epoch 22/200\n",
      "27/27 [==============================] - 11s 406ms/step - loss: 0.0982 - output1_loss: 0.0351 - output2_loss: 0.0322 - output3_loss: 0.0309 - output1_precision: 0.9907 - output1_recall: 0.9919 - output1_auc: 0.9997 - output2_precision: 0.9919 - output2_recall: 0.9895 - output2_auc: 0.9996 - output3_precision: 0.9965 - output3_recall: 0.9895 - output3_auc: 0.9999 - val_loss: 0.7810 - val_output1_loss: 0.2148 - val_output2_loss: 0.4368 - val_output3_loss: 0.1294 - val_output1_precision: 0.8990 - val_output1_recall: 0.9021 - val_output1_auc: 0.9751 - val_output2_precision: 0.8507 - val_output2_recall: 0.8566 - val_output2_auc: 0.9212 - val_output3_precision: 0.9410 - val_output3_recall: 0.9476 - val_output3_auc: 0.9900 - lr: 0.0010\n",
      "Epoch 23/200\n",
      "27/27 [==============================] - ETA: 0s - loss: 0.0947 - output1_loss: 0.0321 - output2_loss: 0.0329 - output3_loss: 0.0297 - output1_precision: 0.9930 - output1_recall: 0.9919 - output1_auc: 0.9997 - output2_precision: 0.9895 - output2_recall: 0.9895 - output2_auc: 0.9996 - output3_precision: 0.9919 - output3_recall: 0.9895 - output3_auc: 0.9997"
     ]
    },
    {
     "name": "stderr",
     "output_type": "stream",
     "text": [
      "WARNING:absl:Found untraced functions such as _jit_compiled_convolution_op, _jit_compiled_convolution_op, _jit_compiled_convolution_op, _jit_compiled_convolution_op, _jit_compiled_convolution_op while saving (showing 5 of 43). These functions will not be directly callable after loading.\n"
     ]
    },
    {
     "name": "stdout",
     "output_type": "stream",
     "text": [
      "INFO:tensorflow:Assets written to: timeseries_transformer\\assets\n"
     ]
    },
    {
     "name": "stderr",
     "output_type": "stream",
     "text": [
      "INFO:tensorflow:Assets written to: timeseries_transformer\\assets\n"
     ]
    },
    {
     "name": "stdout",
     "output_type": "stream",
     "text": [
      "27/27 [==============================] - 15s 556ms/step - loss: 0.0947 - output1_loss: 0.0321 - output2_loss: 0.0329 - output3_loss: 0.0297 - output1_precision: 0.9930 - output1_recall: 0.9919 - output1_auc: 0.9997 - output2_precision: 0.9895 - output2_recall: 0.9895 - output2_auc: 0.9996 - output3_precision: 0.9919 - output3_recall: 0.9895 - output3_auc: 0.9997 - val_loss: 0.7686 - val_output1_loss: 0.2151 - val_output2_loss: 0.4310 - val_output3_loss: 0.1225 - val_output1_precision: 0.9123 - val_output1_recall: 0.9091 - val_output1_auc: 0.9748 - val_output2_precision: 0.8517 - val_output2_recall: 0.8636 - val_output2_auc: 0.9239 - val_output3_precision: 0.9512 - val_output3_recall: 0.9545 - val_output3_auc: 0.9911 - lr: 0.0010\n",
      "Epoch 24/200\n",
      "27/27 [==============================] - ETA: 0s - loss: 0.1068 - output1_loss: 0.0333 - output2_loss: 0.0380 - output3_loss: 0.0355 - output1_precision: 0.9907 - output1_recall: 0.9861 - output1_auc: 0.9996 - output2_precision: 0.9861 - output2_recall: 0.9884 - output2_auc: 0.9993 - output3_precision: 0.9896 - output3_recall: 0.9907 - output3_auc: 0.9995"
     ]
    },
    {
     "name": "stderr",
     "output_type": "stream",
     "text": [
      "WARNING:absl:Found untraced functions such as _jit_compiled_convolution_op, _jit_compiled_convolution_op, _jit_compiled_convolution_op, _jit_compiled_convolution_op, _jit_compiled_convolution_op while saving (showing 5 of 43). These functions will not be directly callable after loading.\n"
     ]
    },
    {
     "name": "stdout",
     "output_type": "stream",
     "text": [
      "INFO:tensorflow:Assets written to: timeseries_transformer\\assets\n"
     ]
    },
    {
     "name": "stderr",
     "output_type": "stream",
     "text": [
      "INFO:tensorflow:Assets written to: timeseries_transformer\\assets\n"
     ]
    },
    {
     "name": "stdout",
     "output_type": "stream",
     "text": [
      "27/27 [==============================] - 15s 564ms/step - loss: 0.1068 - output1_loss: 0.0333 - output2_loss: 0.0380 - output3_loss: 0.0355 - output1_precision: 0.9907 - output1_recall: 0.9861 - output1_auc: 0.9996 - output2_precision: 0.9861 - output2_recall: 0.9884 - output2_auc: 0.9993 - output3_precision: 0.9896 - output3_recall: 0.9907 - output3_auc: 0.9995 - val_loss: 0.7436 - val_output1_loss: 0.2126 - val_output2_loss: 0.4088 - val_output3_loss: 0.1222 - val_output1_precision: 0.9088 - val_output1_recall: 0.9056 - val_output1_auc: 0.9759 - val_output2_precision: 0.8641 - val_output2_recall: 0.8671 - val_output2_auc: 0.9277 - val_output3_precision: 0.9510 - val_output3_recall: 0.9510 - val_output3_auc: 0.9912 - lr: 0.0010\n",
      "Epoch 25/200\n",
      "27/27 [==============================] - 11s 410ms/step - loss: 0.0890 - output1_loss: 0.0300 - output2_loss: 0.0356 - output3_loss: 0.0234 - output1_precision: 0.9907 - output1_recall: 0.9930 - output1_auc: 0.9998 - output2_precision: 0.9896 - output2_recall: 0.9907 - output2_auc: 0.9994 - output3_precision: 0.9965 - output3_recall: 0.9977 - output3_auc: 1.0000 - val_loss: 0.7548 - val_output1_loss: 0.2186 - val_output2_loss: 0.4094 - val_output3_loss: 0.1268 - val_output1_precision: 0.9024 - val_output1_recall: 0.9056 - val_output1_auc: 0.9757 - val_output2_precision: 0.8621 - val_output2_recall: 0.8741 - val_output2_auc: 0.9297 - val_output3_precision: 0.9474 - val_output3_recall: 0.9441 - val_output3_auc: 0.9904 - lr: 0.0010\n",
      "Epoch 26/200\n",
      "27/27 [==============================] - 11s 428ms/step - loss: 0.0864 - output1_loss: 0.0271 - output2_loss: 0.0347 - output3_loss: 0.0246 - output1_precision: 0.9931 - output1_recall: 0.9988 - output1_auc: 0.9998 - output2_precision: 0.9895 - output2_recall: 0.9872 - output2_auc: 0.9993 - output3_precision: 0.9942 - output3_recall: 0.9930 - output3_auc: 0.9999 - val_loss: 0.7682 - val_output1_loss: 0.2203 - val_output2_loss: 0.4277 - val_output3_loss: 0.1203 - val_output1_precision: 0.9053 - val_output1_recall: 0.9021 - val_output1_auc: 0.9756 - val_output2_precision: 0.8512 - val_output2_recall: 0.8601 - val_output2_auc: 0.9268 - val_output3_precision: 0.9544 - val_output3_recall: 0.9510 - val_output3_auc: 0.9913 - lr: 0.0010\n",
      "Epoch 27/200\n",
      "27/27 [==============================] - ETA: 0s - loss: 0.0670 - output1_loss: 0.0229 - output2_loss: 0.0252 - output3_loss: 0.0189 - output1_precision: 0.9965 - output1_recall: 0.9954 - output1_auc: 0.9999 - output2_precision: 0.9919 - output2_recall: 0.9930 - output2_auc: 0.9998 - output3_precision: 0.9965 - output3_recall: 0.9988 - output3_auc: 1.0000"
     ]
    },
    {
     "name": "stderr",
     "output_type": "stream",
     "text": [
      "WARNING:absl:Found untraced functions such as _jit_compiled_convolution_op, _jit_compiled_convolution_op, _jit_compiled_convolution_op, _jit_compiled_convolution_op, _jit_compiled_convolution_op while saving (showing 5 of 43). These functions will not be directly callable after loading.\n"
     ]
    },
    {
     "name": "stdout",
     "output_type": "stream",
     "text": [
      "INFO:tensorflow:Assets written to: timeseries_transformer\\assets\n"
     ]
    },
    {
     "name": "stderr",
     "output_type": "stream",
     "text": [
      "INFO:tensorflow:Assets written to: timeseries_transformer\\assets\n"
     ]
    },
    {
     "name": "stdout",
     "output_type": "stream",
     "text": [
      "27/27 [==============================] - 16s 582ms/step - loss: 0.0670 - output1_loss: 0.0229 - output2_loss: 0.0252 - output3_loss: 0.0189 - output1_precision: 0.9965 - output1_recall: 0.9954 - output1_auc: 0.9999 - output2_precision: 0.9919 - output2_recall: 0.9930 - output2_auc: 0.9998 - output3_precision: 0.9965 - output3_recall: 0.9988 - output3_auc: 1.0000 - val_loss: 0.7428 - val_output1_loss: 0.2156 - val_output2_loss: 0.4048 - val_output3_loss: 0.1224 - val_output1_precision: 0.9056 - val_output1_recall: 0.9056 - val_output1_auc: 0.9768 - val_output2_precision: 0.8711 - val_output2_recall: 0.8741 - val_output2_auc: 0.9327 - val_output3_precision: 0.9514 - val_output3_recall: 0.9580 - val_output3_auc: 0.9911 - lr: 0.0010\n",
      "Epoch 28/200\n",
      "27/27 [==============================] - 11s 398ms/step - loss: 0.0693 - output1_loss: 0.0195 - output2_loss: 0.0311 - output3_loss: 0.0187 - output1_precision: 0.9954 - output1_recall: 0.9954 - output1_auc: 1.0000 - output2_precision: 0.9896 - output2_recall: 0.9907 - output2_auc: 0.9995 - output3_precision: 0.9988 - output3_recall: 0.9977 - output3_auc: 1.0000 - val_loss: 0.7627 - val_output1_loss: 0.2174 - val_output2_loss: 0.4224 - val_output3_loss: 0.1229 - val_output1_precision: 0.9059 - val_output1_recall: 0.9091 - val_output1_auc: 0.9766 - val_output2_precision: 0.8581 - val_output2_recall: 0.8671 - val_output2_auc: 0.9290 - val_output3_precision: 0.9446 - val_output3_recall: 0.9545 - val_output3_auc: 0.9912 - lr: 0.0010\n",
      "Epoch 29/200\n",
      "27/27 [==============================] - 10s 388ms/step - loss: 0.0668 - output1_loss: 0.0221 - output2_loss: 0.0234 - output3_loss: 0.0213 - output1_precision: 0.9942 - output1_recall: 0.9965 - output1_auc: 0.9999 - output2_precision: 0.9953 - output2_recall: 0.9919 - output2_auc: 0.9998 - output3_precision: 0.9930 - output3_recall: 0.9930 - output3_auc: 0.9999 - val_loss: 0.7498 - val_output1_loss: 0.2205 - val_output2_loss: 0.4098 - val_output3_loss: 0.1194 - val_output1_precision: 0.9028 - val_output1_recall: 0.9091 - val_output1_auc: 0.9766 - val_output2_precision: 0.8706 - val_output2_recall: 0.8706 - val_output2_auc: 0.9327 - val_output3_precision: 0.9479 - val_output3_recall: 0.9545 - val_output3_auc: 0.9915 - lr: 0.0010\n",
      "Epoch 30/200\n",
      "27/27 [==============================] - 11s 393ms/step - loss: 0.0608 - output1_loss: 0.0202 - output2_loss: 0.0236 - output3_loss: 0.0169 - output1_precision: 0.9942 - output1_recall: 0.9965 - output1_auc: 0.9999 - output2_precision: 0.9930 - output2_recall: 0.9942 - output2_auc: 0.9998 - output3_precision: 0.9965 - output3_recall: 0.9977 - output3_auc: 1.0000 - val_loss: 0.7716 - val_output1_loss: 0.2229 - val_output2_loss: 0.4331 - val_output3_loss: 0.1157 - val_output1_precision: 0.9024 - val_output1_recall: 0.9056 - val_output1_auc: 0.9767 - val_output2_precision: 0.8611 - val_output2_recall: 0.8671 - val_output2_auc: 0.9283 - val_output3_precision: 0.9579 - val_output3_recall: 0.9545 - val_output3_auc: 0.9922 - lr: 0.0010\n",
      "Epoch 31/200\n",
      "27/27 [==============================] - 11s 399ms/step - loss: 0.0570 - output1_loss: 0.0181 - output2_loss: 0.0237 - output3_loss: 0.0152 - output1_precision: 0.9977 - output1_recall: 0.9930 - output1_auc: 1.0000 - output2_precision: 0.9930 - output2_recall: 0.9930 - output2_auc: 0.9999 - output3_precision: 1.0000 - output3_recall: 1.0000 - output3_auc: 1.0000 - val_loss: 0.7665 - val_output1_loss: 0.2249 - val_output2_loss: 0.4194 - val_output3_loss: 0.1221 - val_output1_precision: 0.9053 - val_output1_recall: 0.9021 - val_output1_auc: 0.9762 - val_output2_precision: 0.8651 - val_output2_recall: 0.8741 - val_output2_auc: 0.9304 - val_output3_precision: 0.9509 - val_output3_recall: 0.9476 - val_output3_auc: 0.9914 - lr: 0.0010\n",
      "Epoch 32/200\n",
      "27/27 [==============================] - 11s 414ms/step - loss: 0.0519 - output1_loss: 0.0168 - output2_loss: 0.0213 - output3_loss: 0.0139 - output1_precision: 0.9965 - output1_recall: 0.9965 - output1_auc: 1.0000 - output2_precision: 0.9953 - output2_recall: 0.9942 - output2_auc: 0.9999 - output3_precision: 1.0000 - output3_recall: 1.0000 - output3_auc: 1.0000 - val_loss: 0.7730 - val_output1_loss: 0.2309 - val_output2_loss: 0.4236 - val_output3_loss: 0.1185 - val_output1_precision: 0.9024 - val_output1_recall: 0.9056 - val_output1_auc: 0.9764 - val_output2_precision: 0.8750 - val_output2_recall: 0.8811 - val_output2_auc: 0.9318 - val_output3_precision: 0.9545 - val_output3_recall: 0.9545 - val_output3_auc: 0.9918 - lr: 0.0010\n",
      "Epoch 33/200\n",
      "27/27 [==============================] - 11s 395ms/step - loss: 0.0561 - output1_loss: 0.0191 - output2_loss: 0.0196 - output3_loss: 0.0173 - output1_precision: 0.9965 - output1_recall: 0.9954 - output1_auc: 0.9999 - output2_precision: 0.9988 - output2_recall: 0.9919 - output2_auc: 0.9999 - output3_precision: 0.9931 - output3_recall: 0.9965 - output3_auc: 1.0000 - val_loss: 0.7754 - val_output1_loss: 0.2292 - val_output2_loss: 0.4318 - val_output3_loss: 0.1144 - val_output1_precision: 0.9024 - val_output1_recall: 0.9056 - val_output1_auc: 0.9764 - val_output2_precision: 0.8715 - val_output2_recall: 0.8776 - val_output2_auc: 0.9314 - val_output3_precision: 0.9650 - val_output3_recall: 0.9650 - val_output3_auc: 0.9924 - lr: 0.0010\n",
      "Epoch 34/200\n",
      "27/27 [==============================] - 10s 384ms/step - loss: 0.0529 - output1_loss: 0.0187 - output2_loss: 0.0192 - output3_loss: 0.0150 - output1_precision: 0.9977 - output1_recall: 0.9965 - output1_auc: 0.9999 - output2_precision: 0.9954 - output2_recall: 0.9954 - output2_auc: 0.9999 - output3_precision: 0.9965 - output3_recall: 0.9988 - output3_auc: 1.0000 - val_loss: 0.7807 - val_output1_loss: 0.2295 - val_output2_loss: 0.4392 - val_output3_loss: 0.1119 - val_output1_precision: 0.9066 - val_output1_recall: 0.9161 - val_output1_auc: 0.9771 - val_output2_precision: 0.8681 - val_output2_recall: 0.8741 - val_output2_auc: 0.9272 - val_output3_precision: 0.9617 - val_output3_recall: 0.9650 - val_output3_auc: 0.9927 - lr: 0.0010\n",
      "Epoch 35/200\n",
      "27/27 [==============================] - 10s 387ms/step - loss: 0.0485 - output1_loss: 0.0174 - output2_loss: 0.0164 - output3_loss: 0.0147 - output1_precision: 0.9954 - output1_recall: 0.9965 - output1_auc: 0.9999 - output2_precision: 0.9954 - output2_recall: 0.9954 - output2_auc: 0.9999 - output3_precision: 0.9965 - output3_recall: 0.9977 - output3_auc: 1.0000 - val_loss: 0.7807 - val_output1_loss: 0.2317 - val_output2_loss: 0.4332 - val_output3_loss: 0.1157 - val_output1_precision: 0.9059 - val_output1_recall: 0.9091 - val_output1_auc: 0.9771 - val_output2_precision: 0.8724 - val_output2_recall: 0.8846 - val_output2_auc: 0.9299 - val_output3_precision: 0.9617 - val_output3_recall: 0.9650 - val_output3_auc: 0.9924 - lr: 0.0010\n",
      "Epoch 36/200\n",
      "27/27 [==============================] - 10s 386ms/step - loss: 0.0499 - output1_loss: 0.0174 - output2_loss: 0.0199 - output3_loss: 0.0126 - output1_precision: 0.9965 - output1_recall: 0.9988 - output1_auc: 1.0000 - output2_precision: 0.9942 - output2_recall: 0.9954 - output2_auc: 0.9998 - output3_precision: 1.0000 - output3_recall: 0.9988 - output3_auc: 1.0000 - val_loss: 0.7867 - val_output1_loss: 0.2321 - val_output2_loss: 0.4422 - val_output3_loss: 0.1123 - val_output1_precision: 0.9059 - val_output1_recall: 0.9091 - val_output1_auc: 0.9776 - val_output2_precision: 0.8655 - val_output2_recall: 0.8776 - val_output2_auc: 0.9288 - val_output3_precision: 0.9617 - val_output3_recall: 0.9650 - val_output3_auc: 0.9927 - lr: 0.0010\n",
      "Epoch 37/200\n",
      "27/27 [==============================] - 11s 395ms/step - loss: 0.0447 - output1_loss: 0.0122 - output2_loss: 0.0176 - output3_loss: 0.0148 - output1_precision: 1.0000 - output1_recall: 0.9988 - output1_auc: 1.0000 - output2_precision: 0.9988 - output2_recall: 0.9977 - output2_auc: 0.9999 - output3_precision: 0.9965 - output3_recall: 1.0000 - output3_auc: 1.0000 - val_loss: 0.7688 - val_output1_loss: 0.2310 - val_output2_loss: 0.4300 - val_output3_loss: 0.1078 - val_output1_precision: 0.9094 - val_output1_recall: 0.9126 - val_output1_auc: 0.9778 - val_output2_precision: 0.8780 - val_output2_recall: 0.8811 - val_output2_auc: 0.9314 - val_output3_precision: 0.9647 - val_output3_recall: 0.9545 - val_output3_auc: 0.9929 - lr: 0.0010\n"
     ]
    },
    {
     "name": "stdout",
     "output_type": "stream",
     "text": [
      "Epoch 38/200\n",
      "27/27 [==============================] - 11s 428ms/step - loss: 0.0407 - output1_loss: 0.0135 - output2_loss: 0.0169 - output3_loss: 0.0103 - output1_precision: 0.9977 - output1_recall: 0.9965 - output1_auc: 1.0000 - output2_precision: 0.9965 - output2_recall: 0.9954 - output2_auc: 0.9999 - output3_precision: 0.9988 - output3_recall: 1.0000 - output3_auc: 1.0000 - val_loss: 0.7763 - val_output1_loss: 0.2350 - val_output2_loss: 0.4289 - val_output3_loss: 0.1124 - val_output1_precision: 0.9155 - val_output1_recall: 0.9091 - val_output1_auc: 0.9776 - val_output2_precision: 0.8815 - val_output2_recall: 0.8846 - val_output2_auc: 0.9315 - val_output3_precision: 0.9650 - val_output3_recall: 0.9650 - val_output3_auc: 0.9926 - lr: 0.0010\n",
      "Epoch 39/200\n",
      "27/27 [==============================] - 11s 398ms/step - loss: 0.0393 - output1_loss: 0.0133 - output2_loss: 0.0142 - output3_loss: 0.0118 - output1_precision: 0.9988 - output1_recall: 0.9977 - output1_auc: 1.0000 - output2_precision: 0.9954 - output2_recall: 0.9965 - output2_auc: 1.0000 - output3_precision: 0.9988 - output3_recall: 1.0000 - output3_auc: 1.0000 - val_loss: 0.7852 - val_output1_loss: 0.2276 - val_output2_loss: 0.4505 - val_output3_loss: 0.1071 - val_output1_precision: 0.9120 - val_output1_recall: 0.9056 - val_output1_auc: 0.9781 - val_output2_precision: 0.8715 - val_output2_recall: 0.8776 - val_output2_auc: 0.9279 - val_output3_precision: 0.9615 - val_output3_recall: 0.9615 - val_output3_auc: 0.9932 - lr: 0.0010\n",
      "Epoch 40/200\n",
      "27/27 [==============================] - 11s 393ms/step - loss: 0.0350 - output1_loss: 0.0128 - output2_loss: 0.0121 - output3_loss: 0.0101 - output1_precision: 0.9988 - output1_recall: 1.0000 - output1_auc: 1.0000 - output2_precision: 0.9965 - output2_recall: 0.9977 - output2_auc: 1.0000 - output3_precision: 1.0000 - output3_recall: 1.0000 - output3_auc: 1.0000 - val_loss: 0.7846 - val_output1_loss: 0.2303 - val_output2_loss: 0.4477 - val_output3_loss: 0.1065 - val_output1_precision: 0.9085 - val_output1_recall: 0.9021 - val_output1_auc: 0.9781 - val_output2_precision: 0.8746 - val_output2_recall: 0.8776 - val_output2_auc: 0.9299 - val_output3_precision: 0.9618 - val_output3_recall: 0.9685 - val_output3_auc: 0.9933 - lr: 0.0010\n",
      "Epoch 41/200\n",
      "27/27 [==============================] - 11s 407ms/step - loss: 0.0347 - output1_loss: 0.0125 - output2_loss: 0.0102 - output3_loss: 0.0120 - output1_precision: 0.9977 - output1_recall: 0.9988 - output1_auc: 1.0000 - output2_precision: 0.9977 - output2_recall: 0.9988 - output2_auc: 1.0000 - output3_precision: 0.9977 - output3_recall: 0.9977 - output3_auc: 1.0000 - val_loss: 0.7918 - val_output1_loss: 0.2424 - val_output2_loss: 0.4439 - val_output3_loss: 0.1055 - val_output1_precision: 0.9059 - val_output1_recall: 0.9091 - val_output1_auc: 0.9776 - val_output2_precision: 0.8811 - val_output2_recall: 0.8811 - val_output2_auc: 0.9295 - val_output3_precision: 0.9617 - val_output3_recall: 0.9650 - val_output3_auc: 0.9935 - lr: 0.0010\n",
      "Epoch 42/200\n",
      "27/27 [==============================] - 11s 406ms/step - loss: 0.0327 - output1_loss: 0.0111 - output2_loss: 0.0114 - output3_loss: 0.0101 - output1_precision: 0.9988 - output1_recall: 0.9988 - output1_auc: 1.0000 - output2_precision: 0.9977 - output2_recall: 0.9977 - output2_auc: 1.0000 - output3_precision: 1.0000 - output3_recall: 1.0000 - output3_auc: 1.0000 - val_loss: 0.8195 - val_output1_loss: 0.2335 - val_output2_loss: 0.4795 - val_output3_loss: 0.1065 - val_output1_precision: 0.9094 - val_output1_recall: 0.9126 - val_output1_auc: 0.9783 - val_output2_precision: 0.8646 - val_output2_recall: 0.8706 - val_output2_auc: 0.9255 - val_output3_precision: 0.9615 - val_output3_recall: 0.9615 - val_output3_auc: 0.9935 - lr: 0.0010\n",
      "Epoch 43/200\n",
      "27/27 [==============================] - 11s 409ms/step - loss: 0.0333 - output1_loss: 0.0099 - output2_loss: 0.0126 - output3_loss: 0.0108 - output1_precision: 0.9988 - output1_recall: 1.0000 - output1_auc: 1.0000 - output2_precision: 0.9954 - output2_recall: 0.9965 - output2_auc: 1.0000 - output3_precision: 0.9977 - output3_recall: 0.9965 - output3_auc: 1.0000 - val_loss: 0.7853 - val_output1_loss: 0.2383 - val_output2_loss: 0.4384 - val_output3_loss: 0.1087 - val_output1_precision: 0.9155 - val_output1_recall: 0.9091 - val_output1_auc: 0.9783 - val_output2_precision: 0.8780 - val_output2_recall: 0.8811 - val_output2_auc: 0.9337 - val_output3_precision: 0.9615 - val_output3_recall: 0.9615 - val_output3_auc: 0.9931 - lr: 0.0010\n",
      "Epoch 44/200\n",
      "27/27 [==============================] - 11s 392ms/step - loss: 0.0347 - output1_loss: 0.0114 - output2_loss: 0.0122 - output3_loss: 0.0111 - output1_precision: 0.9988 - output1_recall: 1.0000 - output1_auc: 1.0000 - output2_precision: 0.9977 - output2_recall: 0.9977 - output2_auc: 1.0000 - output3_precision: 0.9988 - output3_recall: 0.9977 - output3_auc: 1.0000 - val_loss: 0.8301 - val_output1_loss: 0.2373 - val_output2_loss: 0.4852 - val_output3_loss: 0.1076 - val_output1_precision: 0.9158 - val_output1_recall: 0.9126 - val_output1_auc: 0.9785 - val_output2_precision: 0.8676 - val_output2_recall: 0.8706 - val_output2_auc: 0.9264 - val_output3_precision: 0.9615 - val_output3_recall: 0.9615 - val_output3_auc: 0.9934 - lr: 0.0010\n",
      "Epoch 45/200\n",
      "27/27 [==============================] - 11s 411ms/step - loss: 0.0291 - output1_loss: 0.0101 - output2_loss: 0.0107 - output3_loss: 0.0083 - output1_precision: 0.9977 - output1_recall: 0.9988 - output1_auc: 1.0000 - output2_precision: 0.9988 - output2_recall: 0.9977 - output2_auc: 1.0000 - output3_precision: 1.0000 - output3_recall: 1.0000 - output3_auc: 1.0000 - val_loss: 0.8105 - val_output1_loss: 0.2422 - val_output2_loss: 0.4598 - val_output3_loss: 0.1086 - val_output1_precision: 0.9091 - val_output1_recall: 0.9091 - val_output1_auc: 0.9788 - val_output2_precision: 0.8776 - val_output2_recall: 0.8776 - val_output2_auc: 0.9304 - val_output3_precision: 0.9618 - val_output3_recall: 0.9685 - val_output3_auc: 0.9934 - lr: 0.0010\n",
      "Epoch 46/200\n",
      "27/27 [==============================] - 11s 413ms/step - loss: 0.0276 - output1_loss: 0.0098 - output2_loss: 0.0109 - output3_loss: 0.0069 - output1_precision: 0.9988 - output1_recall: 0.9977 - output1_auc: 1.0000 - output2_precision: 0.9988 - output2_recall: 0.9988 - output2_auc: 1.0000 - output3_precision: 1.0000 - output3_recall: 1.0000 - output3_auc: 1.0000 - val_loss: 0.8232 - val_output1_loss: 0.2424 - val_output2_loss: 0.4723 - val_output3_loss: 0.1085 - val_output1_precision: 0.9097 - val_output1_recall: 0.9161 - val_output1_auc: 0.9787 - val_output2_precision: 0.8776 - val_output2_recall: 0.8776 - val_output2_auc: 0.9289 - val_output3_precision: 0.9617 - val_output3_recall: 0.9650 - val_output3_auc: 0.9933 - lr: 0.0010\n",
      "Epoch 47/200\n",
      "27/27 [==============================] - 10s 389ms/step - loss: 0.0276 - output1_loss: 0.0097 - output2_loss: 0.0093 - output3_loss: 0.0086 - output1_precision: 0.9988 - output1_recall: 0.9988 - output1_auc: 1.0000 - output2_precision: 0.9988 - output2_recall: 0.9988 - output2_auc: 1.0000 - output3_precision: 0.9977 - output3_recall: 1.0000 - output3_auc: 1.0000 - val_loss: 0.7993 - val_output1_loss: 0.2387 - val_output2_loss: 0.4485 - val_output3_loss: 0.1121 - val_output1_precision: 0.9187 - val_output1_recall: 0.9091 - val_output1_auc: 0.9790 - val_output2_precision: 0.8877 - val_output2_recall: 0.8846 - val_output2_auc: 0.9322 - val_output3_precision: 0.9649 - val_output3_recall: 0.9615 - val_output3_auc: 0.9931 - lr: 0.0010\n",
      "Epoch 47: early stopping\n",
      "dict_keys(['loss', 'output1_loss', 'output2_loss', 'output3_loss', 'output1_precision', 'output1_recall', 'output1_auc', 'output2_precision', 'output2_recall', 'output2_auc', 'output3_precision', 'output3_recall', 'output3_auc', 'val_loss', 'val_output1_loss', 'val_output2_loss', 'val_output3_loss', 'val_output1_precision', 'val_output1_recall', 'val_output1_auc', 'val_output2_precision', 'val_output2_recall', 'val_output2_auc', 'val_output3_precision', 'val_output3_recall', 'val_output3_auc', 'lr'])\n",
      "Epoch 1/200\n"
     ]
    },
    {
     "name": "stdout",
     "output_type": "stream",
     "text": [
      "36/36 [==============================] - ETA: 0s - loss: 1.3480 - output1_loss: 0.4110 - output2_loss: 0.4912 - output3_loss: 0.4458 - output1_precision: 0.8363 - output1_recall: 0.7707 - output1_auc: 0.8955 - output2_precision: 0.7716 - output2_recall: 0.8012 - output2_auc: 0.8489 - output3_precision: 0.8056 - output3_recall: 0.7480 - output3_auc: 0.8747"
     ]
    },
    {
     "name": "stderr",
     "output_type": "stream",
     "text": [
      "WARNING:absl:Found untraced functions such as _jit_compiled_convolution_op, _jit_compiled_convolution_op, _jit_compiled_convolution_op, _jit_compiled_convolution_op, _jit_compiled_convolution_op while saving (showing 5 of 43). These functions will not be directly callable after loading.\n"
     ]
    },
    {
     "name": "stdout",
     "output_type": "stream",
     "text": [
      "INFO:tensorflow:Assets written to: timeseries_transformer\\assets\n"
     ]
    },
    {
     "name": "stderr",
     "output_type": "stream",
     "text": [
      "INFO:tensorflow:Assets written to: timeseries_transformer\\assets\n"
     ]
    },
    {
     "name": "stdout",
     "output_type": "stream",
     "text": [
      "36/36 [==============================] - 25s 541ms/step - loss: 1.3480 - output1_loss: 0.4110 - output2_loss: 0.4912 - output3_loss: 0.4458 - output1_precision: 0.8363 - output1_recall: 0.7707 - output1_auc: 0.8955 - output2_precision: 0.7716 - output2_recall: 0.8012 - output2_auc: 0.8489 - output3_precision: 0.8056 - output3_recall: 0.7480 - output3_auc: 0.8747 - val_loss: 1.3195 - val_output1_loss: 0.3958 - val_output2_loss: 0.4915 - val_output3_loss: 0.4321 - val_output1_precision: 0.8231 - val_output1_recall: 0.7972 - val_output1_auc: 0.9030 - val_output2_precision: 0.7708 - val_output2_recall: 0.8112 - val_output2_auc: 0.8468 - val_output3_precision: 0.8205 - val_output3_recall: 0.7832 - val_output3_auc: 0.8937 - lr: 0.0010\n",
      "Epoch 2/200\n",
      "36/36 [==============================] - ETA: 0s - loss: 0.7773 - output1_loss: 0.2537 - output2_loss: 0.2720 - output3_loss: 0.2517 - output1_precision: 0.8993 - output1_recall: 0.8875 - output1_auc: 0.9626 - output2_precision: 0.8999 - output2_recall: 0.9093 - output2_auc: 0.9550 - output3_precision: 0.8998 - output3_recall: 0.8928 - output3_auc: 0.9619"
     ]
    },
    {
     "name": "stderr",
     "output_type": "stream",
     "text": [
      "WARNING:absl:Found untraced functions such as _jit_compiled_convolution_op, _jit_compiled_convolution_op, _jit_compiled_convolution_op, _jit_compiled_convolution_op, _jit_compiled_convolution_op while saving (showing 5 of 43). These functions will not be directly callable after loading.\n"
     ]
    },
    {
     "name": "stdout",
     "output_type": "stream",
     "text": [
      "INFO:tensorflow:Assets written to: timeseries_transformer\\assets\n"
     ]
    },
    {
     "name": "stderr",
     "output_type": "stream",
     "text": [
      "INFO:tensorflow:Assets written to: timeseries_transformer\\assets\n"
     ]
    },
    {
     "name": "stdout",
     "output_type": "stream",
     "text": [
      "36/36 [==============================] - 18s 508ms/step - loss: 0.7773 - output1_loss: 0.2537 - output2_loss: 0.2720 - output3_loss: 0.2517 - output1_precision: 0.8993 - output1_recall: 0.8875 - output1_auc: 0.9626 - output2_precision: 0.8999 - output2_recall: 0.9093 - output2_auc: 0.9550 - output3_precision: 0.8998 - output3_recall: 0.8928 - output3_auc: 0.9619 - val_loss: 1.0488 - val_output1_loss: 0.3248 - val_output2_loss: 0.3892 - val_output3_loss: 0.3348 - val_output1_precision: 0.8643 - val_output1_recall: 0.8462 - val_output1_auc: 0.9361 - val_output2_precision: 0.8253 - val_output2_recall: 0.8427 - val_output2_auc: 0.9155 - val_output3_precision: 0.8577 - val_output3_recall: 0.8427 - val_output3_auc: 0.9340 - lr: 0.0010\n",
      "Epoch 3/200\n",
      "36/36 [==============================] - ETA: 0s - loss: 0.6164 - output1_loss: 0.2080 - output2_loss: 0.2184 - output3_loss: 0.1900 - output1_precision: 0.9131 - output1_recall: 0.9067 - output1_auc: 0.9750 - output2_precision: 0.9170 - output2_recall: 0.9250 - output2_auc: 0.9718 - output3_precision: 0.9281 - output3_recall: 0.9224 - output3_auc: 0.9801"
     ]
    },
    {
     "name": "stderr",
     "output_type": "stream",
     "text": [
      "WARNING:absl:Found untraced functions such as _jit_compiled_convolution_op, _jit_compiled_convolution_op, _jit_compiled_convolution_op, _jit_compiled_convolution_op, _jit_compiled_convolution_op while saving (showing 5 of 43). These functions will not be directly callable after loading.\n"
     ]
    },
    {
     "name": "stdout",
     "output_type": "stream",
     "text": [
      "INFO:tensorflow:Assets written to: timeseries_transformer\\assets\n"
     ]
    },
    {
     "name": "stderr",
     "output_type": "stream",
     "text": [
      "INFO:tensorflow:Assets written to: timeseries_transformer\\assets\n"
     ]
    },
    {
     "name": "stdout",
     "output_type": "stream",
     "text": [
      "36/36 [==============================] - 18s 504ms/step - loss: 0.6164 - output1_loss: 0.2080 - output2_loss: 0.2184 - output3_loss: 0.1900 - output1_precision: 0.9131 - output1_recall: 0.9067 - output1_auc: 0.9750 - output2_precision: 0.9170 - output2_recall: 0.9250 - output2_auc: 0.9718 - output3_precision: 0.9281 - output3_recall: 0.9224 - output3_auc: 0.9801 - val_loss: 0.9246 - val_output1_loss: 0.2715 - val_output2_loss: 0.3607 - val_output3_loss: 0.2925 - val_output1_precision: 0.8949 - val_output1_recall: 0.8636 - val_output1_auc: 0.9582 - val_output2_precision: 0.8328 - val_output2_recall: 0.8531 - val_output2_auc: 0.9247 - val_output3_precision: 0.8657 - val_output3_recall: 0.8566 - val_output3_auc: 0.9503 - lr: 0.0010\n",
      "Epoch 4/200\n",
      "36/36 [==============================] - ETA: 0s - loss: 0.5159 - output1_loss: 0.1733 - output2_loss: 0.1843 - output3_loss: 0.1583 - output1_precision: 0.9300 - output1_recall: 0.9268 - output1_auc: 0.9836 - output2_precision: 0.9279 - output2_recall: 0.9311 - output2_auc: 0.9804 - output3_precision: 0.9396 - output3_recall: 0.9364 - output3_auc: 0.9862"
     ]
    },
    {
     "name": "stderr",
     "output_type": "stream",
     "text": [
      "WARNING:absl:Found untraced functions such as _jit_compiled_convolution_op, _jit_compiled_convolution_op, _jit_compiled_convolution_op, _jit_compiled_convolution_op, _jit_compiled_convolution_op while saving (showing 5 of 43). These functions will not be directly callable after loading.\n"
     ]
    },
    {
     "name": "stdout",
     "output_type": "stream",
     "text": [
      "INFO:tensorflow:Assets written to: timeseries_transformer\\assets\n"
     ]
    },
    {
     "name": "stderr",
     "output_type": "stream",
     "text": [
      "INFO:tensorflow:Assets written to: timeseries_transformer\\assets\n"
     ]
    },
    {
     "name": "stdout",
     "output_type": "stream",
     "text": [
      "36/36 [==============================] - 20s 551ms/step - loss: 0.5159 - output1_loss: 0.1733 - output2_loss: 0.1843 - output3_loss: 0.1583 - output1_precision: 0.9300 - output1_recall: 0.9268 - output1_auc: 0.9836 - output2_precision: 0.9279 - output2_recall: 0.9311 - output2_auc: 0.9804 - output3_precision: 0.9396 - output3_recall: 0.9364 - output3_auc: 0.9862 - val_loss: 0.8289 - val_output1_loss: 0.2456 - val_output2_loss: 0.3360 - val_output3_loss: 0.2473 - val_output1_precision: 0.8940 - val_output1_recall: 0.8846 - val_output1_auc: 0.9637 - val_output2_precision: 0.8488 - val_output2_recall: 0.8636 - val_output2_auc: 0.9322 - val_output3_precision: 0.8834 - val_output3_recall: 0.8741 - val_output3_auc: 0.9640 - lr: 0.0010\n",
      "Epoch 5/200\n",
      "36/36 [==============================] - ETA: 0s - loss: 0.4554 - output1_loss: 0.1575 - output2_loss: 0.1600 - output3_loss: 0.1379 - output1_precision: 0.9309 - output1_recall: 0.9390 - output1_auc: 0.9868 - output2_precision: 0.9475 - output2_recall: 0.9442 - output2_auc: 0.9846 - output3_precision: 0.9495 - output3_recall: 0.9512 - output3_auc: 0.9895"
     ]
    },
    {
     "name": "stderr",
     "output_type": "stream",
     "text": [
      "WARNING:absl:Found untraced functions such as _jit_compiled_convolution_op, _jit_compiled_convolution_op, _jit_compiled_convolution_op, _jit_compiled_convolution_op, _jit_compiled_convolution_op while saving (showing 5 of 43). These functions will not be directly callable after loading.\n"
     ]
    },
    {
     "name": "stdout",
     "output_type": "stream",
     "text": [
      "INFO:tensorflow:Assets written to: timeseries_transformer\\assets\n"
     ]
    },
    {
     "name": "stderr",
     "output_type": "stream",
     "text": [
      "INFO:tensorflow:Assets written to: timeseries_transformer\\assets\n"
     ]
    },
    {
     "name": "stdout",
     "output_type": "stream",
     "text": [
      "36/36 [==============================] - 19s 519ms/step - loss: 0.4554 - output1_loss: 0.1575 - output2_loss: 0.1600 - output3_loss: 0.1379 - output1_precision: 0.9309 - output1_recall: 0.9390 - output1_auc: 0.9868 - output2_precision: 0.9475 - output2_recall: 0.9442 - output2_auc: 0.9846 - output3_precision: 0.9495 - output3_recall: 0.9512 - output3_auc: 0.9895 - val_loss: 0.7613 - val_output1_loss: 0.2223 - val_output2_loss: 0.3212 - val_output3_loss: 0.2178 - val_output1_precision: 0.9046 - val_output1_recall: 0.8951 - val_output1_auc: 0.9707 - val_output2_precision: 0.8400 - val_output2_recall: 0.8811 - val_output2_auc: 0.9391 - val_output3_precision: 0.9039 - val_output3_recall: 0.8881 - val_output3_auc: 0.9717 - lr: 0.0010\n",
      "Epoch 6/200\n",
      "36/36 [==============================] - ETA: 0s - loss: 0.4034 - output1_loss: 0.1454 - output2_loss: 0.1444 - output3_loss: 0.1137 - output1_precision: 0.9396 - output1_recall: 0.9364 - output1_auc: 0.9882 - output2_precision: 0.9471 - output2_recall: 0.9529 - output2_auc: 0.9879 - output3_precision: 0.9558 - output3_recall: 0.9616 - output3_auc: 0.9938"
     ]
    },
    {
     "name": "stderr",
     "output_type": "stream",
     "text": [
      "WARNING:absl:Found untraced functions such as _jit_compiled_convolution_op, _jit_compiled_convolution_op, _jit_compiled_convolution_op, _jit_compiled_convolution_op, _jit_compiled_convolution_op while saving (showing 5 of 43). These functions will not be directly callable after loading.\n"
     ]
    },
    {
     "name": "stdout",
     "output_type": "stream",
     "text": [
      "INFO:tensorflow:Assets written to: timeseries_transformer\\assets\n"
     ]
    },
    {
     "name": "stderr",
     "output_type": "stream",
     "text": [
      "INFO:tensorflow:Assets written to: timeseries_transformer\\assets\n"
     ]
    },
    {
     "name": "stdout",
     "output_type": "stream",
     "text": [
      "36/36 [==============================] - 18s 508ms/step - loss: 0.4034 - output1_loss: 0.1454 - output2_loss: 0.1444 - output3_loss: 0.1137 - output1_precision: 0.9396 - output1_recall: 0.9364 - output1_auc: 0.9882 - output2_precision: 0.9471 - output2_recall: 0.9529 - output2_auc: 0.9879 - output3_precision: 0.9558 - output3_recall: 0.9616 - output3_auc: 0.9938 - val_loss: 0.7026 - val_output1_loss: 0.1975 - val_output2_loss: 0.3007 - val_output3_loss: 0.2044 - val_output1_precision: 0.9261 - val_output1_recall: 0.9196 - val_output1_auc: 0.9780 - val_output2_precision: 0.8700 - val_output2_recall: 0.8427 - val_output2_auc: 0.9465 - val_output3_precision: 0.9140 - val_output3_recall: 0.8916 - val_output3_auc: 0.9749 - lr: 0.0010\n",
      "Epoch 7/200\n",
      "36/36 [==============================] - ETA: 0s - loss: 0.3705 - output1_loss: 0.1247 - output2_loss: 0.1468 - output3_loss: 0.0991 - output1_precision: 0.9410 - output1_recall: 0.9451 - output1_auc: 0.9916 - output2_precision: 0.9445 - output2_recall: 0.9494 - output2_auc: 0.9867 - output3_precision: 0.9651 - output3_recall: 0.9643 - output3_auc: 0.9951"
     ]
    },
    {
     "name": "stderr",
     "output_type": "stream",
     "text": [
      "WARNING:absl:Found untraced functions such as _jit_compiled_convolution_op, _jit_compiled_convolution_op, _jit_compiled_convolution_op, _jit_compiled_convolution_op, _jit_compiled_convolution_op while saving (showing 5 of 43). These functions will not be directly callable after loading.\n"
     ]
    },
    {
     "name": "stdout",
     "output_type": "stream",
     "text": [
      "INFO:tensorflow:Assets written to: timeseries_transformer\\assets\n"
     ]
    },
    {
     "name": "stderr",
     "output_type": "stream",
     "text": [
      "INFO:tensorflow:Assets written to: timeseries_transformer\\assets\n"
     ]
    },
    {
     "name": "stdout",
     "output_type": "stream",
     "text": [
      "36/36 [==============================] - 18s 494ms/step - loss: 0.3705 - output1_loss: 0.1247 - output2_loss: 0.1468 - output3_loss: 0.0991 - output1_precision: 0.9410 - output1_recall: 0.9451 - output1_auc: 0.9916 - output2_precision: 0.9445 - output2_recall: 0.9494 - output2_auc: 0.9867 - output3_precision: 0.9651 - output3_recall: 0.9643 - output3_auc: 0.9951 - val_loss: 0.6719 - val_output1_loss: 0.1880 - val_output2_loss: 0.2938 - val_output3_loss: 0.1901 - val_output1_precision: 0.9331 - val_output1_recall: 0.9266 - val_output1_auc: 0.9806 - val_output2_precision: 0.8523 - val_output2_recall: 0.8881 - val_output2_auc: 0.9510 - val_output3_precision: 0.9120 - val_output3_recall: 0.9056 - val_output3_auc: 0.9780 - lr: 0.0010\n",
      "Epoch 8/200\n",
      "36/36 [==============================] - ETA: 0s - loss: 0.3218 - output1_loss: 0.1098 - output2_loss: 0.1199 - output3_loss: 0.0921 - output1_precision: 0.9547 - output1_recall: 0.9547 - output1_auc: 0.9942 - output2_precision: 0.9580 - output2_recall: 0.9555 - output2_auc: 0.9925 - output3_precision: 0.9704 - output3_recall: 0.9712 - output3_auc: 0.9956"
     ]
    },
    {
     "name": "stderr",
     "output_type": "stream",
     "text": [
      "WARNING:absl:Found untraced functions such as _jit_compiled_convolution_op, _jit_compiled_convolution_op, _jit_compiled_convolution_op, _jit_compiled_convolution_op, _jit_compiled_convolution_op while saving (showing 5 of 43). These functions will not be directly callable after loading.\n"
     ]
    },
    {
     "name": "stdout",
     "output_type": "stream",
     "text": [
      "INFO:tensorflow:Assets written to: timeseries_transformer\\assets\n"
     ]
    },
    {
     "name": "stderr",
     "output_type": "stream",
     "text": [
      "INFO:tensorflow:Assets written to: timeseries_transformer\\assets\n"
     ]
    },
    {
     "name": "stdout",
     "output_type": "stream",
     "text": [
      "36/36 [==============================] - 18s 512ms/step - loss: 0.3218 - output1_loss: 0.1098 - output2_loss: 0.1199 - output3_loss: 0.0921 - output1_precision: 0.9547 - output1_recall: 0.9547 - output1_auc: 0.9942 - output2_precision: 0.9580 - output2_recall: 0.9555 - output2_auc: 0.9925 - output3_precision: 0.9704 - output3_recall: 0.9712 - output3_auc: 0.9956 - val_loss: 0.6235 - val_output1_loss: 0.1692 - val_output2_loss: 0.2776 - val_output3_loss: 0.1767 - val_output1_precision: 0.9333 - val_output1_recall: 0.9301 - val_output1_auc: 0.9835 - val_output2_precision: 0.8685 - val_output2_recall: 0.8776 - val_output2_auc: 0.9550 - val_output3_precision: 0.9123 - val_output3_recall: 0.9091 - val_output3_auc: 0.9808 - lr: 0.0010\n",
      "Epoch 9/200\n",
      "36/36 [==============================] - ETA: 0s - loss: 0.2920 - output1_loss: 0.0989 - output2_loss: 0.1092 - output3_loss: 0.0840 - output1_precision: 0.9643 - output1_recall: 0.9660 - output1_auc: 0.9949 - output2_precision: 0.9592 - output2_recall: 0.9625 - output2_auc: 0.9931 - output3_precision: 0.9719 - output3_recall: 0.9660 - output3_auc: 0.9963"
     ]
    },
    {
     "name": "stderr",
     "output_type": "stream",
     "text": [
      "WARNING:absl:Found untraced functions such as _jit_compiled_convolution_op, _jit_compiled_convolution_op, _jit_compiled_convolution_op, _jit_compiled_convolution_op, _jit_compiled_convolution_op while saving (showing 5 of 43). These functions will not be directly callable after loading.\n"
     ]
    },
    {
     "name": "stdout",
     "output_type": "stream",
     "text": [
      "INFO:tensorflow:Assets written to: timeseries_transformer\\assets\n"
     ]
    },
    {
     "name": "stderr",
     "output_type": "stream",
     "text": [
      "INFO:tensorflow:Assets written to: timeseries_transformer\\assets\n"
     ]
    },
    {
     "name": "stdout",
     "output_type": "stream",
     "text": [
      "36/36 [==============================] - 18s 511ms/step - loss: 0.2920 - output1_loss: 0.0989 - output2_loss: 0.1092 - output3_loss: 0.0840 - output1_precision: 0.9643 - output1_recall: 0.9660 - output1_auc: 0.9949 - output2_precision: 0.9592 - output2_recall: 0.9625 - output2_auc: 0.9931 - output3_precision: 0.9719 - output3_recall: 0.9660 - output3_auc: 0.9963 - val_loss: 0.5962 - val_output1_loss: 0.1639 - val_output2_loss: 0.2688 - val_output3_loss: 0.1635 - val_output1_precision: 0.9404 - val_output1_recall: 0.9371 - val_output1_auc: 0.9852 - val_output2_precision: 0.8737 - val_output2_recall: 0.8951 - val_output2_auc: 0.9579 - val_output3_precision: 0.9220 - val_output3_recall: 0.9091 - val_output3_auc: 0.9835 - lr: 0.0010\n",
      "Epoch 10/200\n",
      "36/36 [==============================] - ETA: 0s - loss: 0.2660 - output1_loss: 0.0932 - output2_loss: 0.1024 - output3_loss: 0.0705 - output1_precision: 0.9625 - output1_recall: 0.9634 - output1_auc: 0.9959 - output2_precision: 0.9599 - output2_recall: 0.9608 - output2_auc: 0.9944 - output3_precision: 0.9747 - output3_recall: 0.9738 - output3_auc: 0.9980"
     ]
    },
    {
     "name": "stderr",
     "output_type": "stream",
     "text": [
      "WARNING:absl:Found untraced functions such as _jit_compiled_convolution_op, _jit_compiled_convolution_op, _jit_compiled_convolution_op, _jit_compiled_convolution_op, _jit_compiled_convolution_op while saving (showing 5 of 43). These functions will not be directly callable after loading.\n"
     ]
    },
    {
     "name": "stdout",
     "output_type": "stream",
     "text": [
      "INFO:tensorflow:Assets written to: timeseries_transformer\\assets\n"
     ]
    },
    {
     "name": "stderr",
     "output_type": "stream",
     "text": [
      "INFO:tensorflow:Assets written to: timeseries_transformer\\assets\n"
     ]
    },
    {
     "name": "stdout",
     "output_type": "stream",
     "text": [
      "36/36 [==============================] - 19s 529ms/step - loss: 0.2660 - output1_loss: 0.0932 - output2_loss: 0.1024 - output3_loss: 0.0705 - output1_precision: 0.9625 - output1_recall: 0.9634 - output1_auc: 0.9959 - output2_precision: 0.9599 - output2_recall: 0.9608 - output2_auc: 0.9944 - output3_precision: 0.9747 - output3_recall: 0.9738 - output3_auc: 0.9980 - val_loss: 0.5859 - val_output1_loss: 0.1533 - val_output2_loss: 0.2602 - val_output3_loss: 0.1724 - val_output1_precision: 0.9364 - val_output1_recall: 0.9266 - val_output1_auc: 0.9866 - val_output2_precision: 0.8690 - val_output2_recall: 0.8811 - val_output2_auc: 0.9604 - val_output3_precision: 0.9223 - val_output3_recall: 0.9126 - val_output3_auc: 0.9823 - lr: 0.0010\n",
      "Epoch 11/200\n",
      "36/36 [==============================] - ETA: 0s - loss: 0.2522 - output1_loss: 0.0849 - output2_loss: 0.0982 - output3_loss: 0.0691 - output1_precision: 0.9712 - output1_recall: 0.9712 - output1_auc: 0.9964 - output2_precision: 0.9575 - output2_recall: 0.9634 - output2_auc: 0.9950 - output3_precision: 0.9773 - output3_recall: 0.9747 - output3_auc: 0.9979"
     ]
    },
    {
     "name": "stderr",
     "output_type": "stream",
     "text": [
      "WARNING:absl:Found untraced functions such as _jit_compiled_convolution_op, _jit_compiled_convolution_op, _jit_compiled_convolution_op, _jit_compiled_convolution_op, _jit_compiled_convolution_op while saving (showing 5 of 43). These functions will not be directly callable after loading.\n"
     ]
    },
    {
     "name": "stdout",
     "output_type": "stream",
     "text": [
      "INFO:tensorflow:Assets written to: timeseries_transformer\\assets\n"
     ]
    },
    {
     "name": "stderr",
     "output_type": "stream",
     "text": [
      "INFO:tensorflow:Assets written to: timeseries_transformer\\assets\n"
     ]
    },
    {
     "name": "stdout",
     "output_type": "stream",
     "text": [
      "36/36 [==============================] - 18s 514ms/step - loss: 0.2522 - output1_loss: 0.0849 - output2_loss: 0.0982 - output3_loss: 0.0691 - output1_precision: 0.9712 - output1_recall: 0.9712 - output1_auc: 0.9964 - output2_precision: 0.9575 - output2_recall: 0.9634 - output2_auc: 0.9950 - output3_precision: 0.9773 - output3_recall: 0.9747 - output3_auc: 0.9979 - val_loss: 0.5454 - val_output1_loss: 0.1478 - val_output2_loss: 0.2504 - val_output3_loss: 0.1472 - val_output1_precision: 0.9301 - val_output1_recall: 0.9301 - val_output1_auc: 0.9874 - val_output2_precision: 0.8793 - val_output2_recall: 0.8916 - val_output2_auc: 0.9636 - val_output3_precision: 0.9266 - val_output3_recall: 0.9266 - val_output3_auc: 0.9863 - lr: 0.0010\n",
      "Epoch 12/200\n",
      "36/36 [==============================] - ETA: 0s - loss: 0.2276 - output1_loss: 0.0774 - output2_loss: 0.0918 - output3_loss: 0.0584 - output1_precision: 0.9704 - output1_recall: 0.9704 - output1_auc: 0.9972 - output2_precision: 0.9634 - output2_recall: 0.9651 - output2_auc: 0.9956 - output3_precision: 0.9817 - output3_recall: 0.9834 - output3_auc: 0.9985"
     ]
    },
    {
     "name": "stderr",
     "output_type": "stream",
     "text": [
      "WARNING:absl:Found untraced functions such as _jit_compiled_convolution_op, _jit_compiled_convolution_op, _jit_compiled_convolution_op, _jit_compiled_convolution_op, _jit_compiled_convolution_op while saving (showing 5 of 43). These functions will not be directly callable after loading.\n"
     ]
    },
    {
     "name": "stdout",
     "output_type": "stream",
     "text": [
      "INFO:tensorflow:Assets written to: timeseries_transformer\\assets\n"
     ]
    },
    {
     "name": "stderr",
     "output_type": "stream",
     "text": [
      "INFO:tensorflow:Assets written to: timeseries_transformer\\assets\n"
     ]
    },
    {
     "name": "stdout",
     "output_type": "stream",
     "text": [
      "36/36 [==============================] - 18s 514ms/step - loss: 0.2276 - output1_loss: 0.0774 - output2_loss: 0.0918 - output3_loss: 0.0584 - output1_precision: 0.9704 - output1_recall: 0.9704 - output1_auc: 0.9972 - output2_precision: 0.9634 - output2_recall: 0.9651 - output2_auc: 0.9956 - output3_precision: 0.9817 - output3_recall: 0.9834 - output3_auc: 0.9985 - val_loss: 0.5326 - val_output1_loss: 0.1416 - val_output2_loss: 0.2438 - val_output3_loss: 0.1472 - val_output1_precision: 0.9541 - val_output1_recall: 0.9441 - val_output1_auc: 0.9890 - val_output2_precision: 0.8824 - val_output2_recall: 0.8916 - val_output2_auc: 0.9655 - val_output3_precision: 0.9263 - val_output3_recall: 0.9231 - val_output3_auc: 0.9864 - lr: 0.0010\n",
      "Epoch 13/200\n",
      "36/36 [==============================] - ETA: 0s - loss: 0.2066 - output1_loss: 0.0724 - output2_loss: 0.0793 - output3_loss: 0.0548 - output1_precision: 0.9764 - output1_recall: 0.9747 - output1_auc: 0.9976 - output2_precision: 0.9611 - output2_recall: 0.9695 - output2_auc: 0.9971 - output3_precision: 0.9800 - output3_recall: 0.9843 - output3_auc: 0.9986"
     ]
    },
    {
     "name": "stderr",
     "output_type": "stream",
     "text": [
      "WARNING:absl:Found untraced functions such as _jit_compiled_convolution_op, _jit_compiled_convolution_op, _jit_compiled_convolution_op, _jit_compiled_convolution_op, _jit_compiled_convolution_op while saving (showing 5 of 43). These functions will not be directly callable after loading.\n"
     ]
    },
    {
     "name": "stdout",
     "output_type": "stream",
     "text": [
      "INFO:tensorflow:Assets written to: timeseries_transformer\\assets\n"
     ]
    },
    {
     "name": "stderr",
     "output_type": "stream",
     "text": [
      "INFO:tensorflow:Assets written to: timeseries_transformer\\assets\n"
     ]
    },
    {
     "name": "stdout",
     "output_type": "stream",
     "text": [
      "36/36 [==============================] - 18s 517ms/step - loss: 0.2066 - output1_loss: 0.0724 - output2_loss: 0.0793 - output3_loss: 0.0548 - output1_precision: 0.9764 - output1_recall: 0.9747 - output1_auc: 0.9976 - output2_precision: 0.9611 - output2_recall: 0.9695 - output2_auc: 0.9971 - output3_precision: 0.9800 - output3_recall: 0.9843 - output3_auc: 0.9986 - val_loss: 0.5070 - val_output1_loss: 0.1381 - val_output2_loss: 0.2310 - val_output3_loss: 0.1378 - val_output1_precision: 0.9435 - val_output1_recall: 0.9336 - val_output1_auc: 0.9889 - val_output2_precision: 0.8873 - val_output2_recall: 0.8811 - val_output2_auc: 0.9696 - val_output3_precision: 0.9298 - val_output3_recall: 0.9266 - val_output3_auc: 0.9880 - lr: 0.0010\n",
      "Epoch 14/200\n",
      "36/36 [==============================] - ETA: 0s - loss: 0.2005 - output1_loss: 0.0666 - output2_loss: 0.0776 - output3_loss: 0.0563 - output1_precision: 0.9756 - output1_recall: 0.9747 - output1_auc: 0.9980 - output2_precision: 0.9721 - output2_recall: 0.9712 - output2_auc: 0.9968 - output3_precision: 0.9817 - output3_recall: 0.9799 - output3_auc: 0.9986"
     ]
    },
    {
     "name": "stderr",
     "output_type": "stream",
     "text": [
      "WARNING:absl:Found untraced functions such as _jit_compiled_convolution_op, _jit_compiled_convolution_op, _jit_compiled_convolution_op, _jit_compiled_convolution_op, _jit_compiled_convolution_op while saving (showing 5 of 43). These functions will not be directly callable after loading.\n"
     ]
    },
    {
     "name": "stdout",
     "output_type": "stream",
     "text": [
      "INFO:tensorflow:Assets written to: timeseries_transformer\\assets\n"
     ]
    },
    {
     "name": "stderr",
     "output_type": "stream",
     "text": [
      "INFO:tensorflow:Assets written to: timeseries_transformer\\assets\n"
     ]
    },
    {
     "name": "stdout",
     "output_type": "stream",
     "text": [
      "36/36 [==============================] - 19s 544ms/step - loss: 0.2005 - output1_loss: 0.0666 - output2_loss: 0.0776 - output3_loss: 0.0563 - output1_precision: 0.9756 - output1_recall: 0.9747 - output1_auc: 0.9980 - output2_precision: 0.9721 - output2_recall: 0.9712 - output2_auc: 0.9968 - output3_precision: 0.9817 - output3_recall: 0.9799 - output3_auc: 0.9986 - val_loss: 0.4887 - val_output1_loss: 0.1307 - val_output2_loss: 0.2285 - val_output3_loss: 0.1294 - val_output1_precision: 0.9474 - val_output1_recall: 0.9441 - val_output1_auc: 0.9902 - val_output2_precision: 0.8828 - val_output2_recall: 0.8951 - val_output2_auc: 0.9700 - val_output3_precision: 0.9404 - val_output3_recall: 0.9371 - val_output3_auc: 0.9895 - lr: 0.0010\n",
      "Epoch 15/200\n",
      "36/36 [==============================] - ETA: 0s - loss: 0.1721 - output1_loss: 0.0589 - output2_loss: 0.0710 - output3_loss: 0.0422 - output1_precision: 0.9834 - output1_recall: 0.9817 - output1_auc: 0.9987 - output2_precision: 0.9764 - output2_recall: 0.9738 - output2_auc: 0.9976 - output3_precision: 0.9895 - output3_recall: 0.9895 - output3_auc: 0.9995"
     ]
    },
    {
     "name": "stderr",
     "output_type": "stream",
     "text": [
      "WARNING:absl:Found untraced functions such as _jit_compiled_convolution_op, _jit_compiled_convolution_op, _jit_compiled_convolution_op, _jit_compiled_convolution_op, _jit_compiled_convolution_op while saving (showing 5 of 43). These functions will not be directly callable after loading.\n"
     ]
    },
    {
     "name": "stdout",
     "output_type": "stream",
     "text": [
      "INFO:tensorflow:Assets written to: timeseries_transformer\\assets\n"
     ]
    },
    {
     "name": "stderr",
     "output_type": "stream",
     "text": [
      "INFO:tensorflow:Assets written to: timeseries_transformer\\assets\n"
     ]
    },
    {
     "name": "stdout",
     "output_type": "stream",
     "text": [
      "36/36 [==============================] - 19s 537ms/step - loss: 0.1721 - output1_loss: 0.0589 - output2_loss: 0.0710 - output3_loss: 0.0422 - output1_precision: 0.9834 - output1_recall: 0.9817 - output1_auc: 0.9987 - output2_precision: 0.9764 - output2_recall: 0.9738 - output2_auc: 0.9976 - output3_precision: 0.9895 - output3_recall: 0.9895 - output3_auc: 0.9995 - val_loss: 0.4745 - val_output1_loss: 0.1320 - val_output2_loss: 0.2198 - val_output3_loss: 0.1227 - val_output1_precision: 0.9476 - val_output1_recall: 0.9476 - val_output1_auc: 0.9900 - val_output2_precision: 0.8912 - val_output2_recall: 0.8881 - val_output2_auc: 0.9724 - val_output3_precision: 0.9406 - val_output3_recall: 0.9406 - val_output3_auc: 0.9907 - lr: 0.0010\n",
      "Epoch 16/200\n",
      "36/36 [==============================] - ETA: 0s - loss: 0.1689 - output1_loss: 0.0619 - output2_loss: 0.0658 - output3_loss: 0.0412 - output1_precision: 0.9773 - output1_recall: 0.9773 - output1_auc: 0.9982 - output2_precision: 0.9764 - output2_recall: 0.9738 - output2_auc: 0.9979 - output3_precision: 0.9904 - output3_recall: 0.9895 - output3_auc: 0.9994"
     ]
    },
    {
     "name": "stderr",
     "output_type": "stream",
     "text": [
      "WARNING:absl:Found untraced functions such as _jit_compiled_convolution_op, _jit_compiled_convolution_op, _jit_compiled_convolution_op, _jit_compiled_convolution_op, _jit_compiled_convolution_op while saving (showing 5 of 43). These functions will not be directly callable after loading.\n"
     ]
    },
    {
     "name": "stdout",
     "output_type": "stream",
     "text": [
      "INFO:tensorflow:Assets written to: timeseries_transformer\\assets\n"
     ]
    },
    {
     "name": "stderr",
     "output_type": "stream",
     "text": [
      "INFO:tensorflow:Assets written to: timeseries_transformer\\assets\n"
     ]
    },
    {
     "name": "stdout",
     "output_type": "stream",
     "text": [
      "36/36 [==============================] - 18s 508ms/step - loss: 0.1689 - output1_loss: 0.0619 - output2_loss: 0.0658 - output3_loss: 0.0412 - output1_precision: 0.9773 - output1_recall: 0.9773 - output1_auc: 0.9982 - output2_precision: 0.9764 - output2_recall: 0.9738 - output2_auc: 0.9979 - output3_precision: 0.9904 - output3_recall: 0.9895 - output3_auc: 0.9994 - val_loss: 0.4640 - val_output1_loss: 0.1267 - val_output2_loss: 0.2140 - val_output3_loss: 0.1233 - val_output1_precision: 0.9476 - val_output1_recall: 0.9476 - val_output1_auc: 0.9906 - val_output2_precision: 0.8951 - val_output2_recall: 0.8951 - val_output2_auc: 0.9736 - val_output3_precision: 0.9373 - val_output3_recall: 0.9406 - val_output3_auc: 0.9905 - lr: 0.0010\n",
      "Epoch 17/200\n",
      "36/36 [==============================] - ETA: 0s - loss: 0.1621 - output1_loss: 0.0557 - output2_loss: 0.0649 - output3_loss: 0.0414 - output1_precision: 0.9791 - output1_recall: 0.9808 - output1_auc: 0.9987 - output2_precision: 0.9765 - output2_recall: 0.9773 - output2_auc: 0.9979 - output3_precision: 0.9895 - output3_recall: 0.9878 - output3_auc: 0.9994"
     ]
    },
    {
     "name": "stderr",
     "output_type": "stream",
     "text": [
      "WARNING:absl:Found untraced functions such as _jit_compiled_convolution_op, _jit_compiled_convolution_op, _jit_compiled_convolution_op, _jit_compiled_convolution_op, _jit_compiled_convolution_op while saving (showing 5 of 43). These functions will not be directly callable after loading.\n"
     ]
    },
    {
     "name": "stdout",
     "output_type": "stream",
     "text": [
      "INFO:tensorflow:Assets written to: timeseries_transformer\\assets\n"
     ]
    },
    {
     "name": "stderr",
     "output_type": "stream",
     "text": [
      "INFO:tensorflow:Assets written to: timeseries_transformer\\assets\n"
     ]
    },
    {
     "name": "stdout",
     "output_type": "stream",
     "text": [
      "36/36 [==============================] - 19s 520ms/step - loss: 0.1621 - output1_loss: 0.0557 - output2_loss: 0.0649 - output3_loss: 0.0414 - output1_precision: 0.9791 - output1_recall: 0.9808 - output1_auc: 0.9987 - output2_precision: 0.9765 - output2_recall: 0.9773 - output2_auc: 0.9979 - output3_precision: 0.9895 - output3_recall: 0.9878 - output3_auc: 0.9994 - val_loss: 0.4497 - val_output1_loss: 0.1238 - val_output2_loss: 0.2065 - val_output3_loss: 0.1195 - val_output1_precision: 0.9545 - val_output1_recall: 0.9545 - val_output1_auc: 0.9908 - val_output2_precision: 0.8979 - val_output2_recall: 0.8916 - val_output2_auc: 0.9752 - val_output3_precision: 0.9468 - val_output3_recall: 0.9336 - val_output3_auc: 0.9908 - lr: 0.0010\n",
      "Epoch 18/200\n",
      "36/36 [==============================] - ETA: 0s - loss: 0.1461 - output1_loss: 0.0519 - output2_loss: 0.0582 - output3_loss: 0.0359 - output1_precision: 0.9817 - output1_recall: 0.9826 - output1_auc: 0.9990 - output2_precision: 0.9774 - output2_recall: 0.9799 - output2_auc: 0.9987 - output3_precision: 0.9939 - output3_recall: 0.9904 - output3_auc: 0.9996"
     ]
    },
    {
     "name": "stderr",
     "output_type": "stream",
     "text": [
      "WARNING:absl:Found untraced functions such as _jit_compiled_convolution_op, _jit_compiled_convolution_op, _jit_compiled_convolution_op, _jit_compiled_convolution_op, _jit_compiled_convolution_op while saving (showing 5 of 43). These functions will not be directly callable after loading.\n"
     ]
    },
    {
     "name": "stdout",
     "output_type": "stream",
     "text": [
      "INFO:tensorflow:Assets written to: timeseries_transformer\\assets\n"
     ]
    },
    {
     "name": "stderr",
     "output_type": "stream",
     "text": [
      "INFO:tensorflow:Assets written to: timeseries_transformer\\assets\n"
     ]
    },
    {
     "name": "stdout",
     "output_type": "stream",
     "text": [
      "36/36 [==============================] - 19s 533ms/step - loss: 0.1461 - output1_loss: 0.0519 - output2_loss: 0.0582 - output3_loss: 0.0359 - output1_precision: 0.9817 - output1_recall: 0.9826 - output1_auc: 0.9990 - output2_precision: 0.9774 - output2_recall: 0.9799 - output2_auc: 0.9987 - output3_precision: 0.9939 - output3_recall: 0.9904 - output3_auc: 0.9996 - val_loss: 0.4438 - val_output1_loss: 0.1224 - val_output2_loss: 0.2041 - val_output3_loss: 0.1172 - val_output1_precision: 0.9474 - val_output1_recall: 0.9441 - val_output1_auc: 0.9912 - val_output2_precision: 0.9014 - val_output2_recall: 0.8951 - val_output2_auc: 0.9758 - val_output3_precision: 0.9303 - val_output3_recall: 0.9336 - val_output3_auc: 0.9910 - lr: 0.0010\n",
      "Epoch 19/200\n",
      "36/36 [==============================] - ETA: 0s - loss: 0.1308 - output1_loss: 0.0467 - output2_loss: 0.0549 - output3_loss: 0.0292 - output1_precision: 0.9860 - output1_recall: 0.9852 - output1_auc: 0.9992 - output2_precision: 0.9808 - output2_recall: 0.9782 - output2_auc: 0.9988 - output3_precision: 0.9939 - output3_recall: 0.9922 - output3_auc: 0.9998"
     ]
    },
    {
     "name": "stderr",
     "output_type": "stream",
     "text": [
      "WARNING:absl:Found untraced functions such as _jit_compiled_convolution_op, _jit_compiled_convolution_op, _jit_compiled_convolution_op, _jit_compiled_convolution_op, _jit_compiled_convolution_op while saving (showing 5 of 43). These functions will not be directly callable after loading.\n"
     ]
    },
    {
     "name": "stdout",
     "output_type": "stream",
     "text": [
      "INFO:tensorflow:Assets written to: timeseries_transformer\\assets\n"
     ]
    },
    {
     "name": "stderr",
     "output_type": "stream",
     "text": [
      "INFO:tensorflow:Assets written to: timeseries_transformer\\assets\n"
     ]
    },
    {
     "name": "stdout",
     "output_type": "stream",
     "text": [
      "36/36 [==============================] - 18s 496ms/step - loss: 0.1308 - output1_loss: 0.0467 - output2_loss: 0.0549 - output3_loss: 0.0292 - output1_precision: 0.9860 - output1_recall: 0.9852 - output1_auc: 0.9992 - output2_precision: 0.9808 - output2_recall: 0.9782 - output2_auc: 0.9988 - output3_precision: 0.9939 - output3_recall: 0.9922 - output3_auc: 0.9998 - val_loss: 0.4271 - val_output1_loss: 0.1181 - val_output2_loss: 0.1969 - val_output3_loss: 0.1120 - val_output1_precision: 0.9510 - val_output1_recall: 0.9510 - val_output1_auc: 0.9916 - val_output2_precision: 0.9014 - val_output2_recall: 0.8951 - val_output2_auc: 0.9771 - val_output3_precision: 0.9509 - val_output3_recall: 0.9476 - val_output3_auc: 0.9922 - lr: 0.0010\n",
      "Epoch 20/200\n",
      "36/36 [==============================] - 14s 382ms/step - loss: 0.1261 - output1_loss: 0.0439 - output2_loss: 0.0556 - output3_loss: 0.0267 - output1_precision: 0.9887 - output1_recall: 0.9887 - output1_auc: 0.9993 - output2_precision: 0.9790 - output2_recall: 0.9773 - output2_auc: 0.9986 - output3_precision: 0.9939 - output3_recall: 0.9965 - output3_auc: 0.9998 - val_loss: 0.4356 - val_output1_loss: 0.1261 - val_output2_loss: 0.1967 - val_output3_loss: 0.1128 - val_output1_precision: 0.9399 - val_output1_recall: 0.9301 - val_output1_auc: 0.9907 - val_output2_precision: 0.8955 - val_output2_recall: 0.8986 - val_output2_auc: 0.9773 - val_output3_precision: 0.9476 - val_output3_recall: 0.9476 - val_output3_auc: 0.9920 - lr: 0.0010\n",
      "Epoch 21/200\n",
      "36/36 [==============================] - ETA: 0s - loss: 0.1211 - output1_loss: 0.0396 - output2_loss: 0.0513 - output3_loss: 0.0302 - output1_precision: 0.9904 - output1_recall: 0.9887 - output1_auc: 0.9994 - output2_precision: 0.9799 - output2_recall: 0.9791 - output2_auc: 0.9989 - output3_precision: 0.9930 - output3_recall: 0.9913 - output3_auc: 0.9997"
     ]
    },
    {
     "name": "stderr",
     "output_type": "stream",
     "text": [
      "WARNING:absl:Found untraced functions such as _jit_compiled_convolution_op, _jit_compiled_convolution_op, _jit_compiled_convolution_op, _jit_compiled_convolution_op, _jit_compiled_convolution_op while saving (showing 5 of 43). These functions will not be directly callable after loading.\n"
     ]
    },
    {
     "name": "stdout",
     "output_type": "stream",
     "text": [
      "INFO:tensorflow:Assets written to: timeseries_transformer\\assets\n"
     ]
    },
    {
     "name": "stderr",
     "output_type": "stream",
     "text": [
      "INFO:tensorflow:Assets written to: timeseries_transformer\\assets\n"
     ]
    },
    {
     "name": "stdout",
     "output_type": "stream",
     "text": [
      "36/36 [==============================] - 19s 519ms/step - loss: 0.1211 - output1_loss: 0.0396 - output2_loss: 0.0513 - output3_loss: 0.0302 - output1_precision: 0.9904 - output1_recall: 0.9887 - output1_auc: 0.9994 - output2_precision: 0.9799 - output2_recall: 0.9791 - output2_auc: 0.9989 - output3_precision: 0.9930 - output3_recall: 0.9913 - output3_auc: 0.9997 - val_loss: 0.4206 - val_output1_loss: 0.1205 - val_output2_loss: 0.1913 - val_output3_loss: 0.1088 - val_output1_precision: 0.9507 - val_output1_recall: 0.9441 - val_output1_auc: 0.9914 - val_output2_precision: 0.8982 - val_output2_recall: 0.8951 - val_output2_auc: 0.9785 - val_output3_precision: 0.9441 - val_output3_recall: 0.9441 - val_output3_auc: 0.9925 - lr: 0.0010\n",
      "Epoch 22/200\n",
      "36/36 [==============================] - ETA: 0s - loss: 0.1088 - output1_loss: 0.0378 - output2_loss: 0.0455 - output3_loss: 0.0256 - output1_precision: 0.9870 - output1_recall: 0.9913 - output1_auc: 0.9997 - output2_precision: 0.9817 - output2_recall: 0.9808 - output2_auc: 0.9991 - output3_precision: 0.9965 - output3_recall: 0.9948 - output3_auc: 0.9998"
     ]
    },
    {
     "name": "stderr",
     "output_type": "stream",
     "text": [
      "WARNING:absl:Found untraced functions such as _jit_compiled_convolution_op, _jit_compiled_convolution_op, _jit_compiled_convolution_op, _jit_compiled_convolution_op, _jit_compiled_convolution_op while saving (showing 5 of 43). These functions will not be directly callable after loading.\n"
     ]
    },
    {
     "name": "stdout",
     "output_type": "stream",
     "text": [
      "INFO:tensorflow:Assets written to: timeseries_transformer\\assets\n"
     ]
    },
    {
     "name": "stderr",
     "output_type": "stream",
     "text": [
      "INFO:tensorflow:Assets written to: timeseries_transformer\\assets\n"
     ]
    },
    {
     "name": "stdout",
     "output_type": "stream",
     "text": [
      "36/36 [==============================] - 17s 489ms/step - loss: 0.1088 - output1_loss: 0.0378 - output2_loss: 0.0455 - output3_loss: 0.0256 - output1_precision: 0.9870 - output1_recall: 0.9913 - output1_auc: 0.9997 - output2_precision: 0.9817 - output2_recall: 0.9808 - output2_auc: 0.9991 - output3_precision: 0.9965 - output3_recall: 0.9948 - output3_auc: 0.9998 - val_loss: 0.4082 - val_output1_loss: 0.1150 - val_output2_loss: 0.1878 - val_output3_loss: 0.1054 - val_output1_precision: 0.9544 - val_output1_recall: 0.9510 - val_output1_auc: 0.9921 - val_output2_precision: 0.9053 - val_output2_recall: 0.9021 - val_output2_auc: 0.9793 - val_output3_precision: 0.9476 - val_output3_recall: 0.9476 - val_output3_auc: 0.9931 - lr: 0.0010\n",
      "Epoch 23/200\n",
      "36/36 [==============================] - ETA: 0s - loss: 0.1031 - output1_loss: 0.0348 - output2_loss: 0.0445 - output3_loss: 0.0238 - output1_precision: 0.9913 - output1_recall: 0.9895 - output1_auc: 0.9997 - output2_precision: 0.9817 - output2_recall: 0.9808 - output2_auc: 0.9993 - output3_precision: 0.9939 - output3_recall: 0.9930 - output3_auc: 0.9998"
     ]
    },
    {
     "name": "stderr",
     "output_type": "stream",
     "text": [
      "WARNING:absl:Found untraced functions such as _jit_compiled_convolution_op, _jit_compiled_convolution_op, _jit_compiled_convolution_op, _jit_compiled_convolution_op, _jit_compiled_convolution_op while saving (showing 5 of 43). These functions will not be directly callable after loading.\n"
     ]
    },
    {
     "name": "stdout",
     "output_type": "stream",
     "text": [
      "INFO:tensorflow:Assets written to: timeseries_transformer\\assets\n"
     ]
    },
    {
     "name": "stderr",
     "output_type": "stream",
     "text": [
      "INFO:tensorflow:Assets written to: timeseries_transformer\\assets\n"
     ]
    },
    {
     "name": "stdout",
     "output_type": "stream",
     "text": [
      "36/36 [==============================] - 18s 511ms/step - loss: 0.1031 - output1_loss: 0.0348 - output2_loss: 0.0445 - output3_loss: 0.0238 - output1_precision: 0.9913 - output1_recall: 0.9895 - output1_auc: 0.9997 - output2_precision: 0.9817 - output2_recall: 0.9808 - output2_auc: 0.9993 - output3_precision: 0.9939 - output3_recall: 0.9930 - output3_auc: 0.9998 - val_loss: 0.4080 - val_output1_loss: 0.1174 - val_output2_loss: 0.1885 - val_output3_loss: 0.1021 - val_output1_precision: 0.9544 - val_output1_recall: 0.9510 - val_output1_auc: 0.9917 - val_output2_precision: 0.9056 - val_output2_recall: 0.9056 - val_output2_auc: 0.9788 - val_output3_precision: 0.9573 - val_output3_recall: 0.9406 - val_output3_auc: 0.9934 - lr: 0.0010\n",
      "Epoch 24/200\n",
      "36/36 [==============================] - ETA: 0s - loss: 0.0995 - output1_loss: 0.0327 - output2_loss: 0.0446 - output3_loss: 0.0222 - output1_precision: 0.9895 - output1_recall: 0.9904 - output1_auc: 0.9997 - output2_precision: 0.9835 - output2_recall: 0.9861 - output2_auc: 0.9993 - output3_precision: 0.9956 - output3_recall: 0.9956 - output3_auc: 0.9998"
     ]
    },
    {
     "name": "stderr",
     "output_type": "stream",
     "text": [
      "WARNING:absl:Found untraced functions such as _jit_compiled_convolution_op, _jit_compiled_convolution_op, _jit_compiled_convolution_op, _jit_compiled_convolution_op, _jit_compiled_convolution_op while saving (showing 5 of 43). These functions will not be directly callable after loading.\n"
     ]
    },
    {
     "name": "stdout",
     "output_type": "stream",
     "text": [
      "INFO:tensorflow:Assets written to: timeseries_transformer\\assets\n"
     ]
    },
    {
     "name": "stderr",
     "output_type": "stream",
     "text": [
      "INFO:tensorflow:Assets written to: timeseries_transformer\\assets\n"
     ]
    },
    {
     "name": "stdout",
     "output_type": "stream",
     "text": [
      "36/36 [==============================] - 19s 520ms/step - loss: 0.0995 - output1_loss: 0.0327 - output2_loss: 0.0446 - output3_loss: 0.0222 - output1_precision: 0.9895 - output1_recall: 0.9904 - output1_auc: 0.9997 - output2_precision: 0.9835 - output2_recall: 0.9861 - output2_auc: 0.9993 - output3_precision: 0.9956 - output3_recall: 0.9956 - output3_auc: 0.9998 - val_loss: 0.3985 - val_output1_loss: 0.1119 - val_output2_loss: 0.1862 - val_output3_loss: 0.1005 - val_output1_precision: 0.9544 - val_output1_recall: 0.9510 - val_output1_auc: 0.9922 - val_output2_precision: 0.9056 - val_output2_recall: 0.9056 - val_output2_auc: 0.9793 - val_output3_precision: 0.9609 - val_output3_recall: 0.9441 - val_output3_auc: 0.9937 - lr: 0.0010\n",
      "Epoch 25/200\n",
      "36/36 [==============================] - ETA: 0s - loss: 0.0893 - output1_loss: 0.0297 - output2_loss: 0.0388 - output3_loss: 0.0209 - output1_precision: 0.9948 - output1_recall: 0.9930 - output1_auc: 0.9999 - output2_precision: 0.9861 - output2_recall: 0.9878 - output2_auc: 0.9995 - output3_precision: 0.9974 - output3_recall: 0.9974 - output3_auc: 1.0000"
     ]
    },
    {
     "name": "stderr",
     "output_type": "stream",
     "text": [
      "WARNING:absl:Found untraced functions such as _jit_compiled_convolution_op, _jit_compiled_convolution_op, _jit_compiled_convolution_op, _jit_compiled_convolution_op, _jit_compiled_convolution_op while saving (showing 5 of 43). These functions will not be directly callable after loading.\n"
     ]
    },
    {
     "name": "stdout",
     "output_type": "stream",
     "text": [
      "INFO:tensorflow:Assets written to: timeseries_transformer\\assets\n"
     ]
    },
    {
     "name": "stderr",
     "output_type": "stream",
     "text": [
      "INFO:tensorflow:Assets written to: timeseries_transformer\\assets\n"
     ]
    },
    {
     "name": "stdout",
     "output_type": "stream",
     "text": [
      "36/36 [==============================] - 18s 514ms/step - loss: 0.0893 - output1_loss: 0.0297 - output2_loss: 0.0388 - output3_loss: 0.0209 - output1_precision: 0.9948 - output1_recall: 0.9930 - output1_auc: 0.9999 - output2_precision: 0.9861 - output2_recall: 0.9878 - output2_auc: 0.9995 - output3_precision: 0.9974 - output3_recall: 0.9974 - output3_auc: 1.0000 - val_loss: 0.3964 - val_output1_loss: 0.1104 - val_output2_loss: 0.1879 - val_output3_loss: 0.0980 - val_output1_precision: 0.9544 - val_output1_recall: 0.9510 - val_output1_auc: 0.9924 - val_output2_precision: 0.8993 - val_output2_recall: 0.9056 - val_output2_auc: 0.9792 - val_output3_precision: 0.9579 - val_output3_recall: 0.9545 - val_output3_auc: 0.9940 - lr: 0.0010\n",
      "Epoch 26/200\n",
      "36/36 [==============================] - ETA: 0s - loss: 0.0896 - output1_loss: 0.0292 - output2_loss: 0.0366 - output3_loss: 0.0238 - output1_precision: 0.9939 - output1_recall: 0.9939 - output1_auc: 0.9998 - output2_precision: 0.9869 - output2_recall: 0.9887 - output2_auc: 0.9996 - output3_precision: 0.9922 - output3_recall: 0.9956 - output3_auc: 0.9999"
     ]
    },
    {
     "name": "stderr",
     "output_type": "stream",
     "text": [
      "WARNING:absl:Found untraced functions such as _jit_compiled_convolution_op, _jit_compiled_convolution_op, _jit_compiled_convolution_op, _jit_compiled_convolution_op, _jit_compiled_convolution_op while saving (showing 5 of 43). These functions will not be directly callable after loading.\n"
     ]
    },
    {
     "name": "stdout",
     "output_type": "stream",
     "text": [
      "INFO:tensorflow:Assets written to: timeseries_transformer\\assets\n"
     ]
    },
    {
     "name": "stderr",
     "output_type": "stream",
     "text": [
      "INFO:tensorflow:Assets written to: timeseries_transformer\\assets\n"
     ]
    },
    {
     "name": "stdout",
     "output_type": "stream",
     "text": [
      "36/36 [==============================] - 18s 516ms/step - loss: 0.0896 - output1_loss: 0.0292 - output2_loss: 0.0366 - output3_loss: 0.0238 - output1_precision: 0.9939 - output1_recall: 0.9939 - output1_auc: 0.9998 - output2_precision: 0.9869 - output2_recall: 0.9887 - output2_auc: 0.9996 - output3_precision: 0.9922 - output3_recall: 0.9956 - output3_auc: 0.9999 - val_loss: 0.3820 - val_output1_loss: 0.1106 - val_output2_loss: 0.1768 - val_output3_loss: 0.0947 - val_output1_precision: 0.9542 - val_output1_recall: 0.9476 - val_output1_auc: 0.9924 - val_output2_precision: 0.9123 - val_output2_recall: 0.9091 - val_output2_auc: 0.9811 - val_output3_precision: 0.9615 - val_output3_recall: 0.9615 - val_output3_auc: 0.9945 - lr: 0.0010\n",
      "Epoch 27/200\n",
      "36/36 [==============================] - 14s 386ms/step - loss: 0.0815 - output1_loss: 0.0232 - output2_loss: 0.0387 - output3_loss: 0.0195 - output1_precision: 0.9965 - output1_recall: 0.9974 - output1_auc: 0.9999 - output2_precision: 0.9834 - output2_recall: 0.9808 - output2_auc: 0.9994 - output3_precision: 0.9974 - output3_recall: 0.9983 - output3_auc: 1.0000 - val_loss: 0.3880 - val_output1_loss: 0.1109 - val_output2_loss: 0.1856 - val_output3_loss: 0.0916 - val_output1_precision: 0.9542 - val_output1_recall: 0.9476 - val_output1_auc: 0.9925 - val_output2_precision: 0.8993 - val_output2_recall: 0.9056 - val_output2_auc: 0.9795 - val_output3_precision: 0.9645 - val_output3_recall: 0.9510 - val_output3_auc: 0.9949 - lr: 0.0010\n",
      "Epoch 28/200\n",
      "36/36 [==============================] - 14s 380ms/step - loss: 0.0791 - output1_loss: 0.0264 - output2_loss: 0.0352 - output3_loss: 0.0175 - output1_precision: 0.9948 - output1_recall: 0.9922 - output1_auc: 0.9999 - output2_precision: 0.9930 - output2_recall: 0.9895 - output2_auc: 0.9996 - output3_precision: 0.9983 - output3_recall: 0.9983 - output3_auc: 1.0000 - val_loss: 0.3846 - val_output1_loss: 0.1078 - val_output2_loss: 0.1827 - val_output3_loss: 0.0942 - val_output1_precision: 0.9542 - val_output1_recall: 0.9476 - val_output1_auc: 0.9932 - val_output2_precision: 0.9062 - val_output2_recall: 0.9126 - val_output2_auc: 0.9802 - val_output3_precision: 0.9650 - val_output3_recall: 0.9650 - val_output3_auc: 0.9946 - lr: 0.0010\n",
      "Epoch 29/200\n",
      "36/36 [==============================] - ETA: 0s - loss: 0.0759 - output1_loss: 0.0243 - output2_loss: 0.0325 - output3_loss: 0.0191 - output1_precision: 0.9956 - output1_recall: 0.9948 - output1_auc: 0.9998 - output2_precision: 0.9921 - output2_recall: 0.9913 - output2_auc: 0.9997 - output3_precision: 0.9965 - output3_recall: 0.9974 - output3_auc: 1.0000"
     ]
    },
    {
     "name": "stderr",
     "output_type": "stream",
     "text": [
      "WARNING:absl:Found untraced functions such as _jit_compiled_convolution_op, _jit_compiled_convolution_op, _jit_compiled_convolution_op, _jit_compiled_convolution_op, _jit_compiled_convolution_op while saving (showing 5 of 43). These functions will not be directly callable after loading.\n"
     ]
    },
    {
     "name": "stdout",
     "output_type": "stream",
     "text": [
      "INFO:tensorflow:Assets written to: timeseries_transformer\\assets\n"
     ]
    },
    {
     "name": "stderr",
     "output_type": "stream",
     "text": [
      "INFO:tensorflow:Assets written to: timeseries_transformer\\assets\n"
     ]
    },
    {
     "name": "stdout",
     "output_type": "stream",
     "text": [
      "36/36 [==============================] - 17s 488ms/step - loss: 0.0759 - output1_loss: 0.0243 - output2_loss: 0.0325 - output3_loss: 0.0191 - output1_precision: 0.9956 - output1_recall: 0.9948 - output1_auc: 0.9998 - output2_precision: 0.9921 - output2_recall: 0.9913 - output2_auc: 0.9997 - output3_precision: 0.9965 - output3_recall: 0.9974 - output3_auc: 1.0000 - val_loss: 0.3746 - val_output1_loss: 0.1090 - val_output2_loss: 0.1734 - val_output3_loss: 0.0923 - val_output1_precision: 0.9545 - val_output1_recall: 0.9545 - val_output1_auc: 0.9927 - val_output2_precision: 0.9164 - val_output2_recall: 0.9196 - val_output2_auc: 0.9819 - val_output3_precision: 0.9685 - val_output3_recall: 0.9685 - val_output3_auc: 0.9937 - lr: 0.0010\n",
      "Epoch 30/200\n",
      "36/36 [==============================] - ETA: 0s - loss: 0.0670 - output1_loss: 0.0210 - output2_loss: 0.0293 - output3_loss: 0.0167 - output1_precision: 0.9965 - output1_recall: 0.9974 - output1_auc: 1.0000 - output2_precision: 0.9939 - output2_recall: 0.9922 - output2_auc: 0.9998 - output3_precision: 0.9991 - output3_recall: 0.9965 - output3_auc: 1.0000"
     ]
    },
    {
     "name": "stderr",
     "output_type": "stream",
     "text": [
      "WARNING:absl:Found untraced functions such as _jit_compiled_convolution_op, _jit_compiled_convolution_op, _jit_compiled_convolution_op, _jit_compiled_convolution_op, _jit_compiled_convolution_op while saving (showing 5 of 43). These functions will not be directly callable after loading.\n"
     ]
    },
    {
     "name": "stdout",
     "output_type": "stream",
     "text": [
      "INFO:tensorflow:Assets written to: timeseries_transformer\\assets\n"
     ]
    },
    {
     "name": "stderr",
     "output_type": "stream",
     "text": [
      "INFO:tensorflow:Assets written to: timeseries_transformer\\assets\n"
     ]
    },
    {
     "name": "stdout",
     "output_type": "stream",
     "text": [
      "36/36 [==============================] - 18s 499ms/step - loss: 0.0670 - output1_loss: 0.0210 - output2_loss: 0.0293 - output3_loss: 0.0167 - output1_precision: 0.9965 - output1_recall: 0.9974 - output1_auc: 1.0000 - output2_precision: 0.9939 - output2_recall: 0.9922 - output2_auc: 0.9998 - output3_precision: 0.9991 - output3_recall: 0.9965 - output3_auc: 1.0000 - val_loss: 0.3725 - val_output1_loss: 0.1116 - val_output2_loss: 0.1705 - val_output3_loss: 0.0904 - val_output1_precision: 0.9544 - val_output1_recall: 0.9510 - val_output1_auc: 0.9925 - val_output2_precision: 0.9161 - val_output2_recall: 0.9161 - val_output2_auc: 0.9825 - val_output3_precision: 0.9650 - val_output3_recall: 0.9650 - val_output3_auc: 0.9950 - lr: 0.0010\n",
      "Epoch 31/200\n",
      "36/36 [==============================] - 14s 391ms/step - loss: 0.0614 - output1_loss: 0.0206 - output2_loss: 0.0266 - output3_loss: 0.0142 - output1_precision: 0.9965 - output1_recall: 0.9965 - output1_auc: 0.9999 - output2_precision: 0.9939 - output2_recall: 0.9904 - output2_auc: 0.9999 - output3_precision: 0.9974 - output3_recall: 0.9965 - output3_auc: 1.0000 - val_loss: 0.3745 - val_output1_loss: 0.1106 - val_output2_loss: 0.1736 - val_output3_loss: 0.0903 - val_output1_precision: 0.9544 - val_output1_recall: 0.9510 - val_output1_auc: 0.9926 - val_output2_precision: 0.9132 - val_output2_recall: 0.9196 - val_output2_auc: 0.9820 - val_output3_precision: 0.9685 - val_output3_recall: 0.9685 - val_output3_auc: 0.9951 - lr: 0.0010\n",
      "Epoch 32/200\n",
      "36/36 [==============================] - ETA: 0s - loss: 0.0584 - output1_loss: 0.0179 - output2_loss: 0.0273 - output3_loss: 0.0132 - output1_precision: 0.9956 - output1_recall: 0.9965 - output1_auc: 1.0000 - output2_precision: 0.9904 - output2_recall: 0.9939 - output2_auc: 0.9997 - output3_precision: 0.9983 - output3_recall: 0.9991 - output3_auc: 1.0000"
     ]
    },
    {
     "name": "stderr",
     "output_type": "stream",
     "text": [
      "WARNING:absl:Found untraced functions such as _jit_compiled_convolution_op, _jit_compiled_convolution_op, _jit_compiled_convolution_op, _jit_compiled_convolution_op, _jit_compiled_convolution_op while saving (showing 5 of 43). These functions will not be directly callable after loading.\n"
     ]
    },
    {
     "name": "stdout",
     "output_type": "stream",
     "text": [
      "INFO:tensorflow:Assets written to: timeseries_transformer\\assets\n"
     ]
    },
    {
     "name": "stderr",
     "output_type": "stream",
     "text": [
      "INFO:tensorflow:Assets written to: timeseries_transformer\\assets\n"
     ]
    },
    {
     "name": "stdout",
     "output_type": "stream",
     "text": [
      "36/36 [==============================] - 18s 507ms/step - loss: 0.0584 - output1_loss: 0.0179 - output2_loss: 0.0273 - output3_loss: 0.0132 - output1_precision: 0.9956 - output1_recall: 0.9965 - output1_auc: 1.0000 - output2_precision: 0.9904 - output2_recall: 0.9939 - output2_auc: 0.9997 - output3_precision: 0.9983 - output3_recall: 0.9991 - output3_auc: 1.0000 - val_loss: 0.3604 - val_output1_loss: 0.1088 - val_output2_loss: 0.1607 - val_output3_loss: 0.0909 - val_output1_precision: 0.9544 - val_output1_recall: 0.9510 - val_output1_auc: 0.9930 - val_output2_precision: 0.9263 - val_output2_recall: 0.9231 - val_output2_auc: 0.9844 - val_output3_precision: 0.9582 - val_output3_recall: 0.9615 - val_output3_auc: 0.9949 - lr: 0.0010\n",
      "Epoch 33/200\n",
      "36/36 [==============================] - 15s 415ms/step - loss: 0.0568 - output1_loss: 0.0196 - output2_loss: 0.0238 - output3_loss: 0.0135 - output1_precision: 0.9983 - output1_recall: 0.9965 - output1_auc: 0.9998 - output2_precision: 0.9948 - output2_recall: 0.9965 - output2_auc: 0.9999 - output3_precision: 0.9974 - output3_recall: 0.9991 - output3_auc: 1.0000 - val_loss: 0.3700 - val_output1_loss: 0.1106 - val_output2_loss: 0.1680 - val_output3_loss: 0.0914 - val_output1_precision: 0.9542 - val_output1_recall: 0.9476 - val_output1_auc: 0.9930 - val_output2_precision: 0.9196 - val_output2_recall: 0.9196 - val_output2_auc: 0.9833 - val_output3_precision: 0.9682 - val_output3_recall: 0.9580 - val_output3_auc: 0.9939 - lr: 0.0010\n",
      "Epoch 34/200\n",
      "36/36 [==============================] - 15s 408ms/step - loss: 0.0558 - output1_loss: 0.0196 - output2_loss: 0.0224 - output3_loss: 0.0138 - output1_precision: 0.9956 - output1_recall: 0.9948 - output1_auc: 0.9999 - output2_precision: 0.9974 - output2_recall: 0.9939 - output2_auc: 0.9999 - output3_precision: 0.9965 - output3_recall: 0.9983 - output3_auc: 1.0000 - val_loss: 0.3705 - val_output1_loss: 0.1071 - val_output2_loss: 0.1713 - val_output3_loss: 0.0921 - val_output1_precision: 0.9542 - val_output1_recall: 0.9476 - val_output1_auc: 0.9932 - val_output2_precision: 0.9190 - val_output2_recall: 0.9126 - val_output2_auc: 0.9826 - val_output3_precision: 0.9683 - val_output3_recall: 0.9615 - val_output3_auc: 0.9925 - lr: 0.0010\n",
      "Epoch 35/200\n",
      "36/36 [==============================] - 14s 389ms/step - loss: 0.0512 - output1_loss: 0.0190 - output2_loss: 0.0231 - output3_loss: 0.0092 - output1_precision: 0.9965 - output1_recall: 0.9983 - output1_auc: 1.0000 - output2_precision: 0.9956 - output2_recall: 0.9965 - output2_auc: 0.9998 - output3_precision: 1.0000 - output3_recall: 1.0000 - output3_auc: 1.0000 - val_loss: 0.3749 - val_output1_loss: 0.1144 - val_output2_loss: 0.1695 - val_output3_loss: 0.0910 - val_output1_precision: 0.9512 - val_output1_recall: 0.9545 - val_output1_auc: 0.9928 - val_output2_precision: 0.9196 - val_output2_recall: 0.9196 - val_output2_auc: 0.9830 - val_output3_precision: 0.9684 - val_output3_recall: 0.9650 - val_output3_auc: 0.9938 - lr: 0.0010\n",
      "Epoch 36/200\n",
      "36/36 [==============================] - 15s 405ms/step - loss: 0.0493 - output1_loss: 0.0163 - output2_loss: 0.0230 - output3_loss: 0.0099 - output1_precision: 0.9974 - output1_recall: 0.9965 - output1_auc: 1.0000 - output2_precision: 0.9939 - output2_recall: 0.9930 - output2_auc: 0.9999 - output3_precision: 0.9991 - output3_recall: 0.9991 - output3_auc: 1.0000 - val_loss: 0.3705 - val_output1_loss: 0.1072 - val_output2_loss: 0.1688 - val_output3_loss: 0.0945 - val_output1_precision: 0.9512 - val_output1_recall: 0.9545 - val_output1_auc: 0.9936 - val_output2_precision: 0.9301 - val_output2_recall: 0.9301 - val_output2_auc: 0.9832 - val_output3_precision: 0.9579 - val_output3_recall: 0.9545 - val_output3_auc: 0.9948 - lr: 0.0010\n",
      "Epoch 37/200\n",
      "36/36 [==============================] - 14s 383ms/step - loss: 0.0449 - output1_loss: 0.0143 - output2_loss: 0.0215 - output3_loss: 0.0091 - output1_precision: 1.0000 - output1_recall: 1.0000 - output1_auc: 1.0000 - output2_precision: 0.9974 - output2_recall: 0.9983 - output2_auc: 0.9999 - output3_precision: 0.9983 - output3_recall: 0.9991 - output3_auc: 1.0000 - val_loss: 0.3711 - val_output1_loss: 0.1109 - val_output2_loss: 0.1717 - val_output3_loss: 0.0885 - val_output1_precision: 0.9545 - val_output1_recall: 0.9545 - val_output1_auc: 0.9931 - val_output2_precision: 0.9201 - val_output2_recall: 0.9266 - val_output2_auc: 0.9828 - val_output3_precision: 0.9684 - val_output3_recall: 0.9650 - val_output3_auc: 0.9929 - lr: 0.0010\n",
      "Epoch 38/200\n",
      "36/36 [==============================] - 16s 453ms/step - loss: 0.0454 - output1_loss: 0.0152 - output2_loss: 0.0179 - output3_loss: 0.0123 - output1_precision: 0.9965 - output1_recall: 0.9974 - output1_auc: 1.0000 - output2_precision: 0.9991 - output2_recall: 0.9974 - output2_auc: 1.0000 - output3_precision: 0.9974 - output3_recall: 0.9974 - output3_auc: 1.0000 - val_loss: 0.3619 - val_output1_loss: 0.1090 - val_output2_loss: 0.1628 - val_output3_loss: 0.0901 - val_output1_precision: 0.9579 - val_output1_recall: 0.9545 - val_output1_auc: 0.9928 - val_output2_precision: 0.9239 - val_output2_recall: 0.9336 - val_output2_auc: 0.9845 - val_output3_precision: 0.9650 - val_output3_recall: 0.9650 - val_output3_auc: 0.9926 - lr: 0.0010\n",
      "Epoch 39/200\n",
      "36/36 [==============================] - 16s 445ms/step - loss: 0.0417 - output1_loss: 0.0147 - output2_loss: 0.0178 - output3_loss: 0.0091 - output1_precision: 0.9983 - output1_recall: 0.9991 - output1_auc: 1.0000 - output2_precision: 0.9974 - output2_recall: 0.9983 - output2_auc: 1.0000 - output3_precision: 0.9991 - output3_recall: 0.9991 - output3_auc: 1.0000 - val_loss: 0.3655 - val_output1_loss: 0.1123 - val_output2_loss: 0.1635 - val_output3_loss: 0.0897 - val_output1_precision: 0.9579 - val_output1_recall: 0.9545 - val_output1_auc: 0.9931 - val_output2_precision: 0.9271 - val_output2_recall: 0.9336 - val_output2_auc: 0.9842 - val_output3_precision: 0.9650 - val_output3_recall: 0.9650 - val_output3_auc: 0.9950 - lr: 0.0010\n",
      "Epoch 40/200\n",
      "36/36 [==============================] - ETA: 0s - loss: 0.0426 - output1_loss: 0.0150 - output2_loss: 0.0189 - output3_loss: 0.0087 - output1_precision: 0.9983 - output1_recall: 0.9974 - output1_auc: 1.0000 - output2_precision: 0.9965 - output2_recall: 0.9983 - output2_auc: 1.0000 - output3_precision: 0.9991 - output3_recall: 0.9991 - output3_auc: 1.0000"
     ]
    },
    {
     "name": "stderr",
     "output_type": "stream",
     "text": [
      "WARNING:absl:Found untraced functions such as _jit_compiled_convolution_op, _jit_compiled_convolution_op, _jit_compiled_convolution_op, _jit_compiled_convolution_op, _jit_compiled_convolution_op while saving (showing 5 of 43). These functions will not be directly callable after loading.\n"
     ]
    },
    {
     "name": "stdout",
     "output_type": "stream",
     "text": [
      "INFO:tensorflow:Assets written to: timeseries_transformer\\assets\n"
     ]
    },
    {
     "name": "stderr",
     "output_type": "stream",
     "text": [
      "INFO:tensorflow:Assets written to: timeseries_transformer\\assets\n"
     ]
    },
    {
     "name": "stdout",
     "output_type": "stream",
     "text": [
      "36/36 [==============================] - 20s 570ms/step - loss: 0.0426 - output1_loss: 0.0150 - output2_loss: 0.0189 - output3_loss: 0.0087 - output1_precision: 0.9983 - output1_recall: 0.9974 - output1_auc: 1.0000 - output2_precision: 0.9965 - output2_recall: 0.9983 - output2_auc: 1.0000 - output3_precision: 0.9991 - output3_recall: 0.9991 - output3_auc: 1.0000 - val_loss: 0.3558 - val_output1_loss: 0.1098 - val_output2_loss: 0.1554 - val_output3_loss: 0.0906 - val_output1_precision: 0.9580 - val_output1_recall: 0.9580 - val_output1_auc: 0.9931 - val_output2_precision: 0.9437 - val_output2_recall: 0.9371 - val_output2_auc: 0.9864 - val_output3_precision: 0.9649 - val_output3_recall: 0.9615 - val_output3_auc: 0.9937 - lr: 0.0010\n",
      "Epoch 41/200\n",
      "36/36 [==============================] - 14s 388ms/step - loss: 0.0377 - output1_loss: 0.0148 - output2_loss: 0.0154 - output3_loss: 0.0075 - output1_precision: 0.9965 - output1_recall: 0.9965 - output1_auc: 1.0000 - output2_precision: 0.9991 - output2_recall: 0.9983 - output2_auc: 1.0000 - output3_precision: 0.9991 - output3_recall: 1.0000 - output3_auc: 1.0000 - val_loss: 0.3592 - val_output1_loss: 0.1076 - val_output2_loss: 0.1592 - val_output3_loss: 0.0924 - val_output1_precision: 0.9545 - val_output1_recall: 0.9545 - val_output1_auc: 0.9936 - val_output2_precision: 0.9371 - val_output2_recall: 0.9371 - val_output2_auc: 0.9854 - val_output3_precision: 0.9684 - val_output3_recall: 0.9650 - val_output3_auc: 0.9924 - lr: 0.0010\n",
      "Epoch 42/200\n",
      "36/36 [==============================] - 14s 382ms/step - loss: 0.0353 - output1_loss: 0.0123 - output2_loss: 0.0165 - output3_loss: 0.0065 - output1_precision: 0.9991 - output1_recall: 1.0000 - output1_auc: 1.0000 - output2_precision: 0.9974 - output2_recall: 0.9974 - output2_auc: 1.0000 - output3_precision: 1.0000 - output3_recall: 1.0000 - output3_auc: 1.0000 - val_loss: 0.3618 - val_output1_loss: 0.1100 - val_output2_loss: 0.1602 - val_output3_loss: 0.0916 - val_output1_precision: 0.9580 - val_output1_recall: 0.9580 - val_output1_auc: 0.9935 - val_output2_precision: 0.9306 - val_output2_recall: 0.9371 - val_output2_auc: 0.9855 - val_output3_precision: 0.9684 - val_output3_recall: 0.9650 - val_output3_auc: 0.9924 - lr: 0.0010\n",
      "Epoch 43/200\n",
      "36/36 [==============================] - 14s 379ms/step - loss: 0.0370 - output1_loss: 0.0095 - output2_loss: 0.0188 - output3_loss: 0.0087 - output1_precision: 0.9974 - output1_recall: 0.9974 - output1_auc: 1.0000 - output2_precision: 0.9956 - output2_recall: 0.9956 - output2_auc: 0.9999 - output3_precision: 0.9983 - output3_recall: 0.9983 - output3_auc: 1.0000 - val_loss: 0.3599 - val_output1_loss: 0.1102 - val_output2_loss: 0.1611 - val_output3_loss: 0.0886 - val_output1_precision: 0.9545 - val_output1_recall: 0.9545 - val_output1_auc: 0.9935 - val_output2_precision: 0.9338 - val_output2_recall: 0.9371 - val_output2_auc: 0.9856 - val_output3_precision: 0.9684 - val_output3_recall: 0.9650 - val_output3_auc: 0.9929 - lr: 0.0010\n",
      "Epoch 44/200\n",
      "36/36 [==============================] - ETA: 0s - loss: 0.0319 - output1_loss: 0.0091 - output2_loss: 0.0152 - output3_loss: 0.0076 - output1_precision: 1.0000 - output1_recall: 1.0000 - output1_auc: 1.0000 - output2_precision: 0.9983 - output2_recall: 0.9983 - output2_auc: 1.0000 - output3_precision: 1.0000 - output3_recall: 1.0000 - output3_auc: 1.0000"
     ]
    },
    {
     "name": "stderr",
     "output_type": "stream",
     "text": [
      "WARNING:absl:Found untraced functions such as _jit_compiled_convolution_op, _jit_compiled_convolution_op, _jit_compiled_convolution_op, _jit_compiled_convolution_op, _jit_compiled_convolution_op while saving (showing 5 of 43). These functions will not be directly callable after loading.\n"
     ]
    },
    {
     "name": "stdout",
     "output_type": "stream",
     "text": [
      "INFO:tensorflow:Assets written to: timeseries_transformer\\assets\n"
     ]
    },
    {
     "name": "stderr",
     "output_type": "stream",
     "text": [
      "INFO:tensorflow:Assets written to: timeseries_transformer\\assets\n"
     ]
    },
    {
     "name": "stdout",
     "output_type": "stream",
     "text": [
      "36/36 [==============================] - 120s 3s/step - loss: 0.0319 - output1_loss: 0.0091 - output2_loss: 0.0152 - output3_loss: 0.0076 - output1_precision: 1.0000 - output1_recall: 1.0000 - output1_auc: 1.0000 - output2_precision: 0.9983 - output2_recall: 0.9983 - output2_auc: 1.0000 - output3_precision: 1.0000 - output3_recall: 1.0000 - output3_auc: 1.0000 - val_loss: 0.3557 - val_output1_loss: 0.1102 - val_output2_loss: 0.1537 - val_output3_loss: 0.0918 - val_output1_precision: 0.9545 - val_output1_recall: 0.9545 - val_output1_auc: 0.9934 - val_output2_precision: 0.9368 - val_output2_recall: 0.9336 - val_output2_auc: 0.9861 - val_output3_precision: 0.9649 - val_output3_recall: 0.9615 - val_output3_auc: 0.9927 - lr: 0.0010\n",
      "Epoch 45/200\n",
      "36/36 [==============================] - 17s 466ms/step - loss: 0.0304 - output1_loss: 0.0103 - output2_loss: 0.0135 - output3_loss: 0.0066 - output1_precision: 0.9991 - output1_recall: 0.9991 - output1_auc: 1.0000 - output2_precision: 1.0000 - output2_recall: 0.9983 - output2_auc: 1.0000 - output3_precision: 0.9991 - output3_recall: 0.9991 - output3_auc: 1.0000 - val_loss: 0.3587 - val_output1_loss: 0.1114 - val_output2_loss: 0.1574 - val_output3_loss: 0.0900 - val_output1_precision: 0.9580 - val_output1_recall: 0.9580 - val_output1_auc: 0.9932 - val_output2_precision: 0.9435 - val_output2_recall: 0.9336 - val_output2_auc: 0.9862 - val_output3_precision: 0.9684 - val_output3_recall: 0.9650 - val_output3_auc: 0.9928 - lr: 0.0010\n",
      "Epoch 46/200\n",
      "36/36 [==============================] - ETA: 0s - loss: 0.0326 - output1_loss: 0.0109 - output2_loss: 0.0137 - output3_loss: 0.0080 - output1_precision: 0.9974 - output1_recall: 0.9991 - output1_auc: 1.0000 - output2_precision: 0.9983 - output2_recall: 0.9983 - output2_auc: 1.0000 - output3_precision: 0.9991 - output3_recall: 1.0000 - output3_auc: 1.0000"
     ]
    },
    {
     "name": "stderr",
     "output_type": "stream",
     "text": [
      "WARNING:absl:Found untraced functions such as _jit_compiled_convolution_op, _jit_compiled_convolution_op, _jit_compiled_convolution_op, _jit_compiled_convolution_op, _jit_compiled_convolution_op while saving (showing 5 of 43). These functions will not be directly callable after loading.\n"
     ]
    },
    {
     "name": "stdout",
     "output_type": "stream",
     "text": [
      "INFO:tensorflow:Assets written to: timeseries_transformer\\assets\n"
     ]
    },
    {
     "name": "stderr",
     "output_type": "stream",
     "text": [
      "INFO:tensorflow:Assets written to: timeseries_transformer\\assets\n"
     ]
    },
    {
     "name": "stdout",
     "output_type": "stream",
     "text": [
      "36/36 [==============================] - 21s 588ms/step - loss: 0.0326 - output1_loss: 0.0109 - output2_loss: 0.0137 - output3_loss: 0.0080 - output1_precision: 0.9974 - output1_recall: 0.9991 - output1_auc: 1.0000 - output2_precision: 0.9983 - output2_recall: 0.9983 - output2_auc: 1.0000 - output3_precision: 0.9991 - output3_recall: 1.0000 - output3_auc: 1.0000 - val_loss: 0.3527 - val_output1_loss: 0.1093 - val_output2_loss: 0.1519 - val_output3_loss: 0.0914 - val_output1_precision: 0.9580 - val_output1_recall: 0.9580 - val_output1_auc: 0.9938 - val_output2_precision: 0.9441 - val_output2_recall: 0.9441 - val_output2_auc: 0.9871 - val_output3_precision: 0.9650 - val_output3_recall: 0.9650 - val_output3_auc: 0.9928 - lr: 0.0010\n",
      "Epoch 47/200\n",
      "36/36 [==============================] - ETA: 0s - loss: 0.0314 - output1_loss: 0.0110 - output2_loss: 0.0135 - output3_loss: 0.0069 - output1_precision: 0.9991 - output1_recall: 0.9983 - output1_auc: 1.0000 - output2_precision: 0.9983 - output2_recall: 0.9983 - output2_auc: 1.0000 - output3_precision: 1.0000 - output3_recall: 1.0000 - output3_auc: 1.0000"
     ]
    },
    {
     "name": "stderr",
     "output_type": "stream",
     "text": [
      "WARNING:absl:Found untraced functions such as _jit_compiled_convolution_op, _jit_compiled_convolution_op, _jit_compiled_convolution_op, _jit_compiled_convolution_op, _jit_compiled_convolution_op while saving (showing 5 of 43). These functions will not be directly callable after loading.\n"
     ]
    },
    {
     "name": "stdout",
     "output_type": "stream",
     "text": [
      "INFO:tensorflow:Assets written to: timeseries_transformer\\assets\n"
     ]
    },
    {
     "name": "stderr",
     "output_type": "stream",
     "text": [
      "INFO:tensorflow:Assets written to: timeseries_transformer\\assets\n"
     ]
    },
    {
     "name": "stdout",
     "output_type": "stream",
     "text": [
      "36/36 [==============================] - 21s 586ms/step - loss: 0.0314 - output1_loss: 0.0110 - output2_loss: 0.0135 - output3_loss: 0.0069 - output1_precision: 0.9991 - output1_recall: 0.9983 - output1_auc: 1.0000 - output2_precision: 0.9983 - output2_recall: 0.9983 - output2_auc: 1.0000 - output3_precision: 1.0000 - output3_recall: 1.0000 - output3_auc: 1.0000 - val_loss: 0.3502 - val_output1_loss: 0.1074 - val_output2_loss: 0.1514 - val_output3_loss: 0.0914 - val_output1_precision: 0.9580 - val_output1_recall: 0.9580 - val_output1_auc: 0.9935 - val_output2_precision: 0.9474 - val_output2_recall: 0.9441 - val_output2_auc: 0.9867 - val_output3_precision: 0.9650 - val_output3_recall: 0.9650 - val_output3_auc: 0.9928 - lr: 0.0010\n",
      "Epoch 48/200\n",
      "36/36 [==============================] - 16s 459ms/step - loss: 0.0253 - output1_loss: 0.0089 - output2_loss: 0.0118 - output3_loss: 0.0045 - output1_precision: 0.9991 - output1_recall: 0.9991 - output1_auc: 1.0000 - output2_precision: 1.0000 - output2_recall: 0.9991 - output2_auc: 1.0000 - output3_precision: 1.0000 - output3_recall: 1.0000 - output3_auc: 1.0000 - val_loss: 0.3597 - val_output1_loss: 0.1134 - val_output2_loss: 0.1562 - val_output3_loss: 0.0901 - val_output1_precision: 0.9579 - val_output1_recall: 0.9545 - val_output1_auc: 0.9935 - val_output2_precision: 0.9406 - val_output2_recall: 0.9406 - val_output2_auc: 0.9865 - val_output3_precision: 0.9650 - val_output3_recall: 0.9650 - val_output3_auc: 0.9929 - lr: 0.0010\n",
      "Epoch 49/200\n",
      "36/36 [==============================] - 16s 459ms/step - loss: 0.0254 - output1_loss: 0.0076 - output2_loss: 0.0119 - output3_loss: 0.0058 - output1_precision: 0.9983 - output1_recall: 0.9991 - output1_auc: 1.0000 - output2_precision: 0.9991 - output2_recall: 0.9991 - output2_auc: 1.0000 - output3_precision: 1.0000 - output3_recall: 1.0000 - output3_auc: 1.0000 - val_loss: 0.3597 - val_output1_loss: 0.1158 - val_output2_loss: 0.1534 - val_output3_loss: 0.0905 - val_output1_precision: 0.9579 - val_output1_recall: 0.9545 - val_output1_auc: 0.9932 - val_output2_precision: 0.9437 - val_output2_recall: 0.9371 - val_output2_auc: 0.9870 - val_output3_precision: 0.9650 - val_output3_recall: 0.9650 - val_output3_auc: 0.9929 - lr: 0.0010\n",
      "Epoch 50/200\n",
      "36/36 [==============================] - 16s 448ms/step - loss: 0.0257 - output1_loss: 0.0081 - output2_loss: 0.0125 - output3_loss: 0.0051 - output1_precision: 0.9983 - output1_recall: 1.0000 - output1_auc: 1.0000 - output2_precision: 0.9974 - output2_recall: 0.9991 - output2_auc: 1.0000 - output3_precision: 1.0000 - output3_recall: 1.0000 - output3_auc: 1.0000 - val_loss: 0.3582 - val_output1_loss: 0.1170 - val_output2_loss: 0.1513 - val_output3_loss: 0.0900 - val_output1_precision: 0.9579 - val_output1_recall: 0.9545 - val_output1_auc: 0.9931 - val_output2_precision: 0.9507 - val_output2_recall: 0.9441 - val_output2_auc: 0.9864 - val_output3_precision: 0.9650 - val_output3_recall: 0.9650 - val_output3_auc: 0.9930 - lr: 0.0010\n",
      "Epoch 51/200\n",
      "36/36 [==============================] - 16s 453ms/step - loss: 0.0255 - output1_loss: 0.0092 - output2_loss: 0.0105 - output3_loss: 0.0057 - output1_precision: 0.9991 - output1_recall: 0.9983 - output1_auc: 1.0000 - output2_precision: 0.9991 - output2_recall: 0.9991 - output2_auc: 1.0000 - output3_precision: 0.9991 - output3_recall: 0.9991 - output3_auc: 1.0000 - val_loss: 0.3549 - val_output1_loss: 0.1152 - val_output2_loss: 0.1526 - val_output3_loss: 0.0871 - val_output1_precision: 0.9580 - val_output1_recall: 0.9580 - val_output1_auc: 0.9932 - val_output2_precision: 0.9437 - val_output2_recall: 0.9371 - val_output2_auc: 0.9872 - val_output3_precision: 0.9685 - val_output3_recall: 0.9685 - val_output3_auc: 0.9932 - lr: 0.0010\n",
      "Epoch 52/200\n",
      "36/36 [==============================] - 15s 430ms/step - loss: 0.0254 - output1_loss: 0.0097 - output2_loss: 0.0107 - output3_loss: 0.0049 - output1_precision: 0.9991 - output1_recall: 0.9991 - output1_auc: 1.0000 - output2_precision: 0.9991 - output2_recall: 0.9991 - output2_auc: 1.0000 - output3_precision: 1.0000 - output3_recall: 1.0000 - output3_auc: 1.0000 - val_loss: 0.3663 - val_output1_loss: 0.1184 - val_output2_loss: 0.1554 - val_output3_loss: 0.0924 - val_output1_precision: 0.9579 - val_output1_recall: 0.9545 - val_output1_auc: 0.9928 - val_output2_precision: 0.9476 - val_output2_recall: 0.9476 - val_output2_auc: 0.9871 - val_output3_precision: 0.9650 - val_output3_recall: 0.9650 - val_output3_auc: 0.9930 - lr: 0.0010\n",
      "Epoch 53/200\n",
      "36/36 [==============================] - 15s 421ms/step - loss: 0.0251 - output1_loss: 0.0091 - output2_loss: 0.0119 - output3_loss: 0.0041 - output1_precision: 1.0000 - output1_recall: 0.9991 - output1_auc: 1.0000 - output2_precision: 0.9991 - output2_recall: 0.9974 - output2_auc: 1.0000 - output3_precision: 1.0000 - output3_recall: 1.0000 - output3_auc: 1.0000 - val_loss: 0.3648 - val_output1_loss: 0.1143 - val_output2_loss: 0.1542 - val_output3_loss: 0.0963 - val_output1_precision: 0.9547 - val_output1_recall: 0.9580 - val_output1_auc: 0.9936 - val_output2_precision: 0.9504 - val_output2_recall: 0.9371 - val_output2_auc: 0.9871 - val_output3_precision: 0.9649 - val_output3_recall: 0.9615 - val_output3_auc: 0.9928 - lr: 0.0010\n",
      "Epoch 54/200\n",
      "36/36 [==============================] - 15s 423ms/step - loss: 0.0222 - output1_loss: 0.0088 - output2_loss: 0.0090 - output3_loss: 0.0045 - output1_precision: 0.9983 - output1_recall: 0.9983 - output1_auc: 1.0000 - output2_precision: 0.9983 - output2_recall: 0.9983 - output2_auc: 1.0000 - output3_precision: 1.0000 - output3_recall: 1.0000 - output3_auc: 1.0000 - val_loss: 0.3720 - val_output1_loss: 0.1193 - val_output2_loss: 0.1611 - val_output3_loss: 0.0916 - val_output1_precision: 0.9545 - val_output1_recall: 0.9545 - val_output1_auc: 0.9934 - val_output2_precision: 0.9439 - val_output2_recall: 0.9406 - val_output2_auc: 0.9867 - val_output3_precision: 0.9684 - val_output3_recall: 0.9650 - val_output3_auc: 0.9930 - lr: 0.0010\n",
      "Epoch 55/200\n",
      "36/36 [==============================] - 15s 416ms/step - loss: 0.0247 - output1_loss: 0.0070 - output2_loss: 0.0120 - output3_loss: 0.0057 - output1_precision: 1.0000 - output1_recall: 0.9991 - output1_auc: 1.0000 - output2_precision: 0.9965 - output2_recall: 0.9974 - output2_auc: 1.0000 - output3_precision: 0.9983 - output3_recall: 0.9974 - output3_auc: 1.0000 - val_loss: 0.3787 - val_output1_loss: 0.1247 - val_output2_loss: 0.1634 - val_output3_loss: 0.0906 - val_output1_precision: 0.9545 - val_output1_recall: 0.9545 - val_output1_auc: 0.9931 - val_output2_precision: 0.9439 - val_output2_recall: 0.9406 - val_output2_auc: 0.9843 - val_output3_precision: 0.9685 - val_output3_recall: 0.9685 - val_output3_auc: 0.9933 - lr: 0.0010\n",
      "Epoch 56/200\n",
      "36/36 [==============================] - 15s 417ms/step - loss: 0.0211 - output1_loss: 0.0061 - output2_loss: 0.0097 - output3_loss: 0.0053 - output1_precision: 1.0000 - output1_recall: 1.0000 - output1_auc: 1.0000 - output2_precision: 0.9991 - output2_recall: 0.9983 - output2_auc: 1.0000 - output3_precision: 0.9991 - output3_recall: 0.9983 - output3_auc: 1.0000 - val_loss: 0.3847 - val_output1_loss: 0.1298 - val_output2_loss: 0.1675 - val_output3_loss: 0.0874 - val_output1_precision: 0.9545 - val_output1_recall: 0.9545 - val_output1_auc: 0.9929 - val_output2_precision: 0.9507 - val_output2_recall: 0.9441 - val_output2_auc: 0.9837 - val_output3_precision: 0.9649 - val_output3_recall: 0.9615 - val_output3_auc: 0.9934 - lr: 0.0010\n",
      "Epoch 57/200\n",
      "36/36 [==============================] - 15s 421ms/step - loss: 0.0204 - output1_loss: 0.0064 - output2_loss: 0.0090 - output3_loss: 0.0050 - output1_precision: 1.0000 - output1_recall: 1.0000 - output1_auc: 1.0000 - output2_precision: 0.9991 - output2_recall: 0.9974 - output2_auc: 1.0000 - output3_precision: 0.9991 - output3_recall: 0.9991 - output3_auc: 1.0000 - val_loss: 0.3742 - val_output1_loss: 0.1193 - val_output2_loss: 0.1614 - val_output3_loss: 0.0935 - val_output1_precision: 0.9579 - val_output1_recall: 0.9545 - val_output1_auc: 0.9933 - val_output2_precision: 0.9441 - val_output2_recall: 0.9441 - val_output2_auc: 0.9821 - val_output3_precision: 0.9615 - val_output3_recall: 0.9615 - val_output3_auc: 0.9931 - lr: 0.0010\n"
     ]
    },
    {
     "name": "stdout",
     "output_type": "stream",
     "text": [
      "Epoch 58/200\n",
      "36/36 [==============================] - 15s 420ms/step - loss: 0.0175 - output1_loss: 0.0059 - output2_loss: 0.0079 - output3_loss: 0.0036 - output1_precision: 1.0000 - output1_recall: 1.0000 - output1_auc: 1.0000 - output2_precision: 0.9991 - output2_recall: 0.9991 - output2_auc: 1.0000 - output3_precision: 1.0000 - output3_recall: 1.0000 - output3_auc: 1.0000 - val_loss: 0.3765 - val_output1_loss: 0.1203 - val_output2_loss: 0.1626 - val_output3_loss: 0.0936 - val_output1_precision: 0.9580 - val_output1_recall: 0.9580 - val_output1_auc: 0.9932 - val_output2_precision: 0.9408 - val_output2_recall: 0.9441 - val_output2_auc: 0.9845 - val_output3_precision: 0.9615 - val_output3_recall: 0.9615 - val_output3_auc: 0.9931 - lr: 0.0010\n",
      "Epoch 59/200\n",
      "36/36 [==============================] - 15s 422ms/step - loss: 0.0161 - output1_loss: 0.0050 - output2_loss: 0.0069 - output3_loss: 0.0043 - output1_precision: 1.0000 - output1_recall: 1.0000 - output1_auc: 1.0000 - output2_precision: 1.0000 - output2_recall: 1.0000 - output2_auc: 1.0000 - output3_precision: 1.0000 - output3_recall: 1.0000 - output3_auc: 1.0000 - val_loss: 0.3798 - val_output1_loss: 0.1231 - val_output2_loss: 0.1655 - val_output3_loss: 0.0912 - val_output1_precision: 0.9580 - val_output1_recall: 0.9580 - val_output1_auc: 0.9932 - val_output2_precision: 0.9408 - val_output2_recall: 0.9441 - val_output2_auc: 0.9821 - val_output3_precision: 0.9650 - val_output3_recall: 0.9650 - val_output3_auc: 0.9934 - lr: 0.0010\n",
      "Epoch 60/200\n",
      "36/36 [==============================] - 16s 441ms/step - loss: 0.0157 - output1_loss: 0.0058 - output2_loss: 0.0067 - output3_loss: 0.0033 - output1_precision: 1.0000 - output1_recall: 1.0000 - output1_auc: 1.0000 - output2_precision: 1.0000 - output2_recall: 1.0000 - output2_auc: 1.0000 - output3_precision: 1.0000 - output3_recall: 1.0000 - output3_auc: 1.0000 - val_loss: 0.3925 - val_output1_loss: 0.1275 - val_output2_loss: 0.1688 - val_output3_loss: 0.0962 - val_output1_precision: 0.9545 - val_output1_recall: 0.9545 - val_output1_auc: 0.9931 - val_output2_precision: 0.9408 - val_output2_recall: 0.9441 - val_output2_auc: 0.9837 - val_output3_precision: 0.9615 - val_output3_recall: 0.9615 - val_output3_auc: 0.9932 - lr: 0.0010\n",
      "Epoch 61/200\n",
      "36/36 [==============================] - 15s 422ms/step - loss: 0.0160 - output1_loss: 0.0050 - output2_loss: 0.0079 - output3_loss: 0.0031 - output1_precision: 1.0000 - output1_recall: 1.0000 - output1_auc: 1.0000 - output2_precision: 1.0000 - output2_recall: 1.0000 - output2_auc: 1.0000 - output3_precision: 1.0000 - output3_recall: 1.0000 - output3_auc: 1.0000 - val_loss: 0.3955 - val_output1_loss: 0.1329 - val_output2_loss: 0.1671 - val_output3_loss: 0.0955 - val_output1_precision: 0.9545 - val_output1_recall: 0.9545 - val_output1_auc: 0.9927 - val_output2_precision: 0.9507 - val_output2_recall: 0.9441 - val_output2_auc: 0.9818 - val_output3_precision: 0.9615 - val_output3_recall: 0.9615 - val_output3_auc: 0.9931 - lr: 0.0010\n",
      "Epoch 62/200\n",
      "36/36 [==============================] - 16s 449ms/step - loss: 0.0157 - output1_loss: 0.0047 - output2_loss: 0.0086 - output3_loss: 0.0024 - output1_precision: 1.0000 - output1_recall: 1.0000 - output1_auc: 1.0000 - output2_precision: 0.9983 - output2_recall: 0.9983 - output2_auc: 1.0000 - output3_precision: 1.0000 - output3_recall: 1.0000 - output3_auc: 1.0000 - val_loss: 0.3905 - val_output1_loss: 0.1264 - val_output2_loss: 0.1674 - val_output3_loss: 0.0966 - val_output1_precision: 0.9545 - val_output1_recall: 0.9545 - val_output1_auc: 0.9931 - val_output2_precision: 0.9441 - val_output2_recall: 0.9441 - val_output2_auc: 0.9818 - val_output3_precision: 0.9615 - val_output3_recall: 0.9615 - val_output3_auc: 0.9931 - lr: 0.0010\n",
      "Epoch 63/200\n",
      "36/36 [==============================] - 16s 447ms/step - loss: 0.0134 - output1_loss: 0.0045 - output2_loss: 0.0057 - output3_loss: 0.0032 - output1_precision: 1.0000 - output1_recall: 1.0000 - output1_auc: 1.0000 - output2_precision: 1.0000 - output2_recall: 1.0000 - output2_auc: 1.0000 - output3_precision: 1.0000 - output3_recall: 1.0000 - output3_auc: 1.0000 - val_loss: 0.3932 - val_output1_loss: 0.1315 - val_output2_loss: 0.1665 - val_output3_loss: 0.0952 - val_output1_precision: 0.9510 - val_output1_recall: 0.9510 - val_output1_auc: 0.9932 - val_output2_precision: 0.9406 - val_output2_recall: 0.9406 - val_output2_auc: 0.9821 - val_output3_precision: 0.9615 - val_output3_recall: 0.9615 - val_output3_auc: 0.9933 - lr: 0.0010\n",
      "Epoch 64/200\n",
      "36/36 [==============================] - 16s 440ms/step - loss: 0.0134 - output1_loss: 0.0046 - output2_loss: 0.0056 - output3_loss: 0.0032 - output1_precision: 1.0000 - output1_recall: 1.0000 - output1_auc: 1.0000 - output2_precision: 1.0000 - output2_recall: 0.9991 - output2_auc: 1.0000 - output3_precision: 1.0000 - output3_recall: 1.0000 - output3_auc: 1.0000 - val_loss: 0.3905 - val_output1_loss: 0.1345 - val_output2_loss: 0.1621 - val_output3_loss: 0.0939 - val_output1_precision: 0.9510 - val_output1_recall: 0.9510 - val_output1_auc: 0.9931 - val_output2_precision: 0.9439 - val_output2_recall: 0.9406 - val_output2_auc: 0.9826 - val_output3_precision: 0.9615 - val_output3_recall: 0.9615 - val_output3_auc: 0.9934 - lr: 0.0010\n",
      "Epoch 65/200\n",
      "36/36 [==============================] - 16s 433ms/step - loss: 0.0173 - output1_loss: 0.0056 - output2_loss: 0.0086 - output3_loss: 0.0032 - output1_precision: 1.0000 - output1_recall: 1.0000 - output1_auc: 1.0000 - output2_precision: 0.9991 - output2_recall: 0.9983 - output2_auc: 1.0000 - output3_precision: 1.0000 - output3_recall: 1.0000 - output3_auc: 1.0000 - val_loss: 0.3830 - val_output1_loss: 0.1321 - val_output2_loss: 0.1578 - val_output3_loss: 0.0930 - val_output1_precision: 0.9510 - val_output1_recall: 0.9510 - val_output1_auc: 0.9932 - val_output2_precision: 0.9539 - val_output2_recall: 0.9406 - val_output2_auc: 0.9841 - val_output3_precision: 0.9615 - val_output3_recall: 0.9615 - val_output3_auc: 0.9935 - lr: 0.0010\n",
      "Epoch 66/200\n",
      "36/36 [==============================] - 16s 434ms/step - loss: 0.0137 - output1_loss: 0.0058 - output2_loss: 0.0058 - output3_loss: 0.0020 - output1_precision: 0.9991 - output1_recall: 0.9991 - output1_auc: 1.0000 - output2_precision: 1.0000 - output2_recall: 1.0000 - output2_auc: 1.0000 - output3_precision: 1.0000 - output3_recall: 1.0000 - output3_auc: 1.0000 - val_loss: 0.3908 - val_output1_loss: 0.1293 - val_output2_loss: 0.1606 - val_output3_loss: 0.1008 - val_output1_precision: 0.9510 - val_output1_recall: 0.9510 - val_output1_auc: 0.9934 - val_output2_precision: 0.9441 - val_output2_recall: 0.9441 - val_output2_auc: 0.9840 - val_output3_precision: 0.9615 - val_output3_recall: 0.9615 - val_output3_auc: 0.9931 - lr: 0.0010\n",
      "Epoch 67/200\n",
      "36/36 [==============================] - 16s 435ms/step - loss: 0.0134 - output1_loss: 0.0049 - output2_loss: 0.0055 - output3_loss: 0.0029 - output1_precision: 1.0000 - output1_recall: 1.0000 - output1_auc: 1.0000 - output2_precision: 1.0000 - output2_recall: 1.0000 - output2_auc: 1.0000 - output3_precision: 1.0000 - output3_recall: 1.0000 - output3_auc: 1.0000 - val_loss: 0.3901 - val_output1_loss: 0.1327 - val_output2_loss: 0.1598 - val_output3_loss: 0.0977 - val_output1_precision: 0.9545 - val_output1_recall: 0.9545 - val_output1_auc: 0.9931 - val_output2_precision: 0.9408 - val_output2_recall: 0.9441 - val_output2_auc: 0.9829 - val_output3_precision: 0.9615 - val_output3_recall: 0.9615 - val_output3_auc: 0.9934 - lr: 0.0010\n",
      "Epoch 67: early stopping\n",
      "dict_keys(['loss', 'output1_loss', 'output2_loss', 'output3_loss', 'output1_precision', 'output1_recall', 'output1_auc', 'output2_precision', 'output2_recall', 'output2_auc', 'output3_precision', 'output3_recall', 'output3_auc', 'val_loss', 'val_output1_loss', 'val_output2_loss', 'val_output3_loss', 'val_output1_precision', 'val_output1_recall', 'val_output1_auc', 'val_output2_precision', 'val_output2_recall', 'val_output2_auc', 'val_output3_precision', 'val_output3_recall', 'val_output3_auc', 'lr'])\n",
      "Epoch 1/200\n"
     ]
    },
    {
     "name": "stdout",
     "output_type": "stream",
     "text": [
      "45/45 [==============================] - ETA: 0s - loss: 1.3063 - output1_loss: 0.4908 - output2_loss: 0.4014 - output3_loss: 0.4141 - output1_precision: 0.8058 - output1_recall: 0.6804 - output1_auc: 0.8418 - output2_precision: 0.8267 - output2_recall: 0.8123 - output2_auc: 0.8996 - output3_precision: 0.8343 - output3_recall: 0.7976 - output3_auc: 0.8937"
     ]
    },
    {
     "name": "stderr",
     "output_type": "stream",
     "text": [
      "WARNING:absl:Found untraced functions such as _jit_compiled_convolution_op, _jit_compiled_convolution_op, _jit_compiled_convolution_op, _jit_compiled_convolution_op, _jit_compiled_convolution_op while saving (showing 5 of 43). These functions will not be directly callable after loading.\n"
     ]
    },
    {
     "name": "stdout",
     "output_type": "stream",
     "text": [
      "INFO:tensorflow:Assets written to: timeseries_transformer\\assets\n"
     ]
    },
    {
     "name": "stderr",
     "output_type": "stream",
     "text": [
      "INFO:tensorflow:Assets written to: timeseries_transformer\\assets\n"
     ]
    },
    {
     "name": "stdout",
     "output_type": "stream",
     "text": [
      "45/45 [==============================] - 31s 549ms/step - loss: 1.3063 - output1_loss: 0.4908 - output2_loss: 0.4014 - output3_loss: 0.4141 - output1_precision: 0.8058 - output1_recall: 0.6804 - output1_auc: 0.8418 - output2_precision: 0.8267 - output2_recall: 0.8123 - output2_auc: 0.8996 - output3_precision: 0.8343 - output3_recall: 0.7976 - output3_auc: 0.8937 - val_loss: 0.8413 - val_output1_loss: 0.2866 - val_output2_loss: 0.2870 - val_output3_loss: 0.2678 - val_output1_precision: 0.8786 - val_output1_recall: 0.8601 - val_output1_auc: 0.9504 - val_output2_precision: 0.8797 - val_output2_recall: 0.8951 - val_output2_auc: 0.9592 - val_output3_precision: 0.8703 - val_output3_recall: 0.8916 - val_output3_auc: 0.9604 - lr: 0.0010\n",
      "Epoch 2/200\n",
      "45/45 [==============================] - ETA: 0s - loss: 0.7466 - output1_loss: 0.2506 - output2_loss: 0.2528 - output3_loss: 0.2432 - output1_precision: 0.9037 - output1_recall: 0.8842 - output1_auc: 0.9643 - output2_precision: 0.8899 - output2_recall: 0.8967 - output2_auc: 0.9631 - output3_precision: 0.9027 - output3_recall: 0.9002 - output3_auc: 0.9659"
     ]
    },
    {
     "name": "stderr",
     "output_type": "stream",
     "text": [
      "WARNING:absl:Found untraced functions such as _jit_compiled_convolution_op, _jit_compiled_convolution_op, _jit_compiled_convolution_op, _jit_compiled_convolution_op, _jit_compiled_convolution_op while saving (showing 5 of 43). These functions will not be directly callable after loading.\n"
     ]
    },
    {
     "name": "stdout",
     "output_type": "stream",
     "text": [
      "INFO:tensorflow:Assets written to: timeseries_transformer\\assets\n"
     ]
    },
    {
     "name": "stderr",
     "output_type": "stream",
     "text": [
      "INFO:tensorflow:Assets written to: timeseries_transformer\\assets\n"
     ]
    },
    {
     "name": "stdout",
     "output_type": "stream",
     "text": [
      "45/45 [==============================] - 24s 535ms/step - loss: 0.7466 - output1_loss: 0.2506 - output2_loss: 0.2528 - output3_loss: 0.2432 - output1_precision: 0.9037 - output1_recall: 0.8842 - output1_auc: 0.9643 - output2_precision: 0.8899 - output2_recall: 0.8967 - output2_auc: 0.9631 - output3_precision: 0.9027 - output3_recall: 0.9002 - output3_auc: 0.9659 - val_loss: 0.6646 - val_output1_loss: 0.1878 - val_output2_loss: 0.2694 - val_output3_loss: 0.2074 - val_output1_precision: 0.9326 - val_output1_recall: 0.9196 - val_output1_auc: 0.9813 - val_output2_precision: 0.8780 - val_output2_recall: 0.8811 - val_output2_auc: 0.9592 - val_output3_precision: 0.9028 - val_output3_recall: 0.9091 - val_output3_auc: 0.9756 - lr: 0.0010\n",
      "Epoch 3/200\n",
      "45/45 [==============================] - ETA: 0s - loss: 0.6015 - output1_loss: 0.2055 - output2_loss: 0.2109 - output3_loss: 0.1850 - output1_precision: 0.9123 - output1_recall: 0.9142 - output1_auc: 0.9762 - output2_precision: 0.9142 - output2_recall: 0.9149 - output2_auc: 0.9741 - output3_precision: 0.9226 - output3_recall: 0.9239 - output3_auc: 0.9810"
     ]
    },
    {
     "name": "stderr",
     "output_type": "stream",
     "text": [
      "WARNING:absl:Found untraced functions such as _jit_compiled_convolution_op, _jit_compiled_convolution_op, _jit_compiled_convolution_op, _jit_compiled_convolution_op, _jit_compiled_convolution_op while saving (showing 5 of 43). These functions will not be directly callable after loading.\n"
     ]
    },
    {
     "name": "stdout",
     "output_type": "stream",
     "text": [
      "INFO:tensorflow:Assets written to: timeseries_transformer\\assets\n"
     ]
    },
    {
     "name": "stderr",
     "output_type": "stream",
     "text": [
      "INFO:tensorflow:Assets written to: timeseries_transformer\\assets\n"
     ]
    },
    {
     "name": "stdout",
     "output_type": "stream",
     "text": [
      "45/45 [==============================] - 24s 531ms/step - loss: 0.6015 - output1_loss: 0.2055 - output2_loss: 0.2109 - output3_loss: 0.1850 - output1_precision: 0.9123 - output1_recall: 0.9142 - output1_auc: 0.9762 - output2_precision: 0.9142 - output2_recall: 0.9149 - output2_auc: 0.9741 - output3_precision: 0.9226 - output3_recall: 0.9239 - output3_auc: 0.9810 - val_loss: 0.5593 - val_output1_loss: 0.1523 - val_output2_loss: 0.2425 - val_output3_loss: 0.1645 - val_output1_precision: 0.9437 - val_output1_recall: 0.9371 - val_output1_auc: 0.9872 - val_output2_precision: 0.8889 - val_output2_recall: 0.8951 - val_output2_auc: 0.9653 - val_output3_precision: 0.9466 - val_output3_recall: 0.9301 - val_output3_auc: 0.9845 - lr: 0.0010\n",
      "Epoch 4/200\n",
      "45/45 [==============================] - ETA: 0s - loss: 0.5041 - output1_loss: 0.1709 - output2_loss: 0.1858 - output3_loss: 0.1474 - output1_precision: 0.9306 - output1_recall: 0.9267 - output1_auc: 0.9840 - output2_precision: 0.9221 - output2_recall: 0.9246 - output2_auc: 0.9802 - output3_precision: 0.9418 - output3_recall: 0.9365 - output3_auc: 0.9885"
     ]
    },
    {
     "name": "stderr",
     "output_type": "stream",
     "text": [
      "WARNING:absl:Found untraced functions such as _jit_compiled_convolution_op, _jit_compiled_convolution_op, _jit_compiled_convolution_op, _jit_compiled_convolution_op, _jit_compiled_convolution_op while saving (showing 5 of 43). These functions will not be directly callable after loading.\n"
     ]
    },
    {
     "name": "stdout",
     "output_type": "stream",
     "text": [
      "INFO:tensorflow:Assets written to: timeseries_transformer\\assets\n"
     ]
    },
    {
     "name": "stderr",
     "output_type": "stream",
     "text": [
      "INFO:tensorflow:Assets written to: timeseries_transformer\\assets\n"
     ]
    },
    {
     "name": "stdout",
     "output_type": "stream",
     "text": [
      "45/45 [==============================] - 24s 526ms/step - loss: 0.5041 - output1_loss: 0.1709 - output2_loss: 0.1858 - output3_loss: 0.1474 - output1_precision: 0.9306 - output1_recall: 0.9267 - output1_auc: 0.9840 - output2_precision: 0.9221 - output2_recall: 0.9246 - output2_auc: 0.9802 - output3_precision: 0.9418 - output3_recall: 0.9365 - output3_auc: 0.9885 - val_loss: 0.4946 - val_output1_loss: 0.1265 - val_output2_loss: 0.2221 - val_output3_loss: 0.1460 - val_output1_precision: 0.9507 - val_output1_recall: 0.9441 - val_output1_auc: 0.9913 - val_output2_precision: 0.8935 - val_output2_recall: 0.9091 - val_output2_auc: 0.9701 - val_output3_precision: 0.9379 - val_output3_recall: 0.9510 - val_output3_auc: 0.9881 - lr: 0.0010\n",
      "Epoch 5/200\n",
      "45/45 [==============================] - ETA: 0s - loss: 0.4323 - output1_loss: 0.1428 - output2_loss: 0.1606 - output3_loss: 0.1289 - output1_precision: 0.9399 - output1_recall: 0.9379 - output1_auc: 0.9890 - output2_precision: 0.9359 - output2_recall: 0.9379 - output2_auc: 0.9855 - output3_precision: 0.9509 - output3_recall: 0.9456 - output3_auc: 0.9913"
     ]
    },
    {
     "name": "stderr",
     "output_type": "stream",
     "text": [
      "WARNING:absl:Found untraced functions such as _jit_compiled_convolution_op, _jit_compiled_convolution_op, _jit_compiled_convolution_op, _jit_compiled_convolution_op, _jit_compiled_convolution_op while saving (showing 5 of 43). These functions will not be directly callable after loading.\n"
     ]
    },
    {
     "name": "stdout",
     "output_type": "stream",
     "text": [
      "INFO:tensorflow:Assets written to: timeseries_transformer\\assets\n"
     ]
    },
    {
     "name": "stderr",
     "output_type": "stream",
     "text": [
      "INFO:tensorflow:Assets written to: timeseries_transformer\\assets\n"
     ]
    },
    {
     "name": "stdout",
     "output_type": "stream",
     "text": [
      "45/45 [==============================] - 24s 529ms/step - loss: 0.4323 - output1_loss: 0.1428 - output2_loss: 0.1606 - output3_loss: 0.1289 - output1_precision: 0.9399 - output1_recall: 0.9379 - output1_auc: 0.9890 - output2_precision: 0.9359 - output2_recall: 0.9379 - output2_auc: 0.9855 - output3_precision: 0.9509 - output3_recall: 0.9456 - output3_auc: 0.9913 - val_loss: 0.4479 - val_output1_loss: 0.1026 - val_output2_loss: 0.2161 - val_output3_loss: 0.1291 - val_output1_precision: 0.9684 - val_output1_recall: 0.9650 - val_output1_auc: 0.9955 - val_output2_precision: 0.8897 - val_output2_recall: 0.9021 - val_output2_auc: 0.9718 - val_output3_precision: 0.9404 - val_output3_recall: 0.9371 - val_output3_auc: 0.9912 - lr: 0.0010\n",
      "Epoch 6/200\n",
      "45/45 [==============================] - ETA: 0s - loss: 0.3753 - output1_loss: 0.1297 - output2_loss: 0.1364 - output3_loss: 0.1093 - output1_precision: 0.9444 - output1_recall: 0.9484 - output1_auc: 0.9910 - output2_precision: 0.9409 - output2_recall: 0.9442 - output2_auc: 0.9900 - output3_precision: 0.9548 - output3_recall: 0.9588 - output3_auc: 0.9943"
     ]
    },
    {
     "name": "stderr",
     "output_type": "stream",
     "text": [
      "WARNING:absl:Found untraced functions such as _jit_compiled_convolution_op, _jit_compiled_convolution_op, _jit_compiled_convolution_op, _jit_compiled_convolution_op, _jit_compiled_convolution_op while saving (showing 5 of 43). These functions will not be directly callable after loading.\n"
     ]
    },
    {
     "name": "stdout",
     "output_type": "stream",
     "text": [
      "INFO:tensorflow:Assets written to: timeseries_transformer\\assets\n"
     ]
    },
    {
     "name": "stderr",
     "output_type": "stream",
     "text": [
      "INFO:tensorflow:Assets written to: timeseries_transformer\\assets\n"
     ]
    },
    {
     "name": "stdout",
     "output_type": "stream",
     "text": [
      "45/45 [==============================] - 26s 576ms/step - loss: 0.3753 - output1_loss: 0.1297 - output2_loss: 0.1364 - output3_loss: 0.1093 - output1_precision: 0.9444 - output1_recall: 0.9484 - output1_auc: 0.9910 - output2_precision: 0.9409 - output2_recall: 0.9442 - output2_auc: 0.9900 - output3_precision: 0.9548 - output3_recall: 0.9588 - output3_auc: 0.9943 - val_loss: 0.4081 - val_output1_loss: 0.0890 - val_output2_loss: 0.2035 - val_output3_loss: 0.1156 - val_output1_precision: 0.9788 - val_output1_recall: 0.9685 - val_output1_auc: 0.9967 - val_output2_precision: 0.9028 - val_output2_recall: 0.9091 - val_output2_auc: 0.9750 - val_output3_precision: 0.9509 - val_output3_recall: 0.9476 - val_output3_auc: 0.9929 - lr: 0.0010\n",
      "Epoch 7/200\n",
      "45/45 [==============================] - ETA: 0s - loss: 0.3323 - output1_loss: 0.1148 - output2_loss: 0.1236 - output3_loss: 0.0939 - output1_precision: 0.9547 - output1_recall: 0.9553 - output1_auc: 0.9931 - output2_precision: 0.9532 - output2_recall: 0.9518 - output2_auc: 0.9923 - output3_precision: 0.9656 - output3_recall: 0.9609 - output3_auc: 0.9955"
     ]
    },
    {
     "name": "stderr",
     "output_type": "stream",
     "text": [
      "WARNING:absl:Found untraced functions such as _jit_compiled_convolution_op, _jit_compiled_convolution_op, _jit_compiled_convolution_op, _jit_compiled_convolution_op, _jit_compiled_convolution_op while saving (showing 5 of 43). These functions will not be directly callable after loading.\n"
     ]
    },
    {
     "name": "stdout",
     "output_type": "stream",
     "text": [
      "INFO:tensorflow:Assets written to: timeseries_transformer\\assets\n"
     ]
    },
    {
     "name": "stderr",
     "output_type": "stream",
     "text": [
      "INFO:tensorflow:Assets written to: timeseries_transformer\\assets\n"
     ]
    },
    {
     "name": "stdout",
     "output_type": "stream",
     "text": [
      "45/45 [==============================] - 25s 567ms/step - loss: 0.3323 - output1_loss: 0.1148 - output2_loss: 0.1236 - output3_loss: 0.0939 - output1_precision: 0.9547 - output1_recall: 0.9553 - output1_auc: 0.9931 - output2_precision: 0.9532 - output2_recall: 0.9518 - output2_auc: 0.9923 - output3_precision: 0.9656 - output3_recall: 0.9609 - output3_auc: 0.9955 - val_loss: 0.3813 - val_output1_loss: 0.0816 - val_output2_loss: 0.1975 - val_output3_loss: 0.1022 - val_output1_precision: 0.9754 - val_output1_recall: 0.9720 - val_output1_auc: 0.9966 - val_output2_precision: 0.9094 - val_output2_recall: 0.9126 - val_output2_auc: 0.9767 - val_output3_precision: 0.9614 - val_output3_recall: 0.9580 - val_output3_auc: 0.9948 - lr: 0.0010\n",
      "Epoch 8/200\n",
      "45/45 [==============================] - ETA: 0s - loss: 0.3077 - output1_loss: 0.1076 - output2_loss: 0.1136 - output3_loss: 0.0864 - output1_precision: 0.9541 - output1_recall: 0.9567 - output1_auc: 0.9938 - output2_precision: 0.9534 - output2_recall: 0.9574 - output2_auc: 0.9933 - output3_precision: 0.9665 - output3_recall: 0.9672 - output3_auc: 0.9964"
     ]
    },
    {
     "name": "stderr",
     "output_type": "stream",
     "text": [
      "WARNING:absl:Found untraced functions such as _jit_compiled_convolution_op, _jit_compiled_convolution_op, _jit_compiled_convolution_op, _jit_compiled_convolution_op, _jit_compiled_convolution_op while saving (showing 5 of 43). These functions will not be directly callable after loading.\n"
     ]
    },
    {
     "name": "stdout",
     "output_type": "stream",
     "text": [
      "INFO:tensorflow:Assets written to: timeseries_transformer\\assets\n"
     ]
    },
    {
     "name": "stderr",
     "output_type": "stream",
     "text": [
      "INFO:tensorflow:Assets written to: timeseries_transformer\\assets\n"
     ]
    },
    {
     "name": "stdout",
     "output_type": "stream",
     "text": [
      "45/45 [==============================] - 25s 566ms/step - loss: 0.3077 - output1_loss: 0.1076 - output2_loss: 0.1136 - output3_loss: 0.0864 - output1_precision: 0.9541 - output1_recall: 0.9567 - output1_auc: 0.9938 - output2_precision: 0.9534 - output2_recall: 0.9574 - output2_auc: 0.9933 - output3_precision: 0.9665 - output3_recall: 0.9672 - output3_auc: 0.9964 - val_loss: 0.3712 - val_output1_loss: 0.0701 - val_output2_loss: 0.1985 - val_output3_loss: 0.1025 - val_output1_precision: 0.9791 - val_output1_recall: 0.9825 - val_output1_auc: 0.9981 - val_output2_precision: 0.9123 - val_output2_recall: 0.9091 - val_output2_auc: 0.9762 - val_output3_precision: 0.9545 - val_output3_recall: 0.9545 - val_output3_auc: 0.9936 - lr: 0.0010\n",
      "Epoch 9/200\n",
      "45/45 [==============================] - ETA: 0s - loss: 0.2607 - output1_loss: 0.0879 - output2_loss: 0.0952 - output3_loss: 0.0776 - output1_precision: 0.9653 - output1_recall: 0.9693 - output1_auc: 0.9964 - output2_precision: 0.9584 - output2_recall: 0.9658 - output2_auc: 0.9957 - output3_precision: 0.9720 - output3_recall: 0.9707 - output3_auc: 0.9973"
     ]
    },
    {
     "name": "stderr",
     "output_type": "stream",
     "text": [
      "WARNING:absl:Found untraced functions such as _jit_compiled_convolution_op, _jit_compiled_convolution_op, _jit_compiled_convolution_op, _jit_compiled_convolution_op, _jit_compiled_convolution_op while saving (showing 5 of 43). These functions will not be directly callable after loading.\n"
     ]
    },
    {
     "name": "stdout",
     "output_type": "stream",
     "text": [
      "INFO:tensorflow:Assets written to: timeseries_transformer\\assets\n"
     ]
    },
    {
     "name": "stderr",
     "output_type": "stream",
     "text": [
      "INFO:tensorflow:Assets written to: timeseries_transformer\\assets\n"
     ]
    },
    {
     "name": "stdout",
     "output_type": "stream",
     "text": [
      "45/45 [==============================] - 24s 532ms/step - loss: 0.2607 - output1_loss: 0.0879 - output2_loss: 0.0952 - output3_loss: 0.0776 - output1_precision: 0.9653 - output1_recall: 0.9693 - output1_auc: 0.9964 - output2_precision: 0.9584 - output2_recall: 0.9658 - output2_auc: 0.9957 - output3_precision: 0.9720 - output3_recall: 0.9707 - output3_auc: 0.9973 - val_loss: 0.3423 - val_output1_loss: 0.0663 - val_output2_loss: 0.1847 - val_output3_loss: 0.0913 - val_output1_precision: 0.9790 - val_output1_recall: 0.9790 - val_output1_auc: 0.9981 - val_output2_precision: 0.9184 - val_output2_recall: 0.9056 - val_output2_auc: 0.9798 - val_output3_precision: 0.9717 - val_output3_recall: 0.9615 - val_output3_auc: 0.9956 - lr: 0.0010\n",
      "Epoch 10/200\n",
      "45/45 [==============================] - ETA: 0s - loss: 0.2394 - output1_loss: 0.0842 - output2_loss: 0.0888 - output3_loss: 0.0663 - output1_precision: 0.9664 - output1_recall: 0.9623 - output1_auc: 0.9967 - output2_precision: 0.9659 - output2_recall: 0.9679 - output2_auc: 0.9960 - output3_precision: 0.9769 - output3_recall: 0.9756 - output3_auc: 0.9981"
     ]
    },
    {
     "name": "stderr",
     "output_type": "stream",
     "text": [
      "WARNING:absl:Found untraced functions such as _jit_compiled_convolution_op, _jit_compiled_convolution_op, _jit_compiled_convolution_op, _jit_compiled_convolution_op, _jit_compiled_convolution_op while saving (showing 5 of 43). These functions will not be directly callable after loading.\n"
     ]
    },
    {
     "name": "stdout",
     "output_type": "stream",
     "text": [
      "INFO:tensorflow:Assets written to: timeseries_transformer\\assets\n"
     ]
    },
    {
     "name": "stderr",
     "output_type": "stream",
     "text": [
      "INFO:tensorflow:Assets written to: timeseries_transformer\\assets\n"
     ]
    },
    {
     "name": "stdout",
     "output_type": "stream",
     "text": [
      "45/45 [==============================] - 23s 516ms/step - loss: 0.2394 - output1_loss: 0.0842 - output2_loss: 0.0888 - output3_loss: 0.0663 - output1_precision: 0.9664 - output1_recall: 0.9623 - output1_auc: 0.9967 - output2_precision: 0.9659 - output2_recall: 0.9679 - output2_auc: 0.9960 - output3_precision: 0.9769 - output3_recall: 0.9756 - output3_auc: 0.9981 - val_loss: 0.3276 - val_output1_loss: 0.0578 - val_output2_loss: 0.1847 - val_output3_loss: 0.0851 - val_output1_precision: 0.9825 - val_output1_recall: 0.9825 - val_output1_auc: 0.9986 - val_output2_precision: 0.9164 - val_output2_recall: 0.9196 - val_output2_auc: 0.9791 - val_output3_precision: 0.9683 - val_output3_recall: 0.9615 - val_output3_auc: 0.9962 - lr: 0.0010\n",
      "Epoch 11/200\n",
      "45/45 [==============================] - 19s 417ms/step - loss: 0.2125 - output1_loss: 0.0753 - output2_loss: 0.0830 - output3_loss: 0.0542 - output1_precision: 0.9707 - output1_recall: 0.9721 - output1_auc: 0.9975 - output2_precision: 0.9633 - output2_recall: 0.9721 - output2_auc: 0.9966 - output3_precision: 0.9805 - output3_recall: 0.9839 - output3_auc: 0.9990 - val_loss: 0.3292 - val_output1_loss: 0.0582 - val_output2_loss: 0.1889 - val_output3_loss: 0.0821 - val_output1_precision: 0.9790 - val_output1_recall: 0.9790 - val_output1_auc: 0.9984 - val_output2_precision: 0.9152 - val_output2_recall: 0.9056 - val_output2_auc: 0.9785 - val_output3_precision: 0.9615 - val_output3_recall: 0.9615 - val_output3_auc: 0.9965 - lr: 0.0010\n",
      "Epoch 12/200\n",
      "45/45 [==============================] - ETA: 0s - loss: 0.2053 - output1_loss: 0.0761 - output2_loss: 0.0779 - output3_loss: 0.0514 - output1_precision: 0.9740 - output1_recall: 0.9679 - output1_auc: 0.9972 - output2_precision: 0.9741 - output2_recall: 0.9693 - output2_auc: 0.9971 - output3_precision: 0.9861 - output3_recall: 0.9867 - output3_auc: 0.9992"
     ]
    },
    {
     "name": "stderr",
     "output_type": "stream",
     "text": [
      "WARNING:absl:Found untraced functions such as _jit_compiled_convolution_op, _jit_compiled_convolution_op, _jit_compiled_convolution_op, _jit_compiled_convolution_op, _jit_compiled_convolution_op while saving (showing 5 of 43). These functions will not be directly callable after loading.\n"
     ]
    },
    {
     "name": "stdout",
     "output_type": "stream",
     "text": [
      "INFO:tensorflow:Assets written to: timeseries_transformer\\assets\n"
     ]
    },
    {
     "name": "stderr",
     "output_type": "stream",
     "text": [
      "INFO:tensorflow:Assets written to: timeseries_transformer\\assets\n"
     ]
    },
    {
     "name": "stdout",
     "output_type": "stream",
     "text": [
      "45/45 [==============================] - 23s 519ms/step - loss: 0.2053 - output1_loss: 0.0761 - output2_loss: 0.0779 - output3_loss: 0.0514 - output1_precision: 0.9740 - output1_recall: 0.9679 - output1_auc: 0.9972 - output2_precision: 0.9741 - output2_recall: 0.9693 - output2_auc: 0.9971 - output3_precision: 0.9861 - output3_recall: 0.9867 - output3_auc: 0.9992 - val_loss: 0.3076 - val_output1_loss: 0.0508 - val_output2_loss: 0.1760 - val_output3_loss: 0.0808 - val_output1_precision: 0.9792 - val_output1_recall: 0.9860 - val_output1_auc: 0.9990 - val_output2_precision: 0.9167 - val_output2_recall: 0.9231 - val_output2_auc: 0.9812 - val_output3_precision: 0.9683 - val_output3_recall: 0.9615 - val_output3_auc: 0.9962 - lr: 0.0010\n",
      "Epoch 13/200\n",
      "45/45 [==============================] - ETA: 0s - loss: 0.1787 - output1_loss: 0.0680 - output2_loss: 0.0681 - output3_loss: 0.0426 - output1_precision: 0.9770 - output1_recall: 0.9784 - output1_auc: 0.9980 - output2_precision: 0.9729 - output2_recall: 0.9756 - output2_auc: 0.9980 - output3_precision: 0.9916 - output3_recall: 0.9881 - output3_auc: 0.9994"
     ]
    },
    {
     "name": "stderr",
     "output_type": "stream",
     "text": [
      "WARNING:absl:Found untraced functions such as _jit_compiled_convolution_op, _jit_compiled_convolution_op, _jit_compiled_convolution_op, _jit_compiled_convolution_op, _jit_compiled_convolution_op while saving (showing 5 of 43). These functions will not be directly callable after loading.\n"
     ]
    },
    {
     "name": "stdout",
     "output_type": "stream",
     "text": [
      "INFO:tensorflow:Assets written to: timeseries_transformer\\assets\n"
     ]
    },
    {
     "name": "stderr",
     "output_type": "stream",
     "text": [
      "INFO:tensorflow:Assets written to: timeseries_transformer\\assets\n"
     ]
    },
    {
     "name": "stdout",
     "output_type": "stream",
     "text": [
      "45/45 [==============================] - 23s 522ms/step - loss: 0.1787 - output1_loss: 0.0680 - output2_loss: 0.0681 - output3_loss: 0.0426 - output1_precision: 0.9770 - output1_recall: 0.9784 - output1_auc: 0.9980 - output2_precision: 0.9729 - output2_recall: 0.9756 - output2_auc: 0.9980 - output3_precision: 0.9916 - output3_recall: 0.9881 - output3_auc: 0.9994 - val_loss: 0.2859 - val_output1_loss: 0.0505 - val_output2_loss: 0.1621 - val_output3_loss: 0.0733 - val_output1_precision: 0.9791 - val_output1_recall: 0.9825 - val_output1_auc: 0.9988 - val_output2_precision: 0.9336 - val_output2_recall: 0.9336 - val_output2_auc: 0.9843 - val_output3_precision: 0.9684 - val_output3_recall: 0.9650 - val_output3_auc: 0.9971 - lr: 0.0010\n",
      "Epoch 14/200\n",
      "45/45 [==============================] - 18s 411ms/step - loss: 0.1690 - output1_loss: 0.0639 - output2_loss: 0.0637 - output3_loss: 0.0413 - output1_precision: 0.9742 - output1_recall: 0.9756 - output1_auc: 0.9980 - output2_precision: 0.9790 - output2_recall: 0.9777 - output2_auc: 0.9984 - output3_precision: 0.9874 - output3_recall: 0.9867 - output3_auc: 0.9995 - val_loss: 0.2910 - val_output1_loss: 0.0469 - val_output2_loss: 0.1665 - val_output3_loss: 0.0776 - val_output1_precision: 0.9826 - val_output1_recall: 0.9860 - val_output1_auc: 0.9991 - val_output2_precision: 0.9439 - val_output2_recall: 0.9406 - val_output2_auc: 0.9836 - val_output3_precision: 0.9717 - val_output3_recall: 0.9615 - val_output3_auc: 0.9965 - lr: 0.0010\n",
      "Epoch 15/200\n",
      "45/45 [==============================] - ETA: 0s - loss: 0.1541 - output1_loss: 0.0586 - output2_loss: 0.0568 - output3_loss: 0.0386 - output1_precision: 0.9776 - output1_recall: 0.9763 - output1_auc: 0.9986 - output2_precision: 0.9847 - output2_recall: 0.9860 - output2_auc: 0.9988 - output3_precision: 0.9868 - output3_recall: 0.9909 - output3_auc: 0.9995"
     ]
    },
    {
     "name": "stderr",
     "output_type": "stream",
     "text": [
      "WARNING:absl:Found untraced functions such as _jit_compiled_convolution_op, _jit_compiled_convolution_op, _jit_compiled_convolution_op, _jit_compiled_convolution_op, _jit_compiled_convolution_op while saving (showing 5 of 43). These functions will not be directly callable after loading.\n"
     ]
    },
    {
     "name": "stdout",
     "output_type": "stream",
     "text": [
      "INFO:tensorflow:Assets written to: timeseries_transformer\\assets\n"
     ]
    },
    {
     "name": "stderr",
     "output_type": "stream",
     "text": [
      "INFO:tensorflow:Assets written to: timeseries_transformer\\assets\n"
     ]
    },
    {
     "name": "stdout",
     "output_type": "stream",
     "text": [
      "45/45 [==============================] - 23s 519ms/step - loss: 0.1541 - output1_loss: 0.0586 - output2_loss: 0.0568 - output3_loss: 0.0386 - output1_precision: 0.9776 - output1_recall: 0.9763 - output1_auc: 0.9986 - output2_precision: 0.9847 - output2_recall: 0.9860 - output2_auc: 0.9988 - output3_precision: 0.9868 - output3_recall: 0.9909 - output3_auc: 0.9995 - val_loss: 0.2651 - val_output1_loss: 0.0403 - val_output2_loss: 0.1546 - val_output3_loss: 0.0703 - val_output1_precision: 0.9826 - val_output1_recall: 0.9895 - val_output1_auc: 0.9995 - val_output2_precision: 0.9340 - val_output2_recall: 0.9406 - val_output2_auc: 0.9860 - val_output3_precision: 0.9685 - val_output3_recall: 0.9685 - val_output3_auc: 0.9972 - lr: 0.0010\n",
      "Epoch 16/200\n",
      "45/45 [==============================] - 19s 427ms/step - loss: 0.1426 - output1_loss: 0.0538 - output2_loss: 0.0545 - output3_loss: 0.0344 - output1_precision: 0.9812 - output1_recall: 0.9812 - output1_auc: 0.9988 - output2_precision: 0.9784 - output2_recall: 0.9791 - output2_auc: 0.9989 - output3_precision: 0.9937 - output3_recall: 0.9923 - output3_auc: 0.9997 - val_loss: 0.2834 - val_output1_loss: 0.0420 - val_output2_loss: 0.1675 - val_output3_loss: 0.0739 - val_output1_precision: 0.9860 - val_output1_recall: 0.9825 - val_output1_auc: 0.9992 - val_output2_precision: 0.9336 - val_output2_recall: 0.9336 - val_output2_auc: 0.9831 - val_output3_precision: 0.9617 - val_output3_recall: 0.9650 - val_output3_auc: 0.9968 - lr: 0.0010\n",
      "Epoch 17/200\n",
      "45/45 [==============================] - ETA: 0s - loss: 0.1330 - output1_loss: 0.0487 - output2_loss: 0.0517 - output3_loss: 0.0326 - output1_precision: 0.9826 - output1_recall: 0.9846 - output1_auc: 0.9991 - output2_precision: 0.9819 - output2_recall: 0.9819 - output2_auc: 0.9989 - output3_precision: 0.9916 - output3_recall: 0.9923 - output3_auc: 0.9998"
     ]
    },
    {
     "name": "stderr",
     "output_type": "stream",
     "text": [
      "WARNING:absl:Found untraced functions such as _jit_compiled_convolution_op, _jit_compiled_convolution_op, _jit_compiled_convolution_op, _jit_compiled_convolution_op, _jit_compiled_convolution_op while saving (showing 5 of 43). These functions will not be directly callable after loading.\n"
     ]
    },
    {
     "name": "stdout",
     "output_type": "stream",
     "text": [
      "INFO:tensorflow:Assets written to: timeseries_transformer\\assets\n"
     ]
    },
    {
     "name": "stderr",
     "output_type": "stream",
     "text": [
      "INFO:tensorflow:Assets written to: timeseries_transformer\\assets\n"
     ]
    },
    {
     "name": "stdout",
     "output_type": "stream",
     "text": [
      "45/45 [==============================] - 23s 508ms/step - loss: 0.1330 - output1_loss: 0.0487 - output2_loss: 0.0517 - output3_loss: 0.0326 - output1_precision: 0.9826 - output1_recall: 0.9846 - output1_auc: 0.9991 - output2_precision: 0.9819 - output2_recall: 0.9819 - output2_auc: 0.9989 - output3_precision: 0.9916 - output3_recall: 0.9923 - output3_auc: 0.9998 - val_loss: 0.2628 - val_output1_loss: 0.0354 - val_output2_loss: 0.1577 - val_output3_loss: 0.0697 - val_output1_precision: 0.9895 - val_output1_recall: 0.9895 - val_output1_auc: 0.9997 - val_output2_precision: 0.9303 - val_output2_recall: 0.9336 - val_output2_auc: 0.9848 - val_output3_precision: 0.9649 - val_output3_recall: 0.9615 - val_output3_auc: 0.9971 - lr: 0.0010\n",
      "Epoch 18/200\n",
      "45/45 [==============================] - ETA: 0s - loss: 0.1239 - output1_loss: 0.0468 - output2_loss: 0.0459 - output3_loss: 0.0311 - output1_precision: 0.9860 - output1_recall: 0.9833 - output1_auc: 0.9992 - output2_precision: 0.9854 - output2_recall: 0.9867 - output2_auc: 0.9993 - output3_precision: 0.9937 - output3_recall: 0.9909 - output3_auc: 0.9997"
     ]
    },
    {
     "name": "stderr",
     "output_type": "stream",
     "text": [
      "WARNING:absl:Found untraced functions such as _jit_compiled_convolution_op, _jit_compiled_convolution_op, _jit_compiled_convolution_op, _jit_compiled_convolution_op, _jit_compiled_convolution_op while saving (showing 5 of 43). These functions will not be directly callable after loading.\n"
     ]
    },
    {
     "name": "stdout",
     "output_type": "stream",
     "text": [
      "INFO:tensorflow:Assets written to: timeseries_transformer\\assets\n"
     ]
    },
    {
     "name": "stderr",
     "output_type": "stream",
     "text": [
      "INFO:tensorflow:Assets written to: timeseries_transformer\\assets\n"
     ]
    },
    {
     "name": "stdout",
     "output_type": "stream",
     "text": [
      "45/45 [==============================] - 23s 512ms/step - loss: 0.1239 - output1_loss: 0.0468 - output2_loss: 0.0459 - output3_loss: 0.0311 - output1_precision: 0.9860 - output1_recall: 0.9833 - output1_auc: 0.9992 - output2_precision: 0.9854 - output2_recall: 0.9867 - output2_auc: 0.9993 - output3_precision: 0.9937 - output3_recall: 0.9909 - output3_auc: 0.9997 - val_loss: 0.2498 - val_output1_loss: 0.0336 - val_output2_loss: 0.1490 - val_output3_loss: 0.0673 - val_output1_precision: 0.9895 - val_output1_recall: 0.9895 - val_output1_auc: 0.9997 - val_output2_precision: 0.9441 - val_output2_recall: 0.9441 - val_output2_auc: 0.9875 - val_output3_precision: 0.9650 - val_output3_recall: 0.9650 - val_output3_auc: 0.9973 - lr: 0.0010\n",
      "Epoch 19/200\n",
      "45/45 [==============================] - 18s 407ms/step - loss: 0.1198 - output1_loss: 0.0466 - output2_loss: 0.0456 - output3_loss: 0.0276 - output1_precision: 0.9847 - output1_recall: 0.9860 - output1_auc: 0.9991 - output2_precision: 0.9846 - output2_recall: 0.9846 - output2_auc: 0.9993 - output3_precision: 0.9924 - output3_recall: 0.9958 - output3_auc: 0.9998 - val_loss: 0.2642 - val_output1_loss: 0.0347 - val_output2_loss: 0.1606 - val_output3_loss: 0.0689 - val_output1_precision: 0.9895 - val_output1_recall: 0.9895 - val_output1_auc: 0.9995 - val_output2_precision: 0.9443 - val_output2_recall: 0.9476 - val_output2_auc: 0.9844 - val_output3_precision: 0.9617 - val_output3_recall: 0.9650 - val_output3_auc: 0.9972 - lr: 0.0010\n",
      "Epoch 20/200\n",
      "45/45 [==============================] - 18s 402ms/step - loss: 0.1070 - output1_loss: 0.0436 - output2_loss: 0.0398 - output3_loss: 0.0237 - output1_precision: 0.9874 - output1_recall: 0.9867 - output1_auc: 0.9993 - output2_precision: 0.9874 - output2_recall: 0.9881 - output2_auc: 0.9995 - output3_precision: 0.9951 - output3_recall: 0.9944 - output3_auc: 0.9999 - val_loss: 0.2507 - val_output1_loss: 0.0285 - val_output2_loss: 0.1515 - val_output3_loss: 0.0707 - val_output1_precision: 0.9930 - val_output1_recall: 0.9895 - val_output1_auc: 0.9998 - val_output2_precision: 0.9509 - val_output2_recall: 0.9476 - val_output2_auc: 0.9861 - val_output3_precision: 0.9684 - val_output3_recall: 0.9650 - val_output3_auc: 0.9969 - lr: 0.0010\n",
      "Epoch 21/200\n",
      "45/45 [==============================] - ETA: 0s - loss: 0.0986 - output1_loss: 0.0385 - output2_loss: 0.0367 - output3_loss: 0.0234 - output1_precision: 0.9909 - output1_recall: 0.9909 - output1_auc: 0.9994 - output2_precision: 0.9895 - output2_recall: 0.9874 - output2_auc: 0.9996 - output3_precision: 0.9944 - output3_recall: 0.9944 - output3_auc: 0.9999"
     ]
    },
    {
     "name": "stderr",
     "output_type": "stream",
     "text": [
      "WARNING:absl:Found untraced functions such as _jit_compiled_convolution_op, _jit_compiled_convolution_op, _jit_compiled_convolution_op, _jit_compiled_convolution_op, _jit_compiled_convolution_op while saving (showing 5 of 43). These functions will not be directly callable after loading.\n"
     ]
    },
    {
     "name": "stdout",
     "output_type": "stream",
     "text": [
      "INFO:tensorflow:Assets written to: timeseries_transformer\\assets\n"
     ]
    },
    {
     "name": "stderr",
     "output_type": "stream",
     "text": [
      "INFO:tensorflow:Assets written to: timeseries_transformer\\assets\n"
     ]
    },
    {
     "name": "stdout",
     "output_type": "stream",
     "text": [
      "45/45 [==============================] - 23s 515ms/step - loss: 0.0986 - output1_loss: 0.0385 - output2_loss: 0.0367 - output3_loss: 0.0234 - output1_precision: 0.9909 - output1_recall: 0.9909 - output1_auc: 0.9994 - output2_precision: 0.9895 - output2_recall: 0.9874 - output2_auc: 0.9996 - output3_precision: 0.9944 - output3_recall: 0.9944 - output3_auc: 0.9999 - val_loss: 0.2451 - val_output1_loss: 0.0290 - val_output2_loss: 0.1473 - val_output3_loss: 0.0688 - val_output1_precision: 0.9930 - val_output1_recall: 0.9895 - val_output1_auc: 0.9997 - val_output2_precision: 0.9510 - val_output2_recall: 0.9510 - val_output2_auc: 0.9861 - val_output3_precision: 0.9684 - val_output3_recall: 0.9650 - val_output3_auc: 0.9972 - lr: 0.0010\n",
      "Epoch 22/200\n",
      "45/45 [==============================] - 18s 395ms/step - loss: 0.0921 - output1_loss: 0.0335 - output2_loss: 0.0348 - output3_loss: 0.0237 - output1_precision: 0.9923 - output1_recall: 0.9937 - output1_auc: 0.9998 - output2_precision: 0.9895 - output2_recall: 0.9909 - output2_auc: 0.9996 - output3_precision: 0.9923 - output3_recall: 0.9944 - output3_auc: 0.9999 - val_loss: 0.2455 - val_output1_loss: 0.0253 - val_output2_loss: 0.1477 - val_output3_loss: 0.0725 - val_output1_precision: 0.9930 - val_output1_recall: 0.9895 - val_output1_auc: 0.9999 - val_output2_precision: 0.9474 - val_output2_recall: 0.9441 - val_output2_auc: 0.9863 - val_output3_precision: 0.9648 - val_output3_recall: 0.9580 - val_output3_auc: 0.9967 - lr: 0.0010\n",
      "Epoch 23/200\n",
      "45/45 [==============================] - ETA: 0s - loss: 0.0881 - output1_loss: 0.0329 - output2_loss: 0.0358 - output3_loss: 0.0195 - output1_precision: 0.9944 - output1_recall: 0.9895 - output1_auc: 0.9998 - output2_precision: 0.9902 - output2_recall: 0.9881 - output2_auc: 0.9996 - output3_precision: 0.9965 - output3_recall: 0.9993 - output3_auc: 1.0000"
     ]
    },
    {
     "name": "stderr",
     "output_type": "stream",
     "text": [
      "WARNING:absl:Found untraced functions such as _jit_compiled_convolution_op, _jit_compiled_convolution_op, _jit_compiled_convolution_op, _jit_compiled_convolution_op, _jit_compiled_convolution_op while saving (showing 5 of 43). These functions will not be directly callable after loading.\n"
     ]
    },
    {
     "name": "stdout",
     "output_type": "stream",
     "text": [
      "INFO:tensorflow:Assets written to: timeseries_transformer\\assets\n"
     ]
    },
    {
     "name": "stderr",
     "output_type": "stream",
     "text": [
      "INFO:tensorflow:Assets written to: timeseries_transformer\\assets\n"
     ]
    },
    {
     "name": "stdout",
     "output_type": "stream",
     "text": [
      "45/45 [==============================] - 23s 510ms/step - loss: 0.0881 - output1_loss: 0.0329 - output2_loss: 0.0358 - output3_loss: 0.0195 - output1_precision: 0.9944 - output1_recall: 0.9895 - output1_auc: 0.9998 - output2_precision: 0.9902 - output2_recall: 0.9881 - output2_auc: 0.9996 - output3_precision: 0.9965 - output3_recall: 0.9993 - output3_auc: 1.0000 - val_loss: 0.2308 - val_output1_loss: 0.0233 - val_output2_loss: 0.1374 - val_output3_loss: 0.0702 - val_output1_precision: 0.9930 - val_output1_recall: 0.9895 - val_output1_auc: 0.9999 - val_output2_precision: 0.9477 - val_output2_recall: 0.9510 - val_output2_auc: 0.9887 - val_output3_precision: 0.9685 - val_output3_recall: 0.9685 - val_output3_auc: 0.9970 - lr: 0.0010\n",
      "Epoch 24/200\n",
      "45/45 [==============================] - 18s 396ms/step - loss: 0.0811 - output1_loss: 0.0323 - output2_loss: 0.0299 - output3_loss: 0.0188 - output1_precision: 0.9896 - output1_recall: 0.9916 - output1_auc: 0.9997 - output2_precision: 0.9930 - output2_recall: 0.9930 - output2_auc: 0.9998 - output3_precision: 0.9951 - output3_recall: 0.9965 - output3_auc: 1.0000 - val_loss: 0.2366 - val_output1_loss: 0.0225 - val_output2_loss: 0.1449 - val_output3_loss: 0.0692 - val_output1_precision: 0.9930 - val_output1_recall: 0.9930 - val_output1_auc: 0.9999 - val_output2_precision: 0.9512 - val_output2_recall: 0.9545 - val_output2_auc: 0.9869 - val_output3_precision: 0.9682 - val_output3_recall: 0.9580 - val_output3_auc: 0.9970 - lr: 0.0010\n",
      "Epoch 25/200\n",
      "45/45 [==============================] - 18s 392ms/step - loss: 0.0794 - output1_loss: 0.0308 - output2_loss: 0.0321 - output3_loss: 0.0164 - output1_precision: 0.9909 - output1_recall: 0.9930 - output1_auc: 0.9997 - output2_precision: 0.9909 - output2_recall: 0.9888 - output2_auc: 0.9997 - output3_precision: 0.9972 - output3_recall: 0.9979 - output3_auc: 0.9999 - val_loss: 0.2394 - val_output1_loss: 0.0222 - val_output2_loss: 0.1499 - val_output3_loss: 0.0674 - val_output1_precision: 0.9930 - val_output1_recall: 0.9895 - val_output1_auc: 0.9999 - val_output2_precision: 0.9545 - val_output2_recall: 0.9545 - val_output2_auc: 0.9868 - val_output3_precision: 0.9685 - val_output3_recall: 0.9685 - val_output3_auc: 0.9971 - lr: 0.0010\n",
      "Epoch 26/200\n",
      "45/45 [==============================] - 19s 424ms/step - loss: 0.0722 - output1_loss: 0.0309 - output2_loss: 0.0242 - output3_loss: 0.0170 - output1_precision: 0.9916 - output1_recall: 0.9902 - output1_auc: 0.9997 - output2_precision: 0.9958 - output2_recall: 0.9958 - output2_auc: 0.9999 - output3_precision: 0.9965 - output3_recall: 0.9965 - output3_auc: 1.0000 - val_loss: 0.2456 - val_output1_loss: 0.0215 - val_output2_loss: 0.1459 - val_output3_loss: 0.0782 - val_output1_precision: 0.9930 - val_output1_recall: 0.9930 - val_output1_auc: 0.9999 - val_output2_precision: 0.9580 - val_output2_recall: 0.9580 - val_output2_auc: 0.9869 - val_output3_precision: 0.9648 - val_output3_recall: 0.9580 - val_output3_auc: 0.9965 - lr: 0.0010\n",
      "Epoch 27/200\n",
      "45/45 [==============================] - 18s 404ms/step - loss: 0.0698 - output1_loss: 0.0290 - output2_loss: 0.0251 - output3_loss: 0.0157 - output1_precision: 0.9930 - output1_recall: 0.9923 - output1_auc: 0.9997 - output2_precision: 0.9958 - output2_recall: 0.9944 - output2_auc: 0.9998 - output3_precision: 0.9965 - output3_recall: 0.9972 - output3_auc: 0.9999 - val_loss: 0.2492 - val_output1_loss: 0.0211 - val_output2_loss: 0.1567 - val_output3_loss: 0.0713 - val_output1_precision: 0.9930 - val_output1_recall: 0.9930 - val_output1_auc: 0.9999 - val_output2_precision: 0.9580 - val_output2_recall: 0.9580 - val_output2_auc: 0.9852 - val_output3_precision: 0.9615 - val_output3_recall: 0.9615 - val_output3_auc: 0.9970 - lr: 0.0010\n",
      "Epoch 28/200\n",
      "45/45 [==============================] - 18s 396ms/step - loss: 0.0630 - output1_loss: 0.0259 - output2_loss: 0.0252 - output3_loss: 0.0119 - output1_precision: 0.9937 - output1_recall: 0.9930 - output1_auc: 0.9998 - output2_precision: 0.9944 - output2_recall: 0.9944 - output2_auc: 0.9999 - output3_precision: 0.9993 - output3_recall: 0.9986 - output3_auc: 1.0000 - val_loss: 0.2516 - val_output1_loss: 0.0195 - val_output2_loss: 0.1654 - val_output3_loss: 0.0667 - val_output1_precision: 0.9930 - val_output1_recall: 0.9930 - val_output1_auc: 0.9999 - val_output2_precision: 0.9509 - val_output2_recall: 0.9476 - val_output2_auc: 0.9845 - val_output3_precision: 0.9614 - val_output3_recall: 0.9580 - val_output3_auc: 0.9972 - lr: 0.0010\n",
      "Epoch 29/200\n",
      "45/45 [==============================] - 18s 394ms/step - loss: 0.0597 - output1_loss: 0.0235 - output2_loss: 0.0255 - output3_loss: 0.0107 - output1_precision: 0.9951 - output1_recall: 0.9944 - output1_auc: 0.9999 - output2_precision: 0.9923 - output2_recall: 0.9937 - output2_auc: 0.9998 - output3_precision: 1.0000 - output3_recall: 1.0000 - output3_auc: 1.0000 - val_loss: 0.2354 - val_output1_loss: 0.0202 - val_output2_loss: 0.1471 - val_output3_loss: 0.0681 - val_output1_precision: 0.9930 - val_output1_recall: 0.9930 - val_output1_auc: 0.9999 - val_output2_precision: 0.9544 - val_output2_recall: 0.9510 - val_output2_auc: 0.9871 - val_output3_precision: 0.9614 - val_output3_recall: 0.9580 - val_output3_auc: 0.9972 - lr: 0.0010\n",
      "Epoch 30/200\n",
      "45/45 [==============================] - 19s 422ms/step - loss: 0.0568 - output1_loss: 0.0210 - output2_loss: 0.0223 - output3_loss: 0.0136 - output1_precision: 0.9972 - output1_recall: 0.9958 - output1_auc: 0.9999 - output2_precision: 0.9951 - output2_recall: 0.9944 - output2_auc: 0.9999 - output3_precision: 0.9965 - output3_recall: 0.9993 - output3_auc: 1.0000 - val_loss: 0.2460 - val_output1_loss: 0.0192 - val_output2_loss: 0.1608 - val_output3_loss: 0.0660 - val_output1_precision: 0.9895 - val_output1_recall: 0.9930 - val_output1_auc: 0.9999 - val_output2_precision: 0.9580 - val_output2_recall: 0.9580 - val_output2_auc: 0.9836 - val_output3_precision: 0.9649 - val_output3_recall: 0.9615 - val_output3_auc: 0.9973 - lr: 0.0010\n",
      "Epoch 31/200\n",
      "45/45 [==============================] - 19s 425ms/step - loss: 0.0543 - output1_loss: 0.0231 - output2_loss: 0.0193 - output3_loss: 0.0118 - output1_precision: 0.9951 - output1_recall: 0.9951 - output1_auc: 0.9999 - output2_precision: 0.9965 - output2_recall: 0.9944 - output2_auc: 1.0000 - output3_precision: 0.9986 - output3_recall: 0.9986 - output3_auc: 1.0000 - val_loss: 0.2528 - val_output1_loss: 0.0185 - val_output2_loss: 0.1598 - val_output3_loss: 0.0745 - val_output1_precision: 0.9930 - val_output1_recall: 0.9930 - val_output1_auc: 0.9999 - val_output2_precision: 0.9510 - val_output2_recall: 0.9510 - val_output2_auc: 0.9851 - val_output3_precision: 0.9683 - val_output3_recall: 0.9615 - val_output3_auc: 0.9968 - lr: 0.0010\n",
      "Epoch 32/200\n",
      "45/45 [==============================] - 18s 407ms/step - loss: 0.0519 - output1_loss: 0.0210 - output2_loss: 0.0211 - output3_loss: 0.0098 - output1_precision: 0.9944 - output1_recall: 0.9951 - output1_auc: 0.9999 - output2_precision: 0.9958 - output2_recall: 0.9944 - output2_auc: 0.9999 - output3_precision: 1.0000 - output3_recall: 1.0000 - output3_auc: 1.0000 - val_loss: 0.2432 - val_output1_loss: 0.0188 - val_output2_loss: 0.1523 - val_output3_loss: 0.0721 - val_output1_precision: 0.9930 - val_output1_recall: 0.9930 - val_output1_auc: 0.9999 - val_output2_precision: 0.9512 - val_output2_recall: 0.9545 - val_output2_auc: 0.9858 - val_output3_precision: 0.9650 - val_output3_recall: 0.9650 - val_output3_auc: 0.9971 - lr: 0.0010\n",
      "Epoch 33/200\n",
      "45/45 [==============================] - ETA: 0s - loss: 0.0495 - output1_loss: 0.0197 - output2_loss: 0.0195 - output3_loss: 0.0103 - output1_precision: 0.9972 - output1_recall: 0.9993 - output1_auc: 1.0000 - output2_precision: 0.9965 - output2_recall: 0.9965 - output2_auc: 0.9999 - output3_precision: 0.9979 - output3_recall: 0.9986 - output3_auc: 1.0000"
     ]
    },
    {
     "name": "stderr",
     "output_type": "stream",
     "text": [
      "WARNING:absl:Found untraced functions such as _jit_compiled_convolution_op, _jit_compiled_convolution_op, _jit_compiled_convolution_op, _jit_compiled_convolution_op, _jit_compiled_convolution_op while saving (showing 5 of 43). These functions will not be directly callable after loading.\n"
     ]
    },
    {
     "name": "stdout",
     "output_type": "stream",
     "text": [
      "INFO:tensorflow:Assets written to: timeseries_transformer\\assets\n"
     ]
    },
    {
     "name": "stderr",
     "output_type": "stream",
     "text": [
      "INFO:tensorflow:Assets written to: timeseries_transformer\\assets\n"
     ]
    },
    {
     "name": "stdout",
     "output_type": "stream",
     "text": [
      "45/45 [==============================] - 23s 509ms/step - loss: 0.0495 - output1_loss: 0.0197 - output2_loss: 0.0195 - output3_loss: 0.0103 - output1_precision: 0.9972 - output1_recall: 0.9993 - output1_auc: 1.0000 - output2_precision: 0.9965 - output2_recall: 0.9965 - output2_auc: 0.9999 - output3_precision: 0.9979 - output3_recall: 0.9986 - output3_auc: 1.0000 - val_loss: 0.2285 - val_output1_loss: 0.0163 - val_output2_loss: 0.1410 - val_output3_loss: 0.0711 - val_output1_precision: 0.9930 - val_output1_recall: 0.9930 - val_output1_auc: 0.9999 - val_output2_precision: 0.9512 - val_output2_recall: 0.9545 - val_output2_auc: 0.9881 - val_output3_precision: 0.9615 - val_output3_recall: 0.9615 - val_output3_auc: 0.9971 - lr: 0.0010\n",
      "Epoch 34/200\n",
      "45/45 [==============================] - 18s 409ms/step - loss: 0.0470 - output1_loss: 0.0198 - output2_loss: 0.0176 - output3_loss: 0.0096 - output1_precision: 0.9924 - output1_recall: 0.9958 - output1_auc: 0.9999 - output2_precision: 0.9972 - output2_recall: 0.9951 - output2_auc: 1.0000 - output3_precision: 0.9993 - output3_recall: 0.9993 - output3_auc: 1.0000 - val_loss: 0.2464 - val_output1_loss: 0.0165 - val_output2_loss: 0.1492 - val_output3_loss: 0.0807 - val_output1_precision: 0.9930 - val_output1_recall: 0.9930 - val_output1_auc: 0.9999 - val_output2_precision: 0.9579 - val_output2_recall: 0.9545 - val_output2_auc: 0.9866 - val_output3_precision: 0.9615 - val_output3_recall: 0.9615 - val_output3_auc: 0.9966 - lr: 0.0010\n",
      "Epoch 35/200\n",
      "45/45 [==============================] - 18s 397ms/step - loss: 0.0504 - output1_loss: 0.0194 - output2_loss: 0.0193 - output3_loss: 0.0117 - output1_precision: 0.9951 - output1_recall: 0.9958 - output1_auc: 0.9999 - output2_precision: 0.9965 - output2_recall: 0.9958 - output2_auc: 0.9999 - output3_precision: 0.9986 - output3_recall: 0.9986 - output3_auc: 1.0000 - val_loss: 0.2684 - val_output1_loss: 0.0162 - val_output2_loss: 0.1748 - val_output3_loss: 0.0774 - val_output1_precision: 0.9930 - val_output1_recall: 0.9930 - val_output1_auc: 0.9999 - val_output2_precision: 0.9582 - val_output2_recall: 0.9615 - val_output2_auc: 0.9836 - val_output3_precision: 0.9614 - val_output3_recall: 0.9580 - val_output3_auc: 0.9967 - lr: 0.0010\n",
      "Epoch 36/200\n",
      "45/45 [==============================] - 18s 401ms/step - loss: 0.0445 - output1_loss: 0.0177 - output2_loss: 0.0167 - output3_loss: 0.0101 - output1_precision: 0.9958 - output1_recall: 0.9965 - output1_auc: 0.9999 - output2_precision: 0.9965 - output2_recall: 0.9965 - output2_auc: 1.0000 - output3_precision: 0.9979 - output3_recall: 0.9979 - output3_auc: 1.0000 - val_loss: 0.2584 - val_output1_loss: 0.0210 - val_output2_loss: 0.1621 - val_output3_loss: 0.0753 - val_output1_precision: 0.9930 - val_output1_recall: 0.9930 - val_output1_auc: 0.9998 - val_output2_precision: 0.9481 - val_output2_recall: 0.9580 - val_output2_auc: 0.9840 - val_output3_precision: 0.9683 - val_output3_recall: 0.9615 - val_output3_auc: 0.9953 - lr: 0.0010\n",
      "Epoch 37/200\n",
      "45/45 [==============================] - 19s 414ms/step - loss: 0.0412 - output1_loss: 0.0133 - output2_loss: 0.0193 - output3_loss: 0.0085 - output1_precision: 0.9979 - output1_recall: 0.9972 - output1_auc: 1.0000 - output2_precision: 0.9958 - output2_recall: 0.9951 - output2_auc: 0.9999 - output3_precision: 0.9993 - output3_recall: 0.9979 - output3_auc: 1.0000 - val_loss: 0.2486 - val_output1_loss: 0.0167 - val_output2_loss: 0.1586 - val_output3_loss: 0.0733 - val_output1_precision: 0.9930 - val_output1_recall: 0.9930 - val_output1_auc: 0.9999 - val_output2_precision: 0.9615 - val_output2_recall: 0.9615 - val_output2_auc: 0.9860 - val_output3_precision: 0.9580 - val_output3_recall: 0.9580 - val_output3_auc: 0.9969 - lr: 0.0010\n",
      "Epoch 38/200\n",
      "45/45 [==============================] - 18s 405ms/step - loss: 0.0406 - output1_loss: 0.0165 - output2_loss: 0.0156 - output3_loss: 0.0085 - output1_precision: 0.9972 - output1_recall: 0.9979 - output1_auc: 1.0000 - output2_precision: 0.9972 - output2_recall: 0.9986 - output2_auc: 1.0000 - output3_precision: 0.9993 - output3_recall: 1.0000 - output3_auc: 1.0000 - val_loss: 0.2565 - val_output1_loss: 0.0166 - val_output2_loss: 0.1612 - val_output3_loss: 0.0787 - val_output1_precision: 0.9930 - val_output1_recall: 0.9930 - val_output1_auc: 0.9999 - val_output2_precision: 0.9615 - val_output2_recall: 0.9615 - val_output2_auc: 0.9845 - val_output3_precision: 0.9614 - val_output3_recall: 0.9580 - val_output3_auc: 0.9953 - lr: 0.0010\n",
      "Epoch 39/200\n",
      "45/45 [==============================] - 22s 481ms/step - loss: 0.0378 - output1_loss: 0.0158 - output2_loss: 0.0151 - output3_loss: 0.0069 - output1_precision: 0.9979 - output1_recall: 0.9965 - output1_auc: 1.0000 - output2_precision: 0.9979 - output2_recall: 0.9979 - output2_auc: 1.0000 - output3_precision: 0.9993 - output3_recall: 1.0000 - output3_auc: 1.0000 - val_loss: 0.2648 - val_output1_loss: 0.0156 - val_output2_loss: 0.1644 - val_output3_loss: 0.0847 - val_output1_precision: 0.9930 - val_output1_recall: 0.9930 - val_output1_auc: 0.9999 - val_output2_precision: 0.9579 - val_output2_recall: 0.9545 - val_output2_auc: 0.9831 - val_output3_precision: 0.9614 - val_output3_recall: 0.9580 - val_output3_auc: 0.9936 - lr: 0.0010\n",
      "Epoch 40/200\n",
      "45/45 [==============================] - 23s 502ms/step - loss: 0.0368 - output1_loss: 0.0139 - output2_loss: 0.0146 - output3_loss: 0.0084 - output1_precision: 0.9958 - output1_recall: 0.9951 - output1_auc: 1.0000 - output2_precision: 0.9979 - output2_recall: 0.9993 - output2_auc: 1.0000 - output3_precision: 0.9993 - output3_recall: 0.9986 - output3_auc: 1.0000 - val_loss: 0.2666 - val_output1_loss: 0.0136 - val_output2_loss: 0.1716 - val_output3_loss: 0.0814 - val_output1_precision: 0.9930 - val_output1_recall: 0.9930 - val_output1_auc: 1.0000 - val_output2_precision: 0.9615 - val_output2_recall: 0.9615 - val_output2_auc: 0.9816 - val_output3_precision: 0.9614 - val_output3_recall: 0.9580 - val_output3_auc: 0.9952 - lr: 0.0010\n",
      "Epoch 41/200\n",
      "45/45 [==============================] - 22s 491ms/step - loss: 0.0287 - output1_loss: 0.0106 - output2_loss: 0.0113 - output3_loss: 0.0068 - output1_precision: 0.9979 - output1_recall: 0.9979 - output1_auc: 1.0000 - output2_precision: 0.9993 - output2_recall: 0.9979 - output2_auc: 1.0000 - output3_precision: 0.9993 - output3_recall: 1.0000 - output3_auc: 1.0000 - val_loss: 0.2712 - val_output1_loss: 0.0167 - val_output2_loss: 0.1718 - val_output3_loss: 0.0827 - val_output1_precision: 0.9930 - val_output1_recall: 0.9930 - val_output1_auc: 0.9999 - val_output2_precision: 0.9580 - val_output2_recall: 0.9580 - val_output2_auc: 0.9829 - val_output3_precision: 0.9648 - val_output3_recall: 0.9580 - val_output3_auc: 0.9939 - lr: 0.0010\n",
      "Epoch 42/200\n",
      "45/45 [==============================] - 22s 487ms/step - loss: 0.0340 - output1_loss: 0.0140 - output2_loss: 0.0132 - output3_loss: 0.0068 - output1_precision: 0.9979 - output1_recall: 0.9986 - output1_auc: 1.0000 - output2_precision: 0.9986 - output2_recall: 0.9958 - output2_auc: 1.0000 - output3_precision: 1.0000 - output3_recall: 1.0000 - output3_auc: 1.0000 - val_loss: 0.2590 - val_output1_loss: 0.0142 - val_output2_loss: 0.1559 - val_output3_loss: 0.0889 - val_output1_precision: 0.9930 - val_output1_recall: 0.9930 - val_output1_auc: 0.9999 - val_output2_precision: 0.9580 - val_output2_recall: 0.9580 - val_output2_auc: 0.9858 - val_output3_precision: 0.9614 - val_output3_recall: 0.9580 - val_output3_auc: 0.9936 - lr: 0.0010\n",
      "Epoch 43/200\n",
      "45/45 [==============================] - 20s 435ms/step - loss: 0.0275 - output1_loss: 0.0094 - output2_loss: 0.0121 - output3_loss: 0.0059 - output1_precision: 0.9993 - output1_recall: 1.0000 - output1_auc: 1.0000 - output2_precision: 0.9972 - output2_recall: 0.9986 - output2_auc: 1.0000 - output3_precision: 0.9993 - output3_recall: 1.0000 - output3_auc: 1.0000 - val_loss: 0.2724 - val_output1_loss: 0.0147 - val_output2_loss: 0.1715 - val_output3_loss: 0.0862 - val_output1_precision: 0.9930 - val_output1_recall: 0.9930 - val_output1_auc: 0.9999 - val_output2_precision: 0.9615 - val_output2_recall: 0.9615 - val_output2_auc: 0.9846 - val_output3_precision: 0.9615 - val_output3_recall: 0.9615 - val_output3_auc: 0.9936 - lr: 0.0010\n"
     ]
    },
    {
     "name": "stdout",
     "output_type": "stream",
     "text": [
      "Epoch 44/200\n",
      "45/45 [==============================] - 18s 406ms/step - loss: 0.0285 - output1_loss: 0.0124 - output2_loss: 0.0107 - output3_loss: 0.0054 - output1_precision: 0.9972 - output1_recall: 0.9979 - output1_auc: 1.0000 - output2_precision: 0.9986 - output2_recall: 0.9986 - output2_auc: 1.0000 - output3_precision: 1.0000 - output3_recall: 1.0000 - output3_auc: 1.0000 - val_loss: 0.2625 - val_output1_loss: 0.0138 - val_output2_loss: 0.1757 - val_output3_loss: 0.0730 - val_output1_precision: 0.9930 - val_output1_recall: 0.9930 - val_output1_auc: 1.0000 - val_output2_precision: 0.9580 - val_output2_recall: 0.9580 - val_output2_auc: 0.9821 - val_output3_precision: 0.9684 - val_output3_recall: 0.9650 - val_output3_auc: 0.9957 - lr: 0.0010\n",
      "Epoch 45/200\n",
      "45/45 [==============================] - 18s 397ms/step - loss: 0.0299 - output1_loss: 0.0121 - output2_loss: 0.0108 - output3_loss: 0.0069 - output1_precision: 0.9986 - output1_recall: 0.9979 - output1_auc: 1.0000 - output2_precision: 0.9993 - output2_recall: 0.9958 - output2_auc: 1.0000 - output3_precision: 0.9993 - output3_recall: 0.9993 - output3_auc: 1.0000 - val_loss: 0.2683 - val_output1_loss: 0.0139 - val_output2_loss: 0.1770 - val_output3_loss: 0.0774 - val_output1_precision: 0.9930 - val_output1_recall: 0.9930 - val_output1_auc: 0.9999 - val_output2_precision: 0.9580 - val_output2_recall: 0.9580 - val_output2_auc: 0.9835 - val_output3_precision: 0.9682 - val_output3_recall: 0.9580 - val_output3_auc: 0.9953 - lr: 0.0010\n",
      "Epoch 46/200\n",
      "45/45 [==============================] - 19s 422ms/step - loss: 0.0291 - output1_loss: 0.0124 - output2_loss: 0.0103 - output3_loss: 0.0064 - output1_precision: 0.9972 - output1_recall: 0.9986 - output1_auc: 1.0000 - output2_precision: 0.9986 - output2_recall: 0.9986 - output2_auc: 1.0000 - output3_precision: 0.9986 - output3_recall: 1.0000 - output3_auc: 1.0000 - val_loss: 0.2782 - val_output1_loss: 0.0147 - val_output2_loss: 0.1851 - val_output3_loss: 0.0784 - val_output1_precision: 0.9930 - val_output1_recall: 0.9930 - val_output1_auc: 0.9999 - val_output2_precision: 0.9580 - val_output2_recall: 0.9580 - val_output2_auc: 0.9804 - val_output3_precision: 0.9682 - val_output3_recall: 0.9580 - val_output3_auc: 0.9954 - lr: 0.0010\n",
      "Epoch 47/200\n",
      "45/45 [==============================] - 19s 413ms/step - loss: 0.0231 - output1_loss: 0.0101 - output2_loss: 0.0093 - output3_loss: 0.0037 - output1_precision: 0.9993 - output1_recall: 0.9993 - output1_auc: 1.0000 - output2_precision: 0.9993 - output2_recall: 1.0000 - output2_auc: 1.0000 - output3_precision: 1.0000 - output3_recall: 1.0000 - output3_auc: 1.0000 - val_loss: 0.2871 - val_output1_loss: 0.0165 - val_output2_loss: 0.1886 - val_output3_loss: 0.0820 - val_output1_precision: 0.9930 - val_output1_recall: 0.9930 - val_output1_auc: 0.9999 - val_output2_precision: 0.9614 - val_output2_recall: 0.9580 - val_output2_auc: 0.9804 - val_output3_precision: 0.9649 - val_output3_recall: 0.9615 - val_output3_auc: 0.9952 - lr: 0.0010\n",
      "Epoch 48/200\n",
      "45/45 [==============================] - 18s 403ms/step - loss: 0.0250 - output1_loss: 0.0095 - output2_loss: 0.0104 - output3_loss: 0.0050 - output1_precision: 0.9993 - output1_recall: 0.9986 - output1_auc: 1.0000 - output2_precision: 0.9972 - output2_recall: 0.9979 - output2_auc: 1.0000 - output3_precision: 0.9993 - output3_recall: 1.0000 - output3_auc: 1.0000 - val_loss: 0.2893 - val_output1_loss: 0.0149 - val_output2_loss: 0.1887 - val_output3_loss: 0.0857 - val_output1_precision: 0.9895 - val_output1_recall: 0.9895 - val_output1_auc: 0.9999 - val_output2_precision: 0.9545 - val_output2_recall: 0.9545 - val_output2_auc: 0.9814 - val_output3_precision: 0.9614 - val_output3_recall: 0.9580 - val_output3_auc: 0.9951 - lr: 0.0010\n",
      "Epoch 49/200\n",
      "45/45 [==============================] - 18s 401ms/step - loss: 0.0223 - output1_loss: 0.0100 - output2_loss: 0.0085 - output3_loss: 0.0038 - output1_precision: 0.9993 - output1_recall: 0.9979 - output1_auc: 1.0000 - output2_precision: 0.9993 - output2_recall: 0.9986 - output2_auc: 1.0000 - output3_precision: 1.0000 - output3_recall: 1.0000 - output3_auc: 1.0000 - val_loss: 0.2763 - val_output1_loss: 0.0138 - val_output2_loss: 0.1766 - val_output3_loss: 0.0859 - val_output1_precision: 0.9930 - val_output1_recall: 0.9930 - val_output1_auc: 0.9999 - val_output2_precision: 0.9580 - val_output2_recall: 0.9580 - val_output2_auc: 0.9825 - val_output3_precision: 0.9580 - val_output3_recall: 0.9580 - val_output3_auc: 0.9938 - lr: 0.0010\n",
      "Epoch 50/200\n",
      "45/45 [==============================] - 18s 405ms/step - loss: 0.0204 - output1_loss: 0.0082 - output2_loss: 0.0084 - output3_loss: 0.0038 - output1_precision: 0.9993 - output1_recall: 0.9986 - output1_auc: 1.0000 - output2_precision: 0.9993 - output2_recall: 0.9986 - output2_auc: 1.0000 - output3_precision: 1.0000 - output3_recall: 1.0000 - output3_auc: 1.0000 - val_loss: 0.2815 - val_output1_loss: 0.0148 - val_output2_loss: 0.1842 - val_output3_loss: 0.0825 - val_output1_precision: 0.9930 - val_output1_recall: 0.9930 - val_output1_auc: 0.9999 - val_output2_precision: 0.9545 - val_output2_recall: 0.9545 - val_output2_auc: 0.9803 - val_output3_precision: 0.9649 - val_output3_recall: 0.9615 - val_output3_auc: 0.9939 - lr: 0.0010\n",
      "Epoch 51/200\n",
      "45/45 [==============================] - 18s 398ms/step - loss: 0.0216 - output1_loss: 0.0091 - output2_loss: 0.0065 - output3_loss: 0.0060 - output1_precision: 1.0000 - output1_recall: 0.9986 - output1_auc: 1.0000 - output2_precision: 1.0000 - output2_recall: 1.0000 - output2_auc: 1.0000 - output3_precision: 0.9986 - output3_recall: 0.9986 - output3_auc: 1.0000 - val_loss: 0.2900 - val_output1_loss: 0.0146 - val_output2_loss: 0.1865 - val_output3_loss: 0.0890 - val_output1_precision: 0.9930 - val_output1_recall: 0.9930 - val_output1_auc: 0.9999 - val_output2_precision: 0.9580 - val_output2_recall: 0.9580 - val_output2_auc: 0.9809 - val_output3_precision: 0.9649 - val_output3_recall: 0.9615 - val_output3_auc: 0.9939 - lr: 0.0010\n",
      "Epoch 52/200\n",
      "45/45 [==============================] - 18s 402ms/step - loss: 0.0198 - output1_loss: 0.0079 - output2_loss: 0.0077 - output3_loss: 0.0043 - output1_precision: 0.9993 - output1_recall: 0.9993 - output1_auc: 1.0000 - output2_precision: 0.9979 - output2_recall: 0.9993 - output2_auc: 1.0000 - output3_precision: 1.0000 - output3_recall: 1.0000 - output3_auc: 1.0000 - val_loss: 0.2849 - val_output1_loss: 0.0146 - val_output2_loss: 0.1811 - val_output3_loss: 0.0891 - val_output1_precision: 0.9930 - val_output1_recall: 0.9930 - val_output1_auc: 0.9999 - val_output2_precision: 0.9580 - val_output2_recall: 0.9580 - val_output2_auc: 0.9811 - val_output3_precision: 0.9650 - val_output3_recall: 0.9650 - val_output3_auc: 0.9939 - lr: 0.0010\n",
      "Epoch 53/200\n",
      "45/45 [==============================] - 18s 404ms/step - loss: 0.0190 - output1_loss: 0.0077 - output2_loss: 0.0063 - output3_loss: 0.0049 - output1_precision: 0.9986 - output1_recall: 0.9979 - output1_auc: 1.0000 - output2_precision: 1.0000 - output2_recall: 1.0000 - output2_auc: 1.0000 - output3_precision: 0.9986 - output3_recall: 1.0000 - output3_auc: 1.0000 - val_loss: 0.2812 - val_output1_loss: 0.0109 - val_output2_loss: 0.1793 - val_output3_loss: 0.0911 - val_output1_precision: 0.9965 - val_output1_recall: 0.9965 - val_output1_auc: 1.0000 - val_output2_precision: 0.9580 - val_output2_recall: 0.9580 - val_output2_auc: 0.9819 - val_output3_precision: 0.9614 - val_output3_recall: 0.9580 - val_output3_auc: 0.9939 - lr: 0.0010\n",
      "Epoch 53: early stopping\n",
      "dict_keys(['loss', 'output1_loss', 'output2_loss', 'output3_loss', 'output1_precision', 'output1_recall', 'output1_auc', 'output2_precision', 'output2_recall', 'output2_auc', 'output3_precision', 'output3_recall', 'output3_auc', 'val_loss', 'val_output1_loss', 'val_output2_loss', 'val_output3_loss', 'val_output1_precision', 'val_output1_recall', 'val_output1_auc', 'val_output2_precision', 'val_output2_recall', 'val_output2_auc', 'val_output3_precision', 'val_output3_recall', 'val_output3_auc', 'lr'])\n"
     ]
    },
    {
     "name": "stderr",
     "output_type": "stream",
     "text": [
      "WARNING:absl:Found untraced functions such as _jit_compiled_convolution_op, _jit_compiled_convolution_op, _jit_compiled_convolution_op, _jit_compiled_convolution_op, _jit_compiled_convolution_op while saving (showing 5 of 43). These functions will not be directly callable after loading.\n"
     ]
    },
    {
     "name": "stdout",
     "output_type": "stream",
     "text": [
      "INFO:tensorflow:Assets written to: timeseries_transformer\\assets\n"
     ]
    },
    {
     "name": "stderr",
     "output_type": "stream",
     "text": [
      "INFO:tensorflow:Assets written to: timeseries_transformer\\assets\n"
     ]
    },
    {
     "name": "stdout",
     "output_type": "stream",
     "text": [
      "Output 1 Training F1: 99.83%\n",
      "Output 1 Validation F1: 99.65%\n",
      "Output 2 Training F1: 100.00%\n",
      "Output 2 Validation F1: 95.80%\n",
      "Output 3 Training F1: 99.93%\n",
      "Output 3 Validation F1: 95.97%\n"
     ]
    }
   ],
   "source": [
    "epochs = 200\n",
    "batch_size = 32\n",
    "\n",
    "\n",
    "\n",
    "# Define the lists to store the training and validation scores\n",
    "trainf1_scores_output1 = []\n",
    "trainf1_scores_output2 = []\n",
    "trainf1_scores_output3 = []\n",
    "valf1_scores_output1 = []\n",
    "valf1_scores_output2 = []\n",
    "valf1_scores_output3 = []\n",
    "\n",
    "# Loop over the splits of the TimeSeriesSplit\n",
    "for train_index, val_index in tscv.split(X):\n",
    "\n",
    "    # Split the data into training and validation sets\n",
    "    x_train, x_val = X.iloc[train_index], X.iloc[val_index]\n",
    "    y1_train, y1_val = y1.iloc[train_index], y1.iloc[val_index]\n",
    "    y2_train, y2_val = y2.iloc[train_index], y2.iloc[val_index]\n",
    "    y3_train, y3_val = y3.iloc[train_index], y3.iloc[val_index]\n",
    "    \n",
    "    # One-hot encode the binary targets\n",
    "    y1_train = to_categorical(y1_train, num_classes=2)\n",
    "    y1_val = to_categorical(y1_val, num_classes=2)\n",
    "    y2_train = to_categorical(y2_train, num_classes=2)\n",
    "    y2_val = to_categorical(y2_val, num_classes=2)\n",
    "    y3_train = to_categorical(y3_train, num_classes=2)\n",
    "    y3_val = to_categorical(y3_val, num_classes=2)\n",
    "    \n",
    "    # Convert to numpy and reshape to 3D\n",
    "    x_train = x_train.values.reshape((x_train.shape[0], x_train.shape[1], 1))\n",
    "    x_val = x_val.values.reshape((x_val.shape[0], x_val.shape[1], 1))\n",
    "    \n",
    "    #create some callbacks to improve the model\n",
    "    callbacks = [\n",
    "        keras.callbacks.ModelCheckpoint(\n",
    "            \"timeseries_transformer\", save_best_only=True, monitor=\"val_loss\"\n",
    "        ),\n",
    "        keras.callbacks.ReduceLROnPlateau(\n",
    "            monitor=\"val_loss\", factor=0.5, patience=20, min_lr=0.0001\n",
    "        ),\n",
    "        keras.callbacks.EarlyStopping(monitor=\"val_loss\", patience=20, verbose=1),\n",
    "    ]\n",
    "    \n",
    "    model = transformer_model(input_shape=x_train.shape[1:], \n",
    "    num_classes=2,\n",
    "    head_size=64,\n",
    "    num_heads=8,\n",
    "    ff_dim=4,\n",
    "    num_transformer_blocks=4,\n",
    "    mlp_units=[128],\n",
    "    mlp_dropout=0.4,\n",
    "    dropout=0.2\n",
    "    )\n",
    "    \n",
    "    \n",
    "    \n",
    "    model.compile(\n",
    "        optimizer=\"adam\",\n",
    "        loss=\"binary_crossentropy\",\n",
    "        metrics=[keras.metrics.Precision(name='precision'),\n",
    "                 keras.metrics.Recall(name='recall'),\n",
    "                 keras.metrics.AUC(name='auc')]\n",
    "    )\n",
    "\n",
    "    # Fit the model\n",
    "    history = model.fit(\n",
    "        x_train,\n",
    "        [y1_train, y2_train, y3_train],\n",
    "        batch_size=batch_size,\n",
    "        epochs=epochs,\n",
    "        callbacks=callbacks,\n",
    "        validation_data=(x_val, [y1_val, y2_val, y3_val]),\n",
    "        verbose=1,\n",
    "    )\n",
    "    \n",
    "    print(history.history.keys())\n",
    "    \n",
    "    \n",
    "    #Calculate training performance using f1-score\n",
    "    precision1, recall1 = history.history[\"output1_precision\"][-1], history.history[\"output1_recall\"][-1]\n",
    "    trainf1_scores_output1.append((2 * precision1 * recall1 / (precision1 + recall1)))\n",
    "    precision2, recall2 = history.history[\"output2_precision\"][-1], history.history[\"output2_recall\"][-1]\n",
    "    trainf1_scores_output2.append((2 * precision2 * recall2 / (precision2 + recall2)))\n",
    "    precision3, recall3 = history.history[\"output3_precision\"][-1], history.history[\"output3_recall\"][-1]\n",
    "    trainf1_scores_output3.append((2 * precision3 * recall3 / (precision3 + recall3)))\n",
    "    \n",
    "    #Calculate training performance using f1-score\n",
    "    val_precision1, val_recall1 = history.history[\"val_output1_precision\"][-1], history.history[\"val_output1_recall\"][-1]\n",
    "    valf1_scores_output1.append((2 * val_precision1 * val_recall1 / (val_precision1 + val_recall1)))\n",
    "    val_precision2, val_recall2 = history.history[\"val_output2_precision\"][-1], history.history[\"val_output2_recall\"][-1]\n",
    "    valf1_scores_output2.append((2 * val_precision2 * val_recall2 / (val_precision2 + val_recall2)))\n",
    "    val_precision3, val_recall3 = history.history[\"val_output3_precision\"][-1], history.history[\"val_output3_recall\"][-1]\n",
    "    valf1_scores_output3.append((2 * val_precision3 * val_recall3 / (val_precision3 + val_recall3)))\n",
    "\n",
    "#Define the filename for the saved model\n",
    "model_filename = \"timeseries_transformer\"\n",
    "#Save the model\n",
    "model.save(model_filename)\n",
    "\n",
    "\n",
    "print(\"Output 1 Training F1: {:.2f}%\".format(trainf1_scores_output1[-1] * 100))\n",
    "print(\"Output 1 Validation F1: {:.2f}%\".format(valf1_scores_output1[-1] * 100))\n",
    "print(\"Output 2 Training F1: {:.2f}%\".format(trainf1_scores_output2[-1] * 100))\n",
    "print(\"Output 2 Validation F1: {:.2f}%\".format(valf1_scores_output2[-1] * 100))\n",
    "print(\"Output 3 Training F1: {:.2f}%\".format(trainf1_scores_output3[-1] * 100))\n",
    "print(\"Output 3 Validation F1: {:.2f}%\".format(valf1_scores_output3[-1] * 100))"
   ]
  },
  {
   "cell_type": "code",
   "execution_count": 51,
   "id": "44cf6b54",
   "metadata": {},
   "outputs": [
    {
     "name": "stdout",
     "output_type": "stream",
     "text": [
      "[0.9982668872954895, 1.0, 0.9988385438919067, 1.0, 0.998254803404608]\n",
      "[0.9195803999900818, 0.9370629191398621, 0.9138840302019027, 0.9545454382896423, 0.996503472328186]\n",
      "[1.0, 1.0, 0.9988385438919067, 1.0, 1.0]\n",
      "[0.9440559148788452, 0.9634782653462456, 0.8861645996689599, 0.9424083736796657, 0.9580419659614563]\n",
      "[1.0, 1.0, 0.9988399116577257, 1.0, 0.999302646332359]\n",
      "[0.9597197840208735, 0.9560632767052939, 0.9632224103037228, 0.9615384340286255, 0.9597197840208735]\n",
      "0.9990720469184009\n",
      "0.9443152519899349\n",
      "0.9997677087783814\n",
      "0.9388298239070345\n",
      "0.999628511598017\n",
      "0.9600527378158779\n",
      "0.9994894224315997\n",
      "0.947732604570949\n"
     ]
    }
   ],
   "source": [
    "print(trainf1_scores_output1)\n",
    "print(valf1_scores_output1)\n",
    "print(trainf1_scores_output2)\n",
    "print(valf1_scores_output2)\n",
    "print(trainf1_scores_output3)\n",
    "print(valf1_scores_output3)\n",
    "\n",
    "print(np.mean(trainf1_scores_output1))\n",
    "print(np.mean(valf1_scores_output1))\n",
    "print(np.mean(trainf1_scores_output2))\n",
    "print(np.mean(valf1_scores_output2))\n",
    "print(np.mean(trainf1_scores_output3))\n",
    "print(np.mean(valf1_scores_output3))\n",
    "\n",
    "\n",
    "print(np.mean([trainf1_scores_output1, trainf1_scores_output2, trainf1_scores_output3]))\n",
    "print(np.mean([valf1_scores_output1, valf1_scores_output2, valf1_scores_output3]))"
   ]
  },
  {
   "cell_type": "markdown",
   "id": "be380036",
   "metadata": {},
   "source": [
    "# Evaluate model using test data"
   ]
  },
  {
   "cell_type": "code",
   "execution_count": 55,
   "id": "afcff8e7",
   "metadata": {
    "scrolled": true
   },
   "outputs": [
    {
     "name": "stdout",
     "output_type": "stream",
     "text": [
      "6/6 [==============================] - 1s 137ms/step\n",
      "Accuracy for classification_region1: 0.94\n",
      "F1 score for classification_region1: 0.88\n",
      "ROC AUC score for classification_region1: 0.89\n",
      "\n",
      "Accuracy for classification_region2: 0.95\n",
      "F1 score for classification_region2: 0.86\n",
      "ROC AUC score for classification_region2: 0.89\n",
      "\n",
      "Accuracy for classification_region3: 0.98\n",
      "F1 score for classification_region3: 0.95\n",
      "ROC AUC score for classification_region3: 0.96\n"
     ]
    }
   ],
   "source": [
    "#load the model\n",
    "model = keras.models.load_model('timeseries_transformer')\n",
    "\n",
    "#load the test data\n",
    "df = pd.read_csv(\"test_preprocesseddata.csv\",index_col=\"datetime\")\n",
    "\n",
    "X_test = df.drop(['classification_region1', 'classification_region2', 'classification_region3'], axis=1)\n",
    "y1 = df[['classification_region1']]\n",
    "y2 = df[['classification_region2']]\n",
    "y3 = df[['classification_region3']]\n",
    "\n",
    "# Make predictions\n",
    "y1_pred, y2_pred, y3_pred = model.predict(X_test)\n",
    "\n",
    "# Get the predicted classes (highest probability)\n",
    "y1_pred = np.argmax(y1_pred, axis=1)\n",
    "y2_pred = np.argmax(y2_pred, axis=1)\n",
    "y3_pred = np.argmax(y3_pred, axis=1)\n",
    "\n",
    "# Calculate F1 scores\n",
    "f1_score1 = f1_score(y1, y1_pred)\n",
    "f1_score2 = f1_score(y2, y2_pred)\n",
    "f1_score3 = f1_score(y3, y3_pred)\n",
    "\n",
    "# Calculate accuracy\n",
    "accuracy1 = accuracy_score(y1, y1_pred)\n",
    "accuracy2 = accuracy_score(y2, y2_pred)\n",
    "accuracy3 = accuracy_score(y3, y3_pred)\n",
    "\n",
    "# Calculate roc_auc_score (Assuming binary classification)\n",
    "roc_auc1 = roc_auc_score(y1, y1_pred)\n",
    "roc_auc2 = roc_auc_score(y2, y2_pred)\n",
    "roc_auc3 = roc_auc_score(y3, y3_pred)\n",
    "\n",
    "# Print final scores for test set\n",
    "print(\"Accuracy for classification_region1: {:.2f}\".format(accuracy1))\n",
    "print(\"F1 score for classification_region1: {:.2f}\".format(f1_score1))\n",
    "print(\"ROC AUC score for classification_region1: {:.2f}\".format(roc_auc1))\n",
    "\n",
    "print(\"\\nAccuracy for classification_region2: {:.2f}\".format(accuracy2))\n",
    "print(\"F1 score for classification_region2: {:.2f}\".format(f1_score2))\n",
    "print(\"ROC AUC score for classification_region2: {:.2f}\".format(roc_auc2))\n",
    "\n",
    "print(\"\\nAccuracy for classification_region3: {:.2f}\".format(accuracy3))\n",
    "print(\"F1 score for classification_region3: {:.2f}\".format(f1_score3))\n",
    "print(\"ROC AUC score for classification_region3: {:.2f}\".format(roc_auc3))"
   ]
  },
  {
   "cell_type": "markdown",
   "id": "2ce87d29",
   "metadata": {},
   "source": [
    "# Predict using the model"
   ]
  },
  {
   "cell_type": "code",
   "execution_count": 42,
   "id": "ffc205f8",
   "metadata": {},
   "outputs": [
    {
     "data": {
      "image/png": "[encoded data removed]",
      "text/plain": [
       "<Figure size 640x480 with 1 Axes>"
      ]
     },
     "metadata": {},
     "output_type": "display_data"
    },
    {
     "data": {
      "image/png": "[encoded data removed]",
      "text/plain": [
       "<Figure size 640x480 with 1 Axes>"
      ]
     },
     "metadata": {},
     "output_type": "display_data"
    },
    {
     "data": {
      "image/png": "[encoded data removed]",
      "text/plain": [
       "<Figure size 640x480 with 1 Axes>"
      ]
     },
     "metadata": {},
     "output_type": "display_data"
    }
   ],
   "source": [
    "metrics = [\"output1_auc\",\"output2_auc\", \"output3_auc\"]\n",
    "for metric in metrics:\n",
    "    plt.figure()\n",
    "    plt.plot(history.history[metric])\n",
    "    plt.plot(history.history[\"val_\" + metric])\n",
    "    plt.title(\"model \" + metric)\n",
    "    plt.ylabel(metric, fontsize=\"large\")\n",
    "    plt.xlabel(\"epoch\", fontsize=\"large\")\n",
    "    plt.legend([\"train\", \"val\"], loc=\"best\")\n",
    "    plt.show()\n",
    "    plt.close()"
   ]
  },
  {
   "cell_type": "code",
   "execution_count": null,
   "id": "924414c8",
   "metadata": {},
   "outputs": [],
   "source": []
  }
 ],
 "metadata": {
  "kernelspec": {
   "display_name": "Python 3 (ipykernel)",
   "language": "python",
   "name": "python3"
  },
  "language_info": {
   "codemirror_mode": {
    "name": "ipython",
    "version": 3
   },
   "file_extension": ".py",
   "mimetype": "text/x-python",
   "name": "python",
   "nbconvert_exporter": "python",
   "pygments_lexer": "ipython3",
   "version": "3.9.13"
  },
  "toc": {
   "base_numbering": 1,
   "nav_menu": {},
   "number_sections": true,
   "sideBar": true,
   "skip_h1_title": false,
   "title_cell": "Table of Contents",
   "title_sidebar": "Contents",
   "toc_cell": false,
   "toc_position": {},
   "toc_section_display": true,
   "toc_window_display": false
  }
 },
 "nbformat": 4,
 "nbformat_minor": 5
}
